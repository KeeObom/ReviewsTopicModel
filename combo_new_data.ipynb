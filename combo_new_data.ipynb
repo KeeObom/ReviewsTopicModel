{
 "cells": [
  {
   "cell_type": "code",
   "execution_count": 1,
   "metadata": {},
   "outputs": [],
   "source": [
    "# Import libraries\n",
    "from wordcloud import WordCloud\n",
    "import pandas as pd\n",
    "import numpy as np\n",
    "import re\n",
    "import string\n",
    "import spacy\n",
    "import gensim\n",
    "from gensim import corpora\n",
    "import nltk\n",
    "from nltk.corpus import stopwords\n",
    "from gensim.models import LdaModel\n",
    "\n",
    "# libraries for visualization\n",
    "import pyLDAvis\n",
    "import pyLDAvis.gensim\n",
    "import matplotlib.pyplot as plt\n",
    "import seaborn as sns\n",
    "%matplotlib inline\n"
   ]
  },
  {
   "cell_type": "code",
   "execution_count": 2,
   "metadata": {},
   "outputs": [],
   "source": [
    "# Replace with name of file with customer reviews\n",
    "my_file_name = \"Customer Feedback.xlsx\""
   ]
  },
  {
   "cell_type": "code",
   "execution_count": 3,
   "metadata": {},
   "outputs": [
    {
     "name": "stdout",
     "output_type": "stream",
     "text": [
      "                  Date  Rating                 Type  \\\n",
      "0  2023-04-30 00:00:00       2   Investment I Claim   \n",
      "1  2023-02-23 00:00:00       1   Investment I Renew   \n",
      "\n",
      "                                              Review    Classification  \n",
      "0  Your withdrawal process is getting slower by t...       Liquidation  \n",
      "1                    Your team isn’t doing their job  Customer Service  \n",
      "2185\n"
     ]
    }
   ],
   "source": [
    "# Load the csv file into the dataframe\n",
    "review_data = pd.read_excel(my_file_name)\n",
    "print(review_data.head(2))\n",
    "print(len(review_data))"
   ]
  },
  {
   "cell_type": "code",
   "execution_count": 4,
   "metadata": {},
   "outputs": [
    {
     "name": "stdout",
     "output_type": "stream",
     "text": [
      "Your App doesn't work in UK.  I am currently there and cannot use App to make my contributions.\n"
     ]
    }
   ],
   "source": [
    "# Make a copy of the original data to run it through my model FOR loop\n",
    "original_data = pd.read_excel(my_file_name)\n",
    "print(original_data['Review'][61])"
   ]
  },
  {
   "cell_type": "code",
   "execution_count": 5,
   "metadata": {},
   "outputs": [],
   "source": [
    "# Function to clean the text\n",
    "def clean_text(text, preserved_words=None):\n",
    "    if preserved_words is None:\n",
    "        preserved_words = []  # If no preserved_words list is provided, initialize an empty list\n",
    "    \n",
    "    # Tokenize the text\n",
    "    text_tokens = text.split()\n",
    "    \n",
    "    # Combine tokens back into a cleaned sentence while preserving specific words\n",
    "    cleaned_tokens = []\n",
    "    for token in text_tokens:\n",
    "        # Check if the token is a preserved word (ignoring case)\n",
    "        if any(token.lower() == word.lower() for word in preserved_words):\n",
    "            cleaned_tokens.append(token)\n",
    "        else:\n",
    "            # Filter out unwanted words based on length and digits\n",
    "            if not (token.isdigit() or len(token) <= 3):\n",
    "                # Remove punctuation from non-preserved words\n",
    "                cleaned_token = token.translate(str.maketrans('', '', string.punctuation))\n",
    "                if cleaned_token:  # Check if the cleaned token is not empty\n",
    "                    cleaned_tokens.append(cleaned_token)\n",
    "    \n",
    "    cleaned_text = ' '.join(cleaned_tokens)\n",
    "    return cleaned_text.lower()"
   ]
  },
  {
   "cell_type": "code",
   "execution_count": 6,
   "metadata": {},
   "outputs": [
    {
     "name": "stdout",
     "output_type": "stream",
     "text": [
      "-------Dataset-------\n",
      "Rating\n",
      "3    903\n",
      "1    661\n",
      "2    564\n",
      "4     40\n",
      "5     17\n",
      "Name: count, dtype: int64\n",
      "2185\n",
      "your app doesnt work currently there cannot app make contributions\n"
     ]
    }
   ],
   "source": [
    "# More preprocessing on the data\n",
    "review_data.dropna(axis=0, how='any', inplace=True)\n",
    "\n",
    "preserved_words = ['app']\n",
    "review_data['Review'] = review_data['Review'].apply(clean_text, preserved_words=preserved_words)\n",
    "\n",
    "print('-------Dataset-------')\n",
    "print(review_data['Rating'].value_counts())\n",
    "print(len(review_data))\n",
    "\n",
    "print(review_data['Review'][61])"
   ]
  },
  {
   "cell_type": "code",
   "execution_count": 7,
   "metadata": {},
   "outputs": [],
   "source": [
    "# Make a copy of the review data\n",
    "df_review = review_data.copy()\n",
    "\n",
    "stop_words = stopwords.words('english')\n",
    "# function to remove stopwords\n",
    "def remove_stopwords(text):\n",
    "    textArr = text.split(' ')\n",
    "    rem_text = \" \".join([i for i in textArr if i not in stop_words])\n",
    "    return rem_text\n",
    "\n",
    "# remove stopwords from the text\n",
    "df_review['Review']=df_review['Review'].apply(remove_stopwords)"
   ]
  },
  {
   "cell_type": "code",
   "execution_count": 8,
   "metadata": {},
   "outputs": [],
   "source": [
    "# Function for lemmatization\n",
    "nlp = spacy.load('en_core_web_md', disable=['parser', 'ner'])\n",
    "\n",
    "def lemmatization(texts,allowed_postags=['NOUN', 'ADJ']): \n",
    "       output = []\n",
    "       for sent in texts:\n",
    "             doc = nlp(sent) \n",
    "             output.append([token.lemma_ for token in doc if token.pos_ in allowed_postags ])\n",
    "       return output"
   ]
  },
  {
   "cell_type": "code",
   "execution_count": 9,
   "metadata": {},
   "outputs": [
    {
     "name": "stdout",
     "output_type": "stream",
     "text": [
      "['team']\n"
     ]
    },
    {
     "data": {
      "text/plain": [
       "['withdrawal process getting slower day someone emergency request withdrawal anymore',\n",
       " 'team isn’t',\n",
       " 'system failure frequent wait hours portal downtime slow response hospital approval requests better please',\n",
       " 'staff isobel rude attitude needs trained customer service',\n",
       " 'settlement customers claim riddled forth back arguments accompanied stress']"
      ]
     },
     "execution_count": 9,
     "metadata": {},
     "output_type": "execute_result"
    }
   ],
   "source": [
    "text_list = df_review['Review'].tolist()\n",
    "\n",
    "# Tokenize the words and show sample\n",
    "tokenized_reviews = lemmatization(text_list)\n",
    "print(tokenized_reviews[1])\n",
    "\n",
    "# Check how the tex_list looks\n",
    "text_list[:5]"
   ]
  },
  {
   "cell_type": "code",
   "execution_count": 10,
   "metadata": {},
   "outputs": [],
   "source": [
    "# Create Matrix Dictionary\n",
    "dictionary = corpora.Dictionary(tokenized_reviews)\n",
    "doc_term_matrix = [dictionary.doc2bow(rev) for rev in tokenized_reviews]"
   ]
  },
  {
   "cell_type": "code",
   "execution_count": 11,
   "metadata": {},
   "outputs": [
    {
     "name": "stdout",
     "output_type": "stream",
     "text": [
      "[[('day', 1), ('emergency', 1), ('process', 1), ('request', 1), ('slow', 1), ('withdrawal', 2)], [('team', 1)], [('request', 1), ('slow', 1), ('approval', 1), ('downtime', 1), ('failure', 1), ('frequent', 1), ('hospital', 1), ('hour', 1), ('portal', 1), ('response', 1), ('system', 1), ('wait', 1)], [('attitude', 1), ('customer', 1), ('rude', 1), ('service', 1)], [('customer', 1), ('argument', 1), ('settlement', 1), ('stress', 1)], [('service', 1), ('poor', 1), ('yesterday', 1)], [('customer', 1), ('service', 1), ('client', 1), ('experience', 1), ('fast', 1), ('good', 1), ('guy', 1), ('guysnwill', 1), ('home', 1), ('leg', 1), ('men', 1), ('previous', 1), ('quarter', 1), ('think', 1), ('yearsmh', 1)], [('service', 2), ('poor', 1), ('platform', 1), ('prompt', 1)], [('service', 1)], [('request', 1), ('response', 1), ('poor', 1), ('account', 1), ('clientservice', 1), ('email', 1), ('last', 1), ('mail', 1), ('staff', 1), ('week', 1)]]\n"
     ]
    }
   ],
   "source": [
    "# We can view the words by using the dictionary\n",
    "# View words in 10 documents in the matrix\n",
    "id_words = [[(dictionary[id], count) for id, count in line] for line in doc_term_matrix[0:10]]\n",
    "print(id_words)"
   ]
  },
  {
   "cell_type": "code",
   "execution_count": 12,
   "metadata": {},
   "outputs": [],
   "source": [
    "# Creating the object for LDA model using gensim library\n",
    "LDA = gensim.models.ldamodel.LdaModel\n",
    "\n",
    "# Build LDA model with 20 topics\n",
    "lda_model = LDA(corpus=doc_term_matrix, id2word=dictionary, num_topics=20, random_state=100,\n",
    "                chunksize=1000, passes=50,iterations=100)"
   ]
  },
  {
   "cell_type": "code",
   "execution_count": 13,
   "metadata": {},
   "outputs": [],
   "source": [
    "# Dump and load model\n",
    "saved_lda = \"lda_model_v2\"\n",
    "lda_model.save(saved_lda)\n",
    "\n",
    "# Load the saved LDA model\n",
    "lda_model_load = LdaModel.load(saved_lda)"
   ]
  },
  {
   "cell_type": "code",
   "execution_count": 14,
   "metadata": {},
   "outputs": [
    {
     "data": {
      "text/plain": [
       "[(0,\n",
       "  '0.071*\"axamansard\" + 0.049*\"time\" + 0.041*\"satisfied\" + 0.033*\"emergency\" + 0.031*\"card\" + 0.031*\"high\" + 0.030*\"sick\" + 0.028*\"problem\" + 0.026*\"surgery\" + 0.017*\"timely\"'),\n",
       " (1,\n",
       "  '0.159*\"service\" + 0.109*\"poor\" + 0.085*\"customer\" + 0.046*\"liquidation\" + 0.043*\"week\" + 0.035*\"response\" + 0.029*\"time\" + 0.026*\"request\" + 0.023*\"email\" + 0.019*\"complaint\"'),\n",
       " (2,\n",
       "  '0.095*\"service\" + 0.074*\"year\" + 0.067*\"good\" + 0.058*\"well\" + 0.047*\"improvement\" + 0.040*\"part\" + 0.039*\"clinic\" + 0.028*\"customer\" + 0.027*\"late\" + 0.021*\"last\"'),\n",
       " (3,\n",
       "  '0.139*\"interest\" + 0.095*\"rate\" + 0.032*\"choice\" + 0.031*\"benefit\" + 0.026*\"daily\" + 0.022*\"nit\" + 0.021*\"return\" + 0.020*\"year\" + 0.020*\"instance\" + 0.020*\"current\"'),\n",
       " (4,\n",
       "  '0.108*\"payment\" + 0.080*\"policy\" + 0.038*\"case\" + 0.037*\"officer\" + 0.023*\"urgent\" + 0.018*\"agent\" + 0.018*\"insurance\" + 0.017*\"network\" + 0.016*\"message\" + 0.016*\"complete\"'),\n",
       " (5,\n",
       "  '0.072*\"confirmation\" + 0.069*\"hospital\" + 0.059*\"call\" + 0.037*\"feedback\" + 0.036*\"check\" + 0.034*\"time\" + 0.032*\"hour\" + 0.029*\"annual\" + 0.028*\"wait\" + 0.025*\"email\"'),\n",
       " (6,\n",
       "  '0.216*\"response\" + 0.092*\"time\" + 0.062*\"slow\" + 0.044*\"facility\" + 0.042*\"work\" + 0.040*\"issue\" + 0.037*\"email\" + 0.031*\"process\" + 0.029*\"quick\" + 0.024*\"state\"'),\n",
       " (7,\n",
       "  '0.082*\"patient\" + 0.069*\"care\" + 0.067*\"customer\" + 0.056*\"service\" + 0.051*\"number\" + 0.038*\"contact\" + 0.033*\"hospital\" + 0.030*\"center\" + 0.029*\"terrible\" + 0.028*\"mansard\"'),\n",
       " (8,\n",
       "  '0.116*\"insurance\" + 0.055*\"premium\" + 0.055*\"package\" + 0.042*\"cover\" + 0.041*\"partner\" + 0.033*\"difficult\" + 0.032*\"possible\" + 0.030*\"unprofessional\" + 0.029*\"usual\" + 0.024*\"fact\"'),\n",
       " (9,\n",
       "  '0.212*\"hospital\" + 0.203*\"drug\" + 0.043*\"approval\" + 0.037*\"doctor\" + 0.033*\"treatment\" + 0.026*\"prescription\" + 0.025*\"staff\" + 0.022*\"pharmacy\" + 0.016*\"delivery\" + 0.015*\"location\"'),\n",
       " (10,\n",
       "  '0.098*\"date\" + 0.078*\"need\" + 0.066*\"unable\" + 0.055*\"certificate\" + 0.032*\"responsive\" + 0.021*\"technical\" + 0.020*\"charge\" + 0.020*\"text\" + 0.018*\"question\" + 0.018*\"reputation\"'),\n",
       " (11,\n",
       "  '0.127*\"account\" + 0.102*\"money\" + 0.086*\"fund\" + 0.056*\"investment\" + 0.030*\"day\" + 0.029*\"market\" + 0.028*\"liquidation\" + 0.027*\"payment\" + 0.026*\"time\" + 0.021*\"request\"'),\n",
       " (12,\n",
       "  '0.236*\"mansard\" + 0.061*\"mail\" + 0.045*\"customer\" + 0.042*\"claim\" + 0.039*\"team\" + 0.038*\"happy\" + 0.036*\"experience\" + 0.036*\"bad\" + 0.028*\"representative\" + 0.027*\"hmo\"'),\n",
       " (13,\n",
       "  '0.169*\"approval\" + 0.113*\"time\" + 0.082*\"hospital\" + 0.078*\"test\" + 0.040*\"request\" + 0.033*\"hour\" + 0.031*\"long\" + 0.021*\"response\" + 0.018*\"basic\" + 0.016*\"prompt\"'),\n",
       " (14,\n",
       "  '0.110*\"process\" + 0.068*\"approval\" + 0.045*\"guy\" + 0.040*\"delay\" + 0.038*\"service\" + 0.030*\"hour\" + 0.023*\"time\" + 0.023*\"provider\" + 0.022*\"treatment\" + 0.018*\"portal\"'),\n",
       " (15,\n",
       "  '0.068*\"today\" + 0.058*\"enrollee\" + 0.043*\"yesterday\" + 0.041*\"amount\" + 0.035*\"system\" + 0.031*\"full\" + 0.028*\"health\" + 0.025*\"thing\" + 0.024*\"nice\" + 0.021*\"many\"'),\n",
       " (16,\n",
       "  '0.051*\"call\" + 0.046*\"glass\" + 0.040*\"attention\" + 0.035*\"medical\" + 0.029*\"client\" + 0.026*\"lens\" + 0.024*\"company\" + 0.023*\"frame\" + 0.023*\"issue\" + 0.022*\"amount\"'),\n",
       " (17,\n",
       "  '0.161*\"app\" + 0.058*\"people\" + 0.053*\"thank\" + 0.038*\"balance\" + 0.036*\"able\" + 0.033*\"deposit\" + 0.028*\"mutual\" + 0.026*\"contribution\" + 0.025*\"good\" + 0.022*\"mail\"'),\n",
       " (18,\n",
       "  '0.077*\"plan\" + 0.073*\"hospital\" + 0.058*\"health\" + 0.058*\"service\" + 0.046*\"access\" + 0.045*\"care\" + 0.029*\"medical\" + 0.024*\"communication\" + 0.023*\"list\" + 0.022*\"much\"'),\n",
       " (19,\n",
       "  '0.079*\"medication\" + 0.055*\"first\" + 0.046*\"hospital\" + 0.043*\"experience\" + 0.033*\"phone\" + 0.031*\"person\" + 0.028*\"name\" + 0.024*\"call\" + 0.023*\"registration\" + 0.021*\"insurance\"')]"
      ]
     },
     "execution_count": 14,
     "metadata": {},
     "output_type": "execute_result"
    }
   ],
   "source": [
    "# Display model Topics\n",
    "lda_model.print_topics()"
   ]
  },
  {
   "cell_type": "code",
   "execution_count": 15,
   "metadata": {},
   "outputs": [
    {
     "data": {
      "text/html": [
       "\n",
       "<link rel=\"stylesheet\" type=\"text/css\" href=\"https://cdn.jsdelivr.net/gh/bmabey/pyLDAvis@3.4.0/pyLDAvis/js/ldavis.v1.0.0.css\">\n",
       "\n",
       "\n",
       "<div id=\"ldavis_el979624385261786241782911379\" style=\"background-color:white;\"></div>\n",
       "<script type=\"text/javascript\">\n",
       "\n",
       "var ldavis_el979624385261786241782911379_data = {\"mdsDat\": {\"x\": [-0.08965248262312524, -0.056701573667854076, -0.2585714549231315, -0.058961722156158615, -0.20948273308915166, -0.08322286740729412, -0.007362922439987938, 0.05973697417118992, 0.08012617498235922, 0.11036224229876407, -0.05225371720645249, -0.14473522344748946, -0.14580878945409637, 0.10395310310956588, 0.12487948639032745, 0.05094978202676632, 0.10576304011665459, 0.1623066104632999, 0.15565821942501026, 0.15301785343080387], \"y\": [-0.10777607037830064, -0.28692625642174374, 0.10623679579032268, -0.13451777907397475, 0.12870996610651722, -0.17201685554511176, 0.06304618699359962, 0.05566188572370429, 0.016816077876492856, -0.09141399178434736, 0.0341114685356456, 0.032386256146259576, 0.10735960320042681, -0.15075316684565426, -0.04848073392521889, 0.10965567544871904, 0.05546373558634822, 0.11071826219325, 0.10757845778469954, 0.06414048258836569], \"topics\": [1, 2, 3, 4, 5, 6, 7, 8, 9, 10, 11, 12, 13, 14, 15, 16, 17, 18, 19, 20], \"cluster\": [1, 1, 1, 1, 1, 1, 1, 1, 1, 1, 1, 1, 1, 1, 1, 1, 1, 1, 1, 1], \"Freq\": [9.029706198486155, 8.217392031229119, 7.931014944102219, 7.742784522264827, 6.695315119537806, 6.6523903639922315, 5.366422407526747, 5.249072023161102, 5.0342827467483335, 4.369421382643581, 4.363536259285991, 4.29781716427943, 4.134131616529437, 4.048633610952115, 3.8276189793593494, 3.5142636529388627, 2.7475462588635, 2.5230162614788174, 2.321423014324154, 1.9342114422962242]}, \"tinfo\": {\"Term\": [\"hospital\", \"drug\", \"mansard\", \"response\", \"approval\", \"service\", \"account\", \"time\", \"poor\", \"app\", \"money\", \"payment\", \"customer\", \"fund\", \"process\", \"care\", \"test\", \"plan\", \"patient\", \"insurance\", \"medication\", \"call\", \"interest\", \"policy\", \"investment\", \"health\", \"liquidation\", \"good\", \"mail\", \"year\", \"investment\", \"market\", \"inflow\", \"fund\", \"redemption\", \"bank\", \"saving\", \"account\", \"centre\", \"statement\", \"alert\", \"follow\", \"past\", \"money\", \"unacceptable\", \"morning\", \"expiration\", \"impressed\", \"dashboard\", \"senior\", \"masard\", \"opinion\", \"recent\", \"admission\", \"debit\", \"post\", \"reply\", \"inaccurate\", \"interval\", \"medplus\", \"value\", \"month\", \"error\", \"day\", \"liquidation\", \"payment\", \"platform\", \"request\", \"issue\", \"hour\", \"time\", \"mail\", \"service\", \"delay\", \"poor\", \"experience\", \"complaint\", \"transfer\", \"result\", \"processing\", \"little\", \"difficulty\", \"cheap\", \"dissatisfied\", \"help\", \"poor\", \"clientservice\", \"federal\", \"disbursement\", \"improve\", \"limited\", \"referral\", \"contract\", \"reliance\", \"approach\", \"week\", \"stage\", \"functional\", \"comment\", \"several\", \"lagoon\", \"accountability\", \"irrespective\", \"info\", \"range\", \"tablet\", \"liquidation\", \"line\", \"platform\", \"service\", \"agent\", \"chat\", \"customer\", \"delivery\", \"email\", \"client\", \"online\", \"response\", \"request\", \"turnaround\", \"time\", \"team\", \"mail\", \"last\", \"care\", \"available\", \"call\", \"basic\", \"code\", \"concern\", \"aspect\", \"tired\", \"prompt\", \"right\", \"prescribed\", \"trust\", \"necessary\", \"important\", \"relation\", \"sale\", \"injection\", \"unnecessary\", \"blood\", \"test\", \"huge\", \"waste\", \"occasion\", \"minimum\", \"matured\", \"baby\", \"expectation\", \"management\", \"record\", \"dispense\", \"standard\", \"place\", \"urinalysis\", \"approval\", \"period\", \"long\", \"withdrawal\", \"time\", \"request\", \"hour\", \"hospital\", \"turnaround\", \"work\", \"response\", \"child\", \"experience\", \"emergency\", \"medical\", \"plan\", \"limit\", \"close\", \"liquidate\", \"extra\", \"member\", \"effort\", \"optical\", \"consideration\", \"sure\", \"price\", \"access\", \"nni\", \"organization\", \"nnthank\", \"resolve\", \"suitable\", \"option\", \"much\", \"abortive\", \"billing\", \"insurer\", \"manager\", \"n\", \"expensive\", \"communication\", \"malaria\", \"tiring\", \"employee\", \"area\", \"list\", \"disappointed\", \"health\", \"family\", \"available\", \"care\", \"medical\", \"hospital\", \"service\", \"staff\", \"difficult\", \"provider\", \"issue\", \"good\", \"number\", \"customer\", \"drug\", \"location\", \"relationship\", \"inability\", \"waiting\", \"leave\", \"certain\", \"cumbersome\", \"faith\", \"consultant\", \"manner\", \"acct\", \"prescription\", \"brand\", \"lab\", \"consultation\", \"unfortunate\", \"repeat\", \"lack\", \"consistent\", \"routine\", \"attitude\", \"pickup\", \"city\", \"pharmacy\", \"frustrating\", \"use\", \"rude\", \"receptionist\", \"assist\", \"hospital\", \"delivery\", \"doctor\", \"child\", \"staff\", \"level\", \"treatment\", \"wrong\", \"approval\", \"month\", \"day\", \"hour\", \"today\", \"request\", \"patient\", \"center\", \"terrible\", \"kid\", \"review\", \"fast\", \"reachable\", \"refund\", \"class\", \"dangerous\", \"urgency\", \"supply\", \"specialist\", \"gynecologist\", \"ecard\", \"displeased\", \"contact\", \"budget\", \"arrangement\", \"critical\", \"quality\", \"number\", \"remittance\", \"surprised\", \"second\", \"confident\", \"resolution\", \"method\", \"reason\", \"write\", \"clear\", \"colleague\", \"care\", \"term\", \"notification\", \"customer\", \"doctor\", \"service\", \"mansard\", \"experience\", \"medication\", \"treatment\", \"hospital\", \"health\", \"good\", \"time\", \"today\", \"line\", \"date\", \"long\", \"email\", \"first\", \"name\", \"registration\", \"eye\", \"pleasant\", \"reimbursement\", \"friend\", \"document\", \"helpful\", \"ill\", \"diagnostic\", \"pick\", \"impression\", \"picture\", \"accident\", \"investor\", \"bed\", \"folk\", \"smear\", \"sample\", \"willing\", \"open\", \"effective\", \"medication\", \"sickness\", \"opportunity\", \"room\", \"head\", \"infact\", \"nurse\", \"less\", \"person\", \"phone\", \"personal\", \"change\", \"explanation\", \"question\", \"experience\", \"insurance\", \"call\", \"hospital\", \"doctor\", \"number\", \"pharmacy\", \"company\", \"case\", \"week\", \"good\", \"policy\", \"officer\", \"urgent\", \"complete\", \"respect\", \"update\", \"organisation\", \"vehicle\", \"website\", \"word\", \"early\", \"acceptable\", \"network\", \"swift\", \"step\", \"official\", \"job\", \"inadequate\", \"end\", \"naira\", \"embarrassing\", \"friendly\", \"acknowledgement\", \"message\", \"afternoon\", \"case\", \"worth\", \"appropriate\", \"optician\", \"extent\", \"bill\", \"payment\", \"daughter\", \"professional\", \"satisfaction\", \"channel\", \"agent\", \"emergency\", \"life\", \"reason\", \"insurance\", \"feedback\", \"axamansard\", \"yesterday\", \"delay\", \"happy\", \"request\", \"treatment\", \"last\", \"today\", \"money\", \"lens\", \"frame\", \"point\", \"series\", \"horrible\", \"timeline\", \"numerous\", \"lady\", \"unfair\", \"lense\", \"rep\", \"fair\", \"inefficient\", \"address\", \"mine\", \"empathy\", \"glass\", \"age\", \"enquire\", \"cost\", \"desk\", \"talk\", \"airtime\", \"acknowledgment\", \"purpose\", \"attention\", \"checkup\", \"various\", \"active\", \"real\", \"authorization\", \"coverage\", \"duty\", \"transaction\", \"amount\", \"call\", \"company\", \"medical\", \"client\", \"different\", \"kind\", \"issue\", \"platinum\", \"minute\", \"staff\", \"time\", \"pocket\", \"request\", \"claim\", \"additional\", \"action\", \"procedure\", \"product\", \"informed\", \"mansard\", \"motor\", \"stress\", \"bad\", \"decision\", \"representative\", \"security\", \"unpleasant\", \"impressive\", \"appointment\", \"argument\", \"worker\", \"letter\", \"lapse\", \"team\", \"settlement\", \"absence\", \"proactive\", \"hmo\", \"happy\", \"nthe\", \"ball\", \"toll\", \"reliability\", \"disappointing\", \"assistance\", \"mail\", \"experience\", \"pocket\", \"feedback\", \"customer\", \"last\", \"client\", \"hope\", \"call\", \"emergency\", \"quick\", \"user\", \"renewal\", \"notice\", \"state\", \"documentation\", \"gold\", \"silver\", \"adequate\", \"survey\", \"outrageous\", \"facility\", \"slow\", \"site\", \"wide\", \"regular\", \"stuff\", \"inaccessible\", \"response\", \"great\", \"enrollment\", \"work\", \"reconciliation\", \"incase\", \"sufficient\", \"infrastructure\", \"knowledge\", \"periodic\", \"whole\", \"single\", \"issue\", \"email\", \"time\", \"process\", \"ready\", \"line\", \"list\", \"mail\", \"portal\", \"none\", \"way\", \"simple\", \"palatable\", \"min\", \"type\", \"clearance\", \"onboarding\", \"aware\", \"verification\", \"know\", \"failure\", \"detailed\", \"sort\", \"income\", \"alot\", \"night\", \"24hour\", \"board\", \"frequent\", \"partial\", \"tomorrow\", \"issuance\", \"guy\", \"rating\", \"30min\", \"process\", \"advice\", \"multiple\", \"credit\", \"annoying\", \"delay\", \"profit\", \"provider\", \"approval\", \"wrong\", \"hour\", \"yesterday\", \"treatment\", \"service\", \"time\", \"liquidation\", \"long\", \"contact\", \"hospital\", \"communication\", \"happy\", \"annual\", \"wait\", \"monthly\", \"office\", \"subscription\", \"ridiculous\", \"check\", \"enquiry\", \"expense\", \"confirmation\", \"diagnosis\", \"respond\", \"physical\", \"match\", \"sheet\", \"feel\", \"intervention\", \"vaccine\", \"side\", \"authorisation\", \"confirm\", \"son\", \"mecure\", \"assurance\", \"examination\", \"deal\", \"normal\", \"vendor\", \"dermatology\", \"zinc\", \"visit\", \"feedback\", \"call\", \"great\", \"hour\", \"email\", \"hospital\", \"test\", \"thank\", \"medical\", \"time\", \"slow\", \"payment\", \"treatment\", \"provider\", \"approval\", \"today\", \"delay\", \"well\", \"improvement\", \"clinic\", \"late\", \"login\", \"history\", \"fee\", \"rubbish\", \"year\", \"home\", \"supplement\", \"couple\", \"woman\", \"body\", \"dental\", \"application\", \"agreement\", \"bonus\", \"responsiveness\", \"recovery\", \"pain\", \"part\", \"think\", \"low\", \"existent\", \"female\", \"unauthorized\", \"downward\", \"world\", \"quite\", \"human\", \"good\", \"online\", \"service\", \"visit\", \"last\", \"thing\", \"customer\", \"company\", \"provider\", \"kind\", \"issue\", \"app\", \"deposit\", \"people\", \"mutual\", \"mobile\", \"repair\", \"purchase\", \"comprehensive\", \"view\", \"enough\", \"corporate\", \"separate\", \"contribution\", \"suspension\", \"lago\", \"balance\", \"book\", \"meet\", \"working\", \"successful\", \"bronze\", \"dependant\", \"dependent\", \"ward\", \"thank\", \"detail\", \"able\", \"realtime\", \"general\", \"party\", \"next\", \"timely\", \"need\", \"good\", \"mail\", \"day\", \"week\", \"company\", \"customer\", \"support\", \"last\", \"satisfied\", \"high\", \"sick\", \"surgery\", \"answer\", \"short\", \"illness\", \"fine\", \"percentage\", \"perspective\", \"19th\", \"exceptional\", \"vitamin\", \"complain\", \"approve\", \"regard\", \"wonder\", \"profile\", \"personnel\", \"card\", \"game\", \"enrolment\", \"dispensation\", \"mind\", \"free\", \"manzard\", \"observation\", \"suggestion\", \"item\", \"speak\", \"axamansard\", \"turn\", \"problem\", \"inquiry\", \"timely\", \"previous\", \"emergency\", \"medicine\", \"business\", \"time\", \"phone\", \"month\", \"health\", \"system\", \"treatment\", \"full\", \"average\", \"challenge\", \"enrollee\", \"behalf\", \"nice\", \"matter\", \"small\", \"cash\", \"spending\", \"show\", \"correct\", \"death\", \"thought\", \"country\", \"ease\", \"many\", \"professionalism\", \"download\", \"kitchen\", \"supervision\", \"scenario\", \"serious\", \"fatal\", \"system\", \"provision\", \"prior\", \"amount\", \"today\", \"guideline\", \"yesterday\", \"thing\", \"form\", \"person\", \"level\", \"support\", \"disappointed\", \"health\", \"issue\", \"facility\", \"card\", \"experience\", \"life\", \"service\", \"premium\", \"package\", \"partner\", \"possible\", \"usual\", \"one\", \"least\", \"basis\", \"cover\", \"addition\", \"attempt\", \"sometime\", \"stressful\", \"sense\", \"key\", \"exercise\", \"unhappy\", \"unprofessional\", \"fact\", \"hope\", \"timeliness\", \"nightmare\", \"server\", \"insufficient\", \"irrelevant\", \"wonderful\", \"insurance\", \"third\", \"difficult\", \"accessible\", \"single\", \"enrolee\", \"individual\", \"pocket\", \"dental\", \"online\", \"interest\", \"rate\", \"choice\", \"benefit\", \"daily\", \"nit\", \"instance\", \"current\", \"proper\", \"immunization\", \"smooth\", \"23rd\", \"reliable\", \"worrisome\", \"outofpocket\", \"surprising\", \"limitation\", \"clinix\", \"satisfactory\", \"return\", \"evening\", \"speed\", \"nplease\", \"transparent\", \"integrity\", \"promptness\", \"unresponsive\", \"17th\", \"unexpected\", \"wife\", \"information\", \"year\", \"thing\", \"other\", \"guy\", \"healthcare\", \"financial\", \"sense\", \"business\", \"client\", \"unable\", \"responsive\", \"technical\", \"charge\", \"text\", \"reputation\", \"loss\", \"investigation\", \"present\", \"date\", \"efficient\", \"social\", \"certificate\", \"glitch\", \"engagement\", \"future\", \"beneficiary\", \"maximum\", \"choose\", \"particular\", \"need\", \"nthank\", \"intentional\", \"dealing\", \"rotavirus\", \"badni\", \"actual\", \"live\", \"solution\", \"financial\", \"question\", \"mean\", \"problem\", \"access\", \"customer\"], \"Freq\": [656.0, 261.0, 234.0, 268.0, 380.0, 548.0, 226.0, 465.0, 197.0, 119.0, 188.0, 169.0, 314.0, 153.0, 116.0, 176.0, 138.0, 114.0, 105.0, 96.0, 102.0, 150.0, 62.0, 82.0, 97.0, 130.0, 135.0, 124.0, 123.0, 67.0, 96.9375498013854, 50.43492977510497, 36.47000136553522, 149.54432103086, 31.078236085878057, 30.538357123941893, 27.264145233519677, 218.84083321867172, 21.247034971491708, 18.69159725669445, 14.805746059101985, 14.448016824963453, 13.568178823441476, 175.69337729669343, 12.679218198254691, 11.265874188574744, 10.738601839058694, 9.590667400308151, 31.92207796969846, 6.313045999743957, 4.461130850910689, 4.278481512523117, 18.869962665760877, 3.659453926910829, 7.967342011498029, 3.04463257130957, 11.834699162933662, 2.872148355879832, 2.426520871347655, 2.33995196355512, 18.540230948839703, 36.77165826851601, 8.806974444610612, 51.71430004478396, 48.972005553826804, 46.27077172627746, 16.84712513814869, 37.023462005845424, 26.54698945803296, 29.550250568694242, 44.54979883658919, 22.70235351729434, 30.572142233295406, 16.821551195267705, 14.735827952433217, 13.664862530804461, 29.924688041716905, 18.235437514272462, 17.00886204574799, 15.693877031375063, 15.693613244770955, 12.769216332367094, 12.204354689435403, 10.508358502308342, 15.944614991467997, 171.75192688969267, 5.325336053983006, 5.32316164635052, 4.759088065898605, 4.758766392789705, 4.756092256090544, 4.564309136534962, 3.7210412497015124, 3.24632757961341, 3.15479729169023, 67.03876273994895, 2.587710682026931, 2.4956273581608297, 2.4955441921064785, 29.62762036105553, 1.9293509763794587, 1.928764051185315, 1.9285365352392705, 1.9280558574273376, 1.9271644785276174, 1.9257486405670876, 72.86768464058042, 25.95395811641436, 23.41244892535665, 249.678499300037, 22.91634692448895, 7.0501278462811765, 134.3211118920572, 15.943022013475403, 35.44773178910974, 29.440346526949085, 12.958408481277868, 55.432914209318284, 40.26931712981671, 9.751702748712562, 45.72287948568709, 14.059578332727526, 20.91709066616904, 15.699781454863716, 21.262591032826062, 11.73147103891331, 14.333746405189924, 26.79024340318071, 23.648312152782914, 13.152601486661123, 12.108524408704579, 12.107822861869062, 24.737944513961832, 14.164503589992032, 8.22427810663464, 8.020375499064464, 13.312646101740016, 12.905303398323882, 6.759326674908372, 6.758634321730982, 5.92394422201944, 16.977051529070398, 11.428799781559151, 119.00951127046636, 4.344806849154829, 4.140446680291729, 4.139981339749623, 6.656490658329703, 3.6109457197324444, 3.5098879687968254, 2.879516666486813, 11.017614129046047, 2.7767135349160594, 2.7755931462324246, 11.214966608803172, 10.205527698645755, 2.1466496897499385, 257.21562964549906, 13.098078850742843, 46.53142623881628, 13.004138052004013, 171.55010764934124, 60.830424560748575, 50.829172873633844, 124.28837964120657, 9.911794564723861, 17.111839043661778, 31.803782800383765, 11.021602762264102, 13.571675297846953, 10.957573883842793, 10.951845527625373, 113.57058744379465, 28.778116666950442, 25.96666541499423, 18.25976723474519, 13.681885918455292, 12.431698124184333, 11.395026186379079, 10.770726962735678, 9.519781777656023, 9.519658882884878, 24.597675659708038, 68.79233379732554, 8.89129308507264, 16.94616988108304, 7.335793944490205, 6.709074108107254, 6.505911790900607, 14.778412442749305, 33.23379777467689, 5.9807002738043735, 5.254898254234755, 5.2538042836455325, 9.227625695217718, 16.263095887928817, 4.31416812396134, 36.22536857424979, 9.212180307996835, 3.5851784349626024, 3.483904858497176, 7.974756309423542, 33.99379284784779, 24.018208862830896, 85.97163644011353, 17.436491020314747, 27.264994819391593, 66.6642216598276, 42.397903443293394, 108.61709413915708, 85.75331456959192, 23.476256730476305, 12.359919292794055, 13.176125605783266, 14.350498372977867, 13.022573422176215, 10.515080293208744, 11.052331355356953, 260.10856464537795, 18.772583510721898, 16.637997847620127, 10.269143710693953, 9.961766131041285, 8.647288244598574, 8.340541115702164, 7.739460648226461, 6.520794560237641, 6.425136792366244, 5.50994617594022, 5.10846426863186, 32.76264400274404, 12.053610695571777, 3.486701937307292, 6.1218069931372785, 3.3868990751170505, 2.779782161053729, 2.778603349483434, 2.7782421537376614, 4.75591095197608, 10.000060044306343, 2.679936612093533, 2.5801534514894247, 28.558389999866705, 15.148843310450635, 2.071717304733402, 2.071698349419471, 2.070248641039847, 1.9720390700008965, 271.2449232221929, 20.005986385138247, 47.2199783564215, 14.04566075616069, 32.00088038385588, 10.261835019256347, 42.31976164426939, 9.388451168604684, 55.266196879864076, 12.187630436733055, 14.422359859166942, 16.093764814386976, 8.172499123360133, 9.261092951627427, 104.44300510262435, 38.75294622305822, 36.75912961479018, 19.037251373183913, 16.49121029547392, 12.491923264592504, 7.587124300292413, 6.130137689823742, 5.6803239464246404, 5.223962569779895, 5.223935283031453, 5.222469510087986, 4.858730924862999, 4.587788342591358, 3.9550780494794604, 6.453796490514225, 48.59482793420605, 3.1312145924904136, 3.1310544311408646, 3.04161974036241, 23.61457139201168, 64.63720087732294, 2.40610810660886, 5.680489446485842, 14.666177649262664, 1.8592340643246659, 3.079595182720891, 1.7712378597412364, 27.238334631697114, 2.8401186703289234, 11.03855392786291, 8.501014451863064, 87.90416044903378, 9.394918839770707, 9.10412692757827, 85.95799362182719, 34.91413493252326, 71.7988713822925, 35.83398783181861, 24.037523111140462, 20.293313791072567, 20.940519872699035, 41.44976200885346, 19.900250552530398, 19.124591509424373, 28.58896936054365, 13.557178941671182, 10.40396500143982, 10.454574801517, 9.452295160271248, 9.231667562555579, 56.02304044585365, 28.543078677236146, 23.997335036693084, 16.72277511023729, 12.273453469470367, 11.062563505790337, 10.654427125278838, 8.029553276603695, 7.9269105026484485, 7.92517634221575, 15.870192168851942, 12.906159797847586, 7.121667174245004, 6.716279897399579, 6.207273663573878, 5.80716590992215, 5.1015487585181765, 5.100021319196661, 5.099523178741242, 4.18841902204759, 3.4810949859130877, 3.480554257080596, 3.4796785634846144, 80.8863876398215, 3.3821392169616886, 3.282410397188263, 6.897748972104818, 2.7750356810213064, 2.7738841200165356, 5.286725414634163, 7.942171497273067, 31.867473797140832, 33.99548579875116, 9.78665209630593, 14.701901109708245, 9.408697955069272, 9.910792908781985, 44.29040385675548, 22.042677827652987, 24.306913299279557, 47.180395616437934, 15.200809112956895, 12.738341494296758, 9.66513645053346, 10.473469589619556, 9.290911902677719, 10.012907395453098, 8.58838647604076, 80.87745935554778, 37.41827536223251, 22.79752586687555, 15.730188789707874, 15.346471901850585, 13.987792245385604, 13.794152376446243, 11.857649778394629, 11.765247834118366, 9.247344466634111, 8.569946138912512, 8.274333495791707, 17.580689655148102, 7.113383590489847, 6.436250183040466, 6.241195377735527, 6.240735277686779, 6.1468978025361425, 5.563758669338446, 4.595373974062493, 3.9184069608830305, 3.918213419306065, 3.822766764127357, 16.001381025968698, 2.659260565421392, 38.43941850846954, 2.564034365098188, 2.563545011485812, 2.4690459377401552, 1.9819450837919879, 12.417153904408641, 108.38286372163051, 10.58747970404377, 8.039828504720036, 5.4701936033723175, 9.297953599768281, 18.564403217765342, 15.55435380973531, 11.547959852398817, 12.317303300747058, 17.817123977248194, 13.938181945927962, 13.383055089146797, 11.46696726599465, 12.104817584032748, 10.982083598141008, 12.086855427907885, 11.304179843457376, 10.344579642296273, 9.630941531894779, 9.57755588452951, 24.637509437575808, 21.98931482094747, 16.102487056470522, 15.495611442832441, 13.259707658125993, 10.313831984321558, 10.214008221720125, 9.395845890369644, 9.395791124036483, 9.295443938939444, 9.194664010029568, 8.384524497582603, 8.384476913719366, 17.831885755663176, 7.262557155638289, 7.063059564495058, 44.14521984927915, 6.552958754976276, 6.451446214134297, 16.193131622510904, 5.7414599600964635, 5.740859774953559, 5.434337097302771, 5.131106684302744, 4.9235494640976425, 38.34315959482844, 3.5016614810744993, 3.5015512750516247, 3.5010624181925194, 5.33379104756975, 16.129882792372705, 12.604505693422604, 7.233323605244667, 18.16190408804819, 21.461099822283952, 49.503108981247884, 23.00562174566952, 33.46641694050311, 28.37749155534254, 13.69711379174965, 8.43490772847199, 21.838400354169277, 10.155357967949854, 9.755757662572414, 12.963615722420267, 14.829494817272957, 9.832353317444237, 10.81919505711766, 34.914063501797855, 11.168953883498443, 10.868171110331966, 10.554119471525745, 9.754813696533692, 6.419080252641928, 197.6119536070598, 4.798572502866653, 4.798286132880595, 30.15684009758487, 3.8920696756647164, 23.612318881716465, 2.7765843575414637, 2.6771993616655507, 2.6766772721671583, 7.104236223857818, 2.070111160410982, 2.069696605764497, 2.069484653012911, 2.0688135342360594, 32.837506289367354, 1.9707818800561663, 1.9699379652401077, 3.2289862068504585, 22.370592128072374, 31.630921613631486, 2.550921496765534, 1.3631202569961798, 1.3629626560990904, 1.3625515106191064, 9.748744211305363, 2.06960621414985, 51.19463436178011, 30.35135661840091, 9.539021639039124, 14.474035219168162, 37.24026988607466, 12.683203562922882, 13.433554486202974, 4.844909504325109, 13.89578291703358, 7.81605616291848, 23.96156039456402, 14.88502485352812, 13.02067895122803, 11.758187933917407, 20.239472297664232, 9.807251439673188, 17.20137454847523, 7.169017296548412, 6.2918502111712, 6.091200140143864, 5.609129088921092, 36.56224089020627, 52.13673765131338, 2.6802981503260477, 2.4877797601395355, 3.361286441310324, 1.9976571814925248, 1.901345847769063, 180.66682196589608, 18.111434884004197, 8.694119699566356, 35.08930435399197, 1.2196346196585006, 1.219453885376929, 1.219419450535338, 1.2190816194482024, 1.901759260415284, 1.314889854299604, 9.994724055557398, 6.151768497389993, 33.087604288640094, 30.920013109366643, 76.7975813541972, 25.77067125457493, 2.2474975210063466, 8.157518255750688, 4.921210445609129, 4.710173114343186, 14.954840739167041, 13.043931188144162, 11.772046133312466, 11.685696588358367, 9.864604851055663, 9.410294600833897, 8.406586817550462, 8.228339264084775, 8.04920337393403, 7.771304219285462, 7.682062789678454, 7.045575303347097, 6.9562395981471115, 6.956230400528284, 6.409619745971244, 6.409118475745164, 5.774060069439076, 5.68409087824237, 5.227366636312592, 5.226949677592427, 5.137907529726675, 4.8622322826636895, 4.40524360919263, 5.684565705314323, 36.76780317823774, 3.133777429251688, 3.133284973410317, 90.30084813399512, 3.0442188734122024, 3.0435775311160667, 8.1271892175013, 7.289076896518553, 33.06870483832986, 4.591284611677866, 18.703627681852193, 56.014400024059654, 10.041255851186602, 24.319361090502863, 14.43103174815077, 18.428672531696552, 31.21530799783322, 19.295563435521252, 12.686097827673438, 10.464412999972536, 9.677133618842806, 8.536245650156959, 7.355568015956576, 7.106319443954615, 22.889454882701585, 21.828649333568116, 16.178720839346774, 13.749262793437824, 10.548610343507926, 10.546171432099841, 28.767838892205422, 15.063216729945546, 8.41305881691449, 56.80956047938936, 7.530615253223472, 7.142256212599127, 5.877910309207675, 5.586959163646487, 5.490816804082718, 4.907685472658868, 4.029790169087702, 3.9341594795714587, 3.3495934076397087, 3.2541964348454604, 3.1586940314794605, 2.669847122271019, 2.669557188198701, 2.668772357124364, 2.4787011270460777, 1.990057521894704, 1.9897283278367508, 1.310417404374492, 1.3102105982529784, 1.3099956820874836, 14.947483453230749, 29.447693557252762, 46.56277943088959, 8.977093206593421, 25.07359589461496, 19.842835760824798, 54.236741923306205, 18.86003408925338, 11.78691821342187, 15.435924860240144, 26.834888060683266, 10.96205227561184, 14.448391346644215, 12.308619648073792, 7.635085153402206, 11.012151703665683, 7.6689350024251635, 6.622817480217886, 45.082382209595124, 36.234351691035634, 30.29625729307392, 20.56657003666594, 16.02476294996379, 10.413931851857056, 10.205343421014142, 5.338912050818598, 57.40893810088683, 5.123499361934229, 4.280373346008517, 3.643451981851089, 3.541184502114165, 3.540433230835306, 12.536262023181877, 13.01501930277381, 2.905396362629653, 2.904775417603398, 2.9045210828528183, 2.9038717981843765, 8.645624100873311, 30.842787112136104, 2.800007551092146, 8.897553772519736, 2.1657123872797723, 2.1650921642826177, 2.1649286246914006, 2.061312936116947, 1.4261657779662236, 1.4261141528855523, 7.182676896987049, 51.56429159720191, 14.473767907441848, 73.27933989355638, 9.279962766938977, 16.297682729584942, 8.38751674824475, 21.59965504960326, 8.650832096773751, 5.529546506053534, 3.696344223593324, 4.0154106880871865, 118.19504398010855, 24.048705822157185, 42.20875821196606, 20.287675643403553, 15.297196969772404, 12.18815423123905, 9.927297093647914, 9.17666857788323, 7.2942018962779, 6.072490826342747, 5.976423203999285, 5.411001746379621, 19.29894536701073, 4.751504191539507, 10.376822710925595, 27.641000749785793, 3.2445749824575545, 3.2429783492912394, 3.058833437878492, 3.0585286509145075, 7.293567748261009, 2.585270948567697, 5.50704923162244, 3.894639841526516, 38.68889404620636, 14.732472119312307, 26.75224605848853, 1.1760082134896612, 9.932260376996473, 1.1766625839338933, 2.815391420551606, 6.0702716495904205, 11.58694095441204, 18.319471330778335, 15.882390671076934, 13.572319824739045, 12.24093937424239, 7.895774910462177, 11.047419562595245, 5.412058432203245, 5.865800894878493, 27.777917279192184, 20.59689497107652, 20.161009187366428, 17.226469499149545, 10.597618987886761, 10.271791400130006, 9.944657706805893, 8.423188868762992, 7.009387878000734, 6.249899398455245, 6.2488345839835855, 6.246283165670386, 4.506700651815095, 4.399154076812421, 4.292745643705293, 3.7466268063387473, 3.7462238188724277, 5.927045645111688, 10.813991294064364, 20.789243458344377, 2.9863486468437057, 2.9862681120234535, 2.985357159795933, 2.8784840063057944, 6.8326593854810636, 2.6653142910347145, 2.2260585794764087, 2.2260541923655777, 2.2255731769994807, 2.2255546884609796, 47.74649650437532, 3.5114717118689733, 19.022877319501678, 7.337594533288049, 11.251034021573563, 7.940172980127179, 22.22785105393463, 8.91644552753825, 9.040333777020788, 33.06603538404078, 9.298881259805722, 7.931712750254941, 8.944712309351546, 6.389710980063418, 6.028463739648722, 16.472448200495574, 10.45942045542698, 8.75561046998186, 30.422710279034312, 7.855376826040753, 12.500359422463006, 6.85227764887366, 6.152070064985546, 6.053697781667541, 4.849813542909017, 4.751977803609468, 6.615978763200369, 2.7500027121931527, 2.0490808387681407, 2.6449961478359865, 2.6551373197793375, 11.101274099861289, 1.3499241706641214, 1.3497930971253662, 1.3496701084964782, 1.3495975893049426, 1.3494965279316034, 3.677031952409386, 1.25143992359432, 18.382123510895916, 4.328679362660028, 7.15577095544457, 21.689347521028676, 35.55573233465485, 0.6498082770038195, 22.638121983823027, 13.0423864797923, 4.456209750915245, 10.45675880509981, 5.665843585575651, 5.882399611347919, 7.0208519395598605, 14.763953867272887, 10.439070002299578, 6.343568260109587, 5.169778015854713, 6.483222093209217, 5.119015071774349, 4.6633142720555565, 26.769381344043886, 26.65763124257782, 19.843617961098065, 15.626751549756062, 14.004066824268264, 11.185943082527988, 5.784000501554799, 5.027566242499118, 20.3431601726009, 4.483812638381315, 3.6212133081963676, 2.8647866983262436, 2.757752319756034, 10.928854855863213, 2.214891645563982, 2.2140657584998777, 2.21395012081234, 14.307091559867143, 11.769439155087133, 9.85217799447206, 1.4586923739881312, 1.4584655981339725, 1.4581946144868154, 1.458145232244764, 1.457622275426319, 1.3515585560056818, 56.05023328056263, 6.101354411462294, 15.883002865530488, 2.8646519376748136, 6.865155736113498, 2.1084626775330007, 2.2147202138170883, 3.5746423668131304, 2.530716843240317, 2.1807762779800024, 61.56771281402908, 42.30377854424963, 14.413965429043555, 13.935268633833818, 11.73658829396934, 9.722716798380292, 8.856392479576376, 8.66919071436512, 8.284630103970358, 8.190479843149879, 6.8474968519332995, 5.9881389138538115, 4.641564057232518, 2.63132955306583, 2.5372612642774084, 1.9618513402448994, 1.961249177009404, 1.8672885282630782, 5.367237617030441, 9.254639107323495, 3.8054956982611663, 3.301396681117075, 1.2918122607046236, 1.2916983071600583, 1.2916606331453249, 1.2916431416384841, 1.2914981380817758, 1.2914967925812497, 1.1975223783295403, 8.55205599255583, 7.665160833707029, 9.025074361544837, 5.869067085286953, 1.9390755353376903, 6.291649056551188, 2.8484796759893514, 1.9618583782476517, 2.9613663421373033, 2.266736998480216, 2.588487988311262, 24.450624708035786, 11.694866581355376, 7.809552951597653, 7.253828210973908, 7.253797165901088, 6.515379760529666, 5.959864056729573, 3.650235509134279, 3.1853655538980616, 36.41969241078184, 5.05141589203257, 2.538378302597091, 20.24653406155201, 1.89309680557493, 1.89271115678146, 1.8924627961989033, 1.8922351323315598, 1.892195636100028, 1.8921739045490544, 4.8395784578671215, 28.733721615392874, 1.2465490145269833, 1.2463535168045334, 1.246294272457236, 1.246013831966099, 1.2458371337599676, 1.7469552297840183, 2.4479764303274756, 2.3573898398745836, 2.448046626686573, 6.55026476391178, 2.4555303864349876, 5.493168306266311, 6.095523436155578, 4.856200679745234], \"Total\": [656.0, 261.0, 234.0, 268.0, 380.0, 548.0, 226.0, 465.0, 197.0, 119.0, 188.0, 169.0, 314.0, 153.0, 116.0, 176.0, 138.0, 114.0, 105.0, 96.0, 102.0, 150.0, 62.0, 82.0, 97.0, 130.0, 135.0, 124.0, 123.0, 67.0, 97.85041771947311, 51.34779769319269, 37.38286928362294, 153.65824591344088, 31.99110400396579, 31.451225042029627, 28.17701315160741, 226.51614052464174, 22.15990291350387, 19.604465174782185, 15.718613977189715, 15.36088474881116, 14.481046750209858, 188.11380948517237, 13.592086134196897, 12.17874210965649, 11.65146977577683, 10.503535330440497, 36.45646892106922, 7.225913965770802, 5.373998790670915, 5.191349479799992, 23.12145336175598, 4.572321894677409, 10.29253889417691, 3.9575005225681648, 15.551232520861431, 3.7850162739675595, 3.339388801858579, 3.2528198910221455, 27.45729644642539, 57.7023076651256, 12.856482362190789, 91.38308732449111, 135.349053775772, 169.92101325602562, 41.126837336438314, 170.9619001795416, 111.00404013488286, 146.58828832085663, 465.79572987321313, 123.9501740848065, 548.863651496726, 69.39288004711047, 197.30123158206675, 133.07097319239168, 30.834721809500394, 19.14547128205595, 17.91889581929145, 16.603910799158548, 16.60364701255444, 13.67925010015058, 13.114388460957336, 11.418392273326205, 17.583418377378226, 197.30123158206675, 6.23536982176649, 6.2331954358065005, 5.6691218393229414, 5.668800163612988, 5.666126049554169, 5.474342920132891, 4.631075021313079, 4.156361358255478, 4.064831062517612, 90.10821151824922, 3.497744449810414, 3.405661125944313, 3.405577962883978, 42.6545739433611, 2.8393847441629423, 2.838797834433006, 2.8385703193202954, 2.838089625210821, 2.8371982675194523, 2.8357824585054967, 135.349053775772, 45.33429403518333, 41.126837336438314, 548.863651496726, 42.343937114288806, 11.625909814730626, 314.8541089185361, 36.810083792717855, 108.72469214622514, 92.84566961982833, 30.419475009729375, 268.7156122753235, 170.9619001795416, 20.52279860821486, 465.79572987321313, 47.758202950566265, 123.9501740848065, 73.48413446601357, 176.646683592335, 52.453775118787064, 150.85195900542794, 27.69514934311389, 24.553218092716094, 14.057507434846341, 13.01343034863776, 13.012728801802243, 27.10435183957108, 15.686545689058333, 9.129184064209163, 8.925281442142857, 14.828701356460762, 14.493652576030442, 7.664232632813604, 7.663540278150095, 6.8288501656910645, 19.664650163735914, 13.255017189572046, 138.72741663878756, 5.249712808997194, 5.045352620224907, 5.0448872796828015, 8.19667107609191, 4.515851673440353, 4.414793908730004, 3.7844226096543667, 14.565337901652441, 3.681619474849237, 3.680499089904048, 15.106796636017355, 13.942987446958051, 3.051555633511198, 380.2732918269628, 19.50932919832981, 81.65592604905821, 20.68026473189253, 465.79572987321313, 170.9619001795416, 146.58828832085663, 656.1850009320186, 20.52279860821486, 60.742005560097226, 268.7156122753235, 25.92320927240604, 133.07097319239168, 57.312377092789134, 103.01043475274821, 114.47635035584094, 29.683398553656225, 26.871947301700015, 19.165049141071393, 14.587167808899519, 13.336980010890114, 12.300308076230072, 11.676008849441459, 10.425063664361804, 10.424940769590659, 27.030187754213014, 75.74841137887294, 9.796574997826555, 18.682485367341517, 8.241075834058252, 7.614356000909678, 7.411193677606386, 16.89486778398232, 38.145000035683076, 6.885982170539023, 6.160180140940534, 6.159086190900055, 11.023896790241858, 19.541581636767596, 5.21945001066712, 44.44222095767049, 11.53019020662022, 4.4904603275745485, 4.389186752233457, 10.407489313718843, 46.944538780411726, 33.31407568101488, 130.34082617139651, 28.111424338658423, 52.453775118787064, 176.646683592335, 103.01043475274821, 656.1850009320186, 548.863651496726, 69.24790376575712, 30.826906016668943, 55.31337294483462, 111.00404013488286, 124.32012589985203, 88.70305428881078, 314.8541089185361, 261.01524287236435, 19.679261737708195, 17.544676080975762, 11.175821940825465, 10.868444376604664, 9.55396647532332, 9.247219342688464, 8.646138888322858, 7.427472814939843, 7.331815019352541, 6.4166244057887845, 6.015142506397696, 39.64827074763388, 14.67541383655121, 4.393380164293588, 7.750463959680009, 4.293577305143145, 3.6864603880400244, 3.685281579704106, 3.6849203844624028, 6.341119989709923, 13.339790699749646, 3.5866148390798283, 3.48683167847572, 39.08132171425677, 21.156374031635167, 2.9783955317196975, 2.9783765764057666, 2.9769268752716536, 2.878717300221568, 656.1850009320186, 36.810083792717855, 98.14875001483263, 25.92320927240604, 69.24790376575712, 18.94355336802654, 117.95161713005575, 22.251780656128663, 380.2732918269628, 57.7023076651256, 91.38308732449111, 146.58828832085663, 75.30567634545983, 170.9619001795416, 105.35467584207356, 39.664617111346615, 37.67080035423938, 19.94892211815816, 17.40288106728657, 13.403594009801692, 8.498795039741625, 7.041808429272952, 6.591994685873851, 6.1356333122689035, 6.135606022480664, 6.1341402635298, 5.770401677362281, 5.4994590933222725, 4.86674878892867, 8.017676008404495, 60.86148028094383, 4.0428853319396225, 4.042725176350048, 3.953290484707948, 31.693699434128003, 88.70305428881078, 3.317778846058069, 7.85553804498587, 21.327597716884174, 2.7709048069190865, 4.627812737979871, 2.682908599190445, 42.520961833818355, 4.58250012000833, 18.278304765726315, 14.147968048632034, 176.646683592335, 17.079190584449513, 16.81802500395803, 314.8541089185361, 98.14875001483263, 548.863651496726, 234.30873321807232, 133.07097319239168, 102.04248920721359, 117.95161713005575, 656.1850009320186, 130.34082617139651, 124.32012589985203, 465.79572987321313, 75.30567634545983, 45.33429403518333, 47.74121021043411, 81.65592604905821, 108.72469214622514, 56.92979590671226, 29.449852700215782, 24.90409048650163, 17.629530560045836, 13.180208933700783, 11.969318955598883, 11.561182578744079, 8.936308730068935, 8.833665957353324, 8.831931815015135, 17.715656578720125, 14.465076975297556, 8.028422624053547, 7.6230353472081225, 7.114029124417181, 6.713921359730694, 6.00830420832672, 6.006776778124601, 6.006278651963276, 5.095174471856134, 4.387850441246666, 4.387309715145315, 4.386434024459045, 102.04248920721359, 4.288894666770232, 4.189165846996806, 9.045741141879896, 3.6817911308298488, 3.6806395729702897, 7.05316894000212, 10.60504826869532, 43.18254836347476, 52.04831720549553, 14.208150222728756, 24.144503555071225, 14.83883101069326, 17.32308538118837, 133.07097319239168, 96.71761696268403, 150.85195900542794, 656.1850009320186, 98.14875001483263, 88.70305428881078, 39.08132171425677, 55.06316806786063, 52.038909822794274, 90.10821151824922, 124.32012589985203, 82.6488436696439, 38.327066979421765, 23.706317484064815, 16.63898040689714, 16.25526351903985, 14.89658386257487, 14.70294399363551, 12.766441398623693, 12.674039451307632, 10.156136083823377, 9.478737758964046, 9.183125112980973, 19.81977949912441, 8.022175211186177, 7.345041800229731, 7.149987011962214, 7.14952691767344, 7.055689424359706, 6.472550301784341, 5.504165591251758, 4.827198578072296, 4.82700503649533, 4.731558381316622, 20.28202598415847, 3.5680521857558674, 52.038909822794274, 3.4728259822874517, 3.4723366286750754, 3.377837554929419, 2.8907367009812517, 18.345514130430622, 169.92101325602562, 15.735216618909154, 12.546582565827109, 8.40179936109025, 16.28276778213018, 42.343937114288806, 57.312377092789134, 36.122877962718974, 42.520961833818355, 96.71761696268403, 62.09922764413671, 67.78271563483146, 57.32756113765721, 69.39288004711047, 50.535203314362626, 170.9619001795416, 117.95161713005575, 73.48413446601357, 75.30567634545983, 188.11380948517237, 25.543977078764872, 22.895782462136534, 17.008954697659586, 16.402079090311926, 14.166175299315055, 11.220299628504636, 11.120475862909187, 10.302313531558706, 10.302258765225545, 10.201911580128506, 10.101131658695522, 9.290992138771665, 9.290944554908428, 19.962188205628404, 8.169024808050573, 7.969527205684118, 50.16006371483838, 7.459426396165336, 7.357913875467451, 18.524726833750076, 6.647927606926376, 6.647327433839806, 6.340804738491832, 6.037574330881574, 5.830017105286703, 47.1158272821472, 4.40812912226356, 4.408018916240685, 4.407530074800005, 6.889970333314989, 22.33946509467235, 17.690530739494104, 9.983681648684845, 34.986668663363126, 44.024881600246424, 150.85195900542794, 55.06316806786063, 103.01043475274821, 92.84566961982833, 29.646691638725596, 12.986544404287056, 111.00404013488286, 20.481737389599743, 20.962174089838925, 69.24790376575712, 465.79572987321313, 28.111236876098886, 170.9619001795416, 35.820786475423986, 12.075676857124577, 11.7748940839581, 11.46084244515188, 10.661536673816522, 7.325803226268063, 234.30873321807232, 5.705295476492788, 5.705009106506729, 36.28021062459129, 4.79879265418718, 31.106618363572128, 3.6833073369275717, 3.583922335291684, 3.5834002488330907, 10.167236982116547, 2.9768341340371154, 2.9764195793906305, 2.9762076266390443, 2.975536520449686, 47.758202950566265, 2.8775048536822996, 2.8766609421006173, 4.8292822734436, 33.75078529295869, 50.535203314362626, 4.194561476066702, 2.2698432306223135, 2.269685629725224, 2.2692744874796165, 16.428997836380393, 3.521787349972302, 123.9501740848065, 133.07097319239168, 28.111236876098886, 62.09922764413671, 314.8541089185361, 73.48413446601357, 92.84566961982833, 15.551474245307036, 150.85195900542794, 57.312377092789134, 24.869984703141284, 15.793449162105384, 13.929103259805293, 12.666612246233116, 21.886174406992435, 10.715675753775486, 19.180597561899862, 8.07744161051958, 7.200274519748461, 6.999624451866338, 6.517553403023389, 43.76579377031869, 63.96017957463711, 3.588722458903309, 3.396204072544879, 4.876290558407155, 2.9060814929320538, 2.809770156346324, 268.7156122753235, 27.949917738309512, 14.88336929107331, 60.742005560097226, 2.1280589282357623, 2.1278781939541904, 2.1278437591125994, 2.127505928025464, 3.417243879466847, 2.833400593228676, 22.39910597560699, 13.921932656164023, 111.00404013488286, 108.72469214622514, 465.79572987321313, 116.93597097279957, 5.637733386129396, 45.33429403518333, 46.944538780411726, 123.9501740848065, 15.866481632863623, 13.95557208723465, 12.6836870361414, 12.597337482054948, 10.776245744752245, 10.321935494530479, 9.318227714903738, 9.139980157781357, 8.960844267630613, 8.682945112982043, 8.593703683375036, 7.957216202437585, 7.867880491843692, 7.867871294224865, 7.321260639667825, 7.320759372586957, 6.685700963135657, 6.595731771938951, 6.1390075386439475, 6.13859058033961, 6.049548430453758, 5.77387317636027, 5.316884502889211, 7.23148107683993, 47.46067119816801, 4.045418322948268, 4.044925870845343, 116.93597097279957, 3.955859767108782, 3.955450207630188, 10.57520405516837, 10.657986037513215, 69.39288004711047, 6.855512129110446, 55.31337294483462, 380.2732918269628, 22.251780656128663, 146.58828832085663, 57.32756113765721, 117.95161713005575, 548.863651496726, 465.79572987321313, 135.349053775772, 81.65592604905821, 60.86148028094383, 656.1850009320186, 44.44222095767049, 50.535203314362626, 23.798058640299484, 22.73725308564098, 17.087431875425484, 14.657866545510688, 11.45721409558079, 11.454775191203206, 31.61288114993444, 16.6346243892545, 9.32166257222173, 62.95248409403579, 8.439219013698983, 8.05085996467199, 6.786514066674445, 6.495562932825764, 6.399420569937411, 5.8162892395205015, 4.938393921160565, 4.842763231644322, 4.258197159712572, 4.162800186918323, 4.067297783552323, 3.578450879737788, 3.5781609402715633, 3.5773761264602846, 3.38730487911894, 2.8986612739675666, 2.898332079909613, 2.2190211564473548, 2.218814355719748, 2.2185994341603466, 29.578002736927854, 62.09922764413671, 150.85195900542794, 27.949917738309512, 146.58828832085663, 108.72469214622514, 656.1850009320186, 138.72741663878756, 57.94349613532363, 103.01043475274821, 465.79572987321313, 63.96017957463711, 169.92101325602562, 117.95161713005575, 55.31337294483462, 380.2732918269628, 75.30567634545983, 69.39288004711047, 46.00718037683269, 37.13881490948151, 31.200720523495864, 21.47103325825703, 16.929226168409667, 11.318395073342732, 11.109806643198466, 6.243375293501641, 67.29212069728018, 6.027962584118551, 5.184836564454393, 4.547915209564005, 4.445647720560041, 4.444896452325081, 15.919105854606594, 16.66925277146743, 3.8098595810755285, 3.8092386397877194, 3.808984305126776, 3.80833502457048, 11.361348380902152, 40.74805829536119, 3.7054874724132043, 12.27274082452219, 3.0701756057256477, 3.0695553897589947, 3.06939184923392, 2.9657761545628225, 2.330628996412099, 2.3305773713314277, 11.88612537398203, 124.32012589985203, 30.419475009729375, 548.863651496726, 29.578002736927854, 73.48413446601357, 33.51445068708579, 314.8541089185361, 55.06316806786063, 55.31337294483462, 12.986544404287056, 111.00404013488286, 119.10513359395388, 24.95879543600252, 43.88948743747598, 21.1977652603941, 16.20728658361774, 13.098243845084387, 10.837386711231694, 10.086758191728567, 8.204291515764087, 6.982580440188082, 6.886512826895221, 6.321091360224956, 22.72691590502926, 5.6615938224222635, 12.760624349021539, 34.02025387931176, 4.154664596302889, 4.153067968032903, 3.968923051723826, 3.9686182647598414, 9.578726294788199, 3.4953605765313487, 7.738270098818609, 5.798885683067552, 57.94349613532363, 22.14840170345003, 44.89830904506873, 2.0860978322313244, 19.535982978355996, 2.6420708677725386, 7.248200677549995, 18.178793762495133, 47.42481416730283, 124.32012589985203, 123.9501740848065, 91.38308732449111, 90.10821151824922, 55.06316806786063, 314.8541089185361, 21.438284550964102, 73.48413446601357, 28.68095416961623, 21.49993186473494, 21.064046077790472, 18.12950638957359, 11.500655878310804, 11.174828311334172, 10.847694597229935, 9.32622576292548, 7.9124247829781815, 7.152936288879286, 7.1518714930380325, 7.149320091081275, 5.409737542239136, 5.302190967236462, 5.195782534129334, 4.649663696762789, 4.6492607092964695, 7.506709666599646, 13.898732175884033, 26.813633424218263, 3.8893855372677466, 3.8893050056818703, 3.8883940572504754, 3.7815209135245684, 9.111701810660538, 3.5683511814587554, 3.1290954699004496, 3.1290910827896186, 3.1286100728174278, 3.12859157888502, 67.78271563483146, 4.998488482757938, 28.724207293505607, 11.411598815829448, 18.178793762495133, 14.15618065774518, 57.312377092789134, 17.314686720130737, 19.439210471533382, 465.79572987321313, 52.04831720549553, 57.7023076651256, 130.34082617139651, 31.927073016837593, 117.95161713005575, 17.379646924859383, 11.366619179790787, 9.662809194345668, 33.71471922870257, 8.762575555929596, 14.018003337035077, 7.759476373237467, 7.059268789349353, 6.960896506031348, 5.7570122726667305, 5.659176527973275, 8.784081373866274, 3.6572014365569596, 2.9562795688919223, 4.123844325480495, 4.234830698164441, 18.14495756911819, 2.2571228950279285, 2.2569918214891733, 2.256868832860285, 2.2567963190626563, 2.256695255339309, 6.185627854485823, 2.1586386479581274, 31.927073016837593, 7.654529812443311, 13.788983683031455, 44.024881600246424, 75.30567634545983, 1.5570070013676265, 57.32756113765721, 33.51445068708579, 12.334723936206055, 43.18254836347476, 18.94355336802654, 21.438284550964102, 33.31407568101488, 130.34082617139651, 111.00404013488286, 43.76579377031869, 26.813633424218263, 133.07097319239168, 36.122877962718974, 548.863651496726, 27.67268352672064, 27.560933425254575, 20.74692014377482, 16.530053732432815, 14.907369006945016, 12.08924526520474, 6.687302684231551, 5.93086842517587, 24.342811415753008, 5.387114821058067, 4.524515490873119, 3.7680888810029955, 3.661054502432786, 14.747168397079914, 3.1181938312805326, 3.1173679503986187, 3.1172523147741016, 20.521397474911947, 17.001390283573468, 15.551474245307036, 2.3619945566648832, 2.3617677808107245, 2.3614967971635674, 2.361447414921516, 2.360924466737846, 2.2548607386824338, 96.71761696268403, 11.433743886493613, 30.826906016668943, 5.699486794489818, 13.921932656164023, 4.425080384842806, 7.204115041046159, 28.111236876098886, 15.919105854606594, 30.419475009729375, 62.47699624336995, 43.213061973590506, 15.323248858384432, 14.844552063174694, 12.645871723310217, 10.63200023887505, 9.7656759173199, 9.578474143705996, 9.193913533311234, 9.099763272490755, 7.7567802812741755, 6.89742235183465, 5.550847486573395, 3.540612982406706, 3.4465446936182844, 2.8711347695857756, 2.87053260635028, 2.7765719633639288, 8.001392948081063, 14.335969789146917, 6.103255445857369, 5.531700035524986, 2.2010956900455, 2.200981736500934, 2.200944062486201, 2.20092657097936, 2.2007815704665505, 2.2007802219221255, 2.1068058076704164, 16.652895438850422, 34.47093471568877, 67.29212069728018, 33.51445068708579, 4.633531598698554, 47.46067119816801, 10.146089727554369, 5.27446069296116, 14.747168397079914, 19.439210471533382, 92.84566961982833, 25.361535379660076, 12.605777259530628, 8.720463626729007, 8.164738885637997, 8.164707837525377, 7.426290435661021, 6.870774737404464, 4.561146180758568, 4.096276225522351, 47.74121021043411, 6.701832786493249, 3.449288987428761, 27.672614538072565, 2.804007477199219, 2.803621832144195, 2.8033734678231923, 2.803145803955849, 2.8031063115523995, 2.803084579217242, 7.278649874282607, 47.42481416730283, 2.157459686151272, 2.1572641884288224, 2.1572049475885904, 2.156924506824764, 2.1567478053842564, 3.240609425186838, 4.671858417579643, 4.581282621666555, 5.27446069296116, 17.32308538118837, 6.875582796527724, 28.724207293505607, 75.74841137887294, 314.8541089185361], \"Category\": [\"Default\", \"Default\", \"Default\", \"Default\", \"Default\", \"Default\", \"Default\", \"Default\", \"Default\", \"Default\", \"Default\", \"Default\", \"Default\", \"Default\", \"Default\", \"Default\", \"Default\", \"Default\", \"Default\", \"Default\", \"Default\", \"Default\", \"Default\", \"Default\", \"Default\", \"Default\", \"Default\", \"Default\", \"Default\", \"Default\", \"Topic1\", \"Topic1\", \"Topic1\", \"Topic1\", \"Topic1\", \"Topic1\", \"Topic1\", \"Topic1\", \"Topic1\", \"Topic1\", \"Topic1\", \"Topic1\", \"Topic1\", \"Topic1\", \"Topic1\", \"Topic1\", \"Topic1\", \"Topic1\", \"Topic1\", \"Topic1\", \"Topic1\", \"Topic1\", \"Topic1\", \"Topic1\", \"Topic1\", \"Topic1\", \"Topic1\", \"Topic1\", \"Topic1\", \"Topic1\", \"Topic1\", \"Topic1\", \"Topic1\", \"Topic1\", \"Topic1\", \"Topic1\", \"Topic1\", \"Topic1\", \"Topic1\", \"Topic1\", \"Topic1\", \"Topic1\", \"Topic1\", \"Topic1\", \"Topic1\", \"Topic1\", \"Topic2\", \"Topic2\", \"Topic2\", \"Topic2\", \"Topic2\", \"Topic2\", \"Topic2\", \"Topic2\", \"Topic2\", \"Topic2\", \"Topic2\", \"Topic2\", \"Topic2\", \"Topic2\", \"Topic2\", \"Topic2\", \"Topic2\", \"Topic2\", \"Topic2\", \"Topic2\", \"Topic2\", \"Topic2\", \"Topic2\", \"Topic2\", \"Topic2\", \"Topic2\", \"Topic2\", \"Topic2\", \"Topic2\", \"Topic2\", \"Topic2\", \"Topic2\", \"Topic2\", \"Topic2\", \"Topic2\", \"Topic2\", \"Topic2\", \"Topic2\", \"Topic2\", \"Topic2\", \"Topic2\", \"Topic2\", \"Topic2\", \"Topic2\", \"Topic2\", \"Topic2\", \"Topic2\", \"Topic2\", \"Topic2\", \"Topic2\", \"Topic2\", \"Topic3\", \"Topic3\", \"Topic3\", \"Topic3\", \"Topic3\", \"Topic3\", \"Topic3\", \"Topic3\", \"Topic3\", \"Topic3\", \"Topic3\", \"Topic3\", \"Topic3\", \"Topic3\", \"Topic3\", \"Topic3\", \"Topic3\", \"Topic3\", \"Topic3\", \"Topic3\", \"Topic3\", \"Topic3\", \"Topic3\", \"Topic3\", \"Topic3\", \"Topic3\", \"Topic3\", \"Topic3\", \"Topic3\", \"Topic3\", \"Topic3\", \"Topic3\", \"Topic3\", \"Topic3\", \"Topic3\", \"Topic3\", \"Topic3\", \"Topic3\", \"Topic3\", \"Topic3\", \"Topic3\", \"Topic3\", \"Topic3\", \"Topic3\", \"Topic3\", \"Topic4\", \"Topic4\", \"Topic4\", \"Topic4\", \"Topic4\", \"Topic4\", \"Topic4\", \"Topic4\", \"Topic4\", \"Topic4\", \"Topic4\", \"Topic4\", \"Topic4\", \"Topic4\", \"Topic4\", \"Topic4\", \"Topic4\", \"Topic4\", \"Topic4\", \"Topic4\", \"Topic4\", \"Topic4\", \"Topic4\", \"Topic4\", \"Topic4\", \"Topic4\", \"Topic4\", \"Topic4\", \"Topic4\", \"Topic4\", \"Topic4\", \"Topic4\", \"Topic4\", \"Topic4\", \"Topic4\", \"Topic4\", \"Topic4\", \"Topic4\", \"Topic4\", \"Topic4\", \"Topic4\", \"Topic4\", \"Topic4\", \"Topic4\", \"Topic4\", \"Topic4\", \"Topic5\", \"Topic5\", \"Topic5\", \"Topic5\", \"Topic5\", \"Topic5\", \"Topic5\", \"Topic5\", \"Topic5\", \"Topic5\", \"Topic5\", \"Topic5\", \"Topic5\", \"Topic5\", \"Topic5\", \"Topic5\", \"Topic5\", \"Topic5\", \"Topic5\", \"Topic5\", \"Topic5\", \"Topic5\", \"Topic5\", \"Topic5\", \"Topic5\", \"Topic5\", \"Topic5\", \"Topic5\", \"Topic5\", \"Topic5\", \"Topic5\", \"Topic5\", \"Topic5\", \"Topic5\", \"Topic5\", \"Topic5\", \"Topic5\", \"Topic5\", \"Topic5\", \"Topic5\", \"Topic5\", \"Topic5\", \"Topic5\", \"Topic5\", \"Topic6\", \"Topic6\", \"Topic6\", \"Topic6\", \"Topic6\", \"Topic6\", \"Topic6\", \"Topic6\", \"Topic6\", \"Topic6\", \"Topic6\", \"Topic6\", \"Topic6\", \"Topic6\", \"Topic6\", \"Topic6\", \"Topic6\", \"Topic6\", \"Topic6\", \"Topic6\", \"Topic6\", \"Topic6\", \"Topic6\", \"Topic6\", \"Topic6\", \"Topic6\", \"Topic6\", \"Topic6\", \"Topic6\", \"Topic6\", \"Topic6\", \"Topic6\", \"Topic6\", \"Topic6\", \"Topic6\", \"Topic6\", \"Topic6\", \"Topic6\", \"Topic6\", \"Topic6\", \"Topic6\", \"Topic6\", \"Topic6\", \"Topic6\", \"Topic6\", \"Topic6\", \"Topic6\", \"Topic6\", \"Topic6\", \"Topic6\", \"Topic6\", \"Topic7\", \"Topic7\", \"Topic7\", \"Topic7\", \"Topic7\", \"Topic7\", \"Topic7\", \"Topic7\", \"Topic7\", \"Topic7\", \"Topic7\", \"Topic7\", \"Topic7\", \"Topic7\", \"Topic7\", \"Topic7\", \"Topic7\", \"Topic7\", \"Topic7\", \"Topic7\", \"Topic7\", \"Topic7\", \"Topic7\", \"Topic7\", \"Topic7\", \"Topic7\", \"Topic7\", \"Topic7\", \"Topic7\", \"Topic7\", \"Topic7\", \"Topic7\", \"Topic7\", \"Topic7\", \"Topic7\", \"Topic7\", \"Topic7\", \"Topic7\", \"Topic7\", \"Topic7\", \"Topic7\", \"Topic7\", \"Topic7\", \"Topic7\", \"Topic7\", \"Topic7\", \"Topic7\", \"Topic7\", \"Topic8\", \"Topic8\", \"Topic8\", \"Topic8\", \"Topic8\", \"Topic8\", \"Topic8\", \"Topic8\", \"Topic8\", \"Topic8\", \"Topic8\", \"Topic8\", \"Topic8\", \"Topic8\", \"Topic8\", \"Topic8\", \"Topic8\", \"Topic8\", \"Topic8\", \"Topic8\", \"Topic8\", \"Topic8\", \"Topic8\", \"Topic8\", \"Topic8\", \"Topic8\", \"Topic8\", \"Topic8\", \"Topic8\", \"Topic8\", \"Topic8\", \"Topic8\", \"Topic8\", \"Topic8\", \"Topic8\", \"Topic8\", \"Topic8\", \"Topic8\", \"Topic8\", \"Topic8\", \"Topic8\", \"Topic8\", \"Topic8\", \"Topic8\", \"Topic8\", \"Topic8\", \"Topic8\", \"Topic8\", \"Topic8\", \"Topic8\", \"Topic8\", \"Topic9\", \"Topic9\", \"Topic9\", \"Topic9\", \"Topic9\", \"Topic9\", \"Topic9\", \"Topic9\", \"Topic9\", \"Topic9\", \"Topic9\", \"Topic9\", \"Topic9\", \"Topic9\", \"Topic9\", \"Topic9\", \"Topic9\", \"Topic9\", \"Topic9\", \"Topic9\", \"Topic9\", \"Topic9\", \"Topic9\", \"Topic9\", \"Topic9\", \"Topic9\", \"Topic9\", \"Topic9\", \"Topic9\", \"Topic9\", \"Topic9\", \"Topic9\", \"Topic9\", \"Topic9\", \"Topic9\", \"Topic9\", \"Topic9\", \"Topic9\", \"Topic9\", \"Topic9\", \"Topic9\", \"Topic9\", \"Topic9\", \"Topic9\", \"Topic9\", \"Topic9\", \"Topic9\", \"Topic9\", \"Topic10\", \"Topic10\", \"Topic10\", \"Topic10\", \"Topic10\", \"Topic10\", \"Topic10\", \"Topic10\", \"Topic10\", \"Topic10\", \"Topic10\", \"Topic10\", \"Topic10\", \"Topic10\", \"Topic10\", \"Topic10\", \"Topic10\", \"Topic10\", \"Topic10\", \"Topic10\", \"Topic10\", \"Topic10\", \"Topic10\", \"Topic10\", \"Topic10\", \"Topic10\", \"Topic10\", \"Topic10\", \"Topic10\", \"Topic10\", \"Topic10\", \"Topic10\", \"Topic10\", \"Topic10\", \"Topic10\", \"Topic10\", \"Topic10\", \"Topic10\", \"Topic10\", \"Topic10\", \"Topic10\", \"Topic10\", \"Topic11\", \"Topic11\", \"Topic11\", \"Topic11\", \"Topic11\", \"Topic11\", \"Topic11\", \"Topic11\", \"Topic11\", \"Topic11\", \"Topic11\", \"Topic11\", \"Topic11\", \"Topic11\", \"Topic11\", \"Topic11\", \"Topic11\", \"Topic11\", \"Topic11\", \"Topic11\", \"Topic11\", \"Topic11\", \"Topic11\", \"Topic11\", \"Topic11\", \"Topic11\", \"Topic11\", \"Topic11\", \"Topic11\", \"Topic11\", \"Topic11\", \"Topic11\", \"Topic11\", \"Topic11\", \"Topic11\", \"Topic11\", \"Topic11\", \"Topic11\", \"Topic12\", \"Topic12\", \"Topic12\", \"Topic12\", \"Topic12\", \"Topic12\", \"Topic12\", \"Topic12\", \"Topic12\", \"Topic12\", \"Topic12\", \"Topic12\", \"Topic12\", \"Topic12\", \"Topic12\", \"Topic12\", \"Topic12\", \"Topic12\", \"Topic12\", \"Topic12\", \"Topic12\", \"Topic12\", \"Topic12\", \"Topic12\", \"Topic12\", \"Topic12\", \"Topic12\", \"Topic12\", \"Topic12\", \"Topic12\", \"Topic12\", \"Topic12\", \"Topic12\", \"Topic12\", \"Topic12\", \"Topic12\", \"Topic12\", \"Topic12\", \"Topic12\", \"Topic12\", \"Topic12\", \"Topic12\", \"Topic12\", \"Topic12\", \"Topic12\", \"Topic12\", \"Topic12\", \"Topic12\", \"Topic13\", \"Topic13\", \"Topic13\", \"Topic13\", \"Topic13\", \"Topic13\", \"Topic13\", \"Topic13\", \"Topic13\", \"Topic13\", \"Topic13\", \"Topic13\", \"Topic13\", \"Topic13\", \"Topic13\", \"Topic13\", \"Topic13\", \"Topic13\", \"Topic13\", \"Topic13\", \"Topic13\", \"Topic13\", \"Topic13\", \"Topic13\", \"Topic13\", \"Topic13\", \"Topic13\", \"Topic13\", \"Topic13\", \"Topic13\", \"Topic13\", \"Topic13\", \"Topic13\", \"Topic13\", \"Topic13\", \"Topic13\", \"Topic13\", \"Topic13\", \"Topic13\", \"Topic13\", \"Topic13\", \"Topic13\", \"Topic13\", \"Topic13\", \"Topic13\", \"Topic13\", \"Topic13\", \"Topic13\", \"Topic14\", \"Topic14\", \"Topic14\", \"Topic14\", \"Topic14\", \"Topic14\", \"Topic14\", \"Topic14\", \"Topic14\", \"Topic14\", \"Topic14\", \"Topic14\", \"Topic14\", \"Topic14\", \"Topic14\", \"Topic14\", \"Topic14\", \"Topic14\", \"Topic14\", \"Topic14\", \"Topic14\", \"Topic14\", \"Topic14\", \"Topic14\", \"Topic14\", \"Topic14\", \"Topic14\", \"Topic14\", \"Topic14\", \"Topic14\", \"Topic14\", \"Topic14\", \"Topic14\", \"Topic14\", \"Topic14\", \"Topic14\", \"Topic14\", \"Topic14\", \"Topic14\", \"Topic14\", \"Topic14\", \"Topic14\", \"Topic15\", \"Topic15\", \"Topic15\", \"Topic15\", \"Topic15\", \"Topic15\", \"Topic15\", \"Topic15\", \"Topic15\", \"Topic15\", \"Topic15\", \"Topic15\", \"Topic15\", \"Topic15\", \"Topic15\", \"Topic15\", \"Topic15\", \"Topic15\", \"Topic15\", \"Topic15\", \"Topic15\", \"Topic15\", \"Topic15\", \"Topic15\", \"Topic15\", \"Topic15\", \"Topic15\", \"Topic15\", \"Topic15\", \"Topic15\", \"Topic15\", \"Topic15\", \"Topic15\", \"Topic15\", \"Topic15\", \"Topic15\", \"Topic15\", \"Topic15\", \"Topic15\", \"Topic15\", \"Topic15\", \"Topic16\", \"Topic16\", \"Topic16\", \"Topic16\", \"Topic16\", \"Topic16\", \"Topic16\", \"Topic16\", \"Topic16\", \"Topic16\", \"Topic16\", \"Topic16\", \"Topic16\", \"Topic16\", \"Topic16\", \"Topic16\", \"Topic16\", \"Topic16\", \"Topic16\", \"Topic16\", \"Topic16\", \"Topic16\", \"Topic16\", \"Topic16\", \"Topic16\", \"Topic16\", \"Topic16\", \"Topic16\", \"Topic16\", \"Topic16\", \"Topic16\", \"Topic16\", \"Topic16\", \"Topic16\", \"Topic16\", \"Topic16\", \"Topic16\", \"Topic16\", \"Topic16\", \"Topic16\", \"Topic16\", \"Topic16\", \"Topic16\", \"Topic16\", \"Topic16\", \"Topic17\", \"Topic17\", \"Topic17\", \"Topic17\", \"Topic17\", \"Topic17\", \"Topic17\", \"Topic17\", \"Topic17\", \"Topic17\", \"Topic17\", \"Topic17\", \"Topic17\", \"Topic17\", \"Topic17\", \"Topic17\", \"Topic17\", \"Topic17\", \"Topic17\", \"Topic17\", \"Topic17\", \"Topic17\", \"Topic17\", \"Topic17\", \"Topic17\", \"Topic17\", \"Topic17\", \"Topic17\", \"Topic17\", \"Topic17\", \"Topic17\", \"Topic17\", \"Topic17\", \"Topic17\", \"Topic17\", \"Topic17\", \"Topic17\", \"Topic17\", \"Topic17\", \"Topic17\", \"Topic17\", \"Topic17\", \"Topic17\", \"Topic17\", \"Topic18\", \"Topic18\", \"Topic18\", \"Topic18\", \"Topic18\", \"Topic18\", \"Topic18\", \"Topic18\", \"Topic18\", \"Topic18\", \"Topic18\", \"Topic18\", \"Topic18\", \"Topic18\", \"Topic18\", \"Topic18\", \"Topic18\", \"Topic18\", \"Topic18\", \"Topic18\", \"Topic18\", \"Topic18\", \"Topic18\", \"Topic18\", \"Topic18\", \"Topic18\", \"Topic18\", \"Topic18\", \"Topic18\", \"Topic18\", \"Topic18\", \"Topic18\", \"Topic18\", \"Topic18\", \"Topic18\", \"Topic18\", \"Topic19\", \"Topic19\", \"Topic19\", \"Topic19\", \"Topic19\", \"Topic19\", \"Topic19\", \"Topic19\", \"Topic19\", \"Topic19\", \"Topic19\", \"Topic19\", \"Topic19\", \"Topic19\", \"Topic19\", \"Topic19\", \"Topic19\", \"Topic19\", \"Topic19\", \"Topic19\", \"Topic19\", \"Topic19\", \"Topic19\", \"Topic19\", \"Topic19\", \"Topic19\", \"Topic19\", \"Topic19\", \"Topic19\", \"Topic19\", \"Topic19\", \"Topic19\", \"Topic19\", \"Topic19\", \"Topic19\", \"Topic19\", \"Topic19\", \"Topic19\", \"Topic19\", \"Topic19\", \"Topic20\", \"Topic20\", \"Topic20\", \"Topic20\", \"Topic20\", \"Topic20\", \"Topic20\", \"Topic20\", \"Topic20\", \"Topic20\", \"Topic20\", \"Topic20\", \"Topic20\", \"Topic20\", \"Topic20\", \"Topic20\", \"Topic20\", \"Topic20\", \"Topic20\", \"Topic20\", \"Topic20\", \"Topic20\", \"Topic20\", \"Topic20\", \"Topic20\", \"Topic20\", \"Topic20\", \"Topic20\", \"Topic20\", \"Topic20\", \"Topic20\", \"Topic20\", \"Topic20\", \"Topic20\", \"Topic20\"], \"logprob\": [30.0, 29.0, 28.0, 27.0, 26.0, 25.0, 24.0, 23.0, 22.0, 21.0, 20.0, 19.0, 18.0, 17.0, 16.0, 15.0, 14.0, 13.0, 12.0, 11.0, 10.0, 9.0, 8.0, 7.0, 6.0, 5.0, 4.0, 3.0, 2.0, 1.0, -2.8813, -3.5347, -3.8589, -2.4478, -4.0188, -4.0364, -4.1498, -2.067, -4.3991, -4.5273, -4.7603, -4.7848, -4.8476, -2.2866, -4.9154, -5.0336, -5.0815, -5.1946, -3.9921, -5.6127, -5.96, -6.0018, -4.5178, -6.158, -5.38, -6.342, -4.9843, -6.4003, -6.5689, -6.6052, -4.5354, -3.8506, -5.2798, -3.5096, -3.5641, -3.6208, -4.6312, -3.8438, -4.1764, -4.0693, -3.6587, -4.3329, -4.0353, -4.6327, -4.7651, -4.8405, -3.9624, -4.4577, -4.5274, -4.6078, -4.6078, -4.8141, -4.8593, -5.0089, -4.592, -2.215, -5.6886, -5.689, -5.801, -5.8011, -5.8017, -5.8428, -6.0471, -6.1836, -6.2122, -3.1558, -6.4103, -6.4465, -6.4466, -3.9724, -6.7039, -6.7042, -6.7043, -6.7046, -6.705, -6.7058, -3.0724, -4.1048, -4.2078, -1.8409, -4.2292, -5.408, -2.4609, -4.5921, -3.793, -3.9787, -4.7993, -3.3459, -3.6655, -5.0836, -3.5385, -4.7178, -4.3205, -4.6074, -4.3041, -4.8988, -4.6985, -4.0376, -4.1623, -4.749, -4.8317, -4.8318, -4.1173, -4.6749, -5.2185, -5.2436, -4.7369, -4.768, -5.4147, -5.4148, -5.5466, -4.4938, -4.8895, -2.5464, -5.8566, -5.9048, -5.9049, -5.43, -6.0416, -6.07, -6.268, -4.9261, -6.3043, -6.3048, -4.9084, -5.0027, -6.5617, -1.7757, -4.7532, -3.4855, -4.7603, -2.1807, -3.2175, -3.3971, -2.503, -5.0319, -4.4858, -3.866, -4.9258, -4.7176, -4.9316, -4.9321, -2.5692, -3.942, -4.0448, -4.3969, -4.6855, -4.7813, -4.8684, -4.9248, -5.0482, -5.0482, -4.0989, -3.0705, -5.1165, -4.4716, -5.3088, -5.3981, -5.4289, -4.6084, -3.798, -5.5131, -5.6424, -5.6426, -5.0794, -4.5127, -5.8397, -3.7118, -5.0811, -6.0248, -6.0534, -5.2253, -3.7754, -4.1228, -2.8476, -4.443, -3.996, -3.1019, -3.5545, -2.6138, -2.8501, -4.1456, -4.7871, -4.7232, -4.6378, -4.7349, -4.9488, -4.899, -1.5951, -4.2238, -4.3446, -4.8271, -4.8575, -4.999, -5.0351, -5.1099, -5.2812, -5.296, -5.4497, -5.5253, -3.667, -4.6669, -5.9073, -5.3444, -5.9363, -6.1339, -6.1343, -6.1344, -5.5969, -4.8537, -6.1705, -6.2084, -3.8043, -4.4383, -6.4279, -6.4279, -6.4286, -6.4772, -1.5532, -4.1602, -3.3014, -4.5139, -3.6905, -4.8278, -3.411, -4.9168, -3.1441, -4.6558, -4.4875, -4.3778, -5.0555, -4.9304, -2.5012, -3.4926, -3.5454, -4.2034, -4.347, -4.6247, -5.1234, -5.3366, -5.4128, -5.4966, -5.4966, -5.4968, -5.569, -5.6264, -5.7748, -5.2851, -3.2663, -6.0084, -6.0084, -6.0374, -3.9879, -2.981, -6.2718, -5.4128, -4.4643, -6.5296, -6.025, -6.5781, -3.8452, -6.106, -4.7484, -5.0096, -2.6736, -4.9096, -4.9411, -2.696, -3.5969, -2.8759, -3.5709, -3.9702, -4.1395, -4.1081, -3.4253, -4.1591, -4.1988, -3.7968, -4.5429, -4.8076, -4.8028, -4.9036, -4.9272, -2.9092, -3.5836, -3.7571, -4.1182, -4.4276, -4.5314, -4.569, -4.8519, -4.8647, -4.865, -4.1706, -4.3773, -4.9719, -5.0305, -5.1093, -5.1759, -5.3055, -5.3058, -5.3059, -5.5027, -5.6877, -5.6878, -5.6881, -2.542, -5.7165, -5.7464, -5.0038, -5.9143, -5.9147, -5.2698, -4.8628, -3.4734, -3.4088, -4.654, -4.247, -4.6934, -4.6414, -3.1442, -3.842, -3.7442, -3.081, -4.2136, -4.3904, -4.6665, -4.5862, -4.706, -4.6311, -4.7846, -2.52, -3.2907, -3.7862, -4.1573, -4.182, -4.2747, -4.2886, -4.4399, -4.4477, -4.6886, -4.7646, -4.7997, -4.0461, -4.9509, -5.0509, -5.0817, -5.0818, -5.0969, -5.1966, -5.3878, -5.5472, -5.5473, -5.5719, -4.1402, -5.9348, -3.2638, -5.9713, -5.9715, -6.0091, -6.2288, -4.3938, -2.2272, -4.5532, -4.8285, -5.2136, -4.6831, -3.9916, -4.1685, -4.4664, -4.4019, -4.0327, -4.2783, -4.3189, -4.4734, -4.4193, -4.5166, -4.4208, -4.4877, -4.5764, -4.6479, -4.6535, -3.6668, -3.7805, -4.0921, -4.1305, -4.2864, -4.5376, -4.5473, -4.6308, -4.6308, -4.6416, -4.6525, -4.7447, -4.7447, -3.9901, -4.8884, -4.9162, -3.0836, -4.9912, -5.0068, -4.0865, -5.1234, -5.1235, -5.1784, -5.2358, -5.2771, -3.2245, -5.6179, -5.6179, -5.618, -5.197, -4.0904, -4.3371, -4.8924, -3.9718, -3.8049, -2.9691, -3.7354, -3.3606, -3.5255, -4.2539, -4.7387, -3.7874, -4.5531, -4.5932, -4.309, -4.1745, -4.5854, -4.4898, -3.1766, -4.3163, -4.3436, -4.3729, -4.4517, -4.8702, -1.4432, -5.1611, -5.1612, -3.3231, -5.3705, -3.5677, -5.7082, -5.7447, -5.7449, -4.7688, -6.0019, -6.0021, -6.0022, -6.0025, -3.2379, -6.051, -6.0515, -5.5573, -3.6217, -3.2753, -5.793, -6.4197, -6.4198, -6.4201, -4.4523, -6.0021, -2.7938, -3.3166, -4.4741, -4.0571, -3.1121, -4.1892, -4.1317, -5.1515, -4.0979, -4.6733, -3.5517, -4.0278, -4.1616, -4.2636, -3.7205, -4.445, -3.8831, -4.7583, -4.8889, -4.9213, -5.0037, -3.1291, -2.7742, -5.7422, -5.8167, -5.5158, -6.0361, -6.0856, -1.5315, -3.8316, -4.5655, -3.1702, -6.5296, -6.5297, -6.5297, -6.53, -6.0853, -6.4544, -4.4261, -4.9114, -3.229, -3.2967, -2.3869, -3.4789, -5.9183, -4.6292, -5.1346, -5.1784, -4.0079, -4.1446, -4.2472, -4.2546, -4.424, -4.4711, -4.5839, -4.6054, -4.6274, -4.6625, -4.6741, -4.7605, -4.7733, -4.7733, -4.8551, -4.8552, -4.9596, -4.9753, -5.059, -5.0591, -5.0763, -5.1314, -5.2301, -4.9752, -3.1083, -5.5707, -5.5709, -2.2098, -5.5997, -5.5999, -4.6177, -4.7266, -3.2144, -5.1888, -3.7842, -2.6873, -4.4062, -3.5217, -4.0436, -3.799, -3.272, -3.7531, -4.1724, -4.365, -4.4432, -4.5686, -4.7175, -4.752, -3.5434, -3.5909, -3.8904, -4.0531, -4.3181, -4.3183, -3.3149, -3.9619, -4.5443, -2.6344, -4.6551, -4.7081, -4.9029, -4.9537, -4.971, -5.0833, -5.2804, -5.3044, -5.4653, -5.4942, -5.524, -5.6921, -5.6922, -5.6925, -5.7664, -5.9859, -5.9861, -6.4038, -6.4039, -6.4041, -3.9696, -3.2915, -2.8333, -4.4794, -3.4523, -3.6863, -2.6808, -3.7371, -4.2071, -3.9374, -3.3844, -4.2797, -4.0035, -4.1638, -4.6414, -4.2751, -4.6369, -4.7836, -2.8447, -3.0632, -3.2422, -3.6295, -3.8791, -4.3101, -4.3303, -4.9782, -2.603, -5.0194, -5.1992, -5.3603, -5.3888, -5.389, -4.1246, -4.0871, -5.5866, -5.5869, -5.5869, -5.5872, -4.4962, -3.2243, -5.6236, -4.4674, -5.8805, -5.8808, -5.8808, -5.9299, -6.2982, -6.2983, -4.6815, -2.7104, -3.9809, -2.3589, -4.4254, -3.8622, -4.5265, -3.5805, -4.4956, -4.9431, -5.3459, -5.2631, -1.8247, -3.417, -2.8545, -3.5871, -3.8694, -4.0966, -4.3018, -4.3804, -4.61, -4.7933, -4.8093, -4.9086, -3.637, -5.0386, -4.2575, -3.2778, -5.4201, -5.4206, -5.479, -5.4791, -4.6101, -5.6472, -4.891, -5.2375, -2.9415, -3.907, -3.3105, -6.435, -4.3013, -6.4344, -5.562, -4.7937, -4.1472, -3.6891, -3.8319, -3.989, -4.0923, -4.5308, -4.1949, -4.9084, -4.8279, -3.1874, -3.4865, -3.5079, -3.6652, -4.151, -4.1823, -4.2146, -4.3807, -4.5644, -4.6791, -4.6793, -4.6797, -5.0061, -5.0303, -5.0547, -5.1908, -5.1909, -4.7321, -4.1308, -3.4772, -5.4176, -5.4176, -5.4179, -5.4544, -4.59, -5.5313, -5.7114, -5.7114, -5.7117, -5.7117, -2.6458, -5.2556, -3.566, -4.5187, -4.0912, -4.4397, -3.4103, -4.3238, -4.31, -3.0132, -4.2818, -4.4408, -4.3206, -4.657, -4.7152, -3.4639, -3.918, -4.0958, -2.8504, -4.2043, -3.7398, -4.341, -4.4488, -4.4649, -4.6866, -4.707, -4.3761, -5.2539, -5.5482, -5.2929, -5.289, -3.8585, -5.9655, -5.9656, -5.9657, -5.9657, -5.9658, -4.9634, -6.0412, -3.3542, -4.8003, -4.2976, -3.1887, -2.6944, -6.6966, -3.1459, -3.6973, -4.7712, -3.9183, -4.5311, -4.4936, -4.3167, -3.5734, -3.92, -4.4181, -4.6227, -4.3963, -4.6326, -4.7258, -2.893, -2.8972, -3.1924, -3.4313, -3.5409, -3.7656, -4.4252, -4.5654, -3.1675, -4.6798, -4.8935, -5.1278, -5.1659, -3.7889, -5.3851, -5.3855, -5.3855, -3.5195, -3.7148, -3.8926, -5.8028, -5.8029, -5.8031, -5.8031, -5.8035, -5.879, -2.154, -4.3718, -3.415, -5.1278, -4.2538, -5.4343, -5.3852, -4.9064, -5.2518, -5.4006, -1.9769, -2.3521, -3.4288, -3.4626, -3.6343, -3.8226, -3.9159, -3.9372, -3.9826, -3.994, -4.1731, -4.3072, -4.562, -5.1295, -5.1659, -5.4231, -5.4234, -5.4725, -4.4167, -3.8719, -4.7606, -4.9027, -5.841, -5.8411, -5.8411, -5.8411, -5.8412, -5.8412, -5.9168, -3.9508, -4.0603, -3.897, -4.3273, -5.4348, -4.2578, -5.0502, -5.4231, -5.0114, -5.2787, -5.1459, -2.7179, -3.4554, -3.8592, -3.933, -3.933, -4.0404, -4.1295, -4.6197, -4.756, -2.3194, -4.2949, -4.983, -2.9066, -5.2763, -5.2765, -5.2767, -5.2768, -5.2768, -5.2768, -4.3377, -2.5565, -5.6942, -5.6943, -5.6944, -5.6946, -5.6947, -5.3567, -5.0193, -5.057, -5.0192, -4.035, -5.0162, -4.211, -4.107, -4.3343], \"loglift\": [30.0, 29.0, 28.0, 27.0, 26.0, 25.0, 24.0, 23.0, 22.0, 21.0, 20.0, 19.0, 18.0, 17.0, 16.0, 15.0, 14.0, 13.0, 12.0, 11.0, 10.0, 9.0, 8.0, 7.0, 6.0, 5.0, 4.0, 3.0, 2.0, 1.0, 2.3953, 2.3867, 2.3799, 2.3775, 2.3757, 2.3752, 2.3717, 2.3702, 2.3626, 2.357, 2.3448, 2.3434, 2.3395, 2.3363, 2.3351, 2.3267, 2.3231, 2.3137, 2.2718, 2.2696, 2.2185, 2.2113, 2.2015, 2.1819, 2.1486, 2.1424, 2.1315, 2.1287, 2.0853, 2.0753, 2.012, 1.9541, 2.0263, 1.8353, 1.388, 1.1038, 1.5122, 0.8748, 0.974, 0.8031, 0.0575, 0.7072, -0.4831, 0.9875, -0.1898, 0.1286, 2.469, 2.4502, 2.4468, 2.4425, 2.4425, 2.4301, 2.427, 2.4159, 2.4011, 2.3602, 2.3412, 2.3411, 2.3239, 2.3239, 2.3238, 2.3171, 2.2801, 2.2518, 2.2455, 2.2032, 2.1976, 2.188, 2.188, 2.1345, 2.1125, 2.1124, 2.1124, 2.1123, 2.1121, 2.1119, 1.8797, 1.9412, 1.9355, 1.7112, 1.8849, 1.9987, 1.647, 1.6622, 1.3782, 1.3503, 1.6456, 0.9204, 1.0531, 1.7548, 0.1778, 1.2761, 0.7196, 0.9555, 0.3817, 1.0013, 0.1452, 2.5012, 2.4968, 2.4679, 2.4623, 2.4623, 2.443, 2.4323, 2.43, 2.4275, 2.4265, 2.4183, 2.4087, 2.4087, 2.3922, 2.3874, 2.3861, 2.3811, 2.3452, 2.3367, 2.3367, 2.3263, 2.3108, 2.305, 2.2611, 2.2552, 2.2523, 2.2522, 2.2365, 2.2223, 2.1826, 2.1434, 2.136, 1.972, 2.0705, 1.5355, 1.501, 1.4752, 0.8706, 1.8066, 1.2675, 0.4003, 1.6791, 0.2515, 0.8799, 0.2931, 2.5505, 2.5274, 2.5241, 2.51, 2.4943, 2.4881, 2.482, 2.4777, 2.4676, 2.4676, 2.4641, 2.4621, 2.4614, 2.4609, 2.442, 2.4318, 2.4281, 2.4246, 2.4206, 2.4175, 2.3995, 2.3994, 2.3805, 2.3748, 2.3679, 2.354, 2.334, 2.3333, 2.3274, 2.2922, 2.2356, 2.2312, 2.1423, 2.0808, 1.9041, 1.5839, 1.6707, 0.7598, 0.702, 1.4767, 1.6445, 1.1238, 0.5126, 0.3022, 0.4259, -0.7911, 2.7003, 2.6566, 2.6507, 2.6192, 2.6167, 2.6041, 2.6006, 2.593, 2.5736, 2.5718, 2.5514, 2.5404, 2.513, 2.507, 2.4726, 2.4679, 2.4666, 2.4215, 2.4214, 2.4213, 2.4161, 2.4156, 2.4123, 2.4026, 2.3901, 2.3697, 2.3408, 2.3408, 2.3405, 2.3255, 1.8203, 2.094, 1.9721, 2.0909, 1.9318, 2.0907, 1.6787, 1.8408, 0.775, 1.1489, 0.8575, 0.4946, 0.483, -0.2119, 2.7015, 2.6869, 2.6857, 2.6634, 2.6564, 2.6398, 2.5967, 2.5715, 2.5613, 2.5493, 2.5493, 2.5493, 2.5382, 2.5289, 2.5028, 2.4932, 2.4851, 2.4547, 2.4546, 2.448, 2.4159, 2.3937, 2.3889, 2.386, 2.3357, 2.3112, 2.3029, 2.295, 2.2648, 2.2318, 2.2059, 2.2008, 2.0123, 2.1125, 2.0965, 1.4119, 1.6766, 0.6762, 0.8325, 0.9989, 1.0951, 0.9816, -0.0518, 0.8308, 0.8383, -0.0805, 0.9956, 1.2383, 1.1914, 0.5539, 0.244, 2.909, 2.8937, 2.8879, 2.8722, 2.8537, 2.8462, 2.8433, 2.818, 2.8167, 2.8167, 2.815, 2.811, 2.8052, 2.7984, 2.7887, 2.7799, 2.7614, 2.7614, 2.7614, 2.729, 2.6935, 2.6935, 2.6934, 2.6927, 2.6875, 2.6811, 2.6539, 2.6423, 2.6422, 2.6367, 2.6359, 2.6212, 2.4991, 2.5522, 2.4289, 2.4694, 2.3666, 1.8249, 1.4462, 1.0995, 0.2925, 1.0599, 0.9843, 1.5279, 1.2654, 1.2021, 0.7279, 0.2526, 2.9255, 2.9231, 2.908, 2.891, 2.8896, 2.8842, 2.8833, 2.8733, 2.8727, 2.8534, 2.8463, 2.8429, 2.8272, 2.8269, 2.815, 2.8112, 2.8112, 2.8092, 2.7958, 2.7667, 2.7385, 2.7385, 2.7338, 2.7101, 2.6531, 2.6442, 2.6437, 2.6437, 2.6337, 2.5697, 2.5568, 2.4975, 2.5509, 2.5021, 2.518, 2.3868, 2.1225, 1.6429, 1.8067, 1.7081, 1.2555, 1.453, 1.3248, 1.3378, 1.2009, 1.4207, 0.2978, 0.602, 0.9865, 0.8905, -0.0305, 2.9528, 2.9485, 2.9341, 2.932, 2.9228, 2.9047, 2.9039, 2.8968, 2.8968, 2.8958, 2.8949, 2.8862, 2.8862, 2.876, 2.8713, 2.8682, 2.8612, 2.8593, 2.8574, 2.8544, 2.8423, 2.8423, 2.8346, 2.8262, 2.8199, 2.7829, 2.7587, 2.7587, 2.7587, 2.7329, 2.6632, 2.6499, 2.6666, 2.3333, 2.2704, 1.8746, 2.1162, 1.8646, 1.8036, 2.2167, 2.5574, 1.363, 2.2874, 2.224, 1.3134, -0.4582, 1.9384, 0.2288, 3.1049, 3.0525, 3.0504, 3.0481, 3.0417, 2.9984, 2.9602, 2.9575, 2.9575, 2.9457, 2.9211, 2.8549, 2.848, 2.8389, 2.8388, 2.7721, 2.7673, 2.7672, 2.7672, 2.7671, 2.756, 2.752, 2.7519, 2.728, 2.7193, 2.662, 2.6332, 2.6206, 2.6206, 2.6204, 2.6086, 2.5989, 2.2463, 1.6525, 2.0498, 1.6742, 0.9958, 1.3737, 1.1974, 1.9643, 0.7458, 1.1382, 3.0947, 3.0726, 3.0644, 3.0575, 3.0537, 3.0433, 3.023, 3.0126, 2.997, 2.9929, 2.9818, 2.9521, 2.9275, 2.84, 2.8206, 2.7598, 2.7571, 2.7413, 2.7349, 2.698, 2.5943, 2.5831, 2.5752, 2.5752, 2.5752, 2.575, 2.5458, 2.3642, 2.3249, 2.3152, 1.9215, 1.8745, 1.3293, 1.6195, 2.2122, 1.4168, 0.8765, -0.1383, 3.0879, 3.0795, 3.0725, 3.0719, 3.0587, 3.0546, 3.0441, 3.042, 3.0398, 3.0361, 3.0349, 3.0254, 3.0239, 3.0239, 3.0141, 3.0141, 3.0005, 2.9983, 2.9863, 2.9863, 2.9837, 2.9752, 2.959, 2.9064, 2.8918, 2.8917, 2.8917, 2.8886, 2.8851, 2.885, 2.8838, 2.7671, 2.4059, 2.7462, 2.0628, 1.2318, 2.3513, 1.3507, 1.7677, 1.2907, 0.2801, -0.0368, 0.7797, 1.0925, 1.3082, -1.1951, 1.3483, 1.1854, 3.147, 3.1451, 3.1312, 3.1219, 3.1033, 3.1032, 3.0916, 3.0867, 3.0833, 3.0832, 3.072, 3.0661, 3.0422, 3.0352, 3.0328, 3.016, 2.9826, 2.9781, 2.9459, 2.9397, 2.9331, 2.893, 2.893, 2.8929, 2.8736, 2.8098, 2.8098, 2.6592, 2.6591, 2.659, 2.5034, 2.4398, 2.0104, 2.0502, 1.4201, 1.4849, 0.6928, 1.1904, 1.5934, 1.2878, 0.3318, 1.4221, 0.7211, 0.9259, 1.2056, -0.356, 0.9015, 0.8366, 3.1865, 3.1821, 3.1774, 3.1638, 3.1519, 3.1235, 3.1219, 3.0503, 3.0479, 3.0442, 3.0151, 2.9851, 2.9793, 2.9793, 2.9679, 2.9593, 2.9358, 2.9357, 2.9357, 2.9356, 2.9336, 2.9283, 2.9266, 2.8852, 2.8578, 2.8577, 2.8577, 2.843, 2.7156, 2.7156, 2.7031, 2.3268, 2.464, 1.1932, 2.0476, 1.7007, 1.8216, 0.5274, 1.356, 0.9039, 1.9502, -0.1126, 3.2553, 3.2258, 3.2239, 3.219, 3.2051, 3.1909, 3.1752, 3.1684, 3.1453, 3.1233, 3.1212, 3.1075, 3.0994, 3.0877, 3.0561, 3.0553, 3.0157, 3.0156, 3.0025, 3.0024, 2.9904, 2.9613, 2.9228, 2.8649, 2.859, 2.8552, 2.7451, 2.6898, 2.5865, 2.454, 2.3173, 2.1661, 1.8537, 1.348, 1.2083, 1.3559, 1.2667, 1.3208, -0.087, 1.8864, 0.735, 3.3163, 3.3054, 3.3045, 3.2972, 3.2666, 3.2641, 3.2614, 3.2465, 3.2272, 3.2134, 3.2134, 3.2133, 3.1657, 3.1616, 3.1574, 3.1324, 3.1324, 3.1121, 3.0974, 3.0939, 3.0841, 3.0841, 3.0841, 3.0755, 3.0605, 3.0566, 3.0078, 3.0078, 3.0078, 3.0078, 2.9979, 2.9952, 2.9362, 2.9067, 2.8685, 2.7701, 2.4012, 2.6847, 2.5827, 0.7031, 1.6261, 1.3639, 0.6692, 1.7396, 0.3746, 3.5409, 3.5113, 3.4959, 3.4917, 3.4852, 3.4799, 3.4701, 3.4569, 3.4548, 3.423, 3.4197, 3.311, 3.3094, 3.2279, 3.1503, 3.1276, 3.1031, 3.0804, 3.0804, 3.0803, 3.0803, 3.0803, 3.0743, 3.0493, 3.0424, 3.0244, 2.9385, 2.8865, 2.844, 2.7206, 2.6653, 2.6507, 2.5763, 2.1763, 2.3875, 2.3012, 2.0374, 1.4165, 1.2305, 1.6631, 1.9484, 0.5728, 1.6405, -1.1737, 3.6465, 3.6464, 3.6352, 3.6235, 3.6172, 3.6021, 3.5346, 3.5145, 3.5002, 3.4962, 3.457, 3.4056, 3.3964, 3.3801, 3.3377, 3.3376, 3.3375, 3.319, 3.3119, 3.2233, 3.1977, 3.1977, 3.1976, 3.1976, 3.1975, 3.1679, 3.1342, 3.0517, 3.0166, 2.9918, 2.9727, 2.9384, 2.5002, 1.6174, 1.8407, 1.0443, 3.7483, 3.7417, 3.7018, 3.6998, 3.6884, 3.6736, 3.6653, 3.6632, 3.6589, 3.6577, 3.6383, 3.6216, 3.5841, 3.4662, 3.4567, 3.3822, 3.3821, 3.3663, 3.3637, 3.3253, 3.2906, 3.2468, 3.2301, 3.23, 3.23, 3.23, 3.23, 3.23, 3.1981, 3.0966, 2.2596, 1.754, 2.0207, 2.8919, 1.7423, 2.4927, 2.774, 2.1576, 1.614, 0.1831, 3.9089, 3.8705, 3.8351, 3.8272, 3.8272, 3.8146, 3.8032, 3.7227, 3.694, 3.6748, 3.6628, 3.6388, 3.633, 3.5526, 3.5526, 3.5525, 3.5525, 3.5525, 3.5525, 3.5374, 3.4444, 3.3969, 3.3969, 3.3968, 3.3967, 3.3967, 3.3276, 3.2992, 3.281, 3.1779, 2.9729, 2.9158, 2.2912, 1.4256, -0.2264]}, \"token.table\": {\"Topic\": [19, 16, 19, 12, 12, 4, 13, 15, 16, 4, 10, 8, 4, 20, 9, 18, 7, 1, 4, 2, 5, 8, 9, 10, 9, 1, 20, 18, 10, 9, 15, 11, 1, 12, 8, 9, 2, 8, 14, 9, 1, 12, 9, 17, 10, 12, 13, 16, 15, 8, 14, 9, 10, 2, 8, 3, 5, 12, 13, 16, 3, 4, 7, 10, 6, 3, 5, 6, 10, 13, 18, 8, 9, 3, 5, 9, 13, 8, 9, 1, 2, 4, 17, 12, 1, 8, 16, 3, 4, 10, 20, 9, 15, 10, 1, 3, 18, 7, 17, 20, 19, 4, 8, 4, 3, 16, 12, 14, 14, 15, 3, 5, 14, 15, 6, 8, 16, 19, 2, 7, 9, 10, 13, 16, 16, 17, 2, 4, 6, 7, 8, 9, 17, 6, 1, 5, 7, 20, 17, 7, 9, 2, 8, 20, 2, 4, 18, 2, 13, 15, 9, 3, 5, 19, 20, 5, 10, 6, 6, 7, 19, 12, 2, 4, 8, 9, 10, 14, 19, 2, 14, 19, 4, 3, 6, 7, 2, 4, 12, 1, 7, 9, 14, 15, 16, 16, 2, 8, 15, 3, 6, 13, 1, 13, 4, 5, 5, 5, 12, 6, 8, 12, 2, 1, 15, 15, 9, 17, 7, 9, 15, 17, 14, 9, 18, 9, 17, 19, 9, 12, 6, 5, 19, 2, 4, 6, 9, 10, 14, 15, 20, 19, 6, 1, 15, 6, 20, 4, 7, 8, 1, 2, 5, 8, 15, 13, 20, 17, 1, 14, 10, 1, 8, 12, 13, 2, 5, 14, 18, 15, 9, 15, 15, 13, 9, 4, 12, 15, 16, 12, 13, 6, 7, 1, 3, 8, 9, 12, 16, 4, 15, 18, 2, 4, 15, 17, 2, 4, 10, 2, 16, 3, 6, 10, 2, 5, 6, 7, 7, 11, 17, 14, 5, 9, 12, 8, 8, 17, 6, 7, 16, 20, 4, 2, 4, 6, 7, 8, 11, 13, 8, 3, 8, 10, 16, 9, 4, 8, 20, 15, 9, 9, 13, 16, 18, 7, 17, 6, 11, 17, 18, 16, 1, 2, 14, 7, 19, 13, 16, 18, 14, 3, 13, 4, 1, 3, 6, 7, 10, 17, 1, 1, 7, 20, 8, 4, 7, 11, 17, 4, 18, 12, 9, 5, 4, 7, 8, 6, 17, 2, 14, 1, 7, 8, 10, 13, 13, 14, 19, 20, 16, 7, 7, 1, 5, 7, 17, 9, 10, 16, 12, 7, 8, 5, 11, 15, 17, 2, 1, 15, 20, 16, 6, 13, 15, 4, 9, 20, 3, 11, 3, 4, 6, 7, 8, 14, 15, 11, 13, 17, 7, 12, 19, 6, 8, 10, 12, 7, 4, 6, 16, 17, 3, 11, 19, 2, 17, 7, 16, 14, 4, 5, 10, 14, 10, 18, 9, 3, 4, 5, 6, 7, 12, 13, 1, 3, 5, 12, 13, 3, 5, 14, 7, 16, 19, 3, 20, 1, 7, 10, 2, 14, 5, 11, 1, 8, 11, 12, 3, 7, 10, 18, 9, 7, 1, 2, 4, 5, 6, 8, 18, 19, 10, 11, 3, 14, 16, 19, 18, 7, 8, 18, 4, 19, 20, 19, 1, 13, 20, 1, 7, 18, 2, 12, 14, 1, 4, 9, 11, 14, 17, 16, 8, 18, 6, 9, 14, 17, 12, 10, 11, 5, 5, 9, 8, 15, 2, 10, 1, 2, 4, 6, 8, 10, 14, 15, 14, 18, 5, 9, 9, 1, 7, 10, 4, 5, 17, 19, 1, 3, 8, 17, 4, 19, 2, 2, 6, 11, 4, 1, 2, 12, 4, 7, 11, 2, 7, 20, 5, 14, 1, 2, 3, 6, 12, 16, 20, 9, 14, 1, 2, 7, 10, 11, 15, 4, 7, 3, 4, 4, 5, 5, 6, 10, 6, 11, 17, 16, 1, 1, 13, 17, 3, 20, 9, 14, 20, 13, 3, 4, 9, 13, 6, 7, 3, 16, 1, 15, 4, 4, 8, 14, 6, 12, 16, 9, 3, 14, 7, 8, 9, 12, 15, 1, 8, 9, 1, 5, 16, 13, 1, 10, 4, 13, 12, 15, 4, 15, 8, 7, 3, 15, 4, 15, 20, 8, 19, 8, 15, 19, 17, 20, 12, 18, 19, 4, 4, 12, 13, 11, 6, 8, 19, 20, 9, 10, 4, 6, 7, 9, 7, 14, 16, 3, 13, 8, 8, 12, 18, 2, 14, 18, 7, 1, 7, 4, 8, 4, 8, 8, 4, 16, 1, 19, 19, 11, 18, 14, 18, 12, 3, 14, 12, 5, 20, 18, 15, 20, 1, 6, 1, 8, 13, 15, 19, 16, 3, 6, 9, 11, 7, 17, 4, 7, 13, 6, 16, 16, 5, 7, 7, 12, 13, 16, 13, 7, 8, 5, 7, 3, 10, 18, 4, 1, 2, 4, 9, 7, 9, 10, 17, 18, 20, 9, 8, 18, 1, 2, 4, 12, 18, 1, 18, 3, 5, 6, 20, 2, 14, 16, 4, 7, 6, 17, 10, 14, 5, 15, 16, 20, 10, 11, 12, 2, 10, 8, 9, 17, 11, 16, 4, 12, 3, 17, 19, 19, 2, 4, 12, 13, 14, 4, 17, 15, 9, 6, 12, 20, 7, 20, 11, 14, 2, 19, 12, 6, 9, 11, 9, 18, 15, 6, 8, 17, 1, 5, 5, 11, 3, 14, 1, 2, 6, 16, 7, 7, 11, 7, 3, 5, 10, 19, 2, 6, 11, 9, 15, 5, 1, 9, 5, 10, 16, 20, 1, 2, 3, 5, 8, 9, 6, 8, 4, 8, 13, 2, 3, 11, 20, 14, 2, 13, 19, 6, 13, 3, 8, 2, 7, 20, 3, 5, 14, 5, 3, 7, 5, 8, 1, 19, 16, 1, 17, 1, 6, 10, 1, 18, 19, 15, 9, 9, 17, 18, 1, 2, 4, 6, 9, 12, 14, 17, 10, 2, 7, 13, 13, 16, 17, 16, 7, 13, 11, 12, 11, 18, 11, 11, 13, 17, 7, 19, 20, 10, 20, 18, 13, 12, 16, 6, 9, 19, 17, 4, 5, 9, 2, 3, 5, 3, 11, 1, 8, 10, 18, 11, 13, 15, 11, 16, 4, 17, 14, 6, 2, 15, 16, 17, 4, 16, 6, 13, 19, 11, 15, 8, 3, 7, 16, 17, 2, 9, 2, 10, 20, 4, 6, 6, 3, 13, 20, 6, 13, 15, 3, 14, 17, 19, 14, 1, 18, 17, 1, 2, 3, 6, 7, 9, 11, 12, 13, 16, 9, 18, 15, 16, 3, 4, 5, 6, 8, 13, 17, 10, 12, 2, 4, 9, 2, 19, 5, 6, 7, 8, 12, 13, 16, 3, 2, 16, 2, 3, 12, 20, 1, 14, 19, 9, 5, 18, 3, 5, 10, 9, 18, 19, 8, 6, 8, 3, 5, 11, 18, 13, 1, 4, 15, 9, 8, 13, 12, 15, 5, 13, 14, 16, 13, 5, 15, 16, 3, 12, 8, 2, 7, 15, 14, 1, 8, 11, 16, 11, 7, 19, 7, 3, 6, 8, 14, 16, 18, 8, 3, 8, 11, 16, 10, 15, 14, 19, 8, 6, 7, 5, 12, 15, 14, 19, 1, 8, 12, 17, 13], \"Freq\": [0.4543843088187226, 0.8389412485725843, 0.8698901841793196, 0.8144638964076685, 0.7416699578163184, 0.1781804297344391, 0.13363532230082933, 0.601358950353732, 0.06681766115041467, 0.8713353957944289, 0.695250514486961, 0.8711631281916714, 0.9109101926227967, 0.07920958196719971, 0.3509087874251365, 0.5263631811377046, 0.8434039128974682, 0.9668185211560053, 0.03090287510544309, 0.7045235753462735, 0.8312355018492094, 0.8453874342530978, 0.8281471541353144, 0.9341909932749373, 0.9075377665304991, 0.30858393246274807, 0.6171678649254961, 0.7425124826306138, 0.9109220236801936, 0.901704753736609, 0.05009470854092272, 0.8333015614256896, 0.874829045753834, 0.758368642120145, 0.8407948773777452, 0.9384099565079812, 0.5431710314967083, 0.44870650427988945, 0.7874305958418278, 0.7885434430187573, 0.9542826117981813, 0.8974376857540369, 0.4770029864176274, 0.49971741434227634, 0.2814790701958902, 0.6567844971237439, 0.9664653889478171, 0.9564671890361492, 0.9907213605274023, 0.17997207440126325, 0.7798789890721407, 0.1967102766973819, 0.6884859684408366, 0.7380380522239727, 0.8639715329514861, 0.6758297401463148, 0.14463282376672107, 0.14726251147157055, 0.028926564753344212, 0.7698551611283491, 0.09608465306630963, 0.768677224530477, 0.09608465306630963, 0.6718546986316786, 0.7420736926541549, 0.9221242730404404, 0.6947538752228518, 0.2839467294945746, 0.5678934589891492, 0.8386034607348983, 0.8840725615966671, 0.16979432308580739, 0.8065230346575851, 0.07496369489655992, 0.7496369489655992, 0.14992738979311984, 0.7206687482689069, 0.22381914601851546, 0.7162212672592495, 0.24783726186647462, 0.22877285710751502, 0.5147389284919088, 0.8797690713329642, 0.9213463745197515, 0.08851814129613868, 0.1917893061416338, 0.7081451303691094, 0.9060445589748205, 0.13781617895599874, 0.8268970737359924, 0.4636610722419793, 0.17636552687952434, 0.8230391254377802, 0.44055905998663797, 0.9856531807130998, 0.974899960476771, 0.8430468595080548, 0.8321815651528858, 0.912973582816805, 0.7134841138757623, 0.9431069351516642, 0.27254619109890466, 0.6541108586373712, 0.811664575646095, 0.8298744424604664, 0.07544313113276968, 0.8145192181432926, 0.89990847771215, 0.787558954344531, 0.7220799490456123, 0.13628235784524964, 0.8176941470714979, 0.10439801380942493, 0.7307860966659745, 0.7420442960128959, 0.36009692936092963, 0.46298176632119525, 0.10288483696026561, 0.09280621937098114, 0.1590963760645391, 0.3314507834677898, 0.09280621937098114, 0.3115637364597224, 0.013258031338711592, 0.7831836762947856, 0.18647230387971087, 0.11888137140725367, 0.3792881849659998, 0.4981695563732535, 0.17294751236425376, 0.7302228299824048, 0.05764917078808459, 0.8619579381479427, 0.9832440810034571, 0.9476575814419725, 0.8651249314557886, 0.25295766651789453, 0.7227361900511272, 0.931406159325435, 0.6212594086180518, 0.3727556451708311, 0.3684877215153071, 0.5527315822729606, 0.8573452376184614, 0.6021034148338773, 0.17202954709539353, 0.08601477354769677, 0.9150255107758195, 0.9173475793762044, 0.0632653503018072, 0.9074144357064597, 0.4243301778113156, 0.5400565899416744, 0.9136443667649248, 0.7134996977360197, 0.8603799313052759, 0.9770863078065828, 0.9101949085088842, 0.6018063568250662, 0.3282580128136725, 0.05470966880227875, 0.8752754231297941, 0.31234628517135166, 0.09693505401869534, 0.0753939309034297, 0.3015757236137188, 0.1400173002492266, 0.032311684672898446, 0.032311684672898446, 0.8018770566816985, 0.9615162565687656, 0.7203126828295563, 0.9675517634836663, 0.9774686116244693, 0.6361337521447264, 0.3534076400804036, 0.587271829274559, 0.810040525073862, 0.15750787987547316, 0.03632192026319974, 0.1816096013159987, 0.417702083026797, 0.16344864118439884, 0.14528768105279896, 0.03632192026319974, 0.7544051175668663, 0.9729291603583331, 0.9615973820948625, 0.8922589229292975, 0.9247727636106421, 0.7217858928267405, 0.7375904493965623, 0.07942498333395723, 0.9054448100071124, 0.9592267560135015, 0.8141288513720965, 0.8183512519291368, 0.7741472034724125, 0.12902453391206875, 0.8051069374883781, 0.03286150765258686, 0.16430753826293432, 0.8637303394117449, 0.132002072456128, 0.8360131255554774, 0.8712682530071022, 0.1138422969276131, 0.7968960784932918, 0.053981902619913764, 0.8637104419186202, 0.24249217988690291, 0.7274765396607087, 0.8795238731778089, 0.12323966812061012, 0.8215977874707341, 0.734856415075072, 0.16958224963270893, 0.11305483308847261, 0.18912164621755448, 0.7564865848702179, 0.7588615133657771, 0.9252685046274809, 0.9396068585635728, 0.4255939376502485, 0.034936815777259204, 0.2731423778949356, 0.02540859329255215, 0.11751474397805368, 0.06987363155451841, 0.034936815777259204, 0.015880370807845094, 0.9489262790702141, 0.814911802177279, 0.8777591727076536, 0.1097198965884567, 0.2094626415191805, 0.7540655094690498, 0.1906551446133174, 0.0635517148711058, 0.6990688635821638, 0.5690330839376636, 0.10942943921878147, 0.15320121490629407, 0.010942943921878147, 0.15320121490629407, 0.6899736847356723, 0.4635628159103936, 0.8202993606018935, 0.7772620616013476, 0.09715775770016845, 0.8335429947175996, 0.24498190575832546, 0.17292840406470034, 0.4755531111779259, 0.10087490237107519, 0.4346635038946932, 0.5433293798683665, 0.8166287804561664, 0.18845279548988453, 0.8582805505511182, 0.1292278490192102, 0.7753670941152612, 0.9615848674083254, 0.4506911528772834, 0.9025369039441239, 0.09029996957696781, 0.09029996957696781, 0.6772497718272587, 0.13544995436545174, 0.8896942690379422, 0.9479550165736877, 0.05644724459161114, 0.9031559134657783, 0.06746115298030511, 0.1686528824507628, 0.06746115298030511, 0.4722280708621358, 0.13492230596061022, 0.06746115298030511, 0.38927033395798055, 0.06487838899299676, 0.5190271119439741, 0.9503444929234021, 0.7204162057444442, 0.03001734190601851, 0.21012139334212956, 0.24347194149252335, 0.12173597074626168, 0.6086798537313084, 0.8819708134191637, 0.7715267423593718, 0.8151068446747561, 0.7483465275611693, 0.12472442126019488, 0.963358039966486, 0.4788649880196862, 0.35660158682317056, 0.15282925149564452, 0.8952242185950403, 0.9332122611564343, 0.44306762234530184, 0.6743597276965816, 0.9961104077248821, 0.7011441516589336, 0.20032690047398105, 0.949493511568953, 0.2361369488592409, 0.7084108465777228, 0.8219039390526114, 0.6839268488416337, 0.14921291411737125, 0.7460645705868563, 0.8942865440303179, 0.32191399496379425, 0.009197542713251265, 0.08277788441926139, 0.04598771356625632, 0.055185256279507586, 0.2851238241107892, 0.18395085426502528, 0.8286379636773444, 0.19193061879445208, 0.27917180915556666, 0.13958590457778333, 0.38386123758890417, 0.8783457060046648, 0.6834979164359859, 0.9269916370284417, 0.7133629710931487, 0.85928118571569, 0.8154485227130791, 0.06011557439469278, 0.9017336159203918, 0.2259845953138597, 0.4519691906277194, 0.05932127111701785, 0.8898190667552677, 0.13437817478597083, 0.6047017865368688, 0.13437817478597083, 0.13437817478597083, 0.771346036275713, 0.700035962128164, 0.077781773569796, 0.155563547139592, 0.16384698442840986, 0.6553879377136395, 0.5904399135516295, 0.8392406443635048, 0.6415668704569377, 0.6514285359671771, 0.7927233053588567, 0.858216003638638, 0.7663642705313971, 0.105207015956508, 0.105207015956508, 0.18035488449687087, 0.33065062157759656, 0.2254436056210886, 0.04508872112421772, 0.944086901625817, 0.202172259919809, 0.606516779759427, 0.134781506613206, 0.6918651564914599, 0.9597476483035116, 0.964291133113178, 0.845409092639212, 0.13709336637392627, 0.23527487654140558, 0.7058246296242168, 0.8896932289778183, 0.8610490548814151, 0.9424470710845267, 0.6047363447401648, 0.07114545232237234, 0.24900908312830317, 0.8952822646839884, 0.46325493196645373, 0.8021567832251132, 0.9001056743073111, 0.03220651972454663, 0.016103259862273313, 0.22544563807182638, 0.22544563807182638, 0.46699453600592605, 0.8596546344404639, 0.6515601597132377, 0.37918568673173114, 0.37918568673173114, 0.8577960906546331, 0.9836676753903024, 0.8323931760222776, 0.9114058355970359, 0.3242877603655822, 0.24321582027418664, 0.3242877603655822, 0.9608756563084089, 0.10974898221866927, 0.7682428755306849, 0.8265079712114919, 0.9514597598539922, 0.8286711883988874, 0.7090061830808281, 0.0472670788720552, 0.1890683154882208, 0.9206170913123688, 0.5872574886455989, 0.9761923228285344, 0.01952384645657069, 0.7134261713452655, 0.7713300651874869, 0.20475038314845065, 0.2559379789355633, 0.5118759578711266, 0.09968089411578832, 0.8771918682189371, 0.7132648597633907, 0.052136019056381724, 0.8863123239584892, 0.07239374908009735, 0.10456874867125174, 0.1528312480579833, 0.07239374908009735, 0.03217499959115438, 0.41827499468500695, 0.1447874981601947, 0.6440090510652319, 0.32200452553261594, 0.6422578698243688, 0.08428030828511336, 0.7795928516372985, 0.12642046242767002, 0.9091803239469967, 0.21767004540523313, 0.6332219502697691, 0.138517301621512, 0.8148208014515538, 0.6598086150452285, 0.1534438639640066, 0.06904973878380298, 0.11508289797300496, 0.49280068817262557, 0.09856013763452512, 0.29568041290357533, 0.909948205553969, 0.056871762847123065, 0.9056262755035056, 0.9767472814388334, 0.8835174894674036, 0.14814470112620262, 0.17777364135144313, 0.6518366849552916, 0.8294676568121289, 0.3215129267573361, 0.6430258535146722, 0.9176788882902331, 0.18897109782130866, 0.1661116908267955, 0.41299328636753746, 0.06248237911833592, 0.07162614191614118, 0.013715644196707885, 0.08229386518024731, 0.20465482163442106, 0.3479131967785158, 0.10914923820502456, 0.16372385730753683, 0.17054568469535086, 0.7619464426977072, 0.33652682216828583, 0.5889219387945002, 0.9058040944563486, 0.9218548614517225, 0.8791437491769243, 0.8969443645626887, 0.06899572035097605, 0.9520603954193221, 0.8719022811564077, 0.8371936684931942, 0.8820208607976876, 0.9693362614758402, 0.8947887728480921, 0.7118019940110311, 0.7925989699524637, 0.8503775661220366, 0.4699517119171758, 0.8195871076527084, 0.13880955458129152, 0.27761910916258303, 0.13880955458129152, 0.27761910916258303, 0.8610534647710906, 0.8150757335847989, 0.963007941602044, 0.7046993802570398, 0.29009947314972856, 0.08702984194491857, 0.20306963120480997, 0.17405968388983714, 0.029009947314972855, 0.23207957851978284, 0.8190228176598926, 0.4700339429503254, 0.8786252230492179, 0.2628904195123465, 0.6134109788621418, 0.9215951948638869, 0.42346909513258657, 0.22746631576425344, 0.18610880380711645, 0.5790051673999178, 0.8118087399698051, 0.454350483978404, 0.46355008596713393, 0.9923652500592076, 0.5989119921845802, 0.8099799375785651, 0.8769725506440043, 0.9913090026665888, 0.8936655165470495, 0.42356289414956483, 0.7045800438295664, 0.8297055521884775, 0.1382842586980796, 0.24323439009239528, 0.12612153560346423, 0.1981909845197295, 0.29728647677959424, 0.03603472445813263, 0.09008681114533158, 0.6392615102076069, 0.8392163662141281, 0.6413969458655078, 0.9524324115088695, 0.616022226617812, 0.308011113308906, 0.44309176742568207, 0.8797046381441346, 0.2926334892305136, 0.5852669784610272, 0.6828455284571009, 0.8140490584279512, 0.8735901865567015, 0.1567321429811823, 0.7836607149059115, 0.7043779481141098, 0.6721476904265132, 0.013608379649113241, 0.21773407438581185, 0.040825138947339724, 0.12247541684201917, 0.13608379649113242, 0.17690893543847214, 0.21773407438581185, 0.08165027789467945, 0.9780619193966417, 0.8972227343840455, 0.9420171217102191, 0.9787042919320074, 0.8821876105582395, 0.18858942923472888, 0.7543577169389155, 0.6719961275882319, 0.052788406724570906, 0.5278840672457091, 0.3167304403474254, 0.052788406724570906, 0.27683287057915523, 0.2491495835212397, 0.33219944469498625, 0.13841643528957762, 0.9769770785369841, 0.6967348134543181, 0.8824371283433445, 0.5735172578141782, 0.22058356069776083, 0.17646684855820868, 0.9392096971682348, 0.36202691214359406, 0.5393462160506606, 0.09604795628299434, 0.724258899614261, 0.14911212639117138, 0.10650866170797957, 0.9636437095959697, 0.2140475824860445, 0.428095164972089, 0.9654833729658346, 0.9451111256258349, 0.07347905155585706, 0.07347905155585706, 0.5755859038542137, 0.1102185773337856, 0.12246508592642844, 0.02449301718528569, 0.8732639664834345, 0.2444441745242182, 0.7333325235726547, 0.18555843240900524, 0.16942291654735261, 0.06454206344661051, 0.41145565447214205, 0.040338789654131575, 0.12908412689322102, 0.7805595431402791, 0.08672883812669768, 0.7552176320435413, 0.205968445102784, 0.8164082239926835, 0.09071202488807595, 0.9350710935467993, 0.15364344088060353, 0.8450389248433194, 0.2755586493357113, 0.05511172986714226, 0.6062290285385649, 0.8407244263367567, 0.973751596879658, 0.744324692990975, 0.9237074695525767, 0.9021227288149352, 0.8857686853458239, 0.7134941660105542, 0.29088443251821955, 0.29088443251821955, 0.29088443251821955, 0.838419526141358, 0.10678529827005251, 0.4077256843038368, 0.3203558948101575, 0.14561631582279888, 0.19599678678346236, 0.7937869864730225, 0.4620355036917234, 0.5197899416531888, 0.6148511344018905, 0.7223575494289219, 0.8997539165689367, 0.09860947824256439, 0.7888758259405151, 0.04930473912128219, 0.7454596107386925, 0.8719294946930289, 0.7933315902790681, 0.8568954268692515, 0.8540052339562135, 0.1220007477080305, 0.286229852604287, 0.047704975434047836, 0.47704975434047836, 0.1431149263021435, 0.9255096417658177, 0.9356038266498069, 0.053159308332375386, 0.010631861666475078, 0.6412221884561168, 0.20796395301279463, 0.13864263534186308, 0.9363607191909635, 0.9032131480375245, 0.8763787994155995, 0.8651199362729023, 0.10486302257853362, 0.758447165941542, 0.943495682413655, 0.8187668888528403, 0.10234586110660504, 0.9084029026937214, 0.9847247894651614, 0.876678253037714, 0.06743678869520876, 0.12651604661714663, 0.25303209323429326, 0.6114942253162087, 0.908183665756483, 0.05045464809758239, 0.275930550073571, 0.41389582511035644, 0.275930550073571, 0.9273788632689545, 0.07133683563607342, 0.9096791997404371, 0.423411652968155, 0.9405567884992899, 0.9186884193707208, 0.849403662938132, 0.9315275589376429, 0.6900520523039484, 0.9473724912964507, 0.5351401248292769, 0.4162200970894376, 0.4543191849961455, 0.4635080814807328, 0.2384039441800514, 0.7152118325401542, 0.12400925862355078, 0.7327819827755273, 0.14655639655510547, 0.8992420938885917, 0.7089012105810267, 0.14178024211620535, 0.6391623455527322, 0.7928819373445943, 0.9551185335554734, 0.9653752012870099, 0.8391623635066414, 0.8927730201604458, 0.9098996470573887, 0.4273578027182282, 0.46023147985039964, 0.0657473542643428, 0.6837903395886961, 0.7705125643273217, 0.7161330225564324, 0.9421027460531775, 0.5920947847481052, 0.8878435860990397, 0.05918957240660265, 0.9521902556426934, 0.9099431722139798, 0.053526068953763516, 0.4316362060769697, 0.4316362060769697, 0.8704369931876645, 0.9205908458251674, 0.9796475171359551, 0.7921594953578346, 0.17603544341285213, 0.9279669596315343, 0.22086941995527112, 0.7607724465126006, 0.8659698346806946, 0.2747762338543757, 0.6869405846359393, 0.9639985049058506, 0.3784909830382688, 0.3784909830382688, 0.9667809407353176, 0.9871417587188611, 0.2707140165806937, 0.6355894302329331, 0.08239122243760244, 0.956948974622506, 0.022784499395773955, 0.8846845552401256, 0.6663478722329893, 0.30754517179984125, 0.3529327982742088, 0.3529327982742088, 0.7410401009836342, 0.23157503155738568, 0.14076427744975578, 0.7038213872487789, 0.07038213872487789, 0.14389801707743097, 0.7914390939258703, 0.838816362635333, 0.7420424573158915, 0.25587670941927293, 0.6532391790067347, 0.0960645851480492, 0.05763875108882953, 0.17291625326648857, 0.8841063233720142, 0.8987162683061064, 0.06913202063893126, 0.836443313430798, 0.9182693876086637, 0.7172064120434753, 0.14344128240869505, 0.07172064120434753, 0.9958388754152256, 0.41335539275562105, 0.559245531375252, 0.43941584782597776, 0.4882398309177531, 0.910455976863684, 0.3557296338142394, 0.3557296338142394, 0.14229185352569576, 0.14229185352569576, 0.03557296338142394, 0.9406809697836154, 0.9800500092144725, 0.012099382829808302, 0.07602588123612804, 0.8717634381742682, 0.050683920824085356, 0.9453891761946194, 0.9679339377226087, 0.7580542271294993, 0.9756914241413884, 0.8763105162227901, 0.8323187714805788, 0.1513306857237416, 0.7323724853583196, 0.28256209048953507, 0.14128104524476753, 0.5651241809790701, 0.9248918367614157, 0.07399134694091325, 0.4351299659150023, 0.507651626900836, 0.6212103228045106, 0.20707010760150354, 0.034813841502463146, 0.06962768300492629, 0.6614629885467997, 0.17406920751231572, 0.9597898280726455, 0.2223439013992354, 0.7696519663819688, 0.9636284001724972, 0.9379510952261526, 0.6376238276859111, 0.31881191384295554, 0.4430418929349554, 0.13321415698936648, 0.7992849419361988, 0.1458680228649464, 0.7293401143247321, 0.9223611082077666, 0.07378888865662134, 0.4543540948551608, 0.8701408786383007, 0.1807881072443954, 0.235024539417714, 0.3434974037643513, 0.14463048579551632, 0.10847286434663723, 0.26128319426606345, 0.5225663885321269, 0.9227316756756645, 0.8576304168071759, 0.7572482994571668, 0.1893120748642917, 0.03155201247738195, 0.5772643717879081, 0.4040850602515357, 0.9650186876459398, 0.4290782242636782, 0.7049207744471766, 0.9719283494807227, 0.7415796737217585, 0.9413099107097906, 0.5321287465244361, 0.35475249768295736, 0.7256925295924079, 0.14513850591848157, 0.4793639035281407, 0.6349809325932507, 0.28221374781922254, 0.04703562463653709, 0.8217476515307179, 0.12974962918906074, 0.6718337681094346, 0.46991179930766114, 0.8148587925760173, 0.7877458208494544, 0.9690193872695694, 0.9133516246509862, 0.8520538523964766, 0.8602772718347134, 0.9636971088347249, 0.2050739159248646, 0.6152217477745938, 0.9190163651587323, 0.9133334458077692, 0.9689549081178893, 0.4406694763094332, 0.9007633540813711, 0.7217851725142518, 0.6028129338325992, 0.9332976974557743, 0.8909892776471617, 0.9161533516955752, 0.8137887524121766, 0.7716430182561043, 0.19291075456402607, 0.16073749777492127, 0.7715399893196221, 0.06429499910996851, 0.9425971231055043, 0.21642248922796928, 0.23397025862483165, 0.35680464440286824, 0.05264330819058712, 0.0701910775874495, 0.06434182112182871, 0.6482544065319198, 0.2160848021773066, 0.9193160917566395, 0.9227780270944512, 0.869472333479495, 0.20467735214300653, 0.11908500488320381, 0.6735745588706216, 0.9519444737869989, 0.7876115414710667, 0.9487191717303156, 0.27901844513010976, 0.6277915015427469, 0.9193879989260131, 0.9602982002167573, 0.8924845710145904, 0.06374889792961361, 0.11054926117332813, 0.7738448282132969, 0.4636230877974087, 0.15770084805566745, 0.7885042402783372, 0.8008488621858442, 0.6715067583608088, 0.9134159599784517, 0.7850565318409656, 0.23804424671960653, 0.5951106167990163, 0.2499564779504612, 0.624891194876153, 0.9762576180140613, 0.9582278950123474, 0.4431258485761488, 0.2813256363725413, 0.7033140909313533, 0.8144853865228765, 0.8303447879980353, 0.7459059057180163, 0.2034288833776408, 0.791002647337478, 0.9145182093933397, 0.3233301529043003, 0.6466603058086006, 0.4234602397941494, 0.05648032970568268, 0.45548652988453775, 0.156687366280281, 0.1311801206067469, 0.001821946119538151, 0.05648032970568268, 0.13300206672628503, 0.009109730597690754, 0.6950466121510204, 0.7033243384363776, 0.16410901230182146, 0.14066486768727554, 0.7813207376131089, 0.8948683345637989, 0.8835207693707786, 0.9494851998585219, 0.6994809229621769, 0.7045235078317744, 0.8666110307604843, 0.9525822434378802, 0.43097464613459846, 0.5028037538236982, 0.8359520788678602, 0.8130058474792053, 0.17198200619752418, 0.8499463866643637, 0.8324622099185569, 0.9024362875017697, 0.8697444635499564, 0.21827948253413476, 0.4365589650682695, 0.7961595638374261, 0.8383515942574084, 0.8195309927215251, 0.6392652890514933, 0.866490805937371, 0.18077625207041706, 0.5423287562112512, 0.8685060519566912, 0.3321400179534883, 0.4621078510657229, 0.1877313144954499, 0.8576955929878202, 0.7281490752165152, 0.19858611142268595, 0.04569094540709266, 0.9138189081418533, 0.9691669642913938, 0.8168775839794864, 0.8764227903330346, 0.8194360389899925, 0.6882119461770928, 0.9600937809343072, 0.7559306035148592, 0.46995931713381167, 0.6391632416839008, 0.9445172133540585, 0.44310600453980825, 0.771480441143071, 0.8151101515769422, 0.3265186625991119, 0.23322761614222276, 0.0932910464568891, 0.2798731393706673, 0.9592380638909525, 0.9376978961642786, 0.7637923673260998, 0.12729872788768332, 0.6965886872278532, 0.8571888450958531, 0.8831435381672778, 0.8725812907002021, 0.15660690215363984, 0.03132138043072797, 0.18792828258436783, 0.5637848477531034, 0.7052727172358745, 0.902618392085753, 0.2931433583146161, 0.6909807731701664, 0.9173824170860915, 0.409855488489803, 0.5269570566297468, 0.9821930952373861, 0.857797275284431, 0.13695922882692596, 0.8573484978639008, 0.12080734624041173, 0.20709830784070582, 0.6730695004822939, 0.14918937644789335, 0.23870300231662936, 0.3878923787645227, 0.17902725173747203, 0.809610077576715, 0.3498416651369196, 0.5247624977053794, 0.6765260028332312, 0.09660887190238678, 0.09875573572243981, 0.3692605770491228, 0.06225905078153814, 0.008587455280212158, 0.032202957300795594, 0.16530851414408404, 0.04079041258100775, 0.05796532314143207, 0.0708465060617503, 0.8912417966624953, 0.42337100107969416, 0.3300549023433373, 0.6051006542961184, 0.9221739869302447, 0.8907772718616884, 0.10623369164497676, 0.18590896037870933, 0.13279211455622095, 0.10623369164497676, 0.4780516124023954, 0.4405896512289517, 0.7523202728640029, 0.2572408389777476, 0.20007620809380364, 0.5144816779554952, 0.9401701182916536, 0.4543427069003194, 0.3560782041138951, 0.17803910205694756, 0.05086831487341359, 0.09325857726792491, 0.15260494462024077, 0.10173662974682718, 0.05086831487341359, 0.8963302784185696, 0.2000604789726845, 0.800241915890738, 0.4872629796209764, 0.4872629796209764, 0.8585323566631301, 0.9463149466592616, 0.9564389065555402, 0.6515948755448653, 0.4746521945018473, 0.873594830521903, 0.6987180588099325, 0.6415906696166602, 0.8644954198753119, 0.10170534351474259, 0.8370717106390196, 0.2436481241646753, 0.6822147476610908, 0.4543840303915335, 0.9398127872238289, 0.8149154267207119, 0.9702055165447102, 0.6554034204838497, 0.6715024847103565, 0.9497608689551377, 0.9391328539246401, 0.8259747191154401, 0.6919836422013637, 0.10926057508442584, 0.18210095847404306, 0.9074371222098434, 0.9399643663655308, 0.4506491509080502, 0.9309141081366831, 0.853212003321663, 0.16904454450393122, 0.5071336335117936, 0.3042801801070762, 0.924259256749535, 0.9675751031637779, 0.9200948777477234, 0.6897876969155978, 0.17244692422889946, 0.7928088086381744, 0.9460971376703576, 0.946817314724542, 0.743550436426438, 0.11097767707857284, 0.1331732124942874, 0.9781081916217611, 0.08928927798181027, 0.31251247293633594, 0.44644638990905133, 0.08928927798181027, 0.5888927630021181, 0.42034732192392976, 0.5404465567593383, 0.6837060743455163, 0.628618645289959, 0.2417764020345996, 0.09671056081383984, 0.8997564025374686, 0.8603518387346542, 0.44348636829089616, 0.886163785687663, 0.27987222093252184, 0.03292614363912021, 0.5762075136846038, 0.08231535909780054, 0.6719482743120057, 0.7558725530586962, 0.42906871987753353, 0.847310907717672, 0.863849791294174, 0.6546644673071054, 0.21822148910236847, 0.4044620131342697, 0.4494022368158552, 0.08988044736317105, 0.8470531082891526, 0.13374522762460306, 0.13954893320492184, 0.19187978315676754, 0.24421063310861324, 0.4012031829641503, 0.4507348125140314], \"Term\": [\"17th\", \"19th\", \"23rd\", \"24hour\", \"30min\", \"able\", \"able\", \"able\", \"able\", \"abortive\", \"absence\", \"acceptable\", \"access\", \"access\", \"accessible\", \"accessible\", \"accident\", \"account\", \"account\", \"accountability\", \"acct\", \"acknowledgement\", \"acknowledgment\", \"action\", \"active\", \"actual\", \"actual\", \"addition\", \"additional\", \"address\", \"address\", \"adequate\", \"admission\", \"advice\", \"afternoon\", \"age\", \"agent\", \"agent\", \"agreement\", \"airtime\", \"alert\", \"alot\", \"amount\", \"amount\", \"annoying\", \"annoying\", \"annual\", \"answer\", \"app\", \"application\", \"application\", \"appointment\", \"appointment\", \"approach\", \"appropriate\", \"approval\", \"approval\", \"approval\", \"approval\", \"approve\", \"area\", \"area\", \"area\", \"argument\", \"arrangement\", \"aspect\", \"assist\", \"assistance\", \"assistance\", \"assurance\", \"attempt\", \"attention\", \"attention\", \"attitude\", \"attitude\", \"attitude\", \"authorisation\", \"authorization\", \"authorization\", \"available\", \"available\", \"available\", \"average\", \"aware\", \"axamansard\", \"axamansard\", \"axamansard\", \"baby\", \"bad\", \"bad\", \"badni\", \"balance\", \"balance\", \"ball\", \"bank\", \"basic\", \"basis\", \"bed\", \"behalf\", \"beneficiary\", \"benefit\", \"bill\", \"bill\", \"billing\", \"blood\", \"blood\", \"board\", \"body\", \"bonus\", \"book\", \"brand\", \"brand\", \"bronze\", \"bronze\", \"budget\", \"business\", \"business\", \"business\", \"call\", \"call\", \"call\", \"call\", \"call\", \"call\", \"card\", \"card\", \"care\", \"care\", \"care\", \"case\", \"case\", \"case\", \"cash\", \"center\", \"centre\", \"certain\", \"certificate\", \"certificate\", \"challenge\", \"change\", \"change\", \"channel\", \"channel\", \"charge\", \"chat\", \"chat\", \"chat\", \"cheap\", \"check\", \"check\", \"checkup\", \"child\", \"child\", \"choice\", \"choose\", \"city\", \"claim\", \"class\", \"clear\", \"clear\", \"clear\", \"clearance\", \"client\", \"client\", \"client\", \"client\", \"client\", \"client\", \"client\", \"clientservice\", \"clinic\", \"clinix\", \"close\", \"code\", \"colleague\", \"colleague\", \"comment\", \"communication\", \"communication\", \"company\", \"company\", \"company\", \"company\", \"company\", \"company\", \"complain\", \"complaint\", \"complete\", \"comprehensive\", \"concern\", \"confident\", \"confirm\", \"confirmation\", \"confirmation\", \"consideration\", \"consistent\", \"consultant\", \"consultation\", \"consultation\", \"contact\", \"contact\", \"contact\", \"contract\", \"contribution\", \"contribution\", \"corporate\", \"correct\", \"correct\", \"cost\", \"cost\", \"country\", \"country\", \"couple\", \"cover\", \"cover\", \"coverage\", \"coverage\", \"coverage\", \"credit\", \"credit\", \"critical\", \"cumbersome\", \"current\", \"customer\", \"customer\", \"customer\", \"customer\", \"customer\", \"customer\", \"customer\", \"customer\", \"daily\", \"dangerous\", \"dashboard\", \"dashboard\", \"date\", \"date\", \"daughter\", \"daughter\", \"daughter\", \"day\", \"day\", \"day\", \"day\", \"day\", \"deal\", \"dealing\", \"death\", \"debit\", \"debit\", \"decision\", \"delay\", \"delay\", \"delay\", \"delay\", \"delivery\", \"delivery\", \"dental\", \"dental\", \"dependant\", \"dependent\", \"dependent\", \"deposit\", \"dermatology\", \"desk\", \"detail\", \"detail\", \"detail\", \"detail\", \"detailed\", \"diagnosis\", \"diagnostic\", \"diagnostic\", \"different\", \"different\", \"different\", \"different\", \"different\", \"different\", \"difficult\", \"difficult\", \"difficult\", \"difficulty\", \"disappointed\", \"disappointed\", \"disappointed\", \"disappointing\", \"disappointing\", \"disappointing\", \"disbursement\", \"dispensation\", \"dispense\", \"displeased\", \"displeased\", \"dissatisfied\", \"doctor\", \"doctor\", \"doctor\", \"document\", \"documentation\", \"download\", \"downward\", \"drug\", \"duty\", \"duty\", \"early\", \"ease\", \"ease\", \"ecard\", \"effective\", \"efficient\", \"efficient\", \"effort\", \"email\", \"email\", \"email\", \"email\", \"email\", \"email\", \"email\", \"embarrassing\", \"emergency\", \"emergency\", \"emergency\", \"emergency\", \"empathy\", \"employee\", \"end\", \"engagement\", \"enough\", \"enquire\", \"enquiry\", \"enquiry\", \"enrolee\", \"enrolee\", \"enrollee\", \"enrollee\", \"enrollment\", \"enrollment\", \"enrollment\", \"enrollment\", \"enrolment\", \"error\", \"error\", \"error\", \"evening\", \"evening\", \"examination\", \"exceptional\", \"exercise\", \"existent\", \"expectation\", \"expense\", \"expensive\", \"experience\", \"experience\", \"experience\", \"experience\", \"experience\", \"experience\", \"expiration\", \"explanation\", \"explanation\", \"explanation\", \"extent\", \"extra\", \"eye\", \"facility\", \"facility\", \"fact\", \"fact\", \"failure\", \"fair\", \"faith\", \"family\", \"family\", \"family\", \"fast\", \"fatal\", \"federal\", \"fee\", \"feedback\", \"feedback\", \"feedback\", \"feedback\", \"feedback\", \"feel\", \"female\", \"financial\", \"financial\", \"fine\", \"first\", \"folk\", \"follow\", \"form\", \"form\", \"form\", \"frame\", \"free\", \"free\", \"frequent\", \"friend\", \"friendly\", \"frustrating\", \"frustrating\", \"frustrating\", \"full\", \"functional\", \"fund\", \"fund\", \"future\", \"game\", \"general\", \"general\", \"general\", \"glass\", \"glass\", \"glitch\", \"gold\", \"gold\", \"good\", \"good\", \"good\", \"good\", \"good\", \"good\", \"good\", \"great\", \"great\", \"guideline\", \"guy\", \"guy\", \"guy\", \"gynecologist\", \"happy\", \"happy\", \"happy\", \"head\", \"health\", \"health\", \"health\", \"health\", \"healthcare\", \"healthcare\", \"healthcare\", \"help\", \"help\", \"helpful\", \"high\", \"history\", \"hmo\", \"hmo\", \"hmo\", \"home\", \"hope\", \"hope\", \"horrible\", \"hospital\", \"hospital\", \"hospital\", \"hospital\", \"hospital\", \"hospital\", \"hospital\", \"hour\", \"hour\", \"hour\", \"hour\", \"hour\", \"huge\", \"human\", \"human\", \"ill\", \"illness\", \"immunization\", \"important\", \"important\", \"impressed\", \"impression\", \"impressive\", \"improve\", \"improvement\", \"inability\", \"inaccessible\", \"inaccurate\", \"inadequate\", \"incase\", \"income\", \"individual\", \"individual\", \"individual\", \"individual\", \"inefficient\", \"infact\", \"inflow\", \"info\", \"information\", \"information\", \"information\", \"information\", \"information\", \"information\", \"informed\", \"infrastructure\", \"injection\", \"inquiry\", \"inquiry\", \"instance\", \"insufficient\", \"insurance\", \"insurance\", \"insurance\", \"insurer\", \"integrity\", \"intentional\", \"interest\", \"interval\", \"intervention\", \"investigation\", \"investment\", \"investor\", \"irrelevant\", \"irrespective\", \"issuance\", \"issuance\", \"issue\", \"issue\", \"issue\", \"issue\", \"issue\", \"issue\", \"item\", \"job\", \"key\", \"kid\", \"kind\", \"kind\", \"kitchen\", \"know\", \"knowledge\", \"knowledge\", \"lab\", \"lack\", \"lady\", \"lago\", \"lago\", \"lagoon\", \"lapse\", \"last\", \"last\", \"last\", \"last\", \"last\", \"last\", \"last\", \"last\", \"late\", \"least\", \"leave\", \"lens\", \"lense\", \"less\", \"less\", \"letter\", \"level\", \"level\", \"level\", \"level\", \"life\", \"life\", \"life\", \"life\", \"limit\", \"limitation\", \"limited\", \"line\", \"line\", \"line\", \"liquidate\", \"liquidation\", \"liquidation\", \"liquidation\", \"list\", \"list\", \"list\", \"little\", \"live\", \"live\", \"location\", \"login\", \"long\", \"long\", \"long\", \"long\", \"long\", \"long\", \"loss\", \"low\", \"low\", \"mail\", \"mail\", \"mail\", \"mail\", \"mail\", \"mail\", \"malaria\", \"malaria\", \"management\", \"management\", \"manager\", \"manager\", \"manner\", \"mansard\", \"mansard\", \"many\", \"many\", \"many\", \"manzard\", \"market\", \"masard\", \"match\", \"matter\", \"matured\", \"maximum\", \"mean\", \"mean\", \"mean\", \"mecure\", \"medical\", \"medical\", \"medical\", \"medical\", \"medication\", \"medication\", \"medicine\", \"medicine\", \"medplus\", \"meet\", \"member\", \"message\", \"message\", \"message\", \"method\", \"min\", \"mind\", \"mine\", \"minimum\", \"minimum\", \"minute\", \"minute\", \"minute\", \"minute\", \"mobile\", \"money\", \"money\", \"money\", \"month\", \"month\", \"month\", \"monthly\", \"morning\", \"motor\", \"much\", \"much\", \"multiple\", \"mutual\", \"n\", \"n\", \"naira\", \"name\", \"necessary\", \"necessary\", \"need\", \"need\", \"need\", \"network\", \"network\", \"next\", \"next\", \"next\", \"nice\", \"nice\", \"night\", \"nightmare\", \"nit\", \"nni\", \"nnthank\", \"none\", \"normal\", \"notice\", \"notification\", \"notification\", \"nplease\", \"nthank\", \"nthe\", \"nthe\", \"number\", \"number\", \"number\", \"numerous\", \"nurse\", \"nurse\", \"observation\", \"occasion\", \"office\", \"officer\", \"official\", \"onboarding\", \"one\", \"online\", \"online\", \"online\", \"open\", \"opinion\", \"opportunity\", \"optical\", \"optician\", \"option\", \"option\", \"organisation\", \"organization\", \"organization\", \"other\", \"other\", \"outofpocket\", \"outrageous\", \"package\", \"pain\", \"pain\", \"palatable\", \"part\", \"part\", \"partial\", \"particular\", \"particular\", \"partner\", \"party\", \"party\", \"past\", \"patient\", \"payment\", \"payment\", \"payment\", \"people\", \"people\", \"percentage\", \"period\", \"period\", \"periodic\", \"periodic\", \"person\", \"person\", \"personal\", \"personal\", \"personal\", \"personnel\", \"personnel\", \"perspective\", \"pharmacy\", \"pharmacy\", \"phone\", \"phone\", \"phone\", \"phone\", \"physical\", \"pick\", \"pick\", \"pickup\", \"picture\", \"place\", \"place\", \"place\", \"plan\", \"platform\", \"platform\", \"platinum\", \"platinum\", \"pleasant\", \"pocket\", \"pocket\", \"pocket\", \"pocket\", \"pocket\", \"point\", \"policy\", \"policy\", \"poor\", \"poor\", \"poor\", \"portal\", \"possible\", \"post\", \"premium\", \"prescribed\", \"prescription\", \"prescription\", \"present\", \"previous\", \"previous\", \"previous\", \"price\", \"price\", \"prior\", \"prior\", \"proactive\", \"proactive\", \"problem\", \"problem\", \"problem\", \"problem\", \"procedure\", \"process\", \"process\", \"processing\", \"product\", \"professional\", \"professional\", \"professionalism\", \"profile\", \"profile\", \"profit\", \"profit\", \"prompt\", \"prompt\", \"promptness\", \"proper\", \"provider\", \"provider\", \"provider\", \"provider\", \"provider\", \"provision\", \"provision\", \"purchase\", \"purpose\", \"quality\", \"quality\", \"quality\", \"question\", \"question\", \"quick\", \"quite\", \"range\", \"rate\", \"rating\", \"reachable\", \"ready\", \"ready\", \"real\", \"real\", \"realtime\", \"reason\", \"reason\", \"reason\", \"recent\", \"recent\", \"receptionist\", \"reconciliation\", \"record\", \"recovery\", \"redemption\", \"referral\", \"refund\", \"regard\", \"registration\", \"regular\", \"regular\", \"reimbursement\", \"relation\", \"relationship\", \"reliability\", \"reliable\", \"reliance\", \"remittance\", \"renewal\", \"rep\", \"repair\", \"repeat\", \"reply\", \"reply\", \"representative\", \"representative\", \"representative\", \"reputation\", \"request\", \"request\", \"request\", \"request\", \"request\", \"request\", \"resolution\", \"resolution\", \"resolve\", \"respect\", \"respond\", \"response\", \"response\", \"response\", \"responsive\", \"responsiveness\", \"result\", \"return\", \"return\", \"review\", \"ridiculous\", \"right\", \"right\", \"room\", \"room\", \"rotavirus\", \"routine\", \"routine\", \"rubbish\", \"rude\", \"sale\", \"sample\", \"satisfaction\", \"satisfaction\", \"satisfactory\", \"satisfactory\", \"satisfied\", \"saving\", \"scenario\", \"second\", \"second\", \"security\", \"senior\", \"sense\", \"sense\", \"separate\", \"series\", \"serious\", \"serious\", \"server\", \"service\", \"service\", \"service\", \"service\", \"service\", \"service\", \"service\", \"service\", \"settlement\", \"several\", \"several\", \"several\", \"sheet\", \"short\", \"show\", \"sick\", \"sickness\", \"side\", \"silver\", \"simple\", \"single\", \"single\", \"site\", \"slow\", \"slow\", \"small\", \"smear\", \"smooth\", \"social\", \"solution\", \"solution\", \"sometime\", \"son\", \"sort\", \"speak\", \"specialist\", \"speed\", \"speed\", \"spending\", \"staff\", \"staff\", \"staff\", \"stage\", \"standard\", \"standard\", \"state\", \"state\", \"statement\", \"step\", \"stress\", \"stressful\", \"stuff\", \"subscription\", \"successful\", \"sufficient\", \"suggestion\", \"suitable\", \"supervision\", \"supplement\", \"supply\", \"support\", \"support\", \"support\", \"support\", \"sure\", \"surgery\", \"surprised\", \"surprised\", \"surprising\", \"survey\", \"suspension\", \"swift\", \"system\", \"system\", \"system\", \"system\", \"tablet\", \"talk\", \"team\", \"team\", \"technical\", \"term\", \"term\", \"terrible\", \"test\", \"test\", \"text\", \"thank\", \"thank\", \"thank\", \"thing\", \"thing\", \"thing\", \"thing\", \"think\", \"third\", \"third\", \"thought\", \"time\", \"time\", \"time\", \"time\", \"time\", \"time\", \"time\", \"time\", \"time\", \"time\", \"timeline\", \"timeliness\", \"timely\", \"timely\", \"tired\", \"tiring\", \"today\", \"today\", \"today\", \"today\", \"today\", \"toll\", \"tomorrow\", \"transaction\", \"transaction\", \"transaction\", \"transfer\", \"transparent\", \"treatment\", \"treatment\", \"treatment\", \"treatment\", \"treatment\", \"treatment\", \"treatment\", \"trust\", \"turn\", \"turn\", \"turnaround\", \"turnaround\", \"type\", \"unable\", \"unacceptable\", \"unauthorized\", \"unexpected\", \"unfair\", \"unfortunate\", \"unhappy\", \"unnecessary\", \"unnecessary\", \"unpleasant\", \"unprofessional\", \"unprofessional\", \"unresponsive\", \"update\", \"urgency\", \"urgent\", \"urinalysis\", \"use\", \"user\", \"usual\", \"vaccine\", \"value\", \"value\", \"value\", \"various\", \"vehicle\", \"vendor\", \"verification\", \"view\", \"visit\", \"visit\", \"visit\", \"vitamin\", \"wait\", \"waiting\", \"ward\", \"ward\", \"waste\", \"way\", \"website\", \"week\", \"week\", \"week\", \"well\", \"whole\", \"whole\", \"whole\", \"whole\", \"wide\", \"wife\", \"wife\", \"willing\", \"withdrawal\", \"withdrawal\", \"withdrawal\", \"woman\", \"wonder\", \"wonderful\", \"word\", \"work\", \"work\", \"work\", \"work\", \"worker\", \"working\", \"world\", \"worrisome\", \"worth\", \"write\", \"write\", \"wrong\", \"wrong\", \"wrong\", \"year\", \"year\", \"yesterday\", \"yesterday\", \"yesterday\", \"yesterday\", \"zinc\"]}, \"R\": 30, \"lambda.step\": 0.01, \"plot.opts\": {\"xlab\": \"PC1\", \"ylab\": \"PC2\"}, \"topic.order\": [12, 2, 14, 19, 10, 8, 20, 5, 17, 13, 7, 15, 6, 3, 18, 1, 16, 9, 4, 11]};\n",
       "\n",
       "function LDAvis_load_lib(url, callback){\n",
       "  var s = document.createElement('script');\n",
       "  s.src = url;\n",
       "  s.async = true;\n",
       "  s.onreadystatechange = s.onload = callback;\n",
       "  s.onerror = function(){console.warn(\"failed to load library \" + url);};\n",
       "  document.getElementsByTagName(\"head\")[0].appendChild(s);\n",
       "}\n",
       "\n",
       "if(typeof(LDAvis) !== \"undefined\"){\n",
       "   // already loaded: just create the visualization\n",
       "   !function(LDAvis){\n",
       "       new LDAvis(\"#\" + \"ldavis_el979624385261786241782911379\", ldavis_el979624385261786241782911379_data);\n",
       "   }(LDAvis);\n",
       "}else if(typeof define === \"function\" && define.amd){\n",
       "   // require.js is available: use it to load d3/LDAvis\n",
       "   require.config({paths: {d3: \"https://d3js.org/d3.v5\"}});\n",
       "   require([\"d3\"], function(d3){\n",
       "      window.d3 = d3;\n",
       "      LDAvis_load_lib(\"https://cdn.jsdelivr.net/gh/bmabey/pyLDAvis@3.4.0/pyLDAvis/js/ldavis.v3.0.0.js\", function(){\n",
       "        new LDAvis(\"#\" + \"ldavis_el979624385261786241782911379\", ldavis_el979624385261786241782911379_data);\n",
       "      });\n",
       "    });\n",
       "}else{\n",
       "    // require.js not available: dynamically load d3 & LDAvis\n",
       "    LDAvis_load_lib(\"https://d3js.org/d3.v5.js\", function(){\n",
       "         LDAvis_load_lib(\"https://cdn.jsdelivr.net/gh/bmabey/pyLDAvis@3.4.0/pyLDAvis/js/ldavis.v3.0.0.js\", function(){\n",
       "                 new LDAvis(\"#\" + \"ldavis_el979624385261786241782911379\", ldavis_el979624385261786241782911379_data);\n",
       "            })\n",
       "         });\n",
       "}\n",
       "</script>"
      ],
      "text/plain": [
       "<IPython.core.display.HTML object>"
      ]
     },
     "execution_count": 15,
     "metadata": {},
     "output_type": "execute_result"
    }
   ],
   "source": [
    "# Visualize the topics\n",
    "pyLDAvis.enable_notebook()\n",
    "vis = pyLDAvis.gensim.prepare(lda_model, doc_term_matrix, dictionary)\n",
    "#vis\n",
    "pyLDAvis.display(vis)"
   ]
  },
  {
   "cell_type": "code",
   "execution_count": 16,
   "metadata": {},
   "outputs": [
    {
     "name": "stdout",
     "output_type": "stream",
     "text": [
      "\n",
      "Perplexity:  -8.26258348938944\n",
      "\n",
      "Coherence Score:  0.3954538065421478\n"
     ]
    }
   ],
   "source": [
    "# Metrics for the lda_model\n",
    "print('\\nPerplexity: ', lda_model.log_perplexity(doc_term_matrix,total_docs=10000))  \n",
    "\n",
    "# Compute Coherence Score\n",
    "from gensim.models.coherencemodel import CoherenceModel\n",
    "coherence_model_lda = CoherenceModel(model=lda_model, texts=tokenized_reviews, dictionary=dictionary , coherence='c_v')\n",
    "coherence_lda = coherence_model_lda.get_coherence()\n",
    "print('\\nCoherence Score: ', coherence_lda)"
   ]
  },
  {
   "cell_type": "markdown",
   "metadata": {},
   "source": [
    "## LAYERED SVM "
   ]
  },
  {
   "cell_type": "code",
   "execution_count": 17,
   "metadata": {},
   "outputs": [],
   "source": [
    "from sklearn.svm import SVC\n",
    "from sklearn.metrics import accuracy_score, classification_report\n",
    "from sklearn.model_selection import train_test_split"
   ]
  },
  {
   "cell_type": "code",
   "execution_count": 18,
   "metadata": {},
   "outputs": [],
   "source": [
    "topic_probs = []\n",
    "for doc_bow in doc_term_matrix:\n",
    "    doc_topics = lda_model.get_document_topics(doc_bow)\n",
    "    probs = [prob for _, prob in doc_topics]\n",
    "    topic_probs.append(probs)"
   ]
  },
  {
   "cell_type": "code",
   "execution_count": 19,
   "metadata": {},
   "outputs": [
    {
     "data": {
      "text/plain": [
       "[0.11633754, 0.17603818, 0.08750296, 0.45587328, 0.10174422]"
      ]
     },
     "execution_count": 19,
     "metadata": {},
     "output_type": "execute_result"
    }
   ],
   "source": [
    "# Length of topic_probs is num of texts in a document\n",
    "topic_probs[20]"
   ]
  },
  {
   "cell_type": "code",
   "execution_count": 20,
   "metadata": {},
   "outputs": [
    {
     "name": "stdout",
     "output_type": "stream",
     "text": [
      "2185\n",
      "2185\n"
     ]
    }
   ],
   "source": [
    "print(len(topic_probs))\n",
    "print(len(df_review.Classification))"
   ]
  },
  {
   "cell_type": "code",
   "execution_count": 21,
   "metadata": {},
   "outputs": [],
   "source": [
    "# Convert the topic probabilities and labels to numpy arrays\n",
    "X = pd.DataFrame(topic_probs).values\n",
    "X[np.isnan(X)] = 0  # Replace NaN values with zero\n",
    "y = df_review['Classification'].values"
   ]
  },
  {
   "cell_type": "code",
   "execution_count": 22,
   "metadata": {},
   "outputs": [],
   "source": [
    "# Split the data into training and testing sets\n",
    "X_train, X_test, y_train, y_test = train_test_split(X, y, test_size=0.2, random_state=42)\n",
    "\n",
    "# Train the SVM classifier\n",
    "svm = SVC(kernel='linear', C=1.0)\n",
    "svm.fit(X_train, y_train)\n",
    "\n",
    "# Make predictions on the test set\n",
    "y_pred = svm.predict(X_test)"
   ]
  },
  {
   "cell_type": "markdown",
   "metadata": {},
   "source": [
    "#### Add MOT as a feature for the SVM model"
   ]
  },
  {
   "cell_type": "code",
   "execution_count": 24,
   "metadata": {},
   "outputs": [
    {
     "name": "stdout",
     "output_type": "stream",
     "text": [
      "Accuracy: 0.32265446224256294\n",
      "Classification Report:\n",
      "                                       precision    recall  f1-score   support\n",
      "\n",
      "                        Approval Time       0.33      0.92      0.49       116\n",
      "                    Claims Adjustment       0.00      0.00      0.00         4\n",
      "                       Claims Payment       0.00      0.00      0.00         3\n",
      "                     Customer Service       1.00      0.03      0.05        38\n",
      "                        Drug Delivery       0.00      0.00      0.00         2\n",
      "                        Enrollee Card       0.00      0.00      0.00         4\n",
      "                  Gym/Wellness Access       0.00      0.00      0.00         3\n",
      "                         Hospital QoS       0.38      0.10      0.15        31\n",
      "Hospital/Pharmacy/Telemedicine Access       0.00      0.00      0.00         3\n",
      "                       Incorrect Data       0.00      0.00      0.00         1\n",
      "                        Inflow Update       0.00      0.00      0.00        28\n",
      "                        Interest Rate       0.00      0.00      0.00         7\n",
      "                          Liquidation       0.35      0.31      0.33        36\n",
      "                          NIID update       0.00      0.00      0.00         1\n",
      "                           Onboarding       0.18      0.71      0.29        14\n",
      "                      Payment Channel       0.00      0.00      0.00         1\n",
      "                  Policy Certificate        0.00      0.00      0.00         6\n",
      "                         Policy Cover       0.00      0.00      0.00        52\n",
      "                        Response time       0.46      0.16      0.24        37\n",
      "                     Service Delivery       0.00      0.00      0.00        22\n",
      "                 Statement of Account       0.00      0.00      0.00         4\n",
      "                 Technological Issues       0.75      0.15      0.25        20\n",
      "                Update Providers List       0.00      0.00      0.00         1\n",
      "           View Contribution Progress       0.00      0.00      0.00         1\n",
      "                       Wrongful Debit       0.00      0.00      0.00         2\n",
      "\n",
      "                             accuracy                           0.32       437\n",
      "                            macro avg       0.14      0.10      0.07       437\n",
      "                         weighted avg       0.31      0.32      0.21       437\n",
      "\n"
     ]
    },
    {
     "name": "stderr",
     "output_type": "stream",
     "text": [
      "c:\\Users\\bmelu-akekue\\AppData\\Local\\Programs\\Python\\Python311\\Lib\\site-packages\\sklearn\\metrics\\_classification.py:1344: UndefinedMetricWarning: Precision and F-score are ill-defined and being set to 0.0 in labels with no predicted samples. Use `zero_division` parameter to control this behavior.\n",
      "  _warn_prf(average, modifier, msg_start, len(result))\n",
      "c:\\Users\\bmelu-akekue\\AppData\\Local\\Programs\\Python\\Python311\\Lib\\site-packages\\sklearn\\metrics\\_classification.py:1344: UndefinedMetricWarning: Precision and F-score are ill-defined and being set to 0.0 in labels with no predicted samples. Use `zero_division` parameter to control this behavior.\n",
      "  _warn_prf(average, modifier, msg_start, len(result))\n",
      "c:\\Users\\bmelu-akekue\\AppData\\Local\\Programs\\Python\\Python311\\Lib\\site-packages\\sklearn\\metrics\\_classification.py:1344: UndefinedMetricWarning: Precision and F-score are ill-defined and being set to 0.0 in labels with no predicted samples. Use `zero_division` parameter to control this behavior.\n",
      "  _warn_prf(average, modifier, msg_start, len(result))\n"
     ]
    }
   ],
   "source": [
    "from sklearn.preprocessing import LabelEncoder\n",
    "\n",
    "# Convert the topic probabilities to a DataFrame with string column names\n",
    "X_lda = pd.DataFrame(topic_probs).values\n",
    "X_lda[np.isnan(X_lda)] = 0  # Replace NaN values with zero\n",
    "\n",
    "# Encode the categorical feature 'category' using label encoding\n",
    "label_encoder = LabelEncoder()\n",
    "df_review['Type_encoded'] = label_encoder.fit_transform(df_review['Type'])\n",
    "# Convert the encoded categorical feature to a DataFrame\n",
    "X_category_encoded = pd.DataFrame(df_review['Type_encoded'], columns=['Type_encoded'])\n",
    "\n",
    "# Combine LDA features and the encoded categorical feature\n",
    "X = pd.concat([pd.DataFrame(X_lda), X_category_encoded], axis=1)\n",
    "# Convert column names to strings\n",
    "X.columns = X.columns.astype(str)\n",
    "\n",
    "# Set the target variable\n",
    "y = df_review['Classification'].values\n",
    "\n",
    "# Split the data into training and testing sets\n",
    "X_train, X_test, y_train, y_test = train_test_split(X, y, test_size=0.2, random_state=42)\n",
    "\n",
    "# Train the SVM classifier\n",
    "svm = SVC(kernel='linear', C=1.0)\n",
    "svm.fit(X_train, y_train)\n",
    "\n",
    "# Make predictions on the test set\n",
    "y_pred = svm.predict(X_test)\n",
    "\n",
    "# Evaluate the SVM classifier\n",
    "accuracy = accuracy_score(y_test, y_pred)\n",
    "report = classification_report(y_test, y_pred)\n",
    "\n",
    "# Print the evaluation results\n",
    "print('Accuracy:', accuracy)\n",
    "print('Classification Report:')\n",
    "print(report)"
   ]
  },
  {
   "cell_type": "code",
   "execution_count": 25,
   "metadata": {},
   "outputs": [
    {
     "data": {
      "text/plain": [
       "['svm_model_v2.pkl']"
      ]
     },
     "execution_count": 25,
     "metadata": {},
     "output_type": "execute_result"
    }
   ],
   "source": [
    "# save the svm model\n",
    "import joblib\n",
    "model_filename = \"svm_model_v2.pkl\"\n",
    "joblib.dump(svm, model_filename)"
   ]
  },
  {
   "cell_type": "code",
   "execution_count": 26,
   "metadata": {},
   "outputs": [],
   "source": [
    "# Load the SVM model\n",
    "svm_model_loaded = joblib.load('svm_model_v2.pkl')"
   ]
  },
  {
   "cell_type": "code",
   "execution_count": 27,
   "metadata": {},
   "outputs": [],
   "source": [
    "# Using this to test code below\n",
    "test_sample = df_review[['Review', 'Type']][:400]\n",
    "\n",
    "# Data used to check accuracy against predicted labels\n",
    "correct_preds = df_review[['Review', 'Classification']][:400]"
   ]
  },
  {
   "cell_type": "code",
   "execution_count": 28,
   "metadata": {},
   "outputs": [],
   "source": [
    "# Function to preprocess the new reviews and get LDA topic probabilities\n",
    "def preprocess_new_reviews(new_reviews):\n",
    "    # Make use of clean_text, remove_stopwords\n",
    "    new_reviews.Review.apply(clean_text, preserved_words=preserved_words)\n",
    "    new_reviews.Review.apply(remove_stopwords)\n",
    "    listed = new_reviews['Review'].tolist()\n",
    "    tokenized_new_reviews = lemmatization(listed)\n",
    "    dictionary = corpora.Dictionary(tokenized_new_reviews)\n",
    "\n",
    "    # Create a bag-of-words corpus for the new_reviews\n",
    "    corpus = [dictionary.doc2bow(doc) for doc in tokenized_new_reviews]\n",
    "\n",
    "    # Get LDA topic probabilities for the new_reviews\n",
    "    topic_probs = []\n",
    "    for doc_bow in corpus:\n",
    "        doc_topics = lda_model.get_document_topics(doc_bow)\n",
    "        probs = [prob for _, prob in doc_topics]\n",
    "        topic_probs.append(probs)\n",
    "    \n",
    "    X_data = pd.DataFrame(topic_probs).values\n",
    "    X_data[np.isnan(X_data)] = 0  # Replace NaN values with zero\n",
    "\n",
    "    return X_data"
   ]
  },
  {
   "cell_type": "code",
   "execution_count": 29,
   "metadata": {},
   "outputs": [],
   "source": [
    "# Function to classify new reviews using SVM model\n",
    "def classify_new_reviews(new_reviews_lda_probs, new_reviews_type):\n",
    "    # Combine LDA features (new_reviews_lda_probs) with encoded 'Type' feature\n",
    "    X_combined_features = pd.concat([pd.DataFrame(new_reviews_lda_probs), new_reviews_type], axis=1)\n",
    "    # Convert column names to strings\n",
    "    X_combined_features.columns = X_combined_features.columns.astype(str)\n",
    "    # Replace NaN values with zero\n",
    "    X_combined_features.fillna(0, inplace=True)\n",
    "\n",
    "    # Make predictions using the SVM model\n",
    "    predictions = svm.predict(X_combined_features)\n",
    "    \n",
    "    return predictions"
   ]
  },
  {
   "cell_type": "code",
   "execution_count": 30,
   "metadata": {},
   "outputs": [
    {
     "name": "stdout",
     "output_type": "stream",
     "text": [
      "Shape of x_data: (400, 2)\n",
      "                                                Review                 Type  \\\n",
      "0    withdrawal process getting slower day someone ...   Investment I Claim   \n",
      "1                                           team isn’t   Investment I Renew   \n",
      "2    system failure frequent wait hours portal down...       Health I Claim   \n",
      "3    staff isobel rude attitude needs trained custo...       Health I Claim   \n",
      "4    settlement customers claim riddled forth back ...        Motor I Claim   \n",
      "..                                                 ...                  ...   \n",
      "395                                      response slow       Health I Claim   \n",
      "396                            response team slow poor       Health I Claim   \n",
      "397              redemption took long used much faster   Investment I Claim   \n",
      "398  recently response timing terrible coupled inve...         Health I Buy   \n",
      "399  recently liquidated account asking took foreve...   Investment I Claim   \n",
      "\n",
      "      Predicted Label  \n",
      "0       Approval Time  \n",
      "1       Response time  \n",
      "2       Approval Time  \n",
      "3        Hospital QoS  \n",
      "4    Service Delivery  \n",
      "..                ...  \n",
      "395     Approval Time  \n",
      "396     Approval Time  \n",
      "397       Liquidation  \n",
      "398        Onboarding  \n",
      "399       Liquidation  \n",
      "\n",
      "[400 rows x 3 columns]\n"
     ]
    }
   ],
   "source": [
    "new_reviews = test_sample\n",
    "\n",
    "# Preprocess the new reviews and get LDA topic probabilities\n",
    "lda_probs_new_reviews = preprocess_new_reviews(new_reviews)\n",
    "print(\"Shape of x_data:\", new_reviews.shape)\n",
    "lda_probs_new_reviews[np.isnan(lda_probs_new_reviews)] = 0  # Replace NaN values with zero\n",
    "\n",
    "# Sample new 'Type' values for the new reviews (replace this with actual data)\n",
    "new_reviews_type = new_reviews.Type\n",
    "\n",
    "# Encode the 'Type' feature using LabelEncoder\n",
    "encoded_new_reviews_type = label_encoder.transform(new_reviews_type)\n",
    "new_reviews_type_df = pd.DataFrame(encoded_new_reviews_type, columns=['Type_encoded'])\n",
    "\n",
    "# Classify the new reviews using SVM model\n",
    "predicted_labels = classify_new_reviews(lda_probs_new_reviews, new_reviews_type_df)\n",
    "\n",
    "# Print the results\n",
    "results_df = pd.DataFrame({\n",
    "    'Review': new_reviews['Review'],\n",
    "    'Type': new_reviews['Type'],\n",
    "    'Predicted Label': predicted_labels\n",
    "})\n",
    "print(results_df)\n",
    "\n",
    "# # Read to excel file\n",
    "# file_path = 'output.xlsx'\n",
    "# results_df.to_excel(file_path, index=False)"
   ]
  },
  {
   "cell_type": "code",
   "execution_count": 35,
   "metadata": {},
   "outputs": [
    {
     "name": "stdout",
     "output_type": "stream",
     "text": [
      "Accuracy: 0.36428571428571427\n"
     ]
    }
   ],
   "source": [
    "# ACCURACY OF MODEL WITHOUT POST-PROCESSING\n",
    "\n",
    "# Combine the predicted labels and the original reviews data\n",
    "check_df = pd.DataFrame({\n",
    "    'Review': df_review['Review'][:400], # I have to use preprocessed, unless data won't merge correctly\n",
    "    'Predicted Label': predicted_labels\n",
    "})\n",
    "\n",
    "# Merge with the corrected predicted labels to get the actual labels for comparison\n",
    "check_df = check_df.merge(correct_preds, on='Review', suffixes=('_predicted', '_corrected'))\n",
    "\n",
    "# Calculate the accuracy\n",
    "accuracy = (check_df['Predicted Label'] == check_df['Classification']).mean()\n",
    "\n",
    "print('Accuracy:', accuracy)\n",
    "\n",
    "# Save the results to an Excel file\n",
    "check_df.to_excel('no_heuristics.xlsx', index=False)"
   ]
  },
  {
   "cell_type": "markdown",
   "metadata": {},
   "source": [
    "#### ADDING POST-PROCESSING TO SEE HOW IT AFFECTS THE ACCURACY"
   ]
  },
  {
   "cell_type": "code",
   "execution_count": 32,
   "metadata": {},
   "outputs": [],
   "source": [
    "# Trying to Hard-code some words to some labels ## Rule-based post-processing OR heuristics-based correction\n",
    "def adjust_predicted_label(review_text, predicted_label):\n",
    "    # Define keywords and their associated new labels\n",
    "    keyword_labels = {\n",
    "        'Technological Issues': {'app', 'software', 'update', 'bug', 'crash', 'error', 'glitch', 'slow', 'lag', 'freeze', 'dashboard', 'application', 'chatbot', 'website'},\n",
    "        'Claim Adjustment': {'settlement', 'claims', 'claim'},\n",
    "        'Delayed Liquidation': {'withdrawal', 'redemption', 'account', 'liquidation', 'investment'},\n",
    "        'Policy Cover': {'bill', 'coverage', 'plan', 'HMO'},\n",
    "        'Approval Delay': {'approval', 'confirmation'},\n",
    "        'Interest Rate': {'interest', 'rate'},\n",
    "        'Hospital QoS': {'hospital', 'clinics', 'doctor', 'doctors', 'drugs', 'drug', 'admit', 'dental', 'healthcare', 'care', 'prescription', 'prescribe'},\n",
    "        'Gym/Wellness Access': {'gym', 'fitness'},\n",
    "        'Slow Onboarding': {'plan', 'onboard'},\n",
    "        'Enrollee Card Delay': {'card'},\n",
    "        'Delayed Inflow Update': {'inflow'}, # New ones are under\n",
    "        \n",
    "        # Add more labels and their corresponding sets of keywords as needed\n",
    "    }\n",
    "\n",
    "    # Tokenize the review text\n",
    "    review_tokens = review_text.lower().split() # Converts all to lowercase\n",
    "\n",
    "    # Check if any keyword is present in the review text\n",
    "    for label, keywords in keyword_labels.items():\n",
    "        if any(keyword in review_tokens for keyword in keywords):\n",
    "            return label\n",
    "\n",
    "    # If no keyword is found, return the original predicted label\n",
    "    return predicted_label"
   ]
  },
  {
   "cell_type": "code",
   "execution_count": 33,
   "metadata": {},
   "outputs": [],
   "source": [
    "# Create an empty list to store the adjusted labels\n",
    "adjusted_labels = []\n",
    "\n",
    "review_texts = test_sample.Review\n",
    "\n",
    "# Iterate through each review text and predicted label\n",
    "for review_text, predicted_label in zip(review_texts, predicted_labels):\n",
    "    # Apply the adjust_predicted_label function to get the adjusted label\n",
    "    adjusted_label = adjust_predicted_label(review_text, predicted_label)\n",
    "    \n",
    "    # Append the adjusted label to the list\n",
    "    adjusted_labels.append(adjusted_label)\n",
    "\n",
    "# Convert the list of adjusted labels back to a pandas Series\n",
    "adjusted_labels_series = pd.Series(adjusted_labels)\n",
    "\n",
    "# Create a DataFrame to store the data\n",
    "data_adj = pd.DataFrame({\n",
    "    'Review Text': review_texts,\n",
    "    'Predicted Labels': predicted_labels,\n",
    "    'Adjusted Labels': adjusted_labels_series\n",
    "})\n",
    "\n",
    "# Save the DataFrame to an Excel file\n",
    "#data_adj.to_excel('adjusted.xlsx', index=False)"
   ]
  },
  {
   "cell_type": "code",
   "execution_count": 34,
   "metadata": {},
   "outputs": [
    {
     "name": "stdout",
     "output_type": "stream",
     "text": [
      "Accuracy: 0.2075\n"
     ]
    }
   ],
   "source": [
    "# Compare Accuracy of adjusted label against original labels (With Heuristics)\n",
    "# Combine the predicted labels and the original reviews data\n",
    "check_adj = pd.DataFrame({\n",
    "    'Review': df_review['Review'][:400], # I have to use preprocessed, unless data won't merge correctly\n",
    "    'Actual Labels': df_review['Classification'][:400],\n",
    "    'Adjusted Labels': adjusted_labels_series,\n",
    "})\n",
    "\n",
    "# Calculate the accuracy\n",
    "accuracy = (check_adj['Actual Labels'] == check_adj['Adjusted Labels']).mean()\n",
    "\n",
    "print('Accuracy:', accuracy)\n",
    "\n",
    "# Save the results to an Excel file\n",
    "#check_adj.to_excel('check_adj.xlsx', index=False)"
   ]
  },
  {
   "cell_type": "code",
   "execution_count": null,
   "metadata": {},
   "outputs": [],
   "source": []
  }
 ],
 "metadata": {
  "kernelspec": {
   "display_name": "Python 3",
   "language": "python",
   "name": "python3"
  },
  "language_info": {
   "codemirror_mode": {
    "name": "ipython",
    "version": 3
   },
   "file_extension": ".py",
   "mimetype": "text/x-python",
   "name": "python",
   "nbconvert_exporter": "python",
   "pygments_lexer": "ipython3",
   "version": "3.11.3"
  },
  "orig_nbformat": 4
 },
 "nbformat": 4,
 "nbformat_minor": 2
}
