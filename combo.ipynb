{
 "cells": [
  {
   "cell_type": "code",
   "execution_count": 1,
   "metadata": {},
   "outputs": [],
   "source": [
    "# Import libraries\n",
    "from wordcloud import WordCloud\n",
    "import pandas as pd\n",
    "import numpy as np\n",
    "import re\n",
    "import string\n",
    "import spacy\n",
    "import gensim\n",
    "from gensim import corpora\n",
    "\n",
    "# libraries for visualization\n",
    "import pyLDAvis\n",
    "import pyLDAvis.gensim\n",
    "import matplotlib.pyplot as plt\n",
    "import seaborn as sns\n",
    "%matplotlib inline"
   ]
  },
  {
   "cell_type": "code",
   "execution_count": 2,
   "metadata": {},
   "outputs": [],
   "source": [
    "# Replace with name of file with customer reviews\n",
    "my_file_name = \"Customer Feedback Analysis H1 (1).xlsx\""
   ]
  },
  {
   "cell_type": "code",
   "execution_count": 3,
   "metadata": {},
   "outputs": [
    {
     "name": "stdout",
     "output_type": "stream",
     "text": [
      "        Date  Rating                 Type  \\\n",
      "0 2023-04-30       2   Investment I Claim   \n",
      "1 2023-02-23       1   Investment I Renew   \n",
      "\n",
      "                                              Review         Classification  \n",
      "0  Your withdrawal process is getting slower by t...    Delayed Liquidation  \n",
      "1                    Your team isn’t doing their job  Poor Customer Service  \n",
      "1828\n"
     ]
    }
   ],
   "source": [
    "# Load the csv file into the dataframe\n",
    "review_data = pd.read_excel(my_file_name)\n",
    "print(review_data.head(2))\n",
    "print(len(review_data))"
   ]
  },
  {
   "cell_type": "code",
   "execution_count": 4,
   "metadata": {},
   "outputs": [
    {
     "name": "stdout",
     "output_type": "stream",
     "text": [
      "Your App doesn't work in UK.  I am currently there and cannot use App to make my contributions.\n"
     ]
    }
   ],
   "source": [
    "# Make a copy of the original data to run it through my model FOR loop\n",
    "original_data = pd.read_excel(my_file_name)\n",
    "print(original_data['Review'][61])"
   ]
  },
  {
   "cell_type": "code",
   "execution_count": 6,
   "metadata": {},
   "outputs": [],
   "source": [
    "# Function to clean the text\n",
    "import nltk\n",
    "\n",
    "def clean_text(text, preserved_words=None):\n",
    "    if preserved_words is None:\n",
    "        preserved_words = []  # If no preserved_words list is provided, initialize an empty list\n",
    "    \n",
    "    # Tokenize the text\n",
    "    text_tokens = text.split()\n",
    "    \n",
    "    # Combine tokens back into a cleaned sentence while preserving specific words\n",
    "    cleaned_tokens = []\n",
    "    for token in text_tokens:\n",
    "        # Check if the token is a preserved word (ignoring case)\n",
    "        if any(token.lower() == word.lower() for word in preserved_words):\n",
    "            cleaned_tokens.append(token)\n",
    "        else:\n",
    "            # Filter out unwanted words based on length and digits\n",
    "            if not (token.isdigit() or len(token) <= 3):\n",
    "                # Remove punctuation from non-preserved words\n",
    "                cleaned_token = token.translate(str.maketrans('', '', string.punctuation))\n",
    "                if cleaned_token:  # Check if the cleaned token is not empty\n",
    "                    cleaned_tokens.append(cleaned_token)\n",
    "    \n",
    "    cleaned_text = ' '.join(cleaned_tokens)\n",
    "    return cleaned_text.lower()\n"
   ]
  },
  {
   "cell_type": "code",
   "execution_count": 7,
   "metadata": {},
   "outputs": [
    {
     "name": "stdout",
     "output_type": "stream",
     "text": [
      "-------Dataset-------\n",
      "Rating\n",
      "3    750\n",
      "1    553\n",
      "2    468\n",
      "4     40\n",
      "5     17\n",
      "Name: count, dtype: int64\n",
      "1828\n",
      "your app doesnt work currently there cannot app make contributions\n"
     ]
    }
   ],
   "source": [
    "# More preprocessing on the data\n",
    "review_data.dropna(axis=0, how='any', inplace=True)\n",
    "\n",
    "preserved_words = ['app']\n",
    "review_data['Review'] = review_data['Review'].apply(clean_text, preserved_words=preserved_words)\n",
    "\n",
    "print('-------Dataset-------')\n",
    "print(review_data['Rating'].value_counts())\n",
    "print(len(review_data))\n",
    "\n",
    "print(review_data['Review'][61])"
   ]
  },
  {
   "cell_type": "code",
   "execution_count": 8,
   "metadata": {},
   "outputs": [],
   "source": [
    "# Make a copy of the review data\n",
    "df_review = review_data.copy()\n",
    "\n",
    "from nltk.corpus import stopwords\n",
    "stop_words = stopwords.words('english')\n",
    "# function to remove stopwords\n",
    "def remove_stopwords(text):\n",
    "    textArr = text.split(' ')\n",
    "    rem_text = \" \".join([i for i in textArr if i not in stop_words])\n",
    "    return rem_text\n",
    "\n",
    "# remove stopwords from the text\n",
    "df_review['Review']=df_review['Review'].apply(remove_stopwords)"
   ]
  },
  {
   "cell_type": "code",
   "execution_count": 9,
   "metadata": {},
   "outputs": [],
   "source": [
    "# Function for lemmatization\n",
    "nlp = spacy.load('en_core_web_md', disable=['parser', 'ner'])\n",
    "\n",
    "def lemmatization(texts,allowed_postags=['NOUN', 'ADJ']): \n",
    "       output = []\n",
    "       for sent in texts:\n",
    "             doc = nlp(sent) \n",
    "             output.append([token.lemma_ for token in doc if token.pos_ in allowed_postags ])\n",
    "       return output"
   ]
  },
  {
   "cell_type": "code",
   "execution_count": 10,
   "metadata": {},
   "outputs": [
    {
     "name": "stdout",
     "output_type": "stream",
     "text": [
      "['team']\n"
     ]
    },
    {
     "data": {
      "text/plain": [
       "['withdrawal process getting slower day someone emergency request withdrawal anymore',\n",
       " 'team isn’t',\n",
       " 'system failure frequent wait hours portal downtime slow response hospital approval requests better please',\n",
       " 'staff isobel rude attitude needs trained customer service',\n",
       " 'settlement customers claim riddled forth back arguments accompanied stress']"
      ]
     },
     "execution_count": 10,
     "metadata": {},
     "output_type": "execute_result"
    }
   ],
   "source": [
    "text_list = df_review['Review'].tolist()\n",
    "\n",
    "# Tokenize the words and show sample\n",
    "tokenized_reviews = lemmatization(text_list)\n",
    "print(tokenized_reviews[1])\n",
    "\n",
    "# Check how the tex_list looks\n",
    "text_list[:5]"
   ]
  },
  {
   "cell_type": "code",
   "execution_count": 11,
   "metadata": {},
   "outputs": [],
   "source": [
    "# Create Matrix Dictionary\n",
    "dictionary = corpora.Dictionary(tokenized_reviews)\n",
    "doc_term_matrix = [dictionary.doc2bow(rev) for rev in tokenized_reviews]"
   ]
  },
  {
   "cell_type": "code",
   "execution_count": 12,
   "metadata": {},
   "outputs": [
    {
     "name": "stdout",
     "output_type": "stream",
     "text": [
      "[[('day', 1), ('emergency', 1), ('process', 1), ('request', 1), ('slow', 1), ('withdrawal', 2)], [('team', 1)], [('request', 1), ('slow', 1), ('approval', 1), ('downtime', 1), ('failure', 1), ('frequent', 1), ('hospital', 1), ('hour', 1), ('portal', 1), ('response', 1), ('system', 1), ('wait', 1)], [('attitude', 1), ('customer', 1), ('rude', 1), ('service', 1)], [('customer', 1), ('argument', 1), ('settlement', 1), ('stress', 1)], [('service', 1), ('poor', 1), ('yesterday', 1)], [('customer', 1), ('service', 1), ('client', 1), ('experience', 1), ('fast', 1), ('good', 1), ('guy', 1), ('guysnwill', 1), ('home', 1), ('leg', 1), ('men', 1), ('previous', 1), ('quarter', 1), ('think', 1), ('yearsmh', 1)], [('service', 2), ('poor', 1), ('platform', 1), ('prompt', 1)], [('service', 1)], [('request', 1), ('response', 1), ('poor', 1), ('account', 1), ('clientservice', 1), ('email', 1), ('last', 1), ('mail', 1), ('staff', 1), ('week', 1)]]\n"
     ]
    }
   ],
   "source": [
    "# We can view the words by using the dictionary\n",
    "# View words in 10 documents in the matrix\n",
    "id_words = [[(dictionary[id], count) for id, count in line] for line in doc_term_matrix[0:10]]\n",
    "print(id_words)"
   ]
  },
  {
   "cell_type": "code",
   "execution_count": 13,
   "metadata": {},
   "outputs": [],
   "source": [
    "# Creating the object for LDA model using gensim library\n",
    "LDA = gensim.models.ldamodel.LdaModel\n",
    "\n",
    "# Build LDA model with 20 topics\n",
    "lda_model = LDA(corpus=doc_term_matrix, id2word=dictionary, num_topics=20, random_state=100,\n",
    "                chunksize=1000, passes=50,iterations=100)"
   ]
  },
  {
   "cell_type": "code",
   "execution_count": 14,
   "metadata": {},
   "outputs": [],
   "source": [
    "# Dump and load model\n",
    "from gensim.models import LdaModel\n",
    "# Assume 'lda_model' is your trained LDA model\n",
    "saved_lda = \"lda_model_saved\"\n",
    "lda_model.save(saved_lda)\n",
    "\n",
    "# Load the saved LDA model\n",
    "lda_model_load = LdaModel.load(saved_lda)"
   ]
  },
  {
   "cell_type": "code",
   "execution_count": 15,
   "metadata": {},
   "outputs": [
    {
     "data": {
      "text/plain": [
       "[(0,\n",
       "  '0.202*\"service\" + 0.131*\"customer\" + 0.119*\"poor\" + 0.033*\"response\" + 0.031*\"time\" + 0.021*\"satisfied\" + 0.014*\"treatment\" + 0.013*\"certificate\" + 0.013*\"issue\" + 0.013*\"office\"'),\n",
       " (1,\n",
       "  '0.232*\"liquidation\" + 0.064*\"much\" + 0.052*\"deposit\" + 0.036*\"staff\" + 0.036*\"time\" + 0.020*\"long\" + 0.019*\"important\" + 0.018*\"hard\" + 0.016*\"partial\" + 0.014*\"website\"'),\n",
       " (2,\n",
       "  '0.061*\"interest\" + 0.054*\"investment\" + 0.046*\"communication\" + 0.038*\"need\" + 0.034*\"platform\" + 0.029*\"person\" + 0.028*\"rate\" + 0.026*\"information\" + 0.025*\"client\" + 0.024*\"dissatisfied\"'),\n",
       " (3,\n",
       "  '0.147*\"money\" + 0.136*\"account\" + 0.097*\"fund\" + 0.037*\"market\" + 0.036*\"payment\" + 0.033*\"investment\" + 0.033*\"day\" + 0.031*\"redemption\" + 0.030*\"today\" + 0.024*\"week\"'),\n",
       " (4,\n",
       "  '0.102*\"payment\" + 0.055*\"claim\" + 0.031*\"wife\" + 0.025*\"terrible\" + 0.021*\"fact\" + 0.020*\"experience\" + 0.019*\"work\" + 0.019*\"happy\" + 0.018*\"week\" + 0.016*\"first\"'),\n",
       " (5,\n",
       "  '0.081*\"delay\" + 0.050*\"time\" + 0.042*\"case\" + 0.038*\"response\" + 0.035*\"hospital\" + 0.032*\"necessary\" + 0.032*\"code\" + 0.023*\"unnecessary\" + 0.023*\"unable\" + 0.021*\"system\"'),\n",
       " (6,\n",
       "  '0.199*\"hospital\" + 0.061*\"drug\" + 0.055*\"mansard\" + 0.050*\"service\" + 0.024*\"thank\" + 0.024*\"patient\" + 0.022*\"doctor\" + 0.018*\"response\" + 0.018*\"pharmacy\" + 0.017*\"list\"'),\n",
       " (7,\n",
       "  '0.140*\"test\" + 0.054*\"check\" + 0.039*\"state\" + 0.037*\"annual\" + 0.028*\"part\" + 0.024*\"basic\" + 0.023*\"eye\" + 0.018*\"blood\" + 0.018*\"picture\" + 0.016*\"phone\"'),\n",
       " (8,\n",
       "  '0.095*\"care\" + 0.052*\"service\" + 0.048*\"health\" + 0.038*\"medical\" + 0.034*\"access\" + 0.032*\"customer\" + 0.030*\"mansard\" + 0.023*\"hospital\" + 0.020*\"call\" + 0.019*\"staff\"'),\n",
       " (9,\n",
       "  '0.153*\"time\" + 0.130*\"response\" + 0.125*\"request\" + 0.066*\"process\" + 0.056*\"slow\" + 0.043*\"approval\" + 0.015*\"staff\" + 0.014*\"emergency\" + 0.012*\"mansard\" + 0.012*\"satisfied\"'),\n",
       " (10,\n",
       "  '0.057*\"service\" + 0.050*\"delivery\" + 0.036*\"issue\" + 0.031*\"sick\" + 0.029*\"dental\" + 0.024*\"child\" + 0.019*\"reason\" + 0.019*\"platinum\" + 0.019*\"high\" + 0.019*\"attention\"'),\n",
       " (11,\n",
       "  '0.056*\"last\" + 0.051*\"week\" + 0.049*\"confirmation\" + 0.032*\"drug\" + 0.031*\"facility\" + 0.030*\"disappointing\" + 0.028*\"appointment\" + 0.026*\"recent\" + 0.025*\"level\" + 0.023*\"thing\"'),\n",
       " (12,\n",
       "  '0.102*\"patient\" + 0.061*\"axamansard\" + 0.049*\"treatment\" + 0.033*\"time\" + 0.031*\"improvement\" + 0.029*\"authorization\" + 0.025*\"quality\" + 0.023*\"colleague\" + 0.022*\"well\" + 0.017*\"room\"'),\n",
       " (13,\n",
       "  '0.081*\"number\" + 0.063*\"email\" + 0.034*\"mansard\" + 0.032*\"inflow\" + 0.030*\"phone\" + 0.029*\"team\" + 0.029*\"package\" + 0.027*\"registration\" + 0.026*\"contact\" + 0.025*\"plan\"'),\n",
       " (14,\n",
       "  '0.144*\"call\" + 0.075*\"several\" + 0.067*\"feedback\" + 0.033*\"email\" + 0.022*\"mail\" + 0.018*\"timely\" + 0.017*\"wrong\" + 0.017*\"phone\" + 0.013*\"month\" + 0.013*\"client\"'),\n",
       " (15,\n",
       "  '0.036*\"centre\" + 0.036*\"company\" + 0.034*\"different\" + 0.030*\"hospital\" + 0.020*\"time\" + 0.019*\"personal\" + 0.019*\"visit\" + 0.019*\"cost\" + 0.018*\"survey\" + 0.018*\"change\"'),\n",
       " (16,\n",
       "  '0.258*\"approval\" + 0.107*\"hospital\" + 0.104*\"time\" + 0.085*\"hour\" + 0.041*\"drug\" + 0.032*\"medication\" + 0.030*\"long\" + 0.020*\"wait\" + 0.015*\"well\" + 0.013*\"doctor\"'),\n",
       " (17,\n",
       "  '0.050*\"insurance\" + 0.048*\"year\" + 0.042*\"life\" + 0.042*\"policy\" + 0.039*\"month\" + 0.028*\"frame\" + 0.026*\"prescription\" + 0.025*\"health\" + 0.023*\"bad\" + 0.023*\"medication\"'),\n",
       " (18,\n",
       "  '0.072*\"app\" + 0.070*\"account\" + 0.049*\"mail\" + 0.036*\"policy\" + 0.027*\"bank\" + 0.027*\"balance\" + 0.024*\"statement\" + 0.021*\"payment\" + 0.020*\"mansard\" + 0.019*\"monthly\"'),\n",
       " (19,\n",
       "  '0.098*\"people\" + 0.084*\"good\" + 0.056*\"guy\" + 0.037*\"able\" + 0.034*\"hmo\" + 0.020*\"withdrawal\" + 0.015*\"fast\" + 0.015*\"human\" + 0.014*\"provision\" + 0.013*\"private\"')]"
      ]
     },
     "execution_count": 15,
     "metadata": {},
     "output_type": "execute_result"
    }
   ],
   "source": [
    "# Display model Topics\n",
    "lda_model.print_topics()"
   ]
  },
  {
   "cell_type": "code",
   "execution_count": 16,
   "metadata": {},
   "outputs": [
    {
     "data": {
      "text/html": [
       "\n",
       "<link rel=\"stylesheet\" type=\"text/css\" href=\"https://cdn.jsdelivr.net/gh/bmabey/pyLDAvis@3.4.0/pyLDAvis/js/ldavis.v1.0.0.css\">\n",
       "\n",
       "\n",
       "<div id=\"ldavis_el3156026065480391847229989517\" style=\"background-color:white;\"></div>\n",
       "<script type=\"text/javascript\">\n",
       "\n",
       "var ldavis_el3156026065480391847229989517_data = {\"mdsDat\": {\"x\": [0.0025991320848379918, -0.16727695869844034, -0.012042805530319346, -0.2806526714006514, 0.19874651912769367, -0.18579803556204824, 0.1515785627248761, 0.04116782253588732, 0.13457747496798303, 0.07455415531260806, -0.0053396275674848555, 0.08849290294661032, 0.12485249112365057, -0.0874185309883733, 0.04780308266747227, -0.1533138092601855, 0.007171282417465991, 0.03321597483189403, 0.00939010554897567, -0.022307067282451933], \"y\": [0.25394589608915236, 0.1829764611281614, 0.19864677975267633, -0.05241705304925718, 0.04307364989182743, -0.054026202725869686, -0.049911292413964525, 0.05564153816600428, -0.03063793478449821, 0.018665372865408043, 0.09508384396584334, -0.05935769161105293, -0.00759901742648365, -0.08028975984170748, -0.07157128078147787, -0.06789752565708866, -0.029660461929164113, -0.10975002563346913, -0.05184383235239905, -0.18307146365263988], \"topics\": [1, 2, 3, 4, 5, 6, 7, 8, 9, 10, 11, 12, 13, 14, 15, 16, 17, 18, 19, 20], \"cluster\": [1, 1, 1, 1, 1, 1, 1, 1, 1, 1, 1, 1, 1, 1, 1, 1, 1, 1, 1, 1], \"Freq\": [10.461651688641814, 9.978953800019994, 7.017249910375758, 6.613613035986197, 6.127931943903111, 6.127187110913158, 6.020928584874866, 5.7574625456788215, 4.126060629231949, 4.038212321890471, 3.955907964650284, 3.918557746249096, 3.9070737003906375, 3.6907867591848915, 3.49968105842477, 3.4958777199304514, 3.270264332830091, 2.9813460576777584, 2.626605017401149, 2.3846480717447305]}, \"tinfo\": {\"Term\": [\"approval\", \"service\", \"hospital\", \"account\", \"money\", \"time\", \"customer\", \"response\", \"care\", \"poor\", \"liquidation\", \"call\", \"request\", \"test\", \"payment\", \"patient\", \"fund\", \"drug\", \"hour\", \"good\", \"mansard\", \"number\", \"app\", \"people\", \"health\", \"process\", \"email\", \"investment\", \"delay\", \"feedback\", \"care\", \"procedure\", \"card\", \"cheap\", \"optical\", \"family\", \"tomorrow\", \"member\", \"usual\", \"leave\", \"bill\", \"coverage\", \"lab\", \"side\", \"repair\", \"book\", \"baby\", \"regular\", \"access\", \"nthe\", \"failure\", \"aspect\", \"healthcare\", \"wide\", \"medical\", \"additional\", \"ground\", \"receptionist\", \"job\", \"responsiveness\", \"pocket\", \"personnel\", \"health\", \"reply\", \"line\", \"staff\", \"clinic\", \"glass\", \"customer\", \"service\", \"insurance\", \"mansard\", \"call\", \"facility\", \"plan\", \"number\", \"need\", \"hospital\", \"contact\", \"agent\", \"provider\", \"treatment\", \"good\", \"issue\", \"diagnostic\", \"matter\", \"referral\", \"list\", \"specialist\", \"center\", \"thank\", \"result\", \"meet\", \"prompt\", \"arrangement\", \"social\", \"upgrade\", \"machine\", \"nice\", \"lagoon\", \"speak\", \"accountability\", \"range\", \"irrespective\", \"location\", \"preferred\", \"small\", \"previous\", \"close\", \"unfortunate\", \"pharmacy\", \"notice\", \"info\", \"engagement\", \"hospital\", \"drug\", \"doctor\", \"mansard\", \"visit\", \"confirmation\", \"patient\", \"provider\", \"enrollee\", \"service\", \"agent\", \"good\", \"test\", \"plan\", \"many\", \"response\", \"health\", \"hour\", \"issue\", \"day\", \"quality\", \"app\", \"time\", \"poor\", \"support\", \"follow\", \"satisfactory\", \"annoying\", \"representative\", \"free\", \"enrolment\", \"fine\", \"appalling\", \"chat\", \"manzard\", \"observation\", \"method\", \"approach\", \"rep\", \"overall\", \"nthank\", \"perspective\", \"dispensation\", \"liquidating\", \"toll\", \"banking\", \"maxard\", \"automatic\", \"arm\", \"customer\", \"inquiry\", \"certificate\", \"onboarding\", \"office\", \"satisfied\", \"quick\", \"service\", \"organization\", \"answer\", \"problem\", \"benefit\", \"difficulty\", \"operation\", \"disappointed\", \"response\", \"team\", \"time\", \"treatment\", \"feedback\", \"issue\", \"mail\", \"client\", \"experience\", \"email\", \"year\", \"company\", \"need\", \"turnaround\", \"intervention\", \"expensive\", \"approval\", \"couple\", \"behalf\", \"authorisation\", \"enrolee\", \"mine\", \"effective\", \"addition\", \"wait\", \"unbranded\", \"image\", \"hour\", \"giving\", \"key\", \"development\", \"timeliness\", \"wear\", \"dermatology\", \"unsatisfactory\", \"disgusting\", \"vendor\", \"early\", \"basis\", \"sad\", \"respect\", \"medication\", \"suitable\", \"long\", \"time\", \"hospital\", \"drug\", \"well\", \"limit\", \"period\", \"cost\", \"doctor\", \"price\", \"plan\", \"application\", \"recent\", \"statement\", \"monthly\", \"credit\", \"receipt\", \"relationship\", \"accident\", \"friend\", \"bank\", \"mobile\", \"manager\", \"regard\", \"huge\", \"n\", \"balance\", \"afternoon\", \"vitamin\", \"vehicle\", \"true\", \"lack\", \"willing\", \"posting\", \"nnthank\", \"app\", \"official\", \"myaxa\", \"future\", \"loss\", \"dissatisfaction\", \"visible\", \"enquire\", \"message\", \"contribution\", \"notification\", \"transaction\", \"mail\", \"account\", \"policy\", \"date\", \"complaint\", \"day\", \"payment\", \"officer\", \"detail\", \"mansard\", \"lago\", \"axamansard\", \"company\", \"email\", \"service\", \"slow\", \"simple\", \"refund\", \"min\", \"lady\", \"instance\", \"request\", \"inefficient\", \"process\", \"kid\", \"stage\", \"repeat\", \"assurance\", \"cumbersome\", \"series\", \"event\", \"percentage\", \"seamless\", \"medicine\", \"technical\", \"horrible\", \"selective\", \"tablet\", \"omission\", \"incase\", \"processing\", \"unprofessional\", \"cash\", \"response\", \"clientnprescription\", \"management\", \"time\", \"satisfied\", \"emergency\", \"staff\", \"approval\", \"available\", \"update\", \"client\", \"email\", \"mansard\", \"long\", \"need\", \"work\", \"hospital\", \"market\", \"redemption\", \"fund\", \"money\", \"dashboard\", \"sense\", \"infact\", \"son\", \"various\", \"vaccine\", \"morning\", \"start\", \"worrisome\", \"palatable\", \"game\", \"today\", \"funding\", \"woman\", \"show\", \"hand\", \"attendant\", \"patience\", \"difference\", \"kitchen\", \"promptness\", \"firm\", \"liquidate\", \"account\", \"reputation\", \"yesterday\", \"investment\", \"value\", \"day\", \"urgent\", \"payment\", \"whole\", \"week\", \"amount\", \"issue\", \"request\", \"management\", \"time\", \"service\", \"work\", \"experience\", \"frame\", \"lens\", \"partner\", \"second\", \"surgery\", \"prescription\", \"waiting\", \"late\", \"review\", \"life\", \"little\", \"critical\", \"approve\", \"turn\", \"inactive\", \"extent\", \"screenshot\", \"resolve\", \"saving\", \"year\", \"possible\", \"nurse\", \"duty\", \"rotavirus\", \"urgency\", \"dangerous\", \"pharmacist\", \"marketing\", \"chest\", \"physio\", \"month\", \"bad\", \"insurance\", \"appropriate\", \"worth\", \"think\", \"many\", \"policy\", \"contract\", \"medication\", \"one\", \"last\", \"experience\", \"health\", \"plan\", \"cover\", \"glass\", \"axamansard\", \"emergency\", \"doctor\", \"time\", \"mansard\", \"choice\", \"purpose\", \"status\", \"wife\", \"unfair\", \"wonder\", \"active\", \"charge\", \"speed\", \"enquiry\", \"document\", \"text\", \"unpleasant\", \"reachable\", \"consistent\", \"age\", \"interested\", \"uptill\", \"adequate\", \"wallet\", \"gold\", \"claim\", \"terrible\", \"real\", \"working\", \"timeline\", \"med\", \"outrageous\", \"unhappy\", \"cure\", \"fact\", \"payment\", \"enrollment\", \"update\", \"particular\", \"channel\", \"happy\", \"price\", \"sure\", \"work\", \"first\", \"experience\", \"cover\", \"week\", \"policy\", \"premium\", \"insurance\", \"last\", \"customer\", \"package\", \"person\", \"glass\", \"inflow\", \"silver\", \"registration\", \"post\", \"present\", \"deduction\", \"successful\", \"profile\", \"30min\", \"multiple\", \"choose\", \"glitch\", \"confident\", \"thought\", \"cholera\", \"periodic\", \"inaccessible\", \"upfront\", \"correct\", \"initiative\", \"tech\", \"understand\", \"reminder\", \"administration\", \"dispense\", \"touch\", \"name\", \"number\", \"package\", \"immunization\", \"phone\", \"team\", \"email\", \"contact\", \"date\", \"pain\", \"question\", \"plan\", \"mail\", \"mansard\", \"available\", \"order\", \"first\", \"experience\", \"rate\", \"response\", \"last\", \"guy\", \"delivery\", \"sick\", \"dental\", \"renewal\", \"efficient\", \"consultation\", \"unacceptable\", \"none\", \"manner\", \"aware\", \"type\", \"clearance\", \"platinum\", \"term\", \"major\", \"faith\", \"pleased\", \"high\", \"eyecare\", \"concern\", \"proper\", \"child\", \"tedious\", \"improved\", \"switching\", \"accessibility\", \"suggestion\", \"normal\", \"coordination\", \"queue\", \"option\", \"attention\", \"city\", \"reason\", \"issue\", \"part\", \"essence\", \"service\", \"claim\", \"different\", \"treatment\", \"clinic\", \"last\", \"poor\", \"hospital\", \"time\", \"timely\", \"several\", \"way\", \"expiration\", \"death\", \"interval\", \"redeem\", \"unwilling\", \"stuff\", \"nnplease\", \"letter\", \"site\", \"mlip\", \"naira\", \"school\", \"serious\", \"average\", \"call\", \"3yr\", \"genuine\", \"holiday\", \"supervision\", \"window\", \"page\", \"boarding\", \"inability\", \"mosquito\", \"scenario\", \"feedback\", \"clientservice\", \"respond\", \"wrong\", \"fee\", \"daughter\", \"full\", \"less\", \"certain\", \"weekend\", \"complain\", \"network\", \"email\", \"phone\", \"mail\", \"information\", \"month\", \"address\", \"step\", \"client\", \"treatment\", \"value\", \"life\", \"time\", \"plan\", \"interest\", \"alert\", \"communication\", \"dissatisfied\", \"lense\", \"solution\", \"tiring\", \"daily\", \"advice\", \"platform\", \"attempt\", \"income\", \"outofpocket\", \"optician\", \"online\", \"smooth\", \"sale\", \"expectation\", \"initial\", \"role\", \"beneficiary\", \"limitation\", \"exercise\", \"ridiculous\", \"absence\", \"friendly\", \"business\", \"avenue\", \"integrity\", \"nightmare\", \"person\", \"reliable\", \"rate\", \"investment\", \"information\", \"need\", \"frustrating\", \"right\", \"client\", \"detail\", \"user\", \"situation\", \"customer\", \"policy\", \"service\", \"agent\", \"thank\", \"authorization\", \"colleague\", \"room\", \"illness\", \"verification\", \"responsive\", \"helpful\", \"other\", \"bonus\", \"head\", \"improvement\", \"deal\", \"valid\", \"embarrassing\", \"instruction\", \"detrimental\", \"electronic\", \"surprising\", \"transparent\", \"reasonable\", \"deplorable\", \"axamansard\", \"easy\", \"quality\", \"resolution\", \"patient\", \"attitude\", \"assistance\", \"consultant\", \"write\", \"officer\", \"general\", \"treatment\", \"next\", \"well\", \"history\", \"name\", \"code\", \"attention\", \"hmo\", \"time\", \"long\", \"hospital\", \"experience\", \"system\", \"emergency\", \"people\", \"human\", \"brand\", \"home\", \"trust\", \"tired\", \"thorough\", \"followup\", \"budget\", \"supplement\", \"minimum\", \"screening\", \"relation\", \"unauthorized\", \"existent\", \"checkup\", \"alot\", \"clinix\", \"withdrawal\", \"provision\", \"ease\", \"reset\", \"embarrassment\", \"quarter\", \"episode\", \"guess\", \"scan\", \"legitimate\", \"private\", \"fast\", \"guy\", \"able\", \"hmo\", \"good\", \"password\", \"extra\", \"complete\", \"debit\", \"evening\", \"happy\", \"work\", \"issue\", \"client\", \"amount\", \"doctor\", \"period\", \"medical\", \"necessary\", \"delay\", \"help\", \"organisation\", \"unable\", \"spending\", \"acknowledgement\", \"consideration\", \"ill\", \"acceptable\", \"reliance\", \"pleasant\", \"diagnosis\", \"waste\", \"rating\", \"agreement\", \"impression\", \"product\", \"remittance\", \"login\", \"productive\", \"unnecessary\", \"code\", \"swift\", \"uncomfortable\", \"forst\", \"opposite\", \"place\", \"fastpacedni\", \"ecard\", \"portal\", \"case\", \"system\", \"proactive\", \"area\", \"complaint\", \"provider\", \"time\", \"response\", \"emergency\", \"hospital\", \"access\", \"long\", \"good\", \"facility\", \"centre\", \"survey\", \"transfer\", \"nni\", \"professional\", \"inaccurate\", \"dependant\", \"recovery\", \"mecure\", \"opinion\", \"apology\", \"view\", \"sake\", \"cause\", \"lapse\", \"reversal\", \"unethical\", \"experienced\", \"corporate\", \"change\", \"personal\", \"motor\", \"meaning\", \"item\", \"world\", \"31st\", \"hbp\", \"security\", \"holistic\", \"investor\", \"partnership\", \"different\", \"bronze\", \"condition\", \"move\", \"low\", \"error\", \"company\", \"cost\", \"visit\", \"amount\", \"immediate\", \"glass\", \"hospital\", \"feedback\", \"client\", \"time\", \"treatment\", \"area\", \"policy\", \"check\", \"state\", \"basic\", \"eye\", \"blood\", \"sample\", \"word\", \"open\", \"annual\", \"sickness\", \"examination\", \"picture\", \"genotype\", \"conduct\", \"maximum\", \"malaria\", \"test\", \"individual\", \"argument\", \"urinalysis\", \"pressure\", \"customercentric\", \"belief\", \"nature\", \"snap\", \"kidney\", \"lead\", \"main\", \"settlement\", \"subscription\", \"minute\", \"part\", \"mean\", \"stress\", \"total\", \"current\", \"clear\", \"phone\", \"explanation\", \"able\", \"plan\", \"case\", \"respond\", \"value\", \"hospital\", \"appointment\", \"disappointing\", \"pickup\", \"sometime\", \"entire\", \"confirm\", \"worker\", \"download\", \"server\", \"professionalism\", \"inconvenient\", \"28th\", \"crisis\", \"recent\", \"stressful\", \"country\", \"routine\", \"level\", \"confirmation\", \"proud\", \"pure\", \"rubbish\", \"hospitalsi\", \"evidence\", \"blacklist\", \"cordial\", \"joke\", \"wealth\", \"listing\", \"notable\", \"one\", \"standard\", \"last\", \"thing\", \"facility\", \"week\", \"line\", \"urgent\", \"dependent\", \"drug\", \"attention\", \"experience\", \"hour\", \"difficult\", \"medical\", \"value\", \"treatment\", \"available\", \"several\", \"hospital\", \"axamansard\", \"liquidation\", \"deposit\", \"hard\", \"partial\", \"matured\", \"admission\", \"much\", \"senior\", \"prescribed\", \"rude\", \"use\", \"record\", \"24hour\", \"feature\", \"functional\", \"important\", \"public\", \"accessible\", \"alternative\", \"crucial\", \"pocketnno\", \"pocketnsome\", \"capital\", \"frustratingnthe\", \"short\", \"commercial\", \"placement\", \"deaf\", \"friendlynyou\", \"remove\", \"website\", \"occasion\", \"investigation\", \"staff\", \"period\", \"long\", \"note\", \"time\", \"yesterday\", \"channel\", \"dashboard\", \"contact\", \"delay\", \"today\", \"claim\"], \"Freq\": [315.0, 454.0, 535.0, 200.0, 154.0, 417.0, 216.0, 230.0, 163.0, 143.0, 89.0, 130.0, 141.0, 91.0, 122.0, 105.0, 100.0, 158.0, 114.0, 98.0, 199.0, 83.0, 87.0, 55.0, 121.0, 76.0, 102.0, 71.0, 48.0, 62.0, 159.31132955587336, 15.544473676672517, 29.043923020502923, 11.641662906280462, 8.907750633108211, 29.944072131217677, 7.630985776666812, 10.262191109222346, 6.500170612925409, 6.499378743831062, 13.243377652988322, 19.780953856045272, 5.370737811906995, 5.370492811582182, 5.370477231275358, 5.369465679854788, 5.042537869636978, 5.042307281095978, 57.64679248329976, 4.714055144798099, 4.712535285867385, 4.239896161643991, 8.184413855374116, 3.583834369762045, 62.892987165068064, 7.716868322959268, 3.1099610904843282, 3.1093199608585067, 3.109114885069931, 3.10907262348767, 20.24595278730968, 9.824230242420892, 79.49709464720131, 8.688776431830213, 21.61391774876268, 32.41425499274368, 21.67553163013021, 22.973369630566864, 54.306493110493605, 86.67481735871914, 30.994396703350855, 49.423157542541404, 33.03754516725132, 16.74308381900633, 26.40125058212468, 23.36819641792514, 16.177789778621612, 37.976334163252695, 14.05643596461639, 13.420759446183409, 13.511908915197832, 14.803242137535328, 13.458337588213029, 12.075868140121909, 17.105782760189086, 10.667539158418922, 7.612088947652873, 26.645489806306625, 6.957123192188995, 19.559331457154446, 38.1170556615141, 5.357369910349099, 5.35706599399274, 20.169515248969724, 4.229711305307397, 4.228416131201939, 3.9024918465200273, 3.902257778910607, 9.522030111639781, 3.102114746758986, 3.1015433245632904, 3.100587734259436, 3.100574358967469, 3.1004409775836885, 11.795817113785867, 5.004673864187851, 7.549142594441499, 13.006783353307272, 8.660985288268277, 4.22857143320311, 28.2138914037762, 3.9021143660578517, 1.9747084145852147, 1.974704513458391, 317.75118768950347, 97.7925911970143, 34.76291883354899, 86.99525894842076, 18.210208854620237, 19.919028725588568, 37.80424324985448, 19.289327410506537, 8.538552324034292, 80.3138547679084, 14.843048950710058, 25.460849113663105, 23.662182948122716, 23.842664679492877, 11.279006978263018, 29.025307949376444, 18.281942031582062, 14.75846211816808, 13.02759084917705, 11.93226589785757, 9.42650451948424, 10.746674073340852, 12.038472403720425, 133.82149724939487, 11.420464730823007, 10.202557095936275, 10.167535971907782, 6.653775290928287, 8.910805271862312, 4.497295575215814, 4.045309516515446, 3.732495613465414, 3.7322818979730736, 12.610410645841446, 3.106072514017325, 2.96694921508712, 2.6535636622849594, 4.045349751461437, 3.7255224270466227, 1.888822615991189, 1.8887229430568027, 1.8884623303384533, 1.8883927029806185, 1.8881793793871025, 1.8881718026764938, 1.8878117782896413, 1.8875762470960655, 1.8873847392037846, 1.8868142651481297, 146.5518007188441, 5.841605734452588, 14.448140236374948, 3.1060712076879096, 14.268297343240896, 23.99853170540553, 5.900090102374898, 226.15775121907032, 11.421937225339915, 5.207573004894581, 11.304489850397536, 4.810741480436961, 4.5276400399375865, 5.720715920235048, 8.188439592306263, 37.45136910963951, 11.506234139976492, 35.18725150782991, 15.812792557266542, 12.292196115722742, 14.399224992685484, 13.276240478431022, 9.745159959531913, 7.974832786572988, 7.617812957375595, 6.712853254936903, 6.17828392452693, 6.141797098894487, 9.300499227081605, 6.226737214511228, 6.226620497843334, 272.94414007039256, 5.1426437470604025, 5.142631927650996, 4.82968203765038, 4.515552176610631, 4.0609742434888, 4.060834380477483, 4.059775312147075, 20.62743225719409, 3.432732250523411, 3.4319002133486958, 89.45995149963173, 2.9789351371355317, 2.9784791049225774, 1.8963788085018587, 1.896350983642213, 1.8962300809334869, 1.8958115999691696, 1.8946076207546771, 1.8942801246190242, 1.8936604674570914, 4.479996930737347, 4.7662733685586645, 2.6033443471792648, 2.6644255775685814, 33.538834929429875, 1.5816695501634688, 31.2358190666684, 110.42236748833808, 113.39258507232286, 42.87144847682115, 15.538852458662978, 8.531716576660449, 5.9041870092197595, 8.080075766776263, 14.155054719353673, 4.418518765182111, 5.7084940326184705, 3.816509458920217, 3.7473476922996327, 23.390337752732638, 18.17878285154903, 13.693452116155534, 11.091687452940016, 9.423693027732115, 8.034247374460271, 8.033384036534875, 26.657047841422568, 13.884943388390406, 6.64495504124283, 5.116292953333044, 5.115239790578386, 9.533426380955838, 26.488527198767212, 4.040016744163078, 4.039764861216557, 4.039514803508778, 4.039210444948398, 4.03873497025587, 4.037483769097606, 3.7273417116056846, 3.7270013045801322, 70.63857919125283, 2.963061774335593, 2.9627015178387115, 2.962084587143608, 2.960745546370841, 2.959706301061597, 2.6502042179039087, 2.6497574907215817, 14.779336838377862, 15.834528345899422, 8.843186796982188, 15.514512887582574, 48.41144966222777, 68.37407119151969, 34.89984243155082, 7.999378926135098, 9.471753389071667, 16.9326978374809, 20.19785647323936, 7.214079995811345, 9.582664933903938, 19.601260762970682, 5.672735236496453, 9.573518662563218, 8.476564779984516, 9.861734811501096, 13.63816928511029, 55.02640181071461, 11.479843519150476, 9.56189768136269, 8.216759857323193, 5.997170665373496, 5.996776917979426, 122.76297315205387, 5.088688207510899, 64.71008378167178, 4.65069510395345, 3.9116098013349436, 3.911196891263526, 3.9086012609913747, 3.306179154419304, 2.869083502917634, 2.868596679662161, 2.8666386646660396, 7.168589237918579, 6.957784730705942, 3.911623945215843, 6.825138853089158, 1.8260549826648398, 1.8258349540660095, 1.8257471251281665, 1.5234745963933425, 7.174920677765061, 7.879921964941353, 5.694602940156676, 127.78711324968215, 0.7835735112248965, 4.80845412648845, 149.60885480647622, 12.099434015863304, 14.064608553245293, 15.180162902525755, 41.70324560699447, 8.219741934921855, 5.396614638571702, 9.072419938822987, 10.112022560182124, 12.192978906606589, 8.305317889413885, 7.680878322823677, 6.598591750181268, 6.0902935209609135, 35.21377633297687, 29.536339847138766, 93.52687535181099, 141.92805540427128, 22.06625709991031, 10.614550369856332, 4.025383487408984, 4.024555400106691, 4.024264426279302, 3.7132853636589522, 13.118481031445077, 5.859724191057755, 2.9517779393354084, 2.9515739438169772, 2.9510518497923317, 28.563934906562793, 2.6408748706499465, 4.025285748896857, 4.786503320247507, 3.713117683826219, 1.8792977291766972, 1.8786523411573957, 1.8786211814023825, 1.8779505741569011, 1.8779372359883884, 1.8765588091281293, 8.45509147245091, 131.10253062754404, 2.9518052881851324, 18.35606731220083, 31.52905594617082, 12.59309707468067, 31.447737504080617, 8.7470005408323, 34.602248879684105, 8.219283413347194, 23.554438032503462, 10.43390269893651, 18.425183683896236, 16.11414670111839, 4.475188225448994, 10.122474622004711, 6.94903784239236, 4.9586912297667025, 5.20590017247085, 25.612037502491926, 17.090315481027815, 13.452590621461221, 9.814896629957182, 15.342649808807863, 24.25980543075892, 7.141516625485512, 6.357158298480114, 11.914554249292982, 38.93574967554908, 9.493795038998513, 4.93050890132371, 4.60982745899428, 4.288739158451434, 4.145772869275086, 3.0407809025649124, 3.040703089323885, 3.039342107871309, 17.648643277409843, 44.300632666997785, 11.821115766488447, 6.313670343015178, 4.145643823624677, 1.935869750157404, 1.9358097289246554, 1.9356178753414053, 1.9356005120562174, 1.935582505686393, 1.9352971904692913, 1.9352941894076539, 35.740184946164256, 20.974860511349544, 45.97364735970971, 3.040332029488571, 3.0411997650248797, 3.0404199177222386, 13.919958811951231, 38.31230741609661, 4.004332834302918, 20.836087991449965, 7.782502233824236, 18.75987466562578, 19.189201398799703, 23.178744143907174, 15.800047615092142, 8.140155040634461, 9.974158683824786, 9.566532198628042, 8.86033695069265, 8.266756969424984, 10.476080240562005, 8.4484035133231, 9.230401864210318, 6.066258331047966, 5.759836119902209, 20.598891106506162, 5.011416621578666, 5.011236884687647, 5.0108663501738535, 5.010856211169744, 4.704975361394887, 8.61761458903287, 8.286683025288154, 3.9564252849881245, 3.6499760364980767, 3.3438346450418774, 2.9018686966040654, 2.9017365823081023, 2.90166591652189, 2.9012910806124137, 2.9006323525878916, 2.595602564673073, 10.07356636177728, 36.532365558739315, 16.40068344847634, 4.765463430937675, 3.6503305943993354, 1.8473569656321238, 1.84715495365632, 1.8470575577683659, 1.8470406594281847, 1.846960161880412, 13.764172460164728, 67.39681397985643, 7.54418962124492, 7.864360321962184, 6.0660119225238684, 5.461779508873842, 12.398629265330667, 5.718252069898966, 4.494842657785119, 12.841762735453733, 10.230530435083152, 13.054689195559293, 7.287013474783155, 11.965046122592975, 9.979750464001283, 6.109410547020033, 8.861664719326898, 8.268655875982743, 7.844249453691143, 5.87363630201916, 5.663053488075473, 5.714728612349891, 20.931177462979967, 9.647650679975834, 17.214408192703235, 5.161281648800679, 5.160814960815237, 4.846433846993952, 4.526150272820719, 8.401207057334698, 4.07510445381959, 3.7590607640501714, 2.9891584979240724, 2.989038518216475, 2.988430500750907, 2.987889238912122, 2.6736521608801573, 2.6732398997796167, 2.6726192528711437, 2.6724081607540175, 7.789850006221312, 1.9025019855146383, 1.902495520442675, 1.9012850484804376, 7.776597510799691, 1.5867426085610916, 2.9884963542746257, 3.9073057662708117, 13.436353648627046, 52.53665422248528, 18.789810914690257, 7.32563859439379, 19.258624254951535, 18.903771790640235, 40.82804925859775, 16.918359617361585, 7.1950020425929, 6.1290608235578405, 4.941332683786021, 16.196076966409716, 15.73103080854638, 22.059669907115197, 7.526608513732485, 4.542501492269382, 7.622967554685187, 10.907523008837217, 6.470991563571222, 11.816946339146835, 5.5813393254283215, 5.150331921802065, 31.64085402495091, 19.675253394935968, 18.589757936257392, 11.242417340156535, 9.0968786494041, 9.096863331643542, 7.258659599626735, 7.258469895053643, 6.945912169111617, 6.183287413244554, 6.183002267240279, 5.559303708208048, 12.259250347979286, 9.087620241434722, 6.4044782323126865, 2.9581650356728337, 2.957952059886583, 12.198405846455541, 2.6458132157814154, 7.035720788420827, 8.731677315284418, 15.237182069938129, 1.8831623902641683, 1.8830687162668962, 1.8830120110955915, 1.883003468498356, 1.8829040503408738, 1.8828697326657726, 1.8828242212425697, 1.8827869578442837, 9.393848197397555, 11.711010023189885, 2.645661216465087, 12.294859428124703, 22.86541033287812, 8.444072221294991, 2.9582943529206402, 35.76396391388804, 9.03635640999676, 6.895695836838119, 10.365178619186898, 6.858065990588026, 7.289527832878764, 8.453674100587703, 9.47250254129574, 7.744881846775624, 11.340525518076435, 46.77942703442785, 5.087780660004137, 4.777436048761364, 4.017451310769592, 4.016956724896289, 3.3952278508080416, 2.9465039480367254, 2.9464759360934587, 2.9463113659267672, 2.9461964002429433, 2.9460318300762514, 2.6356326539023227, 5.805981207747499, 2.324361751889756, 5.197918952271565, 3.7060921419566277, 90.1123392678371, 1.8757903099554905, 1.8756843897950133, 1.8756562319562087, 1.8755392237348552, 1.875507856194218, 1.875224964746332, 1.875223943477567, 1.8751973904896788, 1.8751556643658545, 1.875030923680995, 41.92081149870638, 1.5624653446655707, 7.368158262830284, 10.89571219930158, 5.0642021903415495, 7.219269532128445, 6.283341486687496, 7.291112580039546, 6.554609728864308, 3.9493213042967064, 3.754641800086094, 5.755577217331993, 20.865923799043237, 10.659064968255947, 13.92842523707016, 7.296557985094161, 8.264124353290537, 4.543163413489734, 4.029398112781761, 7.968429113003017, 6.6363456614057625, 4.504754954196037, 4.85055830874831, 4.621139618020862, 4.052289122670012, 38.22218712172483, 10.243521225886841, 28.622895796895985, 14.821385265956632, 6.900906552152706, 5.212587900586893, 5.07506714197045, 9.175661846244134, 4.764946897918163, 20.947079652501007, 3.6969484509014428, 3.696670316153414, 3.6965158291751674, 3.386468028169177, 12.695281357249526, 2.9390641382825016, 2.938854664413693, 2.938751964030791, 2.938658282661685, 2.9384089505706172, 2.9383437809225437, 2.938123251488437, 2.9379920393845027, 2.9371820737584433, 2.6286869978049956, 5.04329344730336, 8.449500314504725, 1.8709008760620582, 1.8708981121707335, 1.870726314504718, 18.09740295994985, 5.471404502936851, 17.528939757239854, 33.8099203211541, 16.220525241632423, 23.552001258017828, 9.591836382586692, 4.8881960854783175, 15.865532203650226, 8.431052649124997, 4.970721807326541, 4.23112834562165, 7.243985763846424, 4.963676502872285, 4.403263788250897, 3.9651905045399927, 3.7546576289503752, 16.906838234924678, 13.402600529622593, 9.863929878095615, 6.917175665475402, 5.873716791648706, 5.234129377705347, 5.109292083666676, 4.797813094426048, 4.0346908075231305, 4.0346781653265404, 18.556886740613148, 2.9592914240122616, 5.10892491030485, 5.109848340316629, 2.6467510399188092, 1.8836161108193021, 1.8833695879858008, 1.8832574571986562, 1.8825942915384122, 1.8820024443567562, 1.5713457475551869, 36.15317541147431, 4.173215752843523, 14.551842158923499, 2.6463390692081976, 60.3403732361852, 5.465809173088888, 1.8835145610010426, 1.8837353871958233, 3.356110187180646, 7.7687155515149735, 4.714491674666893, 28.7368539443111, 4.717561529795333, 12.826320838915265, 4.034669095924639, 7.013957726638384, 6.3090805128979985, 5.879138095342852, 6.941372829748311, 19.540658506374992, 7.7272260609500805, 8.940007919972128, 5.88306377221435, 4.886892210240783, 5.067781156333652, 54.7469949330633, 8.151661366614997, 5.966748144457354, 5.190648328175297, 4.55687044864873, 4.098644900297639, 4.098562811333656, 4.098286054255085, 4.09794102000647, 3.7814758156572705, 3.4639903627557103, 3.0063514247472405, 3.0057528268098785, 3.00574735421228, 3.0056173148693355, 3.0054315071508593, 2.6890387495698733, 2.688692933521602, 11.301672908530593, 7.636575268611776, 3.9485508325522134, 1.9136803399625204, 1.9134833264489612, 1.9132907431334583, 1.913165785488284, 1.9128754772156582, 1.9126319466225086, 1.9109583741567975, 7.51737844451002, 8.520431574015097, 31.06102129021086, 20.908587623045406, 19.261448324936577, 46.73197651049548, 3.280209850790392, 5.608273717339925, 5.03943263852199, 4.518323034761614, 4.098215431686071, 7.052002295896293, 7.486804865924341, 5.519577503855863, 5.2310569464458, 4.532183821480119, 4.504464332842193, 3.599454613520046, 3.638763239673176, 18.058979881376203, 45.46479447216288, 11.859638245499083, 7.921351534468056, 12.750128483537853, 6.105651061644536, 5.489778254681943, 5.694147148675915, 5.044451396226841, 5.044151511418095, 5.042474030769169, 4.735741331589647, 4.734999949701358, 4.42773880767309, 3.9828589129476897, 3.982183911811336, 3.6747434115945037, 6.464682421949404, 2.6129788589936673, 2.6126758503848295, 2.611239422976268, 13.024048265927018, 17.90305852362859, 7.921080805126826, 1.8592290651930785, 1.859206417642418, 1.8588836249663367, 10.678514853317017, 1.5513197346459056, 4.0026682309087835, 11.279839081988618, 23.261958405259993, 11.901437814518212, 3.3663545777333455, 5.4879050158939755, 7.075615459701255, 9.40988340791602, 28.22989179762177, 21.041032337017633, 8.751597725849743, 19.57769443193781, 9.018471256500064, 7.046295992679455, 7.123746450871714, 6.060673026032703, 19.07601489000749, 9.560420714939697, 9.24327927677816, 6.282724477495706, 9.24284873938956, 4.556201364554563, 4.0978319741342775, 4.097215877079323, 4.09714282209257, 4.09638548539656, 3.781090146750282, 3.7806174809859874, 3.7803929586600318, 3.005525744511507, 3.00505673149655, 3.0049778321108565, 2.6884934017968556, 2.6880295026309713, 2.687900195304418, 9.38427247901281, 9.975544475401422, 4.098133934746191, 1.9132195148887368, 1.9132178102723791, 1.9131874924528764, 1.912914997352286, 1.9127637735297065, 1.9125447303277574, 1.9125310933968969, 1.9118486380623085, 5.153568094971394, 17.919168719370646, 4.873309197422193, 5.071741152441858, 3.005361370791312, 8.933078062358199, 6.708411014975488, 18.92078960228678, 9.717235679172157, 9.895262889358344, 9.35660509442955, 3.886281778659922, 8.428358692075578, 15.682609781244214, 7.217575050652188, 7.045481366490115, 10.340511604157713, 7.479901871152892, 4.3208581339611065, 4.440923030623877, 25.881725152743222, 18.687321048156026, 11.634638990281383, 10.99638139402429, 8.65793787491304, 6.318973981608529, 6.141371423862141, 4.120630557906097, 17.816369162475336, 3.8024572591494774, 3.4836044103051567, 8.505155656567256, 3.0230552670547706, 3.0228428105262077, 3.0223630628164644, 6.72145589176862, 66.77127647393637, 6.209321992579488, 1.9244136975130712, 1.92427894190927, 1.9242005749765818, 1.9239335057980438, 1.923018854912277, 3.022756451498401, 1.6053648203357085, 1.6053645983330662, 2.9846761162832443, 2.7034116447990173, 1.9244136975130712, 5.361619555603364, 7.722535958176845, 13.55025538909293, 4.828031321074307, 3.831321598679966, 4.950230899439158, 2.8115964183659155, 2.7024179609726358, 7.7523233846935025, 3.80239731843609, 5.731711724275205, 5.890196302487932, 4.010894651878312, 3.341717637632104, 3.4836146224266966, 3.487937235872513, 11.934888431339415, 12.452522585717473, 2.605700474070282, 2.605536571961219, 2.6054630311581075, 3.6640637243993055, 1.8544383366796011, 1.8542677846042999, 1.854104273669722, 1.8541017310355719, 1.8538517705398896, 1.8533942919801079, 1.8531548931955106, 10.737019059856726, 2.605587033469737, 2.60562439063302, 5.030562548591292, 10.401414822508139, 20.588566168103835, 0.7957001945038644, 0.7956943757834055, 0.7956943757834055, 0.7956926154982246, 0.7956797067402316, 0.7956211283611574, 0.7956211283611574, 0.7956211283611574, 0.7956211283611574, 0.7956207860834833, 0.7956207860834833, 7.899876681381209, 5.636565366095524, 23.65958785919835, 9.706503521088937, 12.949013759200955, 21.34443418946386, 9.034425074337936, 5.389339571235228, 2.913130173575719, 13.381692639005774, 3.7828845388054204, 6.966361461917572, 6.882247212486298, 3.3569745422827437, 4.806637453082822, 3.16501994181633, 4.189055479658881, 3.198318865408209, 3.220062494723942, 3.010392970959061, 2.6056466875786444, 88.35416827940584, 19.97186568262363, 6.674307124215895, 6.2500266051587205, 4.812167654013569, 4.810931055241545, 24.288308518853526, 3.798875820205035, 3.797919072045404, 2.786581398128617, 2.7862317624333106, 2.492301254888559, 1.7739957609479322, 1.7737146673442397, 2.786701790714406, 7.375009730524656, 3.2054323536228697, 3.2127127312295607, 2.7862450801972254, 0.7612315769456977, 0.7612315769456977, 0.7612315769456977, 0.7612169274053915, 0.7611936657110872, 0.7611615255075065, 0.761151137651653, 0.761151137651653, 0.7609825347604932, 0.7608743057324132, 0.760842698239389, 5.2224897359266755, 2.3678387604475377, 2.786471304613589, 13.677015390672182, 4.1070616622440586, 7.64674183403605, 1.737978134795962, 13.618580594018283, 3.1489316514297525, 1.774021863765205, 2.617069347618876, 2.3986091876171245, 2.419693161166102, 2.206349153349813, 1.8667708557812948], \"Total\": [315.0, 454.0, 535.0, 200.0, 154.0, 417.0, 216.0, 230.0, 163.0, 143.0, 89.0, 130.0, 141.0, 91.0, 122.0, 105.0, 100.0, 158.0, 114.0, 98.0, 199.0, 83.0, 87.0, 55.0, 121.0, 76.0, 102.0, 71.0, 48.0, 62.0, 163.10420089270283, 16.403922440802972, 30.870229440718575, 12.501111676662935, 9.767199397238661, 33.2010650494745, 8.490434547040586, 11.532965272057464, 7.359619377055857, 7.358827520963607, 15.182166743257794, 22.711922980142262, 6.230186576037443, 6.229941575712631, 6.229925995405806, 6.228914459316199, 5.901986633767426, 5.901756045226426, 67.52869275588633, 5.573503908928547, 5.5723923442368894, 5.09934492577444, 9.878566416222489, 4.443283133892494, 78.48085377877413, 9.70882844312608, 3.9694098546147774, 3.968768729056404, 3.9685636561379627, 3.9685213947479583, 26.644090652766426, 12.757120092874604, 121.7254458364642, 11.973925512753286, 35.18165436144982, 64.46190117357618, 41.804189528684894, 49.865962597324746, 216.68276173016685, 454.50699429282133, 95.47553917196372, 199.36752226884747, 130.83453698185772, 42.36526707098111, 99.76096027027623, 83.2717757022394, 59.846165779447595, 535.8595550874421, 42.903876324745674, 39.678728991228255, 43.853631388023224, 99.04253966380188, 98.69894216389297, 91.99310713239016, 17.965350815622788, 11.527107207766566, 8.471657004124012, 29.841207128238675, 7.81669124583086, 22.478404012219407, 44.07124092442896, 6.21693795969674, 6.216634043340381, 23.553728472294843, 5.089279354655038, 5.087984196778731, 4.762059895867669, 4.761825828258249, 11.894892898117874, 3.9616827961066283, 3.9611113772603317, 3.9601558010958224, 3.9601424255135833, 3.960009046685261, 15.148370172698147, 6.6521454569747736, 10.312465535756747, 17.965058899883207, 11.96415071051647, 5.847788826508234, 39.49090363550089, 5.541193903049258, 2.834276463932857, 2.8342725628060332, 535.8595550874421, 158.5245515730248, 65.3078776940786, 199.36752226884747, 36.47193168799475, 41.32530820944273, 105.57591921286577, 43.853631388023224, 16.086878747467647, 454.50699429282133, 39.678728991228255, 98.69894216389297, 91.24681989989553, 99.76096027027623, 27.104009480983578, 230.4536135793559, 121.7254458364642, 114.56405218338716, 91.99310713239016, 74.76388420189028, 24.792678448520928, 87.0295643323583, 417.13734200937296, 143.36765221616972, 12.28209794397874, 11.064190303005953, 11.029169210501493, 7.515408502069837, 10.58617766030566, 5.35892878228549, 4.906942728283576, 4.59412882053509, 4.593961052764441, 16.07735028062794, 3.9677057210870026, 3.828582422156798, 3.515196874053091, 5.646648602262773, 5.3531381574193775, 2.7504558230608667, 2.75035615012648, 2.750095537408131, 2.750025913399695, 2.749812597623624, 2.7498050158322287, 2.7494449896535436, 2.749209468171138, 2.7490179683904072, 2.7484475038741913, 216.68276173016685, 8.64142362567144, 21.399263087368848, 4.725430858268108, 21.750344928858997, 36.91619857213608, 9.202091689825895, 454.50699429282133, 19.3590732568224, 8.708971172364508, 22.11722277079964, 8.27753919298325, 7.889760201485359, 10.623739971375603, 18.986593550577403, 230.4536135793559, 38.700316304875656, 417.13734200937296, 99.04253966380188, 62.208978087858796, 91.99310713239016, 95.96861867975589, 73.48219853235094, 82.29578682888997, 102.54213297617508, 58.89925626018274, 52.15195248205155, 59.846165779447595, 10.161952874604035, 7.088190862033656, 7.08807415827001, 315.62876854930954, 6.004097410092543, 6.004085591182198, 5.691135688737727, 5.377005824133058, 4.922427900510345, 4.922288040689531, 4.92122898453439, 25.10765696722783, 4.294185898045841, 4.293353877210082, 114.56405218338716, 3.840388784657961, 3.8399327608101577, 2.757832456024288, 2.7578046311646425, 2.757683728455916, 2.757265252292264, 2.7560612820664527, 2.7557337896356904, 2.755114134708656, 6.889050544163579, 7.492316892922055, 4.310771840174628, 4.59794682712551, 61.18822426069823, 3.2138670601929586, 67.53302179381542, 417.13734200937296, 535.8595550874421, 158.5245515730248, 44.799925133657325, 20.90749429127063, 14.383605056170568, 25.491978579726474, 65.3078776940786, 10.953864168275826, 99.76096027027623, 15.576426758402745, 16.4094290964319, 24.252034293923042, 19.040479392739435, 14.558728476574595, 11.953384101060882, 10.285389571825146, 8.895943929158006, 8.895081577185362, 29.807587964347594, 15.630842548359464, 7.506653255132464, 5.977989499324114, 5.976936350299136, 11.200537002693851, 31.586820350097643, 4.901713288856153, 4.901461402406961, 4.901211348766631, 4.90090699787705, 4.900431523708799, 4.899180338658564, 4.589038252796089, 4.588697854388284, 87.0295643323583, 3.824758315525999, 3.824398063727571, 3.8237811439262583, 3.8224421074565798, 3.8214028839211656, 3.5119007590943148, 3.5114540422922698, 20.011694055488423, 21.790932698641992, 12.124017558815625, 24.224261518845378, 95.96861867975589, 200.29316773358298, 93.73353629921306, 16.010386715917203, 24.45391024875222, 74.76388420189028, 122.96919825491229, 15.79925572354852, 28.622189636841085, 199.36752226884747, 11.830377074300694, 58.624317656346214, 52.15195248205155, 102.54213297617508, 454.50699429282133, 57.36713594692474, 12.342977298847227, 10.42503144654632, 9.079893622506823, 6.860304434404589, 6.859910687234929, 141.70917784221996, 5.951822314926792, 76.16944598810349, 5.5138288795434045, 4.7747435665185725, 4.774330665807056, 4.7717350720035405, 4.169312919602935, 3.732217268101264, 3.7317304484107106, 3.7297724602200177, 10.110533045029477, 9.83713239470103, 5.574246724694863, 9.868122606590727, 2.68918874784847, 2.6889687268932634, 2.688880890311797, 2.3866083615769726, 11.64404591940681, 12.936671844058779, 9.55256689283647, 230.4536135793559, 1.646707276408527, 11.02136227490214, 417.13734200937296, 36.91619857213608, 45.9083269004661, 64.46190117357618, 315.62876854930954, 29.857163103039912, 14.079748408040436, 73.48219853235094, 102.54213297617508, 199.36752226884747, 67.53302179381542, 59.846165779447595, 44.724007739556875, 535.8595550874421, 36.07563528955912, 30.39819880372102, 100.73194533314826, 154.51432502269026, 25.502586868735317, 12.592187390597575, 4.887242448689689, 4.886414367334236, 4.886123391503069, 4.575144320241203, 16.195682423105964, 7.5011063993487115, 3.8136369033493396, 3.81343291453314, 3.812910816708887, 37.21828686787264, 3.5027338272321993, 5.657796785936925, 6.774898077799579, 5.3544881320765585, 2.74115668575895, 2.7405113013041347, 2.7404801488713577, 2.7398095524619257, 2.739796205406787, 2.738417797107296, 12.522076972978674, 200.29316773358298, 4.577641872643467, 32.19282332172595, 71.10683395556572, 24.472570183960325, 74.76388420189028, 19.024790347396397, 122.96919825491229, 19.093876967068596, 79.82722399847684, 34.460618137555315, 91.99310713239016, 141.70917784221996, 11.02136227490214, 417.13734200937296, 454.50699429282133, 44.724007739556875, 82.29578682888997, 26.472539749888366, 17.950817579108826, 14.313092719542231, 10.67545295316771, 16.962865944828643, 27.1279265914953, 8.002018723566518, 7.217660396561121, 13.660723430858415, 45.384436021547394, 11.129389657772933, 5.791010999404717, 5.470329557075288, 5.149241260826666, 5.006274978140604, 3.901283008575665, 3.9012051903075182, 3.8998442195436924, 23.175610177366035, 58.89925626018274, 15.826659796481787, 8.77123827453499, 5.781111811418705, 2.796371848238413, 2.7963118270056646, 2.7961199774898624, 2.7961026101372264, 2.79608460783485, 2.7957992885503002, 2.795796287488663, 55.34185208597293, 32.43644810059003, 95.47553917196372, 4.619467176124058, 4.652852222387585, 4.676082889528021, 27.104009480983578, 93.73353629921306, 6.540691009231857, 61.18822426069823, 16.498353039637067, 73.23428659517737, 82.29578682888997, 121.7254458364642, 99.76096027027623, 24.512860934309042, 49.865962597324746, 58.624317656346214, 45.9083269004661, 65.3078776940786, 417.13734200937296, 199.36752226884747, 10.093032192800734, 6.928888659638381, 6.622466451961415, 23.744035035306556, 5.874046950169081, 5.873867213278062, 5.873496678764268, 5.873486542662783, 5.567605689985301, 10.255165755088733, 9.93787492909991, 4.819055617426003, 4.512606368144542, 4.206464978330747, 3.764499025194481, 3.7643669144011884, 3.7642962451123054, 3.7639214172647355, 3.7632626958071227, 3.4582328932634887, 13.606851172160958, 50.10365919895752, 22.88730781849454, 6.835050211687285, 5.276892974033347, 2.7099872942225396, 2.7097852868059715, 2.7096878863587817, 2.7096709880186003, 2.7095904904708275, 21.140034670798865, 122.96919825491229, 12.64487802418866, 14.079748408040436, 10.597350494056602, 9.936842263302003, 33.370185442613206, 10.953864168275826, 7.712071305811551, 44.724007739556875, 33.96126549636135, 82.29578682888997, 24.512860934309042, 79.82722399847684, 93.73353629921306, 23.164238511831112, 95.47553917196372, 73.23428659517737, 216.68276173016685, 31.61881955759186, 27.393311332298133, 49.865962597324746, 21.792477199822347, 10.50895042924733, 19.916438433039055, 6.022581392461244, 6.022114700713662, 5.707733583836326, 5.391680436914251, 10.047404389044868, 4.9364041942264505, 4.620360503948596, 3.8504582347664473, 3.850338257833384, 3.849730242139156, 3.849188983216357, 3.5349518977225323, 3.534539640186911, 3.533918995799576, 3.53370791962241, 10.952674075488892, 2.763801726902887, 2.763795260059584, 2.7625847957030945, 11.967311760742497, 2.44804238743551, 4.612324747367856, 6.17036928544024, 21.266595349672148, 83.2717757022394, 31.61881955759186, 13.213881640600178, 38.440766032751995, 38.700316304875656, 102.54213297617508, 42.903876324745674, 16.010386715917203, 13.95048690272657, 10.667665389249322, 99.76096027027623, 95.96861867975589, 199.36752226884747, 29.857163103039912, 9.849658949650575, 33.96126549636135, 82.29578682888997, 29.912241099737155, 230.4536135793559, 73.23428659517737, 46.31868738733231, 32.50262561003616, 20.537024838343115, 19.46149027518162, 12.10923938141385, 9.958650092811244, 9.958634775050685, 8.120431043033879, 8.12024134315924, 7.807683612518759, 7.045058859554321, 7.0447737149416465, 6.421075151615191, 15.052761026983255, 11.514146990075073, 8.259387681643686, 3.819936479079977, 3.819723503293726, 15.79333447662084, 3.5075846591885584, 9.658478036036403, 12.230139443770273, 21.619692084485916, 2.7449338336713116, 2.7448401596740393, 2.7447834545027345, 2.744774911905499, 2.744675493748017, 2.74464118036714, 2.7445956687319923, 2.7445584055456513, 14.204050905388254, 22.1450422109964, 4.255671862529593, 31.49292637748109, 91.99310713239016, 29.757932674040877, 5.645780727100125, 454.50699429282133, 50.10365919895752, 30.265593151403603, 99.04253966380188, 41.804189528684894, 73.23428659517737, 143.36765221616972, 535.8595550874421, 417.13734200937296, 12.20247648306514, 52.18855209103693, 5.949731615012793, 5.639387000867395, 4.879402262875623, 4.878907681700774, 4.257178802914074, 3.808454900142757, 3.8084268881994903, 3.808262318032799, 3.808147357047428, 3.8079827857472024, 3.4975836060083543, 7.7867860482817735, 3.1863127039957875, 7.170780857670013, 5.319215310218684, 130.83453698185772, 2.737741262061522, 2.737635341901045, 2.7376071840622402, 2.737490175840887, 2.7374588083002496, 2.737175920321155, 2.737174898932998, 2.7371483425957104, 2.737106616471886, 2.7369818846699707, 62.208978087858796, 2.426320702207791, 11.525619153250004, 17.5281313952144, 8.289130770177845, 12.993342616702556, 11.310783467996245, 13.757793435329933, 12.321976136353058, 7.123184239224672, 6.677583895400906, 14.40885439220832, 102.54213297617508, 38.440766032751995, 95.96861867975589, 30.27929855665503, 55.34185208597293, 12.420258567679841, 9.442420699825494, 73.48219853235094, 99.04253966380188, 24.472570183960325, 45.384436021547394, 417.13734200937296, 99.76096027027623, 39.08425235437567, 11.105588668294772, 31.8672829466675, 16.572594587913155, 7.762971781454151, 6.074653138536467, 5.937132371271895, 10.790939372358096, 5.627012127219608, 25.665739601454792, 4.559013680202888, 4.558735548510909, 4.558581058476612, 4.248533257470623, 16.308811638030427, 3.801129367583947, 3.8009198937151383, 3.8008171933322363, 3.80072351196313, 3.8004741798720625, 3.8004090173474876, 3.800188485590547, 3.800057271588572, 3.7992473172205465, 3.490752227106441, 6.738855936731407, 12.20865791293028, 2.7329661053635035, 2.732963341472179, 2.732791543806163, 27.393311332298133, 8.174643338989696, 29.912241099737155, 71.10683395556572, 30.27929855665503, 59.846165779447595, 19.712716128256684, 8.60741233135234, 73.48219853235094, 28.622189636841085, 16.047703257447562, 18.423374709140496, 216.68276173016685, 93.73353629921306, 454.50699429282133, 39.678728991228255, 44.07124092442896, 17.76859252197784, 14.264396921988663, 10.725684155547443, 7.812444649646202, 6.735471069100532, 6.110760438829669, 5.971046375176857, 5.659567376423748, 4.896445084974957, 4.896432442778367, 23.886118747470963, 3.8210457014640884, 6.7303686622731895, 6.74204788416112, 3.508505325481429, 2.745370391835615, 2.745123869996863, 2.745011739348936, 2.7443485818280138, 2.743756750715365, 2.4331000250070134, 58.624317656346214, 6.962105375926084, 24.792678448520928, 4.55051982976744, 105.57591921286577, 9.842571930411522, 3.502977247285198, 3.5082438896513706, 6.401656598161808, 15.79925572354852, 10.21319114436305, 99.04253966380188, 10.428772616431331, 44.799925133657325, 8.891410675429574, 21.266595349672148, 25.029239564287884, 22.1450422109964, 33.53959920316285, 417.13734200937296, 67.53302179381542, 535.8595550874421, 82.29578682888997, 25.277625132722147, 45.9083269004661, 55.60803225333108, 9.012698676217116, 6.8277854564640466, 6.051685636832591, 5.417907753956624, 4.959682205605534, 4.959600116641551, 4.9593233641222145, 4.958978328663764, 4.642513120965165, 4.325027671119655, 3.867388730055135, 3.8667901389745865, 3.8667846640660484, 3.8666546276089084, 3.866468822976664, 3.550076054877768, 3.549730242298288, 15.116888216415848, 10.530403302297456, 5.702820247228972, 2.7747176452704148, 2.7745206317568556, 2.774328048441353, 2.774203094878458, 2.7739127854261767, 2.7736692646608114, 2.7719957139068407, 10.927197837157374, 12.48417765582413, 46.31868738733231, 34.46632308635974, 33.53959920316285, 98.69894216389297, 5.075352139783847, 11.575272016085027, 10.99850266519175, 9.432580720220251, 8.65837480321186, 33.370185442613206, 44.724007739556875, 91.99310713239016, 73.48219853235094, 34.460618137555315, 65.3078776940786, 14.383605056170568, 78.48085377877413, 18.921316780092727, 48.704226192897664, 12.721975142215262, 8.783688426485782, 14.363673285844119, 6.967987956564885, 6.352115146699669, 6.666696124656673, 5.906788288244567, 5.906488410350138, 5.904810952035807, 5.5980782284080375, 5.597336859561224, 5.290075699690815, 4.845195804965415, 4.844520806885112, 4.537080303612229, 8.161580151248733, 3.4753157510113923, 3.4750127424025545, 3.473576329551502, 17.422967959173025, 25.029239564287884, 11.411406454538328, 2.721565960560203, 2.721543309660143, 2.721220520333461, 16.323051417011882, 2.413656626663631, 6.482590181369776, 18.557290831530736, 39.92595411808726, 25.277625132722147, 6.085529763365318, 13.933400952654052, 24.45391024875222, 43.853631388023224, 417.13734200937296, 230.4536135793559, 45.9083269004661, 535.8595550874421, 67.52869275588633, 67.53302179381542, 98.69894216389297, 42.36526707098111, 19.937058252762363, 10.421464077632324, 10.104322639470787, 7.143767842771719, 10.888004382805713, 5.417244723744519, 4.95887533941029, 4.9582592452619565, 4.958186194565431, 4.95742885430733, 4.6421335059402375, 4.641660844874396, 4.641436321199386, 3.866569103701462, 3.8661001001219613, 3.8660211953726846, 3.5495367609868103, 3.5490728851953457, 3.5489435619562326, 12.575219155188018, 13.801013944891908, 5.712274145104294, 2.7742628740786914, 2.774261169462334, 2.7742308551116226, 2.773958359316775, 2.7738071400359168, 2.773588098159227, 2.7735744621417004, 2.772892013730018, 7.859935229761691, 30.265593151403603, 7.612576537020819, 8.133722983263997, 4.617571127416833, 17.261900756663135, 13.715894896348948, 52.15195248205155, 25.491978579726474, 36.47193168799475, 34.460618137555315, 7.477845428428152, 49.865962597324746, 535.8595550874421, 62.208978087858796, 73.48219853235094, 417.13734200937296, 99.04253966380188, 13.933400952654052, 93.73353629921306, 26.742516889085298, 19.548103995105105, 12.495421937230462, 11.85716434097337, 9.51872082186212, 7.179756928557608, 7.00215437081122, 4.981413508937455, 21.728858659949974, 4.663240206098556, 4.344387357254235, 10.624210262274227, 3.8838382140038488, 3.883625757475286, 3.8831460097655426, 9.175785040200862, 91.24681989989553, 8.709608975470815, 2.7851966444621494, 2.785061888858348, 2.78498352192566, 2.7847164574455756, 2.783801816309085, 4.631736966836863, 2.4661477672847867, 2.4661475452821446, 4.646368117179363, 4.327272037630679, 3.5479591174907874, 9.913703045443516, 15.536760555465943, 29.757932674040877, 9.809016814163646, 8.052914483308308, 13.571890912310204, 5.380587434708031, 5.089489906535771, 38.440766032751995, 10.946784739438707, 34.46632308635974, 99.76096027027623, 39.92595411808726, 11.525619153250004, 24.472570183960325, 535.8595550874421, 13.57344897944734, 15.418741823547839, 3.4681631419899377, 3.467999239880875, 3.4679256990777634, 5.301447218173911, 2.716901004599257, 2.7167304525239557, 2.716566941589378, 2.716564398955228, 2.7163144384595457, 2.7158569710491998, 2.7156175747065405, 16.4094290964319, 4.22588910077431, 4.269815918803248, 8.51033537799953, 19.7689063067224, 41.32530820944273, 1.6581628624235205, 1.6581570437030615, 1.6581570437030615, 1.6581552834178805, 1.6581423746598876, 1.6580837962808133, 1.6580837962808133, 1.6580837962808133, 1.6580837962808133, 1.6580834540031393, 1.6580834540031393, 16.498353039637067, 13.253439128329882, 73.23428659517737, 26.982969055246254, 42.36526707098111, 79.82722399847684, 35.18165436144982, 19.024790347396397, 9.745966910441988, 158.5245515730248, 22.1450422109964, 82.29578682888997, 114.56405218338716, 18.51073033572426, 78.48085377877413, 24.472570183960325, 99.04253966380188, 29.857163103039912, 52.18855209103693, 535.8595550874421, 58.624317656346214, 89.21927585598512, 20.836894217513116, 7.538699235107267, 7.114418725409993, 5.676559764904941, 5.675323187809161, 29.753929667760907, 4.663267934943871, 4.66231119511344, 3.6509735090199893, 3.6506238807865428, 3.356693365779931, 2.6383878718393046, 2.638106781138236, 4.410692171436263, 11.811360714728668, 5.457888047396225, 5.9184041745492, 5.476141341411465, 1.62562368783707, 1.62562368783707, 1.62562368783707, 1.6256090382967638, 1.6255857766024593, 1.6255536363988787, 1.6255432485430252, 1.6255432485430252, 1.6253746456518654, 1.6252664166237856, 1.6252348091307613, 11.23649970525409, 5.20254334368604, 6.269685270887363, 64.46190117357618, 14.383605056170568, 67.53302179381542, 6.250415663290598, 417.13734200937296, 32.19282332172595, 9.936842263302003, 25.502586868735317, 42.903876324745674, 48.704226192897664, 37.21828686787264, 50.10365919895752], \"Category\": [\"Default\", \"Default\", \"Default\", \"Default\", \"Default\", \"Default\", \"Default\", \"Default\", \"Default\", \"Default\", \"Default\", \"Default\", \"Default\", \"Default\", \"Default\", \"Default\", \"Default\", \"Default\", \"Default\", \"Default\", \"Default\", \"Default\", \"Default\", \"Default\", \"Default\", \"Default\", \"Default\", \"Default\", \"Default\", \"Default\", \"Topic1\", \"Topic1\", \"Topic1\", \"Topic1\", \"Topic1\", \"Topic1\", \"Topic1\", \"Topic1\", \"Topic1\", \"Topic1\", \"Topic1\", \"Topic1\", \"Topic1\", \"Topic1\", \"Topic1\", \"Topic1\", \"Topic1\", \"Topic1\", \"Topic1\", \"Topic1\", \"Topic1\", \"Topic1\", \"Topic1\", \"Topic1\", \"Topic1\", \"Topic1\", \"Topic1\", \"Topic1\", \"Topic1\", \"Topic1\", \"Topic1\", \"Topic1\", \"Topic1\", \"Topic1\", \"Topic1\", \"Topic1\", \"Topic1\", \"Topic1\", \"Topic1\", \"Topic1\", \"Topic1\", \"Topic1\", \"Topic1\", \"Topic1\", \"Topic1\", \"Topic1\", \"Topic1\", \"Topic1\", \"Topic1\", \"Topic1\", \"Topic1\", \"Topic1\", \"Topic1\", \"Topic1\", \"Topic2\", \"Topic2\", \"Topic2\", \"Topic2\", \"Topic2\", \"Topic2\", \"Topic2\", \"Topic2\", \"Topic2\", \"Topic2\", \"Topic2\", \"Topic2\", \"Topic2\", \"Topic2\", \"Topic2\", \"Topic2\", \"Topic2\", \"Topic2\", \"Topic2\", \"Topic2\", \"Topic2\", \"Topic2\", \"Topic2\", \"Topic2\", \"Topic2\", \"Topic2\", \"Topic2\", \"Topic2\", \"Topic2\", \"Topic2\", \"Topic2\", \"Topic2\", \"Topic2\", \"Topic2\", \"Topic2\", \"Topic2\", \"Topic2\", \"Topic2\", \"Topic2\", \"Topic2\", \"Topic2\", \"Topic2\", \"Topic2\", \"Topic2\", \"Topic2\", \"Topic2\", \"Topic2\", \"Topic2\", \"Topic2\", \"Topic2\", \"Topic2\", \"Topic2\", \"Topic2\", \"Topic3\", \"Topic3\", \"Topic3\", \"Topic3\", \"Topic3\", \"Topic3\", \"Topic3\", \"Topic3\", \"Topic3\", \"Topic3\", \"Topic3\", \"Topic3\", \"Topic3\", \"Topic3\", \"Topic3\", \"Topic3\", \"Topic3\", \"Topic3\", \"Topic3\", \"Topic3\", \"Topic3\", \"Topic3\", \"Topic3\", \"Topic3\", \"Topic3\", \"Topic3\", \"Topic3\", \"Topic3\", \"Topic3\", \"Topic3\", \"Topic3\", \"Topic3\", \"Topic3\", \"Topic3\", \"Topic3\", \"Topic3\", \"Topic3\", \"Topic3\", \"Topic3\", \"Topic3\", \"Topic3\", \"Topic3\", \"Topic3\", \"Topic3\", \"Topic3\", \"Topic3\", \"Topic3\", \"Topic3\", \"Topic3\", \"Topic3\", \"Topic3\", \"Topic3\", \"Topic3\", \"Topic3\", \"Topic4\", \"Topic4\", \"Topic4\", \"Topic4\", \"Topic4\", \"Topic4\", \"Topic4\", \"Topic4\", \"Topic4\", \"Topic4\", \"Topic4\", \"Topic4\", \"Topic4\", \"Topic4\", \"Topic4\", \"Topic4\", \"Topic4\", \"Topic4\", \"Topic4\", \"Topic4\", \"Topic4\", \"Topic4\", \"Topic4\", \"Topic4\", \"Topic4\", \"Topic4\", \"Topic4\", \"Topic4\", \"Topic4\", \"Topic4\", \"Topic4\", \"Topic4\", \"Topic4\", \"Topic4\", \"Topic4\", \"Topic4\", \"Topic4\", \"Topic4\", \"Topic4\", \"Topic4\", \"Topic4\", \"Topic4\", \"Topic4\", \"Topic5\", \"Topic5\", \"Topic5\", \"Topic5\", \"Topic5\", \"Topic5\", \"Topic5\", \"Topic5\", \"Topic5\", \"Topic5\", \"Topic5\", \"Topic5\", \"Topic5\", \"Topic5\", \"Topic5\", \"Topic5\", \"Topic5\", \"Topic5\", \"Topic5\", \"Topic5\", \"Topic5\", \"Topic5\", \"Topic5\", \"Topic5\", \"Topic5\", \"Topic5\", \"Topic5\", \"Topic5\", \"Topic5\", \"Topic5\", \"Topic5\", \"Topic5\", \"Topic5\", \"Topic5\", \"Topic5\", \"Topic5\", \"Topic5\", \"Topic5\", \"Topic5\", \"Topic5\", \"Topic5\", \"Topic5\", \"Topic5\", \"Topic5\", \"Topic5\", \"Topic5\", \"Topic5\", \"Topic5\", \"Topic5\", \"Topic6\", \"Topic6\", \"Topic6\", \"Topic6\", \"Topic6\", \"Topic6\", \"Topic6\", \"Topic6\", \"Topic6\", \"Topic6\", \"Topic6\", \"Topic6\", \"Topic6\", \"Topic6\", \"Topic6\", \"Topic6\", \"Topic6\", \"Topic6\", \"Topic6\", \"Topic6\", \"Topic6\", \"Topic6\", \"Topic6\", \"Topic6\", \"Topic6\", \"Topic6\", \"Topic6\", \"Topic6\", \"Topic6\", \"Topic6\", \"Topic6\", \"Topic6\", \"Topic6\", \"Topic6\", \"Topic6\", \"Topic6\", \"Topic6\", \"Topic6\", \"Topic6\", \"Topic6\", \"Topic6\", \"Topic6\", \"Topic6\", \"Topic6\", \"Topic6\", \"Topic7\", \"Topic7\", \"Topic7\", \"Topic7\", \"Topic7\", \"Topic7\", \"Topic7\", \"Topic7\", \"Topic7\", \"Topic7\", \"Topic7\", \"Topic7\", \"Topic7\", \"Topic7\", \"Topic7\", \"Topic7\", \"Topic7\", \"Topic7\", \"Topic7\", \"Topic7\", \"Topic7\", \"Topic7\", \"Topic7\", \"Topic7\", \"Topic7\", \"Topic7\", \"Topic7\", \"Topic7\", \"Topic7\", \"Topic7\", \"Topic7\", \"Topic7\", \"Topic7\", \"Topic7\", \"Topic7\", \"Topic7\", \"Topic7\", \"Topic7\", \"Topic7\", \"Topic7\", \"Topic7\", \"Topic7\", \"Topic7\", \"Topic7\", \"Topic7\", \"Topic8\", \"Topic8\", \"Topic8\", \"Topic8\", \"Topic8\", \"Topic8\", \"Topic8\", \"Topic8\", \"Topic8\", \"Topic8\", \"Topic8\", \"Topic8\", \"Topic8\", \"Topic8\", \"Topic8\", \"Topic8\", \"Topic8\", \"Topic8\", \"Topic8\", \"Topic8\", \"Topic8\", \"Topic8\", \"Topic8\", \"Topic8\", \"Topic8\", \"Topic8\", \"Topic8\", \"Topic8\", \"Topic8\", \"Topic8\", \"Topic8\", \"Topic8\", \"Topic8\", \"Topic8\", \"Topic8\", \"Topic8\", \"Topic8\", \"Topic8\", \"Topic8\", \"Topic8\", \"Topic8\", \"Topic8\", \"Topic8\", \"Topic8\", \"Topic8\", \"Topic8\", \"Topic8\", \"Topic8\", \"Topic8\", \"Topic8\", \"Topic8\", \"Topic8\", \"Topic9\", \"Topic9\", \"Topic9\", \"Topic9\", \"Topic9\", \"Topic9\", \"Topic9\", \"Topic9\", \"Topic9\", \"Topic9\", \"Topic9\", \"Topic9\", \"Topic9\", \"Topic9\", \"Topic9\", \"Topic9\", \"Topic9\", \"Topic9\", \"Topic9\", \"Topic9\", \"Topic9\", \"Topic9\", \"Topic9\", \"Topic9\", \"Topic9\", \"Topic9\", \"Topic9\", \"Topic9\", \"Topic9\", \"Topic9\", \"Topic9\", \"Topic9\", \"Topic9\", \"Topic9\", \"Topic9\", \"Topic9\", \"Topic9\", \"Topic9\", \"Topic9\", \"Topic9\", \"Topic9\", \"Topic9\", \"Topic9\", \"Topic9\", \"Topic9\", \"Topic9\", \"Topic9\", \"Topic9\", \"Topic9\", \"Topic9\", \"Topic9\", \"Topic9\", \"Topic10\", \"Topic10\", \"Topic10\", \"Topic10\", \"Topic10\", \"Topic10\", \"Topic10\", \"Topic10\", \"Topic10\", \"Topic10\", \"Topic10\", \"Topic10\", \"Topic10\", \"Topic10\", \"Topic10\", \"Topic10\", \"Topic10\", \"Topic10\", \"Topic10\", \"Topic10\", \"Topic10\", \"Topic10\", \"Topic10\", \"Topic10\", \"Topic10\", \"Topic10\", \"Topic10\", \"Topic10\", \"Topic10\", \"Topic10\", \"Topic10\", \"Topic10\", \"Topic10\", \"Topic10\", \"Topic10\", \"Topic10\", \"Topic10\", \"Topic10\", \"Topic10\", \"Topic10\", \"Topic10\", \"Topic10\", \"Topic10\", \"Topic10\", \"Topic10\", \"Topic10\", \"Topic10\", \"Topic10\", \"Topic11\", \"Topic11\", \"Topic11\", \"Topic11\", \"Topic11\", \"Topic11\", \"Topic11\", \"Topic11\", \"Topic11\", \"Topic11\", \"Topic11\", \"Topic11\", \"Topic11\", \"Topic11\", \"Topic11\", \"Topic11\", \"Topic11\", \"Topic11\", \"Topic11\", \"Topic11\", \"Topic11\", \"Topic11\", \"Topic11\", \"Topic11\", \"Topic11\", \"Topic11\", \"Topic11\", \"Topic11\", \"Topic11\", \"Topic11\", \"Topic11\", \"Topic11\", \"Topic11\", \"Topic11\", \"Topic11\", \"Topic11\", \"Topic11\", \"Topic11\", \"Topic11\", \"Topic11\", \"Topic11\", \"Topic11\", \"Topic11\", \"Topic11\", \"Topic11\", \"Topic11\", \"Topic12\", \"Topic12\", \"Topic12\", \"Topic12\", \"Topic12\", \"Topic12\", \"Topic12\", \"Topic12\", \"Topic12\", \"Topic12\", \"Topic12\", \"Topic12\", \"Topic12\", \"Topic12\", \"Topic12\", \"Topic12\", \"Topic12\", \"Topic12\", \"Topic12\", \"Topic12\", \"Topic12\", \"Topic12\", \"Topic12\", \"Topic12\", \"Topic12\", \"Topic12\", \"Topic12\", \"Topic12\", \"Topic12\", \"Topic12\", \"Topic12\", \"Topic12\", \"Topic12\", \"Topic12\", \"Topic12\", \"Topic12\", \"Topic12\", \"Topic12\", \"Topic12\", \"Topic12\", \"Topic12\", \"Topic12\", \"Topic12\", \"Topic12\", \"Topic12\", \"Topic12\", \"Topic12\", \"Topic12\", \"Topic12\", \"Topic12\", \"Topic12\", \"Topic12\", \"Topic12\", \"Topic13\", \"Topic13\", \"Topic13\", \"Topic13\", \"Topic13\", \"Topic13\", \"Topic13\", \"Topic13\", \"Topic13\", \"Topic13\", \"Topic13\", \"Topic13\", \"Topic13\", \"Topic13\", \"Topic13\", \"Topic13\", \"Topic13\", \"Topic13\", \"Topic13\", \"Topic13\", \"Topic13\", \"Topic13\", \"Topic13\", \"Topic13\", \"Topic13\", \"Topic13\", \"Topic13\", \"Topic13\", \"Topic13\", \"Topic13\", \"Topic13\", \"Topic13\", \"Topic13\", \"Topic13\", \"Topic13\", \"Topic13\", \"Topic13\", \"Topic13\", \"Topic13\", \"Topic13\", \"Topic13\", \"Topic13\", \"Topic13\", \"Topic13\", \"Topic13\", \"Topic13\", \"Topic13\", \"Topic14\", \"Topic14\", \"Topic14\", \"Topic14\", \"Topic14\", \"Topic14\", \"Topic14\", \"Topic14\", \"Topic14\", \"Topic14\", \"Topic14\", \"Topic14\", \"Topic14\", \"Topic14\", \"Topic14\", \"Topic14\", \"Topic14\", \"Topic14\", \"Topic14\", \"Topic14\", \"Topic14\", \"Topic14\", \"Topic14\", \"Topic14\", \"Topic14\", \"Topic14\", \"Topic14\", \"Topic14\", \"Topic14\", \"Topic14\", \"Topic14\", \"Topic14\", \"Topic14\", \"Topic14\", \"Topic14\", \"Topic14\", \"Topic14\", \"Topic14\", \"Topic14\", \"Topic14\", \"Topic14\", \"Topic14\", \"Topic14\", \"Topic14\", \"Topic14\", \"Topic14\", \"Topic15\", \"Topic15\", \"Topic15\", \"Topic15\", \"Topic15\", \"Topic15\", \"Topic15\", \"Topic15\", \"Topic15\", \"Topic15\", \"Topic15\", \"Topic15\", \"Topic15\", \"Topic15\", \"Topic15\", \"Topic15\", \"Topic15\", \"Topic15\", \"Topic15\", \"Topic15\", \"Topic15\", \"Topic15\", \"Topic15\", \"Topic15\", \"Topic15\", \"Topic15\", \"Topic15\", \"Topic15\", \"Topic15\", \"Topic15\", \"Topic15\", \"Topic15\", \"Topic15\", \"Topic15\", \"Topic15\", \"Topic15\", \"Topic15\", \"Topic15\", \"Topic15\", \"Topic15\", \"Topic15\", \"Topic15\", \"Topic15\", \"Topic15\", \"Topic15\", \"Topic15\", \"Topic15\", \"Topic16\", \"Topic16\", \"Topic16\", \"Topic16\", \"Topic16\", \"Topic16\", \"Topic16\", \"Topic16\", \"Topic16\", \"Topic16\", \"Topic16\", \"Topic16\", \"Topic16\", \"Topic16\", \"Topic16\", \"Topic16\", \"Topic16\", \"Topic16\", \"Topic16\", \"Topic16\", \"Topic16\", \"Topic16\", \"Topic16\", \"Topic16\", \"Topic16\", \"Topic16\", \"Topic16\", \"Topic16\", \"Topic16\", \"Topic16\", \"Topic16\", \"Topic16\", \"Topic16\", \"Topic16\", \"Topic16\", \"Topic16\", \"Topic16\", \"Topic16\", \"Topic16\", \"Topic16\", \"Topic16\", \"Topic16\", \"Topic16\", \"Topic16\", \"Topic16\", \"Topic17\", \"Topic17\", \"Topic17\", \"Topic17\", \"Topic17\", \"Topic17\", \"Topic17\", \"Topic17\", \"Topic17\", \"Topic17\", \"Topic17\", \"Topic17\", \"Topic17\", \"Topic17\", \"Topic17\", \"Topic17\", \"Topic17\", \"Topic17\", \"Topic17\", \"Topic17\", \"Topic17\", \"Topic17\", \"Topic17\", \"Topic17\", \"Topic17\", \"Topic17\", \"Topic17\", \"Topic17\", \"Topic17\", \"Topic17\", \"Topic17\", \"Topic17\", \"Topic17\", \"Topic17\", \"Topic17\", \"Topic17\", \"Topic17\", \"Topic17\", \"Topic17\", \"Topic17\", \"Topic17\", \"Topic17\", \"Topic17\", \"Topic17\", \"Topic17\", \"Topic17\", \"Topic17\", \"Topic17\", \"Topic17\", \"Topic17\", \"Topic18\", \"Topic18\", \"Topic18\", \"Topic18\", \"Topic18\", \"Topic18\", \"Topic18\", \"Topic18\", \"Topic18\", \"Topic18\", \"Topic18\", \"Topic18\", \"Topic18\", \"Topic18\", \"Topic18\", \"Topic18\", \"Topic18\", \"Topic18\", \"Topic18\", \"Topic18\", \"Topic18\", \"Topic18\", \"Topic18\", \"Topic18\", \"Topic18\", \"Topic18\", \"Topic18\", \"Topic18\", \"Topic18\", \"Topic18\", \"Topic18\", \"Topic18\", \"Topic18\", \"Topic18\", \"Topic18\", \"Topic18\", \"Topic18\", \"Topic18\", \"Topic18\", \"Topic18\", \"Topic18\", \"Topic18\", \"Topic18\", \"Topic18\", \"Topic18\", \"Topic19\", \"Topic19\", \"Topic19\", \"Topic19\", \"Topic19\", \"Topic19\", \"Topic19\", \"Topic19\", \"Topic19\", \"Topic19\", \"Topic19\", \"Topic19\", \"Topic19\", \"Topic19\", \"Topic19\", \"Topic19\", \"Topic19\", \"Topic19\", \"Topic19\", \"Topic19\", \"Topic19\", \"Topic19\", \"Topic19\", \"Topic19\", \"Topic19\", \"Topic19\", \"Topic19\", \"Topic19\", \"Topic19\", \"Topic19\", \"Topic19\", \"Topic19\", \"Topic19\", \"Topic19\", \"Topic19\", \"Topic19\", \"Topic19\", \"Topic19\", \"Topic19\", \"Topic19\", \"Topic19\", \"Topic19\", \"Topic19\", \"Topic19\", \"Topic19\", \"Topic19\", \"Topic19\", \"Topic19\", \"Topic19\", \"Topic19\", \"Topic19\", \"Topic20\", \"Topic20\", \"Topic20\", \"Topic20\", \"Topic20\", \"Topic20\", \"Topic20\", \"Topic20\", \"Topic20\", \"Topic20\", \"Topic20\", \"Topic20\", \"Topic20\", \"Topic20\", \"Topic20\", \"Topic20\", \"Topic20\", \"Topic20\", \"Topic20\", \"Topic20\", \"Topic20\", \"Topic20\", \"Topic20\", \"Topic20\", \"Topic20\", \"Topic20\", \"Topic20\", \"Topic20\", \"Topic20\", \"Topic20\", \"Topic20\", \"Topic20\", \"Topic20\", \"Topic20\", \"Topic20\", \"Topic20\", \"Topic20\", \"Topic20\", \"Topic20\", \"Topic20\", \"Topic20\", \"Topic20\", \"Topic20\", \"Topic20\", \"Topic20\"], \"logprob\": [30.0, 29.0, 28.0, 27.0, 26.0, 25.0, 24.0, 23.0, 22.0, 21.0, 20.0, 19.0, 18.0, 17.0, 16.0, 15.0, 14.0, 13.0, 12.0, 11.0, 10.0, 9.0, 8.0, 7.0, 6.0, 5.0, 4.0, 3.0, 2.0, 1.0, -2.3515, -4.6786, -4.0535, -4.9677, -5.2354, -4.023, -5.3901, -5.0939, -5.5505, -5.5506, -4.8388, -4.4376, -5.7414, -5.7414, -5.7414, -5.7416, -5.8044, -5.8045, -3.368, -5.8718, -5.8721, -5.9778, -5.3201, -6.1459, -3.2809, -5.3789, -6.2877, -6.2879, -6.288, -6.288, -4.4144, -5.1375, -3.0466, -5.2603, -4.349, -3.9437, -4.3461, -4.288, -3.4277, -2.9602, -3.9885, -3.5219, -3.9247, -4.6043, -4.1489, -4.271, -4.6387, -3.7854, -4.7792, -4.8255, -4.8188, -4.7275, -4.8227, -4.9311, -4.5357, -5.0079, -5.3454, -4.0925, -5.4353, -4.4016, -3.7344, -5.6966, -5.6967, -4.3709, -5.933, -5.9333, -6.0135, -6.0135, -5.1215, -6.243, -6.2432, -6.2435, -6.2435, -6.2435, -4.9073, -5.7647, -5.3537, -4.8096, -5.2163, -5.9332, -4.0353, -6.0136, -6.6947, -6.6947, -1.6138, -2.7922, -3.8265, -2.9092, -4.4731, -4.3834, -3.7427, -4.4155, -5.2305, -2.9891, -4.6776, -4.1379, -4.2112, -4.2036, -4.9521, -4.0069, -4.4692, -4.6833, -4.808, -4.8958, -5.1316, -5.0005, -4.887, -2.1265, -4.5876, -4.7003, -4.7038, -5.1278, -4.8357, -5.5195, -5.6254, -5.7059, -5.706, -4.4885, -5.8896, -5.9354, -6.0471, -5.6254, -5.7078, -6.387, -6.3871, -6.3872, -6.3873, -6.3874, -6.3874, -6.3876, -6.3877, -6.3878, -6.3881, -2.0356, -5.258, -4.3524, -5.8896, -4.3649, -3.845, -5.248, -1.6017, -4.5874, -5.3729, -4.5978, -5.4521, -5.5128, -5.2789, -4.9203, -3.3999, -4.5801, -3.4623, -4.2622, -4.514, -4.3558, -4.437, -4.7462, -4.9467, -4.9925, -5.119, -5.2019, -5.2079, -4.7337, -5.1349, -5.1349, -1.3545, -5.3262, -5.3262, -5.389, -5.4562, -5.5623, -5.5624, -5.5626, -3.9371, -5.7304, -5.7306, -2.47, -5.8722, -5.8723, -6.3238, -6.3238, -6.3239, -6.3241, -6.3247, -6.3249, -6.3252, -5.4641, -5.4022, -6.0069, -5.9838, -3.451, -6.5053, -3.5222, -2.2594, -2.2329, -3.2055, -4.2204, -4.82, -5.1881, -4.8743, -4.3137, -5.4779, -5.2218, -5.6244, -5.6427, -3.7351, -3.9872, -4.2706, -4.4813, -4.6442, -4.8038, -4.8039, -3.6044, -4.2567, -4.9936, -5.255, -5.2552, -4.6327, -3.6108, -5.4912, -5.4913, -5.4913, -5.4914, -5.4915, -5.4918, -5.5718, -5.5719, -2.6299, -5.8012, -5.8014, -5.8016, -5.802, -5.8024, -5.9128, -5.913, -4.1942, -4.1253, -4.7078, -4.1457, -3.0077, -2.6625, -3.335, -4.8081, -4.6392, -4.0582, -3.8819, -4.9114, -4.6275, -3.9119, -5.1518, -4.6285, -4.7502, -4.5988, -4.2746, -2.8795, -4.4468, -4.6296, -4.7812, -5.0961, -5.0961, -2.0771, -5.2603, -2.7174, -5.3503, -5.5234, -5.5235, -5.5242, -5.6916, -5.8334, -5.8335, -5.8342, -4.9176, -4.9475, -5.5234, -4.9667, -6.2852, -6.2853, -6.2854, -6.4664, -4.9168, -4.823, -5.1478, -2.037, -7.1312, -5.317, -1.8793, -4.3942, -4.2437, -4.1674, -3.1568, -4.7808, -5.2016, -4.6821, -4.5736, -4.3865, -4.7705, -4.8486, -5.0005, -5.0807, -3.3084, -3.4842, -2.3316, -1.9145, -3.7758, -4.5076, -5.4772, -5.4774, -5.4775, -5.5579, -4.2958, -5.1018, -5.7874, -5.7875, -5.7877, -3.5177, -5.8987, -5.4773, -5.3041, -5.558, -6.239, -6.2393, -6.2393, -6.2397, -6.2397, -6.2404, -4.7351, -1.9939, -5.7874, -3.9599, -3.4189, -4.3367, -3.4215, -4.7011, -3.3259, -4.7634, -3.7105, -4.5248, -3.9561, -4.0902, -5.3713, -4.5551, -4.9312, -5.2687, -5.2201, -3.582, -3.9866, -4.2259, -4.5412, -4.0945, -3.6363, -4.8592, -4.9755, -4.3473, -3.1632, -4.5745, -5.2297, -5.2969, -5.3691, -5.403, -5.713, -5.713, -5.7135, -3.9544, -3.0341, -4.3552, -4.9824, -5.403, -6.1646, -6.1646, -6.1647, -6.1647, -6.1647, -6.1648, -6.1648, -3.2488, -3.7818, -2.997, -5.7131, -5.7129, -5.7131, -4.1918, -3.1793, -5.4377, -3.7884, -4.7732, -3.8934, -3.8708, -3.6819, -4.0651, -4.7283, -4.5251, -4.5668, -4.6435, -4.7129, -4.476, -4.6911, -4.2694, -4.6892, -4.741, -3.4667, -4.8802, -4.8803, -4.8803, -4.8803, -4.9433, -4.3381, -4.3773, -5.1166, -5.1972, -5.2848, -5.4266, -5.4266, -5.4266, -5.4268, -5.427, -5.5381, -4.182, -2.8937, -3.6946, -4.9305, -5.1971, -5.8782, -5.8783, -5.8783, -5.8783, -5.8784, -3.8699, -2.2813, -4.4712, -4.4296, -4.6892, -4.7942, -3.9743, -4.7483, -4.989, -3.9392, -4.1666, -3.9228, -4.5058, -4.0099, -4.1914, -4.6821, -4.3102, -4.3795, -4.4322, -4.7215, -4.758, -4.7489, -3.4292, -4.2037, -3.6247, -4.8292, -4.8293, -4.8922, -4.9605, -4.342, -5.0655, -5.1462, -5.3754, -5.3755, -5.3757, -5.3758, -5.487, -5.4871, -5.4874, -5.4874, -4.4176, -5.8272, -5.8272, -5.8279, -4.4193, -6.0087, -5.3756, -5.1076, -3.8724, -2.5089, -3.5371, -4.479, -3.5125, -3.5311, -2.761, -3.642, -4.497, -4.6574, -4.8728, -3.6856, -3.7148, -3.3767, -4.452, -4.9569, -4.4392, -4.081, -4.6031, -4.0009, -4.751, -4.8314, -2.9954, -3.4705, -3.5272, -4.0301, -4.2419, -4.2419, -4.4676, -4.4677, -4.5117, -4.628, -4.628, -4.7343, -3.9435, -4.2429, -4.5928, -5.3653, -5.3653, -3.9485, -5.4768, -4.4988, -4.2829, -3.7261, -5.8169, -5.8169, -5.8169, -5.817, -5.817, -5.817, -5.817, -5.8171, -4.2098, -3.9893, -5.4769, -3.9406, -3.3202, -4.3164, -5.3652, -2.8729, -4.2486, -4.5189, -4.1114, -4.5244, -4.4634, -4.3152, -4.2014, -4.4028, -4.012, -2.5949, -4.8135, -4.8764, -5.0497, -5.0498, -5.218, -5.3597, -5.3597, -5.3598, -5.3598, -5.3599, -5.4712, -4.6814, -5.5969, -4.7921, -5.1304, -1.9393, -5.8113, -5.8114, -5.8114, -5.8114, -5.8115, -5.8116, -5.8116, -5.8116, -5.8116, -5.8117, -2.7046, -5.9941, -4.4432, -4.052, -4.8181, -4.4636, -4.6024, -4.4537, -4.5602, -5.0668, -5.1173, -4.6902, -3.4022, -4.0739, -3.8064, -4.4529, -4.3284, -4.9267, -5.0467, -4.3648, -4.5478, -4.9352, -4.8612, -4.9097, -5.0411, -2.794, -4.1108, -3.0832, -3.7413, -4.5057, -4.7863, -4.8131, -4.2208, -4.8761, -3.3954, -5.1299, -5.13, -5.13, -5.2176, -3.8962, -5.3593, -5.3594, -5.3594, -5.3594, -5.3595, -5.3596, -5.3596, -5.3597, -5.3599, -5.4709, -4.8193, -4.3033, -5.811, -5.811, -5.8111, -3.5416, -4.7379, -3.5735, -2.9166, -3.6511, -3.2782, -4.1765, -4.8506, -3.6733, -4.3055, -4.8338, -4.9949, -4.4572, -4.8353, -4.9551, -5.0598, -5.1144, -3.5527, -3.785, -4.0916, -4.4464, -4.61, -4.7253, -4.7494, -4.8123, -4.9855, -4.9855, -3.4596, -5.2955, -4.7495, -4.7493, -5.4071, -5.7473, -5.7474, -5.7474, -5.7478, -5.7481, -5.9285, -2.7927, -4.9518, -3.7027, -5.4073, -2.2804, -4.6819, -5.7473, -5.7472, -5.1697, -4.3303, -4.8298, -3.0223, -4.8292, -3.829, -4.9855, -4.4325, -4.5385, -4.609, -4.443, -3.408, -4.3357, -4.1899, -4.6084, -4.7939, -4.7575, -2.3246, -4.2291, -4.5411, -4.6804, -4.8106, -4.9166, -4.9166, -4.9167, -4.9168, -4.9972, -5.0849, -5.2266, -5.2268, -5.2268, -5.2268, -5.2269, -5.3381, -5.3382, -3.9023, -4.2943, -4.9539, -5.6783, -5.6784, -5.6785, -5.6785, -5.6787, -5.6788, -5.6797, -4.3101, -4.1848, -2.8913, -3.2871, -3.3692, -2.4829, -5.1394, -4.603, -4.71, -4.8191, -4.9167, -4.374, -4.3141, -4.619, -4.6727, -4.8161, -4.8222, -5.0465, -5.0356, -3.4326, -2.5093, -3.8531, -4.2566, -3.7807, -4.517, -4.6233, -4.5868, -4.7079, -4.708, -4.7083, -4.7711, -4.7712, -4.8383, -4.9442, -4.9444, -5.0247, -4.4598, -5.3657, -5.3658, -5.3664, -3.7594, -3.4412, -4.2567, -5.706, -5.706, -5.7062, -3.958, -5.8871, -4.9392, -3.9032, -3.1794, -3.8495, -5.1124, -4.6236, -4.3695, -4.0844, -2.9858, -3.2797, -4.157, -3.3518, -4.1269, -4.3737, -4.3628, -4.5244, -3.3111, -4.0019, -4.0356, -4.4217, -4.0356, -4.743, -4.849, -4.8492, -4.8492, -4.8494, -4.9295, -4.9296, -4.9297, -5.159, -5.1592, -5.1592, -5.2705, -5.2707, -5.2707, -4.0204, -3.9593, -4.849, -5.6107, -5.6107, -5.6107, -5.6109, -5.6109, -5.611, -5.6111, -5.6114, -4.6198, -3.3736, -4.6757, -4.6358, -5.1591, -4.0697, -4.3561, -3.3192, -3.9856, -3.9674, -4.0234, -4.902, -4.1279, -3.5069, -4.283, -4.3071, -3.9234, -4.2473, -4.796, -4.7686, -2.9134, -3.2391, -3.713, -3.7694, -4.0085, -4.3234, -4.3519, -4.751, -3.2869, -4.8313, -4.9189, -4.0263, -5.0607, -5.0608, -5.0609, -4.2617, -1.9657, -4.3409, -5.5124, -5.5124, -5.5125, -5.5126, -5.5131, -5.0608, -5.6936, -5.6936, -5.0735, -5.1725, -5.5124, -4.4877, -4.1228, -3.5606, -4.5925, -4.8238, -4.5676, -5.1332, -5.1728, -4.119, -4.8314, -4.421, -4.3937, -4.778, -4.9605, -4.9189, -4.9177, -3.5608, -3.5184, -5.0826, -5.0827, -5.0827, -4.7417, -5.4227, -5.4228, -5.4229, -5.4229, -5.423, -5.4233, -5.4234, -3.6666, -5.0826, -5.0826, -4.4248, -3.6984, -3.0156, -6.2688, -6.2688, -6.2688, -6.2688, -6.2689, -6.2689, -6.2689, -6.2689, -6.2689, -6.2689, -6.2689, -3.9735, -4.311, -2.8765, -3.7675, -3.4793, -2.9795, -3.8393, -4.3559, -4.9711, -3.4464, -4.7098, -4.0992, -4.1114, -4.8293, -4.4703, -4.8881, -4.6078, -4.8777, -4.8709, -4.9382, -5.0826, -1.4623, -2.9493, -4.0454, -4.1111, -4.3725, -4.3728, -2.7537, -4.609, -4.6092, -4.9188, -4.919, -5.0305, -5.3704, -5.3706, -4.9188, -3.9456, -4.7788, -4.7765, -4.919, -6.2165, -6.2165, -6.2165, -6.2165, -6.2165, -6.2166, -6.2166, -6.2166, -6.2168, -6.2169, -6.217, -4.2907, -5.0817, -4.9189, -3.3279, -4.531, -3.9094, -5.3909, -3.3322, -4.7966, -5.3704, -4.9816, -5.0688, -5.06, -5.1523, -5.3195], \"loglift\": [30.0, 29.0, 28.0, 27.0, 26.0, 25.0, 24.0, 23.0, 22.0, 21.0, 20.0, 19.0, 18.0, 17.0, 16.0, 15.0, 14.0, 13.0, 12.0, 11.0, 10.0, 9.0, 8.0, 7.0, 6.0, 5.0, 4.0, 3.0, 2.0, 1.0, 2.2339, 2.2036, 2.1965, 2.1862, 2.1653, 2.1542, 2.1507, 2.1407, 2.1333, 2.1333, 2.1208, 2.1193, 2.109, 2.109, 2.109, 2.109, 2.1001, 2.1001, 2.0992, 2.09, 2.0899, 2.0729, 2.0693, 2.0425, 2.036, 2.0278, 2.0134, 2.0134, 2.0134, 2.0134, 1.9828, 1.9962, 1.8314, 1.9368, 1.7703, 1.57, 1.6006, 1.4825, 0.8737, 0.6004, 1.1324, 0.8627, 0.8812, 1.3291, 0.9281, 0.9867, 0.9493, -0.3895, 1.1416, 1.1734, 1.0802, 0.3568, 0.265, 0.2269, 2.2557, 2.2272, 2.1977, 2.1914, 2.1882, 2.1656, 2.1595, 2.1559, 2.1559, 2.1496, 2.1197, 2.1196, 2.1056, 2.1056, 2.0822, 2.0601, 2.0601, 2.06, 2.06, 2.06, 2.0545, 2.0201, 1.9928, 1.9817, 1.9816, 1.9805, 1.9684, 1.954, 1.9433, 1.9433, 1.7821, 1.8216, 1.6741, 1.4754, 1.6101, 1.5749, 1.2777, 1.4834, 1.6713, 0.5714, 1.3214, 0.9498, 0.955, 0.8734, 1.428, 0.2328, 0.4088, 0.2554, 0.35, 0.4696, 1.3377, 0.213, -1.2406, 2.5879, 2.5841, 2.5757, 2.5755, 2.535, 2.4845, 2.4815, 2.4637, 2.4491, 2.4491, 2.4139, 2.412, 2.4018, 2.3756, 2.3233, 2.2943, 2.281, 2.281, 2.2809, 2.2809, 2.2809, 2.2809, 2.2808, 2.2808, 2.2807, 2.2807, 2.2657, 2.2652, 2.264, 2.2372, 2.2352, 2.2261, 2.2123, 1.9588, 2.1292, 2.1426, 1.9856, 2.1141, 2.1014, 2.0378, 1.8158, 0.8398, 1.4438, 0.1841, 0.8221, 1.0353, 0.8023, 0.6788, 0.6365, 0.3228, 0.057, 0.485, 0.5237, 0.3801, 2.6275, 2.5865, 2.5865, 2.5707, 2.5612, 2.5612, 2.5519, 2.5414, 2.5237, 2.5237, 2.5236, 2.5195, 2.4921, 2.4921, 2.4687, 2.462, 2.462, 2.3415, 2.3415, 2.3415, 2.3414, 2.3412, 2.3412, 2.3411, 2.2857, 2.2637, 2.2117, 2.1704, 2.1148, 2.007, 1.945, 1.3869, 1.163, 1.4083, 1.6572, 1.8197, 1.8256, 1.5671, 1.187, 1.8082, -0.1448, 1.3096, 1.2392, 2.7561, 2.746, 2.731, 2.7175, 2.7048, 2.6904, 2.6904, 2.6806, 2.6739, 2.6704, 2.6367, 2.6366, 2.6312, 2.6163, 2.599, 2.599, 2.599, 2.5989, 2.5989, 2.5989, 2.5843, 2.5843, 2.5836, 2.537, 2.537, 2.537, 2.5369, 2.5368, 2.5108, 2.5108, 2.4892, 2.473, 2.4768, 2.3467, 2.108, 1.7175, 1.8043, 2.0984, 1.8438, 1.3072, 0.986, 2.0084, 1.6981, 0.4728, 2.0573, 0.9802, 0.9755, 0.4507, -0.714, 2.7508, 2.7199, 2.706, 2.6925, 2.658, 2.658, 2.6489, 2.6358, 2.6294, 2.6222, 2.593, 2.593, 2.5929, 2.5605, 2.5294, 2.5294, 2.5292, 2.4486, 2.4461, 2.4382, 2.4237, 2.4054, 2.4053, 2.4053, 2.3436, 2.3082, 2.2967, 2.2751, 2.2028, 2.0498, 1.963, 1.767, 1.6769, 1.6094, 1.3463, 0.7684, 1.5025, 1.8335, 0.7006, 0.4759, -0.0019, 0.6967, 0.7394, 0.8788, -1.6847, 2.7857, 2.7812, 2.7357, 2.725, 2.6652, 2.6391, 2.6159, 2.6159, 2.6159, 2.6012, 2.5992, 2.563, 2.5538, 2.5537, 2.5537, 2.5453, 2.5275, 2.4695, 2.4625, 2.4439, 2.4324, 2.4323, 2.4323, 2.4322, 2.4322, 2.432, 2.4172, 2.3861, 2.3712, 2.2481, 1.9967, 2.1455, 1.9439, 2.0329, 1.5419, 1.967, 1.5894, 1.6152, 1.2019, 0.6358, 1.9086, -0.9087, -1.3707, 0.6106, 0.0494, 2.8216, 2.8055, 2.7927, 2.7706, 2.7543, 2.7429, 2.7409, 2.7277, 2.7179, 2.7014, 2.6957, 2.6938, 2.6835, 2.6718, 2.6661, 2.6055, 2.6055, 2.6054, 2.5822, 2.5698, 2.5629, 2.5259, 2.5221, 2.4869, 2.4869, 2.4869, 2.4869, 2.4869, 2.4868, 2.4868, 2.4174, 2.4187, 2.1239, 2.4364, 2.4294, 2.4242, 2.1883, 1.96, 2.364, 1.7774, 2.1033, 1.4927, 1.3987, 1.1961, 1.0119, 1.7523, 1.2453, 1.0418, 1.2096, 0.7878, -0.8296, -0.3065, 3.0985, 3.0549, 3.0483, 3.0458, 3.029, 3.029, 3.029, 3.029, 3.0195, 3.0139, 3.0061, 2.9906, 2.9757, 2.9583, 2.9276, 2.9276, 2.9276, 2.9275, 2.9275, 2.9009, 2.8872, 2.872, 2.8546, 2.8272, 2.8193, 2.8047, 2.8046, 2.8046, 2.8046, 2.8046, 2.7587, 2.5865, 2.6714, 2.6055, 2.6299, 2.5894, 2.1978, 2.5378, 2.648, 1.94, 1.988, 1.3467, 1.9747, 1.29, 0.9479, 1.8551, 0.8107, 1.0067, -0.1308, 1.5046, 1.6115, 1.0216, 3.169, 3.1239, 3.0636, 3.055, 3.055, 3.0458, 3.0344, 3.0304, 3.0176, 3.0031, 2.9562, 2.9562, 2.9561, 2.9561, 2.9301, 2.9301, 2.93, 2.93, 2.8686, 2.8359, 2.8359, 2.8357, 2.7783, 2.7758, 2.7754, 2.7525, 2.7502, 2.7488, 2.6889, 2.6195, 2.5182, 2.4929, 2.2885, 2.2788, 2.4095, 2.3869, 2.4398, 1.3914, 1.401, 1.008, 1.8314, 2.4354, 1.7153, 1.1885, 1.6784, 0.2389, 0.6351, 1.0129, 3.2031, 3.1871, 3.1841, 3.1557, 3.1394, 3.1394, 3.1178, 3.1178, 3.113, 3.0995, 3.0995, 3.0858, 3.0247, 2.9933, 2.9756, 2.9743, 2.9743, 2.9717, 2.948, 2.9131, 2.893, 2.8801, 2.8532, 2.8531, 2.8531, 2.8531, 2.8531, 2.8531, 2.8531, 2.8531, 2.8165, 2.5929, 2.7546, 2.2894, 1.8379, 1.9703, 2.5837, 0.6877, 1.5171, 1.7508, 0.9729, 1.4224, 0.9227, 0.3991, -0.8055, -0.7564, 3.1662, 3.13, 3.0829, 3.0736, 3.0451, 3.045, 3.0132, 2.9828, 2.9828, 2.9828, 2.9828, 2.9828, 2.9565, 2.9459, 2.924, 2.9177, 2.8781, 2.8666, 2.8613, 2.8613, 2.8613, 2.8613, 2.8613, 2.8612, 2.8612, 2.8612, 2.8612, 2.8612, 2.8447, 2.7993, 2.792, 2.764, 2.7467, 2.6518, 2.6516, 2.6045, 2.6082, 2.6496, 2.6637, 2.3218, 1.6473, 1.9567, 1.3094, 1.8164, 1.3378, 2.2337, 2.3879, 1.0179, 0.5365, 1.547, 1.0034, -1.2633, 0.036, 3.2201, 3.1616, 3.135, 3.1307, 3.1247, 3.0893, 3.0855, 3.0802, 3.0761, 3.0392, 3.0328, 3.0328, 3.0328, 3.0156, 2.9919, 2.9852, 2.9852, 2.9852, 2.9851, 2.9851, 2.9851, 2.9851, 2.9851, 2.985, 2.9587, 2.9526, 2.8743, 2.8634, 2.8634, 2.8634, 2.8279, 2.8409, 2.708, 2.499, 2.6182, 2.3098, 2.522, 2.6766, 1.7095, 2.0201, 2.0704, 1.7712, -0.1559, 0.3041, -1.3945, 0.9391, 0.7796, 3.2496, 3.237, 3.2156, 3.1776, 3.1624, 3.1445, 3.1435, 3.1341, 3.1058, 3.1058, 3.0469, 3.0438, 3.0237, 3.0221, 3.0175, 2.9226, 2.9226, 2.9225, 2.9224, 2.9223, 2.8621, 2.8159, 2.7875, 2.7665, 2.7573, 2.7399, 2.7111, 2.6789, 2.6775, 2.6536, 2.5895, 2.5263, 2.062, 2.5061, 2.0486, 2.5092, 2.1901, 1.9213, 1.9731, 1.7241, 0.2384, 1.1315, -0.794, 0.6611, 1.656, 1.0956, 3.3369, 3.2521, 3.2177, 3.199, 3.1794, 3.1618, 3.1618, 3.1618, 3.1618, 3.1474, 3.1305, 3.1006, 3.1006, 3.1006, 3.1006, 3.1006, 3.0747, 3.0747, 3.0616, 3.0312, 2.9849, 2.981, 2.9809, 2.9809, 2.9809, 2.9808, 2.9808, 2.9805, 2.9785, 2.9705, 2.9529, 2.8527, 2.7979, 2.6049, 2.916, 2.6279, 2.572, 2.6165, 2.6045, 1.7981, 1.5651, 0.5391, 0.7101, 1.3239, 0.6785, 1.9672, 0.2813, 3.3069, 3.2848, 3.2834, 3.2503, 3.2344, 3.2215, 3.2077, 3.1959, 3.1958, 3.1958, 3.1957, 3.1863, 3.1863, 3.1756, 3.1576, 3.1576, 3.1428, 3.1205, 3.0684, 3.0684, 3.0682, 3.0626, 3.0185, 2.9885, 2.9725, 2.9725, 2.9725, 2.9292, 2.9115, 2.8714, 2.8557, 2.8134, 2.6003, 2.7615, 2.4218, 2.1135, 1.8145, 0.6606, 0.96, 1.6962, 0.0441, 1.3403, 1.0935, 0.7249, 1.4091, 3.3762, 3.3341, 3.3312, 3.2919, 3.2565, 3.2472, 3.2296, 3.2296, 3.2295, 3.2295, 3.2151, 3.2151, 3.2151, 3.1684, 3.1683, 3.1683, 3.1425, 3.1424, 3.1424, 3.1276, 3.0957, 3.0882, 3.0487, 3.0487, 3.0487, 3.0487, 3.0486, 3.0486, 3.0486, 3.0485, 2.9982, 2.8962, 2.9743, 2.948, 2.9908, 2.7616, 2.7051, 2.4064, 2.4558, 2.1158, 2.1166, 2.7658, 1.6426, -0.111, 1.2663, 1.0756, -0.277, 0.837, 2.2495, 0.3707, 3.4801, 3.4678, 3.4414, 3.4374, 3.418, 3.3851, 3.3816, 3.3231, 3.3143, 3.3087, 3.292, 3.2903, 3.2622, 3.2622, 3.2622, 3.2015, 3.2005, 3.1744, 3.1431, 3.1431, 3.1431, 3.143, 3.1429, 3.086, 3.0835, 3.0835, 3.0702, 3.0424, 2.901, 2.8981, 2.8137, 2.7261, 2.8039, 2.77, 2.5042, 2.8638, 2.8798, 1.9117, 2.4554, 1.7188, 0.6833, 1.2148, 2.2747, 1.5633, -1.5218, 3.5108, 3.4258, 3.3536, 3.3535, 3.3535, 3.2701, 3.2576, 3.2575, 3.2575, 3.2575, 3.2575, 3.2574, 3.2573, 3.2153, 3.1559, 3.1456, 3.1137, 2.9973, 2.9427, 2.9052, 2.9052, 2.9052, 2.9052, 2.9052, 2.9052, 2.9052, 2.9052, 2.9052, 2.9052, 2.9052, 2.9031, 2.7845, 2.5096, 2.6171, 2.4542, 2.3204, 2.28, 2.3782, 2.4319, 1.1675, 1.8724, 1.1703, 0.8273, 1.9322, 0.8466, 1.5941, 0.4764, 1.4057, 0.854, -1.5423, 0.526, 3.7264, 3.6937, 3.6143, 3.6066, 3.5709, 3.5709, 3.5332, 3.5311, 3.5311, 3.4659, 3.4659, 3.4384, 3.3392, 3.3391, 3.2769, 3.2652, 3.2039, 3.1252, 3.0604, 2.9774, 2.9774, 2.9774, 2.9774, 2.9774, 2.9774, 2.9774, 2.9774, 2.9772, 2.9772, 2.9771, 2.9699, 2.9489, 2.9252, 2.1858, 2.4827, 1.5578, 2.4562, 0.3141, 1.4114, 2.0131, 1.4594, 0.852, 0.734, 0.9107, 0.4462]}, \"token.table\": {\"Topic\": [20, 19, 10, 17, 12, 3, 11, 15, 18, 13, 16, 1, 16, 11, 4, 14, 20, 5, 5, 7, 2, 16, 9, 4, 1, 14, 1, 12, 15, 16, 9, 10, 20, 13, 5, 9, 1, 2, 8, 13, 16, 13, 15, 13, 20, 2, 7, 8, 15, 17, 3, 15, 18, 2, 3, 17, 2, 5, 10, 11, 3, 1, 4, 5, 9, 9, 19, 3, 6, 8, 20, 4, 6, 8, 1, 16, 17, 18, 3, 2, 1, 13, 14, 6, 13, 7, 11, 14, 19, 14, 15, 17, 4, 14, 3, 1, 6, 10, 11, 13, 19, 13, 12, 19, 11, 5, 8, 14, 19, 1, 2, 8, 11, 14, 15, 5, 8, 5, 17, 3, 18, 4, 9, 4, 18, 13, 3, 5, 1, 5, 19, 18, 12, 14, 1, 15, 17, 18, 15, 13, 14, 15, 1, 3, 6, 12, 20, 1, 3, 1, 8, 2, 12, 13, 16, 18, 6, 8, 17, 2, 9, 17, 1, 12, 3, 5, 6, 10, 17, 18, 8, 9, 20, 9, 3, 9, 11, 13, 1, 18, 15, 8, 10, 11, 12, 9, 10, 10, 9, 11, 5, 9, 11, 20, 14, 18, 11, 1, 2, 3, 5, 6, 7, 12, 13, 15, 17, 6, 12, 1, 2, 6, 8, 11, 15, 1, 2, 7, 14, 16, 14, 20, 13, 17, 1, 3, 5, 8, 9, 17, 9, 12, 2, 5, 12, 16, 2, 12, 15, 4, 11, 1, 17, 18, 10, 17, 19, 2, 19, 16, 9, 11, 14, 11, 1, 2, 9, 10, 13, 20, 7, 8, 15, 5, 12, 15, 11, 19, 17, 10, 17, 19, 1, 4, 17, 18, 1, 19, 4, 1, 8, 9, 17, 18, 1, 17, 5, 19, 8, 20, 6, 9, 9, 13, 18, 1, 3, 9, 13, 18, 13, 16, 8, 7, 20, 5, 10, 4, 5, 12, 1, 2, 5, 6, 7, 11, 12, 19, 20, 14, 12, 5, 8, 15, 10, 16, 20, 11, 11, 17, 5, 13, 17, 19, 14, 20, 4, 3, 5, 11, 13, 14, 17, 14, 4, 16, 2, 7, 9, 11, 15, 17, 1, 5, 10, 14, 19, 20, 3, 8, 2, 3, 4, 15, 16, 11, 19, 4, 3, 10, 11, 5, 9, 13, 1, 2, 4, 8, 15, 9, 14, 19, 2, 4, 11, 19, 8, 17, 4, 7, 19, 9, 15, 2, 14, 6, 14, 16, 4, 11, 14, 2, 3, 5, 6, 7, 10, 12, 13, 10, 14, 15, 2, 6, 8, 14, 16, 2, 5, 9, 17, 4, 1, 2, 10, 2, 9, 13, 15, 3, 19, 15, 1, 2, 17, 11, 13, 5, 15, 17, 6, 19, 18, 13, 15, 13, 4, 2, 3, 7, 8, 9, 10, 14, 16, 18, 19, 17, 12, 5, 11, 18, 8, 1, 4, 6, 15, 18, 11, 1, 10, 12, 16, 19, 1, 5, 9, 1, 11, 1, 14, 2, 5, 15, 16, 20, 12, 18, 3, 12, 17, 3, 7, 1, 3, 7, 8, 9, 10, 16, 3, 15, 16, 8, 3, 5, 2, 13, 20, 2, 5, 13, 20, 3, 4, 12, 12, 20, 5, 7, 13, 7, 5, 7, 1, 3, 14, 18, 12, 4, 1, 4, 8, 9, 17, 18, 10, 9, 10, 1, 2, 8, 15, 16, 1, 15, 2, 3, 5, 10, 13, 15, 7, 18, 5, 9, 10, 11, 15, 17, 20, 17, 14, 1, 2, 8, 1, 10, 16, 14, 3, 11, 5, 14, 11, 14, 15, 19, 12, 17, 15, 6, 14, 16, 1, 2, 4, 6, 11, 14, 16, 17, 18, 19, 19, 2, 4, 13, 19, 5, 15, 16, 14, 4, 1, 11, 17, 8, 10, 17, 5, 14, 15, 20, 16, 11, 3, 14, 12, 10, 17, 8, 6, 13, 19, 4, 5, 18, 6, 7, 10, 2, 5, 12, 13, 20, 13, 10, 3, 8, 6, 14, 1, 3, 5, 8, 9, 13, 13, 13, 9, 12, 4, 4, 20, 5, 7, 13, 17, 2, 1, 2, 3, 5, 7, 11, 15, 17, 1, 19, 4, 6, 18, 7, 1, 5, 6, 5, 17, 19, 2, 17, 1, 5, 8, 9, 10, 11, 19, 8, 5, 18, 1, 15, 8, 13, 12, 13, 14, 18, 12, 8, 12, 19, 8, 12, 15, 1, 4, 15, 13, 1, 2, 3, 19, 7, 13, 3, 20, 2, 14, 19, 19, 8, 17, 1, 2, 15, 16, 3, 4, 6, 14, 16, 19, 20, 5, 1, 5, 17, 2, 3, 5, 10, 11, 12, 16, 14, 18, 11, 14, 4, 18, 4, 6, 7, 5, 11, 1, 2, 5, 6, 8, 10, 2, 8, 9, 3, 7, 8, 2, 20, 3, 18, 10, 17, 18, 17, 17, 9, 1, 11, 15, 17, 19, 4, 8, 11, 6, 14, 20, 2, 1, 1, 5, 9, 17, 3, 6, 4, 15, 1, 14, 18, 12, 5, 12, 1, 7, 17, 3, 8, 9, 11, 12, 17, 5, 7, 13, 12, 16, 17, 17, 19, 1, 19, 20, 10, 5, 5, 17, 5, 12, 10, 14, 9, 18, 16, 1, 2, 3, 6, 13, 3, 4, 12, 4, 5, 14, 2, 9, 13, 17, 12, 5, 11, 11, 19, 9, 16, 20, 2, 18, 5, 14, 3, 1, 1, 9, 10, 14, 17, 8, 15, 18, 3, 14, 20, 3, 8, 13, 5, 14, 5, 6, 3, 13, 8, 19, 5, 13, 15, 18, 1, 3, 17, 16, 1, 13, 5, 7, 9, 11, 4, 10, 14, 16, 1, 3, 11, 14, 13, 9, 3, 2, 9, 10, 12, 8, 10, 12, 14, 7, 2, 3, 11, 15, 18, 20, 9, 13, 17, 8, 17, 19, 15, 19, 7, 2, 8, 14, 5, 7, 9, 15, 6, 4, 15, 20, 10, 3, 9, 13, 3, 17, 1, 17, 3, 8, 1, 2, 8, 11, 12, 10, 12, 18, 8, 19, 8, 18, 8, 15, 16, 20, 1, 2, 4, 8, 10, 12, 13, 18, 9, 13, 11, 17, 16, 11, 1, 4, 9, 20, 20, 5, 8, 9, 13, 17, 3, 11, 1, 16, 8, 10, 10, 5, 2, 5, 1, 2, 4, 9, 11, 20, 8, 14, 10, 18, 2, 11, 15, 4, 9, 12, 15, 20, 10, 16, 1, 3, 8, 15, 1, 2, 6, 10, 19, 6, 9, 9, 16, 16, 8, 17, 19, 3, 10, 2, 9, 14, 7, 11, 13, 19, 1, 2, 14, 16, 11, 15, 12, 20, 19, 9, 2, 14, 15, 1, 2, 10, 15, 11, 2, 3, 16, 2, 5, 6, 10, 13, 16, 9, 2, 9, 1, 2, 6, 11, 14, 5, 4, 5, 19, 1, 20, 17, 12, 7, 2, 6, 5, 10, 14, 1, 15, 5, 1, 13, 16, 8, 10, 16, 20, 11, 3, 12, 1, 6, 1, 2, 5, 3, 15, 5, 7, 6, 7, 14, 18, 15, 6, 14, 8, 4, 7, 12, 18, 2, 3, 5, 6, 10, 16, 14, 1, 2, 17, 8, 15, 13, 8, 13, 15, 13, 14, 8, 11, 18, 19, 19, 20, 4, 8, 17, 13, 18, 3, 3, 6, 5, 8, 15, 12, 12, 15, 8, 2, 6, 8, 17, 6, 20, 1, 7, 6, 4, 12, 19, 1, 2, 3, 5, 7, 11, 13, 11, 18, 10, 12, 19, 20, 2, 7, 11, 18, 1, 10, 6, 12, 2, 4, 7, 13, 15, 6, 9, 2, 3, 13, 18, 2, 13, 19, 7, 2, 2, 9, 16, 1, 6, 9, 20, 6, 1, 19, 7, 18, 18, 5, 9, 8, 12, 1, 18, 13, 19, 12, 7, 8, 18, 10, 11, 4, 10, 12, 15, 3, 9, 12, 8, 12, 14, 17, 10, 16, 11, 2, 4, 14, 16, 6, 1, 3, 5, 8, 10, 11, 10, 2, 6, 11, 8, 10, 11, 1, 9, 10, 2, 18, 9, 2, 4, 13, 2, 11, 14, 18, 19, 8, 15, 15, 10, 2, 3, 4, 6, 7, 8, 9, 11, 12, 14, 16, 17, 20, 9, 4, 12, 15, 13, 6, 7, 8, 20, 3, 1, 5, 12, 17, 18, 10, 17, 5, 6, 9, 15, 19, 17, 14, 1, 3, 6, 9, 10, 11, 12, 14, 17, 18, 19, 5, 15, 8, 4, 11, 16, 19, 11, 15, 4, 16, 10, 17, 9, 2, 12, 9, 11, 16, 9, 6, 11, 17, 4, 12, 6, 9, 10, 2, 9, 8, 7, 12, 13, 19, 18, 20, 2, 10, 13, 15, 1, 7, 12, 14, 7, 12, 18, 19, 7, 5, 4, 14, 17, 5, 1, 2, 17, 5, 4, 8, 11, 15, 19, 8, 9, 16, 12, 19, 4, 9, 13, 20, 1, 2, 5, 7, 9, 11, 13, 19, 9, 12, 1, 2, 4, 6, 11, 14, 17, 1, 2, 3, 7, 8, 9, 1, 6, 9, 5, 12, 5, 15, 20, 7, 10, 9, 18, 3, 5, 6, 7, 9, 10, 14, 15, 19, 5, 9, 17, 7, 8, 19, 9, 12, 14, 5, 9, 11, 12, 3, 5, 8, 17, 1, 7, 11, 12, 20], \"Freq\": [0.7580386573736545, 0.7364158058836776, 0.8103064179141457, 0.7209913563708287, 0.7305292241144796, 0.1740829732538118, 0.029013828875635302, 0.6092904063883413, 0.1740829732538118, 0.8594136177023266, 0.8465266758567294, 0.8588941623624762, 0.13327668036659113, 0.7286571992934547, 0.16896446584372876, 0.16896446584372876, 0.5068933975311863, 0.8992862436754582, 0.33950234433582477, 0.6540412809998978, 0.757545952906667, 0.7871393834222008, 0.8512816595398085, 0.8128050965664322, 0.8239923124467254, 0.10299903905584068, 0.322054486885551, 0.40256810860693876, 0.1610272434427755, 0.08051362172138775, 0.7971805963326665, 0.816979317950101, 0.8810070959025234, 0.8885710368053846, 0.8160412011640579, 0.7969467557806386, 0.3276314622596379, 0.3780363026072745, 0.1512145210429098, 0.1008096806952732, 0.8256750583700941, 0.9004475403045401, 0.845052318211051, 0.36522066822411564, 0.5478310023361734, 0.23214905687607412, 0.2901863210950926, 0.029018632109509265, 0.1450931605475463, 0.2611676889855834, 0.9314197622221217, 0.1380652360507787, 0.8283914163046722, 0.3444723768887493, 0.5741206281479155, 0.8616727620783545, 0.12639383046882735, 0.8158147239351584, 0.0229806964488777, 0.034471044673316555, 0.8707082959688955, 0.12839915283658332, 0.25679830567316664, 0.38519745850974996, 0.12839915283658332, 0.07367324263082885, 0.8840789115699461, 0.7083847927772743, 0.17709619819431857, 0.6494255474972627, 0.21647518249908754, 0.8649401677000498, 0.13306771810769996, 0.9140217143833744, 0.21530995987225618, 0.35884993312042696, 0.28707994649634155, 0.7180821519287091, 0.7276835366805495, 0.7859658944328334, 0.7844144803349459, 0.2854714516844203, 0.5709429033688406, 0.8382695056707105, 0.8773827587685566, 0.729619000034015, 0.5418820106850484, 0.2709410053425242, 0.18062733689501614, 0.5079973034843697, 0.10159946069687394, 0.3047983820906218, 0.8785592671590267, 0.9567443216998097, 0.7275325308881233, 0.2679424020423922, 0.2679424020423922, 0.2679424020423922, 0.03349280025529903, 0.06698560051059806, 0.10047840076589709, 0.731805636401768, 0.7519906164196146, 0.18799765410490366, 0.8516607340849907, 0.1705776783385295, 0.1705776783385295, 0.6140796420187062, 0.051173303501558846, 0.8471723692820938, 0.06165903226511473, 0.6474198387837047, 0.12331806453022946, 0.0924885483976721, 0.030829516132557366, 0.8231281183678758, 0.12663509513351934, 0.9058096224456099, 0.06709700907004518, 0.7274195364978076, 0.9603517240378783, 0.6673503098518789, 0.26694012394075156, 0.8327662762408264, 0.7184419480879958, 0.7893887174528028, 0.6040442555969324, 0.3624265533581595, 0.8562677659809746, 0.06586675122930574, 0.6031058274877682, 0.9455051963840826, 0.7306803817248352, 0.8169191996606368, 0.8027080854388379, 0.8787622338542639, 0.6568078462902062, 0.2627231385160825, 0.8066177617432403, 0.655272680834733, 0.16381817020868325, 0.08190908510434163, 0.2522269789098269, 0.022929725355438812, 0.03057296714058508, 0.6878917606631644, 0.6151540600732343, 0.9394164062074739, 0.03239366917956806, 0.9748369393906491, 0.018393149799823566, 0.17532455152596738, 0.07513909351112888, 0.07513909351112888, 0.5760663835853215, 0.10018545801483851, 0.6281034267867245, 0.31405171339336224, 0.7758816458570735, 0.8897428833972318, 0.08897428833972318, 0.9529991716489804, 0.4057790686064299, 0.5680906960490019, 0.6542281359335058, 0.14019174341432267, 0.14019174341432267, 0.07952147693485255, 0.715693292413673, 0.1590429538697051, 0.20127118323959406, 0.5031779580989851, 0.20127118323959406, 0.851283128629289, 0.8085909539250428, 0.06219930414808021, 0.06219930414808021, 0.06219930414808021, 0.9599146308245202, 0.9722345921229146, 0.7759017691213145, 0.7153589344523568, 0.0925082555377919, 0.6938119165334393, 0.13876238330668786, 0.8917042795543262, 0.8486678423920885, 0.7791280458290616, 0.23498052300620634, 0.704941569018619, 0.03991724420881445, 0.7384690178630673, 0.179627598939665, 0.03991724420881445, 0.3929666895363442, 0.5894500343045164, 0.9344229522824894, 0.06804369085117565, 0.12247864353211617, 0.1360873817023513, 0.02721747634047026, 0.12247864353211617, 0.02721747634047026, 0.10886990536188104, 0.21773981072376208, 0.06804369085117565, 0.0952611671916459, 0.6072724729686035, 0.8242933418406447, 0.5262630432029833, 0.2152894267648568, 0.023921047418317423, 0.07176314225495227, 0.16744733192822195, 0.845134642698268, 0.16716606538916323, 0.7522472942512345, 0.08358303269458162, 0.239719628100923, 0.7191588843027691, 0.9113599454008752, 0.6151789568787543, 0.9100242417445462, 0.06276029253410663, 0.1725726376801983, 0.11504842512013219, 0.15339790016017626, 0.11504842512013219, 0.057524212560066096, 0.3643200128804186, 0.2995095278963807, 0.5990190557927614, 0.1635730220365924, 0.36803929958233295, 0.12267976652744432, 0.28625278856403674, 0.3636858690464538, 0.09092146726161345, 0.4546073363080672, 0.20707196232552078, 0.7247518681393228, 0.24588985930738155, 0.6147246482684539, 0.7724740197289958, 0.7792753806908321, 0.1886277385865309, 0.7545109543461236, 0.48396493254538026, 0.5081631791726493, 0.8999960231889215, 0.7969187878445564, 0.2850428965186267, 0.5700857930372534, 0.9037383339479075, 0.32631084179974706, 0.06992375181423152, 0.09323166908564202, 0.3962345936139786, 0.04661583454282101, 0.04661583454282101, 0.15288904468787018, 0.6115561787514807, 0.15288904468787018, 0.7342503517987148, 0.13767194096225902, 0.09178129397483935, 0.7287047862040835, 0.6031058274877682, 0.8453219803659976, 0.7304152342032424, 0.1826038085508106, 0.0913019042754053, 0.235368156349062, 0.313824208465416, 0.39228026058176996, 0.039228026058177, 0.2342021340068173, 0.7026064020204519, 0.8327646369619666, 0.12238473542682637, 0.326359294471537, 0.2855643826625949, 0.12238473542682637, 0.08158982361788425, 0.8805947438922992, 0.08805947438922992, 0.9616224399353552, 0.7364807249106595, 0.8634070977440678, 0.6151485165244628, 0.7195430177223794, 0.7381189176127029, 0.1858533128835334, 0.1858533128835334, 0.5575599386506003, 0.24921225652110587, 0.6784111427518993, 0.03692033429942309, 0.0323052925119952, 0.7182059755680127, 0.8340330428557741, 0.09267033809508601, 0.715276889440003, 0.8626575850221185, 0.11763512523028889, 0.4996756257015679, 0.43721617248887196, 0.07696248990729528, 0.3078499596291811, 0.5387374293510669, 0.06687721021152594, 0.1605053045076623, 0.22738251471918822, 0.04012632612691557, 0.41463870331146085, 0.04012632612691557, 0.01337544204230519, 0.01337544204230519, 0.6152427704438225, 0.7851253908977082, 0.8197725427217888, 0.3180465759035614, 0.10601552530118713, 0.5300776265059357, 0.876004446696575, 0.9239444606259274, 0.04106419825004122, 0.984535845932368, 0.9762870022461672, 0.8066345141226479, 0.3078196373502716, 0.20521309156684775, 0.10260654578342387, 0.3078196373502716, 0.8219966213654677, 0.9598359424981042, 0.72535640099816, 0.06987585594869015, 0.3493792797434508, 0.03493792797434508, 0.2795034237947606, 0.1397517118973803, 0.06987585594869015, 0.7284991511337587, 0.7252072168601623, 0.8932819527306332, 0.9462659635467117, 0.729799119626421, 0.13216327795031155, 0.2312857364130452, 0.03304081948757789, 0.5947347507764019, 0.3781590392730506, 0.10804543979230018, 0.16206815968845026, 0.05402271989615009, 0.16206815968845026, 0.05402271989615009, 0.6337328223307318, 0.3802396933984391, 0.10533748429766, 0.42134993719064, 0.15800622644649, 0.10533748429766, 0.15800622644649, 0.12971226983939482, 0.778273619036369, 0.7257595082376956, 0.7272658742068062, 0.6504312172970971, 0.21681040576569902, 0.785052006063721, 0.06034058183800183, 0.9051087275700275, 0.045936265362241394, 0.5359230958928163, 0.2143692383571265, 0.12249670763264371, 0.07656044227040232, 0.805001074885189, 0.10062513436064863, 0.7361790339346757, 0.6182007709692591, 0.27125135869059325, 0.02523268452935751, 0.08200622472041191, 0.6919084305028147, 0.17297710762570367, 0.5806315361394482, 0.14515788403486204, 0.14515788403486204, 0.17535183587206782, 0.7014073434882713, 0.2872694238320063, 0.5745388476640126, 0.1542593272167483, 0.1542593272167483, 0.6170373088669932, 0.8126302172758801, 0.9037369438752291, 0.7285645729357508, 0.08776880038267865, 0.0780167114512699, 0.09752088931408738, 0.09752088931408738, 0.019504177862817475, 0.39983564618775824, 0.2047938675595835, 0.009752088931408737, 0.1483228860401998, 0.741614430200999, 0.7208452433577973, 0.17426032574318837, 0.30495557005057966, 0.19604286646108693, 0.10891270358949273, 0.19604286646108693, 0.7056484355971492, 0.8543469354483154, 0.8776064877872983, 0.09751183197636648, 0.9298855466287609, 0.2486498507754134, 0.5594621642446802, 0.18648738808156007, 0.15816680842426134, 0.6326672336970454, 0.15816680842426134, 0.07908340421213067, 0.8151715276691603, 0.8650704370044029, 0.7209277517180562, 0.07290811190644159, 0.3645405595322079, 0.510356783345091, 0.5313702648067431, 0.3542468432044954, 0.2309902314760146, 0.4619804629520292, 0.1154951157380073, 0.803916585475153, 0.6030845211377681, 0.6905461583646807, 0.7894617858603703, 0.7758644846579337, 0.7893039437052884, 0.8464922722344123, 0.09721032276699244, 0.09721032276699244, 0.060756451729370275, 0.23087451657160707, 0.15796677449636273, 0.1336641938046146, 0.07290774207524434, 0.04860516138349622, 0.012151290345874055, 0.0850590324211184, 0.8452911780184181, 0.8866211875920111, 0.36540409766065235, 0.18270204883032617, 0.36540409766065235, 0.7689777935631699, 0.0863910583362877, 0.1727821166725754, 0.1727821166725754, 0.5183463500177261, 0.9277091624671702, 0.8552894060991866, 0.4012721074439885, 0.09441696645740906, 0.04720848322870453, 0.14162544968611357, 0.30685514098657946, 0.23651806053594585, 0.09460722421437834, 0.6622505695006483, 0.8972806814601143, 0.7853533733949795, 0.9035854709870168, 0.06023903139913445, 0.16020278268524624, 0.08010139134262312, 0.7209125220836081, 0.8286182789656276, 0.758119426514298, 0.6031995559762081, 0.24127982239048323, 0.19289820165591204, 0.6751437057956922, 0.1125239509659487, 0.8706764995619147, 0.7303487444876683, 0.058890620557537306, 0.14722655139384325, 0.058890620557537306, 0.029445310278768653, 0.2944531027876865, 0.23556248223014922, 0.11778124111507461, 0.9038167029071409, 0.8065616428518547, 0.734877153305252, 0.9821498143225809, 0.7464178313439107, 0.8993734268293704, 0.1483931411190008, 0.741965705595004, 0.6152837404204351, 0.20291470612039622, 0.30437205918059435, 0.5072867653009906, 0.6151628627620259, 0.08841120536251892, 0.26523361608755675, 0.5304672321751135, 0.2267217845026732, 0.6801653535080195, 0.029782011953389507, 0.9331697078728712, 0.029782011953389507, 0.8564738709736758, 0.7845637307891529, 0.7868004640584405, 0.1958251805660033, 0.1958251805660033, 0.4895629514150082, 0.7724317632961596, 0.7305574885701094, 0.7811709095664362, 0.46123645873897007, 0.020053759075607393, 0.20053759075607394, 0.12032255445364437, 0.16043007260485914, 0.020053759075607393, 0.7791523235384842, 0.7349238904339291, 0.22047716713017873, 0.13171367103826762, 0.25329552122743776, 0.05065910424548755, 0.47619557990758293, 0.07092274594368257, 0.7557798539025251, 0.7210032018698544, 0.06476867478806123, 0.04317911652537416, 0.04317911652537416, 0.10794779131343539, 0.04317911652537416, 0.6692763061432994, 0.7470368597957344, 0.1867592149489336, 0.059933739458517696, 0.3596024367511062, 0.11986747891703539, 0.11986747891703539, 0.20976808810481196, 0.08990060918777655, 0.9285421505345939, 0.7210306625622511, 0.8169213088806129, 0.6490015251711214, 0.1478737652288631, 0.18894981112576953, 0.8098341057729262, 0.10122926322161578, 0.9432497600298293, 0.8373741695904856, 0.18995355315503223, 0.7598142126201289, 0.44987237076491765, 0.44987237076491765, 0.11926200953596344, 0.20870851668793602, 0.5664945452958264, 0.05963100476798172, 0.7305650027672229, 0.7210911505349089, 0.8262160826015682, 0.7093547860182479, 0.10133639800260684, 0.10133639800260684, 0.0709141035915635, 0.5934390774241367, 0.21087615015385988, 0.011196963724983711, 0.016795445587475567, 0.016795445587475567, 0.03732321241661237, 0.029858569933289895, 0.0055984818624918555, 0.0055984818624918555, 0.6030798261178201, 0.13093112293190287, 0.7768579960626237, 0.026186224586380574, 0.061101190701554675, 0.8365489787673175, 0.887636465769188, 0.8464836990942748, 0.8960063480663515, 0.698754420390212, 0.2674567185350876, 0.1337283592675438, 0.5349134370701752, 0.302711959195233, 0.5297459285916578, 0.07567798979880826, 0.08466425030547144, 0.16932850061094287, 0.08466425030547144, 0.5926497521383001, 0.881624245622316, 0.7286398783372172, 0.2093265989699308, 0.795441076085737, 0.7306874709257982, 0.8489158929691956, 0.9229784244533612, 0.798997261929398, 0.8380092989695562, 0.8774362885135073, 0.7362917826016578, 0.11481571707941608, 0.11481571707941608, 0.6888943024764965, 0.8400788423169686, 0.8184574516192529, 0.9636352860413314, 0.7056474643354973, 0.16512932063616315, 0.2311810488906284, 0.5284138260357221, 0.03302586412723263, 0.7893233987048048, 0.7236409111883715, 0.694330038649598, 0.23144334621653267, 0.8746469558510332, 0.8550649697498598, 0.32469049422349966, 0.020947773820870944, 0.052369434552177366, 0.4817987978800317, 0.09426498219391925, 0.031421660731306415, 0.7318063764889909, 0.9722585878183164, 0.7969617173184245, 0.8198556441235245, 0.8464783351331138, 0.47849291796674237, 0.47849291796674237, 0.07031672937547007, 0.4500270680030084, 0.4781537597531964, 0.7212686213876951, 0.7575740268854083, 0.13044455583754144, 0.1413149354906699, 0.15218531514379835, 0.05435189826564226, 0.19566683375631216, 0.2500187320219544, 0.06522227791877072, 0.7209126602841109, 0.7559410053458667, 0.6031058274877682, 0.781263680087735, 0.9068108766578272, 0.8109814856074177, 0.7299777454249873, 0.8025441837056712, 0.8162546462791251, 0.8745967554894296, 0.5071689568571648, 0.2535844784285824, 0.16905631895238826, 0.757253963630877, 0.7759757694596063, 0.06827403163819801, 0.054619225310558406, 0.2594413202251524, 0.10923845062111681, 0.08192883796583761, 0.09558364429347721, 0.32771535186335043, 0.8312943073435154, 0.21522186249139957, 0.6456655874741988, 0.8153472795642214, 0.721501837093827, 0.9470320738919776, 0.9017165329291933, 0.5088025222143575, 0.07268607460205107, 0.29074429840820426, 0.07268607460205107, 0.7877846413816273, 0.30350692683285696, 0.10116897561095232, 0.5058448780547616, 0.8593254300104947, 0.1101699269244224, 0.02203398538488448, 0.430467653111244, 0.430467653111244, 0.09565947846916534, 0.789434527096569, 0.6253259091791438, 0.056847809925376705, 0.056847809925376705, 0.2558151446641952, 0.6388716518244665, 0.23957686943417492, 0.727322291609396, 0.9863339413564258, 0.9047891355055122, 0.06702141744485275, 0.033510708722426376, 0.6031059519867247, 0.8086696824128414, 0.08985218693476016, 0.06601370237190905, 0.7921644284629086, 0.1320274047438181, 0.863306186879148, 0.0444227123311508, 0.45903469408855824, 0.11846056621640214, 0.11846056621640214, 0.10365299543935186, 0.029615141554100534, 0.11846056621640214, 0.7848385706477512, 0.28965523962185846, 0.11586209584874338, 0.5213794313193452, 0.8400139241260521, 0.13546094732675656, 0.5001634978218704, 0.16672116594062347, 0.020840145742577934, 0.14588102019804555, 0.020840145742577934, 0.2310924738042428, 0.6932774214127284, 0.7264461036663618, 0.12107435061106028, 0.2179650014944355, 0.7628775052305243, 0.09073288537817156, 0.4536644268908578, 0.36293154151268625, 0.9325061065280917, 0.8965527225996034, 0.24577724316563163, 0.43638000317163167, 0.10031724210842106, 0.06019034526505264, 0.040126896843368426, 0.11034896631926318, 0.40584401387985425, 0.5165287449379963, 0.03689491035271402, 0.7561044620965772, 0.9701838850258465, 0.7152859374840954, 0.954272377426019, 0.8808151780436208, 0.7274818536582678, 0.7725694559142098, 0.10194701660171063, 0.3058410498051319, 0.5097350830085532, 0.7209122173269837, 0.806746629318665, 0.7380658570027898, 0.8027435605834213, 0.06370980639550962, 0.0509678451164077, 0.02548392255820385, 0.06370980639550962, 0.555662472817315, 0.34320329203422395, 0.0980580834383497, 0.7115894875798044, 0.1016556410828292, 0.1016556410828292, 0.804293764944438, 0.867079694085996, 0.09994156389031335, 0.7495617291773501, 0.09994156389031335, 0.049970781945156674, 0.8534372632565929, 0.8810675909429123, 0.81260712819893, 0.6936371806433704, 0.25745392585024884, 0.19309044438768663, 0.5149078517004977, 0.8577350359392193, 0.8956650901374072, 0.06397607786695766, 0.05177513475740977, 0.9190086419440233, 0.025887567378704884, 0.03613901459049514, 0.6505022626289126, 0.07227802918099029, 0.01806950729524757, 0.14455605836198057, 0.05420852188574272, 0.945354348948998, 0.8026830645588131, 0.12348970223981741, 0.7306986099715721, 0.17506162600004943, 0.7002465040001977, 0.6496922120349152, 0.21656407067830508, 0.13443602390221737, 0.03360900597555434, 0.8066161434133042, 0.8657333116282958, 0.7844371715521565, 0.892814335383642, 0.0892814335383642, 0.12842268861626926, 0.7705361316976156, 0.6112873163875012, 0.32915470882403913, 0.21590172480863626, 0.6477051744259088, 0.9513079987613731, 0.2673521317800902, 0.10025704941753384, 0.10025704941753384, 0.1336760658900451, 0.40102819767013537, 0.3470088505234519, 0.2082053103140711, 0.4164106206281422, 0.19177712215614393, 0.2876656832342159, 0.47944280539035977, 0.8406969348654074, 0.1681393869730815, 0.7318523816911592, 0.8398929153431242, 0.7877608603258413, 0.8717069911619266, 0.8620433438098526, 0.728692702822621, 0.6031059519867247, 0.479968079182212, 0.15998935972740402, 0.31997871945480805, 0.7218660942001766, 0.18046652355004414, 0.7423281891781749, 0.1649618198173722, 0.7271785510062129, 0.8971017302042589, 0.27620402958912127, 0.012008870851700925, 0.636470155140149, 0.02401774170340185, 0.0480354834068037, 0.6840539285564091, 0.11400898809273485, 0.11400898809273485, 0.783579839534962, 0.38442735944281153, 0.38442735944281153, 0.6436679531194187, 0.18390512946269108, 0.1379288470970183, 0.4430588454598289, 0.5063529662398044, 0.7843632858635737, 0.7438038654691336, 0.6348627437328569, 0.21162091457761895, 0.4848968852090939, 0.4848968852090939, 0.12263309212157501, 0.7971150987902376, 0.061316546060787507, 0.8029849344615456, 0.376515239527466, 0.564772859291199, 0.8068698750007366, 0.7349643239331879, 0.9214514451854479, 0.7061260482602552, 0.07040245115009083, 0.14080490230018167, 0.07040245115009083, 0.6336220603508175, 0.3045790737867556, 0.5076317896445927, 0.20305271585783705, 0.9107791182434595, 0.20662146100358114, 0.5682090177598482, 0.20662146100358114, 0.8834597536251039, 0.8774660247758589, 0.7380923869750754, 0.7271521990032489, 0.18976040484596035, 0.18976040484596035, 0.6009079486788744, 0.7306801090685243, 0.28672834345432163, 0.4300925151814825, 0.14336417172716082, 0.07168208586358041, 0.7866927430575438, 0.13441793970753121, 0.06720896985376561, 0.26883587941506243, 0.033604484926882804, 0.4704627889763593, 0.8433577262707754, 0.5661792542735119, 0.28308962713675595, 0.09436320904558532, 0.9082593297429413, 0.6361375576057511, 0.25445502304230044, 0.5910919907377631, 0.19703066357925436, 0.7297908237226588, 0.35993056260664047, 0.05683114146420639, 0.5683114146420639, 0.16264235502731722, 0.2846241212978051, 0.5448518893415126, 0.9890657477221798, 0.804338611000155, 0.4171415981298791, 0.2780943987532527, 0.2780943987532527, 0.8487668283277072, 0.10951578520786001, 0.21903157041572002, 0.6570947112471601, 0.2173753328544656, 0.7245844428482187, 0.7838759788414492, 0.15677519576828985, 0.7272474620590564, 0.7152813322190077, 0.0506445742153662, 0.7090240390151269, 0.0506445742153662, 0.1012891484307324, 0.0506445742153662, 0.4942669452479634, 0.2861545472488209, 0.20811239799914247, 0.7153597023324291, 0.8650112111734979, 0.09412464317944882, 0.8471217886150394, 0.061263055200438815, 0.18378916560131645, 0.6738936072048269, 0.6151789568787543, 0.2606229924968625, 0.24057506999710385, 0.06014376749927596, 0.16038337999806923, 0.16038337999806923, 0.04009584499951731, 0.010023961249879327, 0.06014376749927596, 0.15584978504859728, 0.8182113715051357, 0.7971959415610903, 0.1328659902601817, 0.8931636529527175, 0.7853971622325849, 0.7506354883957513, 0.03753177441978757, 0.18765887209893783, 0.6151485165244628, 0.6151485165244628, 0.37339890696403655, 0.40540452756095396, 0.10668540198972473, 0.053342700994862366, 0.04267416079588989, 0.9346599315022249, 0.05580059292550597, 0.32332305693056157, 0.5927589377060295, 0.758214313968356, 0.189553578492089, 0.8302087882546082, 0.8716423310620282, 0.7516372022138362, 0.15032744044276725, 0.34535993902471723, 0.043169992378089654, 0.08633998475617931, 0.25901995426853797, 0.21584996189044828, 0.8579435890492236, 0.884697174295808, 0.07372476452465067, 0.8302731263832397, 0.7181371035966174, 0.7236269066774123, 0.05566360820595479, 0.16699082461786438, 0.3651679387795086, 0.5477519081692629, 0.18302954058350648, 0.7321181623340259, 0.09151477029175324, 0.328648462462534, 0.492972693693801, 0.1808545332048207, 0.49734996631325695, 0.22606816650602587, 0.045213633301205175, 0.9753764721662997, 0.07877174268718075, 0.8533605457777914, 0.039385871343590374, 0.026257247562393584, 0.6011656127474809, 0.3435232072842748, 0.12252529307661073, 0.7351517584596644, 0.8636631861166992, 0.09184419521167676, 0.8265977569050909, 0.736224033845539, 0.09952819268331078, 0.7962255414664863, 0.8491224658348707, 0.08491224658348707, 0.04245612329174354, 0.729981301548322, 0.7358869489083687, 0.2452956496361229, 0.6030770696060762, 0.3192438016392757, 0.43325944508187414, 0.02280312868851969, 0.20522815819667722, 0.1899262490320435, 0.759704996128174, 0.18322105387945184, 0.5496631616383555, 0.603079185893491, 0.8659397335897068, 0.3630103951328792, 0.6050173252214653, 0.7208952816966333, 0.2812236689597843, 0.18748244597318955, 0.46870611493297387, 0.09374122298659478, 0.7287146799130974, 0.10867094500977746, 0.6520256700586647, 0.21734189001955492, 0.7575485115566104, 0.13372451721897724, 0.06686225860948862, 0.20058677582846587, 0.6017603274853975, 0.8255600312170567, 0.713187917991532, 0.14630470428587272, 0.7315235214293636, 0.3492847844036975, 0.15876581109258975, 0.06350632443703591, 0.3810379466222154, 0.7289275915142809, 0.9202414903595152, 0.24376228913836911, 0.06094057228459228, 0.6703462951305151, 0.7559019446097244, 0.5958244564097376, 0.8067347434126895, 0.7046920364130526, 0.9869005790016652, 0.9443252950521476, 0.9592297204353155, 0.8364016030080536, 0.8535662667376802, 0.10041956079266827, 0.8472054693016663, 0.7758372945462083, 0.875027624102229, 0.24465899208847683, 0.6116474802211921, 0.8467671599674407, 0.2506828651227407, 0.6684876403273086, 0.8632309162489581, 0.6152957064307765, 0.9083972703424797, 0.7472252503806676, 0.1868063125951669, 0.8025777519166677, 0.8378137753732308, 0.7516332041997594, 0.16702960093327987, 0.08351480046663994, 0.8501652143763605, 0.09446280159737339, 0.21845308738023372, 0.6553592621407012, 0.867974833196401, 0.1129072953751416, 0.00705670596094635, 0.00705670596094635, 0.7207940611215188, 0.2197551131320103, 0.6592653393960308, 0.7692614963863915, 0.6524651355908577, 0.21748837853028594, 0.6073426431087768, 0.2602897041894758, 0.12583877314648378, 0.16055291746275516, 0.01301780411860177, 0.5554263090603422, 0.05207121647440708, 0.09112462883021238, 0.8182287703881251, 0.7559490554770036, 0.8042544468698379, 0.7759916069758639, 0.8784307844848845, 0.07320256537374037, 0.7896300897291256, 0.23235787051992818, 0.5808946762998204, 0.11617893525996409, 0.7893751826781232, 0.932341457661504, 0.7152124640576356, 0.2350083646727125, 0.11750418233635625, 0.5875209116817812, 0.603079185893491, 0.8216986490283447, 0.6959310562533672, 0.2319770187511224, 0.8618021929397852, 0.7892826168108757, 0.8356828872764335, 0.9066866061387867, 0.6501211101978123, 0.32506055509890613, 0.21574404996176297, 0.7766785798623467, 0.7210665040284021, 0.7307319099195144, 0.6276847835719027, 0.7757172111212184, 0.7689931325461814, 0.19781350707154224, 0.6923472747503978, 0.9367284033632237, 0.7210876053756354, 0.7437187150214477, 0.8577675689673074, 0.07941432008442689, 0.8735575209286958, 0.8038117249069548, 0.13945482644757992, 0.6972741322378997, 0.7362233447594937, 0.19141619621358183, 0.1760148930699603, 0.49724207292263783, 0.030802606287243052, 0.015401303143621526, 0.07920670188148213, 0.008800744653498015, 0.28185217666973206, 0.5637043533394641, 0.019161290358383865, 0.9005806468440416, 0.05748387107515159, 0.6151750256702202, 0.14760369654517227, 0.7380184827258615, 0.9738508940525564, 0.8577726694775074, 0.8025757447698151, 0.9515698134962293, 0.8911950280445987, 0.7878186874238561, 0.379952104894607, 0.16283661638340302, 0.10855774425560201, 0.21711548851120402, 0.10855774425560201, 0.9587370729276988, 0.017431583144139978, 0.7757601683381476, 0.1939400420845369, 0.7892391207686897, 0.8109814126028577, 0.7861659638275709, 0.823092263207743, 0.8650520927170242, 0.8185961523730096, 0.7573632029692949, 0.8955195721378334, 0.8980521032575495, 0.8610807075731387, 0.49641725449322055, 0.23269558804369714, 0.031026078405826284, 0.217182548840784, 0.8377413245914975, 0.5281647979985175, 0.45271268399872927, 0.7998820014766027, 0.1333136669127671, 0.9719612707584147, 0.9483740506569888, 0.906006854624827, 0.5295252307591427, 0.42362018460731415, 0.3725359317074899, 0.4967145756099865, 0.23663659318858365, 0.709909779565751, 0.7877268195158421, 0.30261144460836403, 0.10087048153612134, 0.5043524076806066, 0.9273546640055663, 0.7286835928530412, 0.6223032759419492, 0.3111516379709746, 0.7305962292214075, 0.8616023037040791, 0.8956124637804826, 0.5186674035269536, 0.2593337017634768, 0.8842845335680408, 0.05895230223786939, 0.7285943339806487, 0.9595580741350042, 0.2628948510380065, 0.7010529361013508, 0.728654931491612, 0.27692474919008225, 0.039560678455726035, 0.19780339227863017, 0.47472814146871245, 0.74377956872363, 0.0775187462646667, 0.3100749850586668, 0.05167916417644448, 0.02583958208822224, 0.4909520596762225, 0.02583958208822224, 0.723642604393526, 0.17939643675437428, 0.7175857470174971, 0.728615012670461, 0.08684968160142273, 0.08684968160142273, 0.7816471344128046, 0.21846169237780125, 0.699077415608964, 0.04369233847556025, 0.2630228650853779, 0.7342721650300134, 0.8300381480420671, 0.8622403000895843, 0.0226905342128838, 0.0907621368515352, 0.333543724620258, 0.18530206923347667, 0.03706041384669533, 0.03706041384669533, 0.37060413846695334, 0.6415626221507814, 0.21385420738359381, 0.8065166356009857, 0.7793849595540564, 0.028767503628889603, 0.08390521891759467, 0.2637021165981547, 0.35959379536112, 0.023972919690741334, 0.023972919690741334, 0.011986459845370667, 0.01917833575259307, 0.011986459845370667, 0.04794583938148267, 0.06712417513407574, 0.023972919690741334, 0.03356208756703787, 0.7380108402219554, 0.7252145338356997, 0.9014563572620719, 0.8065032867386378, 0.8421574065273644, 0.13434256170227094, 0.7791868578731713, 0.026868512340454183, 0.053737024680908366, 0.7273242969900904, 0.9422368143440277, 0.22104510118622378, 0.2947268015816317, 0.07368170039540793, 0.3684085019770396, 0.648259417704302, 0.1620648544260755, 0.6604948508978374, 0.16512371272445936, 0.04128092818111484, 0.04128092818111484, 0.08256185636222968, 0.8907079000865489, 0.7287703950012785, 0.1514500743914406, 0.16154674601753663, 0.02019334325219208, 0.04038668650438416, 0.02019334325219208, 0.1009667162609604, 0.07067670138267228, 0.2928034771567852, 0.07067670138267228, 0.02019334325219208, 0.04038668650438416, 0.8161754552234309, 0.9228654726261385, 0.7768134754979095, 0.8856565377794757, 0.8516952059473921, 0.9050609646497554, 0.06962007420382733, 0.8620232057761217, 0.7758383930398141, 0.698619033089651, 0.734871037109945, 0.723959678309526, 0.8451807100501664, 0.8512019128236756, 0.6840192282368095, 0.17100480705920237, 0.7380969899458034, 0.2295820097570712, 0.7461415317104814, 0.8864056985419467, 0.6183970727891682, 0.15459926819729206, 0.15459926819729206, 0.7256732689559175, 0.787721025628411, 0.3551199819127933, 0.5681919710604693, 0.848966600590057, 0.8399726352604353, 0.7970410822710847, 0.7152278156837866, 0.4730669739670313, 0.10512599421489585, 0.10512599421489585, 0.26281498553723964, 0.7181168964327179, 0.8217773449051227, 0.3738852783943064, 0.1869426391971532, 0.3115710653285887, 0.12462842613143547, 0.9511361445977768, 0.8742893600762125, 0.14858027103410543, 0.7429013551705271, 0.5312069759031843, 0.2043103753473786, 0.12258622520842716, 0.12258622520842716, 0.8186449009773207, 0.8161247731148308, 0.7259227393900664, 0.8908062908213563, 0.8617605063534625, 0.8542382617821099, 0.21934675871948162, 0.49353020711883366, 0.27418344839935205, 0.8160831375792778, 0.8363982361002695, 0.03982848743334617, 0.03982848743334617, 0.03982848743334617, 0.03982848743334617, 0.8747792578120942, 0.8674950741009636, 0.756132847065645, 0.8403740409707958, 0.6031058274877682, 0.7252463287803642, 0.2669870581313882, 0.2669870581313882, 0.4449784302189803, 0.07516232808138842, 0.03758116404069421, 0.08768938276161983, 0.3006493123255537, 0.15032465616277685, 0.05010821872092562, 0.02505410936046281, 0.2630681482848595, 0.28077330767141456, 0.5615466153428291, 0.044642931746719336, 0.11160732936679833, 0.3571434539737547, 0.044642931746719336, 0.133928795240158, 0.2901790563536757, 0.022321465873359668, 0.10474562098883429, 0.20949124197766858, 0.052372810494417145, 0.41898248395533716, 0.15711843148325144, 0.052372810494417145, 0.9002352268503403, 0.08423168164240279, 0.8844326572452293, 0.8164631067847633, 0.7306046008567506, 0.1323023608673738, 0.7276629847705558, 0.0661511804336869, 0.7069889837582076, 0.1767472459395519, 0.8512279591028791, 0.8568791377995402, 0.022359355758619408, 0.11179677879309705, 0.15651549031033585, 0.11179677879309705, 0.29067162486205234, 0.06707806727585823, 0.06707806727585823, 0.15651549031033585, 0.736132820671175, 0.1895054542361997, 0.7580218169447988, 0.7209205377825447, 0.7866506634035453, 0.6447658031272196, 0.2149219343757399, 0.1562095661749715, 0.1562095661749715, 0.46862869852491457, 0.2282045878029016, 0.0570511469507254, 0.0570511469507254, 0.6275626164579794, 0.1188470015491887, 0.06791257231382211, 0.7470382954520433, 0.050934429235366584, 0.1863769430856592, 0.5591308292569775, 0.031062823847609868, 0.0931884715428296, 0.0931884715428296], \"Term\": [\"24hour\", \"28th\", \"30min\", \"31st\", \"3yr\", \"able\", \"able\", \"able\", \"able\", \"absence\", \"acceptable\", \"access\", \"access\", \"accessibility\", \"accessible\", \"accessible\", \"accessible\", \"accident\", \"account\", \"account\", \"accountability\", \"acknowledgement\", \"active\", \"addition\", \"additional\", \"additional\", \"address\", \"address\", \"address\", \"address\", \"adequate\", \"administration\", \"admission\", \"advice\", \"afternoon\", \"age\", \"agent\", \"agent\", \"agent\", \"agent\", \"agreement\", \"alert\", \"alot\", \"alternative\", \"alternative\", \"amount\", \"amount\", \"amount\", \"amount\", \"amount\", \"annoying\", \"annual\", \"annual\", \"answer\", \"answer\", \"apology\", \"app\", \"app\", \"app\", \"app\", \"appalling\", \"application\", \"application\", \"application\", \"application\", \"appointment\", \"appointment\", \"approach\", \"approach\", \"appropriate\", \"appropriate\", \"approval\", \"approval\", \"approve\", \"area\", \"area\", \"area\", \"argument\", \"arm\", \"arrangement\", \"aspect\", \"assistance\", \"assistance\", \"assurance\", \"attempt\", \"attendant\", \"attention\", \"attention\", \"attention\", \"attitude\", \"attitude\", \"attitude\", \"authorisation\", \"authorization\", \"automatic\", \"available\", \"available\", \"available\", \"available\", \"available\", \"available\", \"avenue\", \"average\", \"average\", \"aware\", \"axamansard\", \"axamansard\", \"axamansard\", \"axamansard\", \"baby\", \"bad\", \"bad\", \"bad\", \"bad\", \"bad\", \"balance\", \"balance\", \"bank\", \"bank\", \"banking\", \"basic\", \"basis\", \"basis\", \"behalf\", \"belief\", \"beneficiary\", \"benefit\", \"benefit\", \"bill\", \"bill\", \"blacklist\", \"blood\", \"boarding\", \"bonus\", \"book\", \"brand\", \"bronze\", \"bronze\", \"budget\", \"business\", \"business\", \"business\", \"call\", \"call\", \"call\", \"call\", \"capital\", \"card\", \"card\", \"care\", \"care\", \"case\", \"case\", \"case\", \"case\", \"case\", \"cash\", \"cash\", \"cause\", \"center\", \"center\", \"centre\", \"certain\", \"certain\", \"certificate\", \"certificate\", \"certificate\", \"change\", \"change\", \"change\", \"channel\", \"channel\", \"channel\", \"charge\", \"chat\", \"chat\", \"chat\", \"chat\", \"cheap\", \"check\", \"checkup\", \"chest\", \"child\", \"child\", \"child\", \"choice\", \"cholera\", \"choose\", \"city\", \"city\", \"claim\", \"claim\", \"claim\", \"claim\", \"clear\", \"clear\", \"clearance\", \"client\", \"client\", \"client\", \"client\", \"client\", \"client\", \"client\", \"client\", \"client\", \"client\", \"clientnprescription\", \"clientservice\", \"clinic\", \"clinic\", \"clinic\", \"clinic\", \"clinic\", \"clinix\", \"close\", \"close\", \"close\", \"code\", \"code\", \"colleague\", \"commercial\", \"communication\", \"communication\", \"company\", \"company\", \"company\", \"company\", \"company\", \"company\", \"complain\", \"complain\", \"complaint\", \"complaint\", \"complaint\", \"complaint\", \"complete\", \"complete\", \"complete\", \"concern\", \"concern\", \"condition\", \"condition\", \"conduct\", \"confident\", \"confirm\", \"confirm\", \"confirmation\", \"confirmation\", \"consideration\", \"consistent\", \"consultant\", \"consultant\", \"consultation\", \"contact\", \"contact\", \"contact\", \"contact\", \"contact\", \"contact\", \"contract\", \"contract\", \"contract\", \"contribution\", \"contribution\", \"contribution\", \"coordination\", \"cordial\", \"corporate\", \"correct\", \"correct\", \"correct\", \"cost\", \"cost\", \"cost\", \"cost\", \"country\", \"country\", \"couple\", \"cover\", \"cover\", \"cover\", \"cover\", \"cover\", \"coverage\", \"coverage\", \"credit\", \"crisis\", \"critical\", \"crucial\", \"cumbersome\", \"cure\", \"current\", \"current\", \"current\", \"customer\", \"customer\", \"customer\", \"customer\", \"customercentric\", \"daily\", \"daily\", \"dangerous\", \"dashboard\", \"dashboard\", \"date\", \"date\", \"daughter\", \"daughter\", \"daughter\", \"day\", \"day\", \"day\", \"day\", \"day\", \"day\", \"day\", \"day\", \"deaf\", \"deal\", \"death\", \"debit\", \"debit\", \"debit\", \"deduction\", \"delay\", \"delay\", \"delivery\", \"dental\", \"dependant\", \"dependent\", \"dependent\", \"dependent\", \"dependent\", \"deplorable\", \"deposit\", \"dermatology\", \"detail\", \"detail\", \"detail\", \"detail\", \"detail\", \"detail\", \"detrimental\", \"development\", \"diagnosis\", \"diagnostic\", \"difference\", \"different\", \"different\", \"different\", \"different\", \"difficult\", \"difficult\", \"difficult\", \"difficult\", \"difficult\", \"difficult\", \"difficulty\", \"difficulty\", \"disappointed\", \"disappointed\", \"disappointed\", \"disappointed\", \"disappointed\", \"disappointing\", \"disappointing\", \"disgusting\", \"dispensation\", \"dispense\", \"dispense\", \"dissatisfaction\", \"dissatisfied\", \"dissatisfied\", \"doctor\", \"doctor\", \"doctor\", \"doctor\", \"doctor\", \"document\", \"document\", \"download\", \"drug\", \"drug\", \"drug\", \"drug\", \"duty\", \"duty\", \"early\", \"early\", \"early\", \"ease\", \"ease\", \"easy\", \"easy\", \"ecard\", \"ecard\", \"ecard\", \"effective\", \"efficient\", \"electronic\", \"email\", \"email\", \"email\", \"email\", \"email\", \"email\", \"email\", \"email\", \"embarrassing\", \"embarrassing\", \"embarrassment\", \"emergency\", \"emergency\", \"emergency\", \"emergency\", \"emergency\", \"engagement\", \"enquire\", \"enquiry\", \"enquiry\", \"enrolee\", \"enrollee\", \"enrollee\", \"enrollee\", \"enrollment\", \"enrollment\", \"enrollment\", \"enrollment\", \"enrolment\", \"entire\", \"episode\", \"error\", \"error\", \"error\", \"essence\", \"essence\", \"evening\", \"evening\", \"evening\", \"event\", \"evidence\", \"examination\", \"exercise\", \"existent\", \"expectation\", \"expensive\", \"experience\", \"experience\", \"experience\", \"experience\", \"experience\", \"experience\", \"experience\", \"experience\", \"experience\", \"experience\", \"experienced\", \"expiration\", \"explanation\", \"explanation\", \"explanation\", \"extent\", \"extra\", \"extra\", \"extra\", \"extra\", \"eye\", \"eyecare\", \"facility\", \"facility\", \"facility\", \"facility\", \"facility\", \"fact\", \"fact\", \"fact\", \"failure\", \"faith\", \"family\", \"family\", \"fast\", \"fast\", \"fast\", \"fastpacedni\", \"feature\", \"fee\", \"fee\", \"feedback\", \"feedback\", \"feedback\", \"fine\", \"firm\", \"first\", \"first\", \"first\", \"first\", \"first\", \"first\", \"first\", \"follow\", \"followup\", \"forst\", \"frame\", \"free\", \"friend\", \"friendly\", \"friendly\", \"friendlynyou\", \"frustrating\", \"frustrating\", \"frustrating\", \"frustratingnthe\", \"full\", \"full\", \"full\", \"functional\", \"functional\", \"fund\", \"fund\", \"fund\", \"funding\", \"future\", \"game\", \"general\", \"general\", \"general\", \"genotype\", \"genuine\", \"giving\", \"glass\", \"glass\", \"glass\", \"glass\", \"glass\", \"glass\", \"glitch\", \"gold\", \"gold\", \"good\", \"good\", \"good\", \"good\", \"good\", \"ground\", \"guess\", \"guy\", \"guy\", \"guy\", \"guy\", \"guy\", \"guy\", \"hand\", \"hand\", \"happy\", \"happy\", \"happy\", \"happy\", \"happy\", \"happy\", \"hard\", \"hbp\", \"head\", \"health\", \"health\", \"health\", \"healthcare\", \"healthcare\", \"help\", \"helpful\", \"high\", \"high\", \"history\", \"history\", \"hmo\", \"hmo\", \"hmo\", \"hmo\", \"holiday\", \"holistic\", \"home\", \"horrible\", \"horrible\", \"horrible\", \"hospital\", \"hospital\", \"hospital\", \"hospital\", \"hospital\", \"hospital\", \"hospital\", \"hospital\", \"hospital\", \"hospital\", \"hospitalsi\", \"hour\", \"hour\", \"hour\", \"hour\", \"huge\", \"human\", \"ill\", \"illness\", \"image\", \"immediate\", \"immediate\", \"immediate\", \"immunization\", \"immunization\", \"immunization\", \"important\", \"important\", \"important\", \"important\", \"impression\", \"improved\", \"improvement\", \"improvement\", \"inability\", \"inaccessible\", \"inaccurate\", \"inactive\", \"incase\", \"income\", \"inconvenient\", \"individual\", \"individual\", \"individual\", \"inefficient\", \"infact\", \"inflow\", \"info\", \"information\", \"information\", \"information\", \"information\", \"initial\", \"initiative\", \"inquiry\", \"inquiry\", \"instance\", \"instruction\", \"insurance\", \"insurance\", \"insurance\", \"insurance\", \"insurance\", \"insurance\", \"integrity\", \"interest\", \"interested\", \"interval\", \"intervention\", \"investigation\", \"investigation\", \"investment\", \"investment\", \"investment\", \"investor\", \"irrespective\", \"issue\", \"issue\", \"issue\", \"issue\", \"issue\", \"issue\", \"issue\", \"item\", \"job\", \"joke\", \"key\", \"kid\", \"kidney\", \"kitchen\", \"lab\", \"lack\", \"lady\", \"lago\", \"lago\", \"lago\", \"lagoon\", \"lapse\", \"last\", \"last\", \"last\", \"last\", \"last\", \"last\", \"last\", \"late\", \"lead\", \"lead\", \"leave\", \"legitimate\", \"lens\", \"lense\", \"less\", \"less\", \"less\", \"less\", \"letter\", \"level\", \"level\", \"level\", \"life\", \"life\", \"life\", \"limit\", \"limit\", \"limit\", \"limitation\", \"line\", \"line\", \"line\", \"line\", \"liquidate\", \"liquidate\", \"liquidating\", \"liquidation\", \"list\", \"list\", \"list\", \"listing\", \"little\", \"little\", \"location\", \"location\", \"location\", \"login\", \"long\", \"long\", \"long\", \"long\", \"long\", \"long\", \"long\", \"loss\", \"low\", \"low\", \"low\", \"machine\", \"mail\", \"mail\", \"mail\", \"mail\", \"mail\", \"mail\", \"main\", \"main\", \"major\", \"major\", \"malaria\", \"malaria\", \"management\", \"management\", \"management\", \"manager\", \"manner\", \"mansard\", \"mansard\", \"mansard\", \"mansard\", \"mansard\", \"mansard\", \"many\", \"many\", \"many\", \"manzard\", \"market\", \"marketing\", \"matter\", \"matured\", \"maxard\", \"maximum\", \"mean\", \"mean\", \"mean\", \"meaning\", \"mecure\", \"med\", \"medical\", \"medical\", \"medical\", \"medical\", \"medical\", \"medication\", \"medication\", \"medication\", \"medicine\", \"medicine\", \"medicine\", \"meet\", \"member\", \"message\", \"message\", \"message\", \"message\", \"method\", \"min\", \"mine\", \"minimum\", \"minute\", \"minute\", \"minute\", \"mlip\", \"mobile\", \"mobile\", \"money\", \"money\", \"money\", \"month\", \"month\", \"month\", \"month\", \"month\", \"month\", \"monthly\", \"morning\", \"morning\", \"mosquito\", \"motor\", \"motor\", \"move\", \"move\", \"much\", \"much\", \"much\", \"multiple\", \"myaxa\", \"n\", \"n\", \"naira\", \"naira\", \"name\", \"name\", \"nature\", \"nature\", \"necessary\", \"need\", \"need\", \"need\", \"need\", \"need\", \"network\", \"network\", \"network\", \"next\", \"next\", \"next\", \"nice\", \"nice\", \"nightmare\", \"nni\", \"nnplease\", \"nnthank\", \"none\", \"normal\", \"notable\", \"note\", \"note\", \"note\", \"notice\", \"notice\", \"notification\", \"notification\", \"nthank\", \"nthe\", \"number\", \"number\", \"number\", \"number\", \"number\", \"nurse\", \"nurse\", \"nurse\", \"observation\", \"occasion\", \"occasion\", \"office\", \"office\", \"office\", \"officer\", \"officer\", \"official\", \"omission\", \"onboarding\", \"onboarding\", \"one\", \"one\", \"online\", \"online\", \"online\", \"open\", \"operation\", \"operation\", \"opinion\", \"opposite\", \"optical\", \"optician\", \"option\", \"option\", \"option\", \"option\", \"order\", \"order\", \"order\", \"organisation\", \"organization\", \"organization\", \"organization\", \"other\", \"outofpocket\", \"outrageous\", \"overall\", \"package\", \"package\", \"package\", \"page\", \"pain\", \"pain\", \"pain\", \"pain\", \"palatable\", \"part\", \"part\", \"part\", \"part\", \"part\", \"partial\", \"particular\", \"particular\", \"particular\", \"partner\", \"partnership\", \"partnership\", \"password\", \"password\", \"patience\", \"patient\", \"patient\", \"patient\", \"payment\", \"payment\", \"payment\", \"people\", \"percentage\", \"period\", \"period\", \"period\", \"periodic\", \"person\", \"person\", \"person\", \"personal\", \"personal\", \"personnel\", \"personnel\", \"perspective\", \"pharmacist\", \"pharmacy\", \"pharmacy\", \"pharmacy\", \"pharmacy\", \"pharmacy\", \"phone\", \"phone\", \"phone\", \"physio\", \"pickup\", \"picture\", \"picture\", \"place\", \"place\", \"place\", \"placement\", \"plan\", \"plan\", \"plan\", \"plan\", \"plan\", \"plan\", \"plan\", \"plan\", \"platform\", \"platform\", \"platinum\", \"platinum\", \"pleasant\", \"pleased\", \"pocket\", \"pocket\", \"pocket\", \"pocketnno\", \"pocketnsome\", \"policy\", \"policy\", \"policy\", \"policy\", \"policy\", \"poor\", \"poor\", \"portal\", \"portal\", \"possible\", \"possible\", \"post\", \"posting\", \"preferred\", \"preferred\", \"premium\", \"premium\", \"premium\", \"premium\", \"premium\", \"prescribed\", \"prescription\", \"prescription\", \"present\", \"pressure\", \"previous\", \"previous\", \"previous\", \"price\", \"price\", \"private\", \"private\", \"private\", \"proactive\", \"proactive\", \"problem\", \"problem\", \"problem\", \"problem\", \"procedure\", \"process\", \"process\", \"process\", \"process\", \"processing\", \"processing\", \"product\", \"product\", \"productive\", \"professional\", \"professional\", \"professionalism\", \"profile\", \"profile\", \"prompt\", \"prompt\", \"prompt\", \"promptness\", \"proper\", \"proper\", \"proud\", \"provider\", \"provider\", \"provider\", \"provider\", \"provision\", \"provision\", \"public\", \"public\", \"pure\", \"purpose\", \"quality\", \"quality\", \"quarter\", \"question\", \"question\", \"question\", \"question\", \"queue\", \"quick\", \"quick\", \"quick\", \"range\", \"rate\", \"rate\", \"rate\", \"rate\", \"rating\", \"reachable\", \"real\", \"real\", \"reason\", \"reason\", \"reason\", \"reason\", \"reasonable\", \"receipt\", \"recent\", \"recent\", \"recent\", \"receptionist\", \"record\", \"recovery\", \"redeem\", \"redemption\", \"referral\", \"refund\", \"regard\", \"registration\", \"registration\", \"regular\", \"relation\", \"relationship\", \"reliable\", \"reliable\", \"reliance\", \"reminder\", \"reminder\", \"remittance\", \"remove\", \"renewal\", \"rep\", \"rep\", \"repair\", \"repeat\", \"reply\", \"reply\", \"reply\", \"representative\", \"representative\", \"reputation\", \"reputation\", \"request\", \"request\", \"request\", \"request\", \"reset\", \"resolution\", \"resolution\", \"resolve\", \"respect\", \"respect\", \"respond\", \"respond\", \"response\", \"response\", \"response\", \"response\", \"response\", \"response\", \"responsive\", \"responsiveness\", \"result\", \"reversal\", \"review\", \"review\", \"ridiculous\", \"right\", \"right\", \"right\", \"role\", \"room\", \"rotavirus\", \"routine\", \"routine\", \"routine\", \"rubbish\", \"rude\", \"sad\", \"sad\", \"sake\", \"sale\", \"sample\", \"satisfactory\", \"satisfied\", \"satisfied\", \"saving\", \"saving\", \"scan\", \"scenario\", \"school\", \"screening\", \"screenshot\", \"seamless\", \"seamless\", \"second\", \"security\", \"selective\", \"senior\", \"sense\", \"sense\", \"series\", \"serious\", \"serious\", \"server\", \"service\", \"service\", \"service\", \"service\", \"service\", \"service\", \"service\", \"settlement\", \"settlement\", \"several\", \"several\", \"several\", \"short\", \"show\", \"show\", \"sick\", \"sickness\", \"side\", \"silver\", \"simple\", \"site\", \"situation\", \"situation\", \"situation\", \"situation\", \"situation\", \"slow\", \"slow\", \"small\", \"small\", \"smooth\", \"snap\", \"social\", \"solution\", \"sometime\", \"son\", \"speak\", \"specialist\", \"speed\", \"spending\", \"staff\", \"staff\", \"staff\", \"staff\", \"stage\", \"standard\", \"standard\", \"start\", \"start\", \"state\", \"statement\", \"status\", \"step\", \"step\", \"stress\", \"stress\", \"stressful\", \"stressful\", \"stuff\", \"subscription\", \"subscription\", \"subscription\", \"successful\", \"suggestion\", \"suitable\", \"suitable\", \"supervision\", \"supplement\", \"support\", \"sure\", \"sure\", \"surgery\", \"surgery\", \"surprising\", \"survey\", \"swift\", \"swift\", \"switching\", \"system\", \"system\", \"system\", \"system\", \"tablet\", \"team\", \"team\", \"team\", \"team\", \"team\", \"team\", \"tech\", \"technical\", \"technical\", \"tedious\", \"term\", \"term\", \"term\", \"terrible\", \"terrible\", \"terrible\", \"test\", \"test\", \"text\", \"thank\", \"thank\", \"thank\", \"thing\", \"thing\", \"thing\", \"thing\", \"thing\", \"think\", \"think\", \"thorough\", \"thought\", \"time\", \"time\", \"time\", \"time\", \"time\", \"time\", \"time\", \"time\", \"time\", \"time\", \"time\", \"time\", \"time\", \"timeline\", \"timeliness\", \"timely\", \"tired\", \"tiring\", \"today\", \"today\", \"today\", \"today\", \"toll\", \"tomorrow\", \"total\", \"total\", \"total\", \"total\", \"touch\", \"touch\", \"transaction\", \"transaction\", \"transaction\", \"transaction\", \"transaction\", \"transfer\", \"transparent\", \"treatment\", \"treatment\", \"treatment\", \"treatment\", \"treatment\", \"treatment\", \"treatment\", \"treatment\", \"treatment\", \"treatment\", \"treatment\", \"true\", \"trust\", \"turn\", \"turnaround\", \"type\", \"unable\", \"unable\", \"unacceptable\", \"unauthorized\", \"unbranded\", \"uncomfortable\", \"understand\", \"unethical\", \"unfair\", \"unfortunate\", \"unfortunate\", \"unhappy\", \"unnecessary\", \"unnecessary\", \"unpleasant\", \"unprofessional\", \"unprofessional\", \"unprofessional\", \"unsatisfactory\", \"unwilling\", \"update\", \"update\", \"upfront\", \"upgrade\", \"uptill\", \"urgency\", \"urgent\", \"urgent\", \"urgent\", \"urgent\", \"urinalysis\", \"use\", \"user\", \"user\", \"user\", \"user\", \"usual\", \"vaccine\", \"valid\", \"valid\", \"value\", \"value\", \"value\", \"value\", \"various\", \"vehicle\", \"vendor\", \"verification\", \"view\", \"visible\", \"visit\", \"visit\", \"visit\", \"vitamin\", \"wait\", \"wait\", \"wait\", \"wait\", \"wait\", \"waiting\", \"wallet\", \"waste\", \"way\", \"wealth\", \"wear\", \"website\", \"website\", \"website\", \"week\", \"week\", \"week\", \"week\", \"week\", \"week\", \"week\", \"week\", \"weekend\", \"weekend\", \"well\", \"well\", \"well\", \"well\", \"well\", \"well\", \"well\", \"whole\", \"whole\", \"whole\", \"whole\", \"whole\", \"whole\", \"wide\", \"wife\", \"wife\", \"willing\", \"window\", \"withdrawal\", \"withdrawal\", \"withdrawal\", \"woman\", \"woman\", \"wonder\", \"word\", \"work\", \"work\", \"work\", \"work\", \"work\", \"work\", \"work\", \"work\", \"worker\", \"working\", \"working\", \"world\", \"worrisome\", \"worth\", \"worth\", \"write\", \"write\", \"write\", \"wrong\", \"wrong\", \"wrong\", \"wrong\", \"year\", \"year\", \"year\", \"year\", \"yesterday\", \"yesterday\", \"yesterday\", \"yesterday\", \"yesterday\"]}, \"R\": 30, \"lambda.step\": 0.01, \"plot.opts\": {\"xlab\": \"PC1\", \"ylab\": \"PC2\"}, \"topic.order\": [9, 7, 1, 17, 19, 10, 4, 18, 5, 14, 11, 15, 3, 13, 20, 6, 16, 8, 12, 2]};\n",
       "\n",
       "function LDAvis_load_lib(url, callback){\n",
       "  var s = document.createElement('script');\n",
       "  s.src = url;\n",
       "  s.async = true;\n",
       "  s.onreadystatechange = s.onload = callback;\n",
       "  s.onerror = function(){console.warn(\"failed to load library \" + url);};\n",
       "  document.getElementsByTagName(\"head\")[0].appendChild(s);\n",
       "}\n",
       "\n",
       "if(typeof(LDAvis) !== \"undefined\"){\n",
       "   // already loaded: just create the visualization\n",
       "   !function(LDAvis){\n",
       "       new LDAvis(\"#\" + \"ldavis_el3156026065480391847229989517\", ldavis_el3156026065480391847229989517_data);\n",
       "   }(LDAvis);\n",
       "}else if(typeof define === \"function\" && define.amd){\n",
       "   // require.js is available: use it to load d3/LDAvis\n",
       "   require.config({paths: {d3: \"https://d3js.org/d3.v5\"}});\n",
       "   require([\"d3\"], function(d3){\n",
       "      window.d3 = d3;\n",
       "      LDAvis_load_lib(\"https://cdn.jsdelivr.net/gh/bmabey/pyLDAvis@3.4.0/pyLDAvis/js/ldavis.v3.0.0.js\", function(){\n",
       "        new LDAvis(\"#\" + \"ldavis_el3156026065480391847229989517\", ldavis_el3156026065480391847229989517_data);\n",
       "      });\n",
       "    });\n",
       "}else{\n",
       "    // require.js not available: dynamically load d3 & LDAvis\n",
       "    LDAvis_load_lib(\"https://d3js.org/d3.v5.js\", function(){\n",
       "         LDAvis_load_lib(\"https://cdn.jsdelivr.net/gh/bmabey/pyLDAvis@3.4.0/pyLDAvis/js/ldavis.v3.0.0.js\", function(){\n",
       "                 new LDAvis(\"#\" + \"ldavis_el3156026065480391847229989517\", ldavis_el3156026065480391847229989517_data);\n",
       "            })\n",
       "         });\n",
       "}\n",
       "</script>"
      ],
      "text/plain": [
       "<IPython.core.display.HTML object>"
      ]
     },
     "execution_count": 16,
     "metadata": {},
     "output_type": "execute_result"
    }
   ],
   "source": [
    "# Visualize the topics\n",
    "pyLDAvis.enable_notebook()\n",
    "vis = pyLDAvis.gensim.prepare(lda_model, doc_term_matrix, dictionary)\n",
    "#vis\n",
    "pyLDAvis.display(vis)"
   ]
  },
  {
   "cell_type": "code",
   "execution_count": 17,
   "metadata": {},
   "outputs": [
    {
     "name": "stdout",
     "output_type": "stream",
     "text": [
      "\n",
      "Perplexity:  -7.980869797422682\n",
      "\n",
      "Coherence Score:  0.37929016511075864\n"
     ]
    }
   ],
   "source": [
    "# Metrics for the lda_model\n",
    "print('\\nPerplexity: ', lda_model.log_perplexity(doc_term_matrix,total_docs=10000))  \n",
    "\n",
    "# Compute Coherence Score\n",
    "from gensim.models.coherencemodel import CoherenceModel\n",
    "coherence_model_lda = CoherenceModel(model=lda_model, texts=tokenized_reviews, dictionary=dictionary , coherence='c_v')\n",
    "coherence_lda = coherence_model_lda.get_coherence()\n",
    "print('\\nCoherence Score: ', coherence_lda)"
   ]
  },
  {
   "cell_type": "markdown",
   "metadata": {},
   "source": [
    "Coherence and Perplexity has improved from my previous models"
   ]
  },
  {
   "cell_type": "markdown",
   "metadata": {},
   "source": [
    "### Padded SVM Model "
   ]
  },
  {
   "cell_type": "code",
   "execution_count": 18,
   "metadata": {},
   "outputs": [],
   "source": [
    "from sklearn.svm import SVC\n",
    "from sklearn.metrics import accuracy_score, classification_report\n",
    "from sklearn.model_selection import train_test_split"
   ]
  },
  {
   "cell_type": "code",
   "execution_count": 19,
   "metadata": {},
   "outputs": [],
   "source": [
    "# Get topic probabilities for each document in the dataset\n",
    "topic_probs = []\n",
    "for doc_bow in doc_term_matrix:\n",
    "    doc_topics = lda_model.get_document_topics(doc_bow)\n",
    "    probs = [prob for _, prob in doc_topics]\n",
    "    topic_probs.append(probs)"
   ]
  },
  {
   "cell_type": "code",
   "execution_count": 20,
   "metadata": {},
   "outputs": [
    {
     "data": {
      "text/plain": [
       "[0.16009265, 0.62096995, 0.14810167]"
      ]
     },
     "execution_count": 20,
     "metadata": {},
     "output_type": "execute_result"
    }
   ],
   "source": [
    "# Length of topic_probs is num of docs in text\n",
    "topic_probs[20]"
   ]
  },
  {
   "cell_type": "code",
   "execution_count": 21,
   "metadata": {},
   "outputs": [
    {
     "name": "stdout",
     "output_type": "stream",
     "text": [
      "1828\n",
      "1828\n"
     ]
    }
   ],
   "source": [
    "print(len(topic_probs))\n",
    "print(len(df_review.Classification))"
   ]
  },
  {
   "cell_type": "code",
   "execution_count": 22,
   "metadata": {},
   "outputs": [],
   "source": [
    "# Convert the topic probabilities and labels to numpy arrays\n",
    "X = pd.DataFrame(topic_probs).values\n",
    "X[np.isnan(X)] = 0  # Replace NaN values with zero\n",
    "y = df_review['Classification'].values"
   ]
  },
  {
   "cell_type": "code",
   "execution_count": 23,
   "metadata": {},
   "outputs": [],
   "source": [
    "# Split the data into training and testing sets\n",
    "X_train, X_test, y_train, y_test = train_test_split(X, y, test_size=0.2, random_state=42)\n",
    "\n",
    "# Train the SVM classifier\n",
    "svm = SVC(kernel='linear', C=1.0)\n",
    "svm.fit(X_train, y_train)\n",
    "\n",
    "# Make predictions on the test set\n",
    "y_pred = svm.predict(X_test)"
   ]
  },
  {
   "cell_type": "code",
   "execution_count": 24,
   "metadata": {},
   "outputs": [
    {
     "name": "stdout",
     "output_type": "stream",
     "text": [
      "Accuracy: 0.2568306010928962\n",
      "Classification Report:\n",
      "                                       precision    recall  f1-score   support\n",
      "\n",
      "                App/Web/Portal Issues       0.00      0.00      0.00         3\n",
      "                       Approval Delay       0.25      0.96      0.40        91\n",
      "                    Claims Adjustment       0.00      0.00      0.00         2\n",
      "                  Delayed Certificate       0.00      0.00      0.00         2\n",
      "               Delayed Claims Payment       0.00      0.00      0.00         3\n",
      "                Delayed Enrollee Card       0.00      0.00      0.00         1\n",
      "                Delayed Inflow Update       0.00      0.00      0.00        22\n",
      "                  Delayed Liquidation       0.00      0.00      0.00        34\n",
      "                   Delayed VIS update       0.00      0.00      0.00         1\n",
      "                  Enrollee Card Delay       0.00      0.00      0.00         2\n",
      "                  Gym/Wellness Access       0.00      0.00      0.00         2\n",
      "                         Hospital QoS       0.33      0.05      0.09        20\n",
      "Hospital/Pharmacy/Telemedicine Access       0.00      0.00      0.00         4\n",
      "                       Incorrect Data       0.00      0.00      0.00         2\n",
      "                        Interest Rate       0.00      0.00      0.00         1\n",
      "                 Long Claims Process        0.00      0.00      0.00         1\n",
      "              No Payment Notification       0.00      0.00      0.00         2\n",
      "    No access to statement Of Account       0.00      0.00      0.00         3\n",
      "                      Payment Channel       0.00      0.00      0.00         4\n",
      "                         Policy Cover       0.31      0.08      0.12        51\n",
      "                Poor Customer Service       0.00      0.00      0.00        28\n",
      "                Poor Service Delivery       0.00      0.00      0.00        23\n",
      "       Preferred Hospital not covered       0.00      0.00      0.00         1\n",
      "                      Slow Onboarding       0.00      0.00      0.00        11\n",
      "                   Slow response time       0.50      0.03      0.05        38\n",
      "                 Statement of Account       0.00      0.00      0.00         2\n",
      "                 Technological Issues       0.33      0.14      0.20         7\n",
      "                Update Providers List       0.00      0.00      0.00         3\n",
      "           View Contribution Progress       0.00      0.00      0.00         1\n",
      "                       Wrongful Debit       0.00      0.00      0.00         1\n",
      "\n",
      "                             accuracy                           0.26       366\n",
      "                            macro avg       0.06      0.04      0.03       366\n",
      "                         weighted avg       0.18      0.26      0.13       366\n",
      "\n"
     ]
    },
    {
     "name": "stderr",
     "output_type": "stream",
     "text": [
      "c:\\Users\\bmelu-akekue\\AppData\\Local\\Programs\\Python\\Python311\\Lib\\site-packages\\sklearn\\metrics\\_classification.py:1344: UndefinedMetricWarning: Precision and F-score are ill-defined and being set to 0.0 in labels with no predicted samples. Use `zero_division` parameter to control this behavior.\n",
      "  _warn_prf(average, modifier, msg_start, len(result))\n",
      "c:\\Users\\bmelu-akekue\\AppData\\Local\\Programs\\Python\\Python311\\Lib\\site-packages\\sklearn\\metrics\\_classification.py:1344: UndefinedMetricWarning: Precision and F-score are ill-defined and being set to 0.0 in labels with no predicted samples. Use `zero_division` parameter to control this behavior.\n",
      "  _warn_prf(average, modifier, msg_start, len(result))\n",
      "c:\\Users\\bmelu-akekue\\AppData\\Local\\Programs\\Python\\Python311\\Lib\\site-packages\\sklearn\\metrics\\_classification.py:1344: UndefinedMetricWarning: Precision and F-score are ill-defined and being set to 0.0 in labels with no predicted samples. Use `zero_division` parameter to control this behavior.\n",
      "  _warn_prf(average, modifier, msg_start, len(result))\n"
     ]
    }
   ],
   "source": [
    "# Evaluate the SVM classifier\n",
    "accuracy = accuracy_score(y_test, y_pred)\n",
    "report = classification_report(y_test, y_pred)\n",
    "\n",
    "# Print the evaluation results\n",
    "print('Accuracy:', accuracy)\n",
    "print('Classification Report:')\n",
    "print(report)"
   ]
  },
  {
   "cell_type": "markdown",
   "metadata": {},
   "source": [
    "### Accuracy using only the LDA generated topics is low, so I want to add the MOT as a feature to observe the effect on accuracy"
   ]
  },
  {
   "cell_type": "code",
   "execution_count": 25,
   "metadata": {},
   "outputs": [
    {
     "name": "stdout",
     "output_type": "stream",
     "text": [
      "Accuracy: 0.28415300546448086\n",
      "Classification Report:\n",
      "                                       precision    recall  f1-score   support\n",
      "\n",
      "                App/Web/Portal Issues       0.00      0.00      0.00         3\n",
      "                       Approval Delay       0.31      0.93      0.46        91\n",
      "                    Claims Adjustment       0.00      0.00      0.00         2\n",
      "                  Delayed Certificate       0.00      0.00      0.00         2\n",
      "               Delayed Claims Payment       0.00      0.00      0.00         3\n",
      "                Delayed Enrollee Card       0.00      0.00      0.00         1\n",
      "                Delayed Inflow Update       0.00      0.00      0.00        22\n",
      "                  Delayed Liquidation       0.00      0.00      0.00        34\n",
      "                   Delayed VIS update       0.00      0.00      0.00         1\n",
      "                  Enrollee Card Delay       0.00      0.00      0.00         2\n",
      "                  Gym/Wellness Access       0.00      0.00      0.00         2\n",
      "                         Hospital QoS       0.00      0.00      0.00        20\n",
      "Hospital/Pharmacy/Telemedicine Access       0.00      0.00      0.00         4\n",
      "                       Incorrect Data       0.00      0.00      0.00         2\n",
      "                        Interest Rate       0.00      0.00      0.00         1\n",
      "                 Long Claims Process        0.00      0.00      0.00         1\n",
      "              No Payment Notification       0.00      0.00      0.00         2\n",
      "    No access to statement Of Account       0.00      0.00      0.00         3\n",
      "                      Payment Channel       0.00      0.00      0.00         4\n",
      "                         Policy Cover       0.27      0.06      0.10        51\n",
      "                Poor Customer Service       0.00      0.00      0.00        28\n",
      "                Poor Service Delivery       0.44      0.17      0.25        23\n",
      "       Preferred Hospital not covered       0.00      0.00      0.00         1\n",
      "                      Slow Onboarding       0.23      1.00      0.38        11\n",
      "                   Slow response time       0.50      0.03      0.05        38\n",
      "                 Statement of Account       0.00      0.00      0.00         2\n",
      "                 Technological Issues       0.00      0.00      0.00         7\n",
      "                Update Providers List       0.00      0.00      0.00         3\n",
      "           View Contribution Progress       0.00      0.00      0.00         1\n",
      "                       Wrongful Debit       0.00      0.00      0.00         1\n",
      "\n",
      "                             accuracy                           0.28       366\n",
      "                            macro avg       0.06      0.07      0.04       366\n",
      "                         weighted avg       0.20      0.28      0.16       366\n",
      "\n"
     ]
    },
    {
     "name": "stderr",
     "output_type": "stream",
     "text": [
      "c:\\Users\\bmelu-akekue\\AppData\\Local\\Programs\\Python\\Python311\\Lib\\site-packages\\sklearn\\metrics\\_classification.py:1344: UndefinedMetricWarning: Precision and F-score are ill-defined and being set to 0.0 in labels with no predicted samples. Use `zero_division` parameter to control this behavior.\n",
      "  _warn_prf(average, modifier, msg_start, len(result))\n",
      "c:\\Users\\bmelu-akekue\\AppData\\Local\\Programs\\Python\\Python311\\Lib\\site-packages\\sklearn\\metrics\\_classification.py:1344: UndefinedMetricWarning: Precision and F-score are ill-defined and being set to 0.0 in labels with no predicted samples. Use `zero_division` parameter to control this behavior.\n",
      "  _warn_prf(average, modifier, msg_start, len(result))\n",
      "c:\\Users\\bmelu-akekue\\AppData\\Local\\Programs\\Python\\Python311\\Lib\\site-packages\\sklearn\\metrics\\_classification.py:1344: UndefinedMetricWarning: Precision and F-score are ill-defined and being set to 0.0 in labels with no predicted samples. Use `zero_division` parameter to control this behavior.\n",
      "  _warn_prf(average, modifier, msg_start, len(result))\n"
     ]
    }
   ],
   "source": [
    "from sklearn.preprocessing import LabelEncoder\n",
    "\n",
    "# Convert the topic probabilities to a DataFrame with string column names\n",
    "X_lda = pd.DataFrame(topic_probs).values\n",
    "X_lda[np.isnan(X_lda)] = 0  # Replace NaN values with zero\n",
    "\n",
    "# Encode the categorical feature 'category' using label encoding\n",
    "label_encoder = LabelEncoder()\n",
    "df_review['Type_encoded'] = label_encoder.fit_transform(df_review['Type'])\n",
    "# Convert the encoded categorical feature to a DataFrame\n",
    "X_category_encoded = pd.DataFrame(df_review['Type_encoded'], columns=['Type_encoded'])\n",
    "\n",
    "# Combine LDA features and the encoded categorical feature\n",
    "X = pd.concat([pd.DataFrame(X_lda), X_category_encoded], axis=1)\n",
    "# Convert column names to strings\n",
    "X.columns = X.columns.astype(str)\n",
    "\n",
    "# Set the target variable\n",
    "y = df_review['Classification'].values\n",
    "\n",
    "# Split the data into training and testing sets\n",
    "X_train, X_test, y_train, y_test = train_test_split(X, y, test_size=0.2, random_state=42)\n",
    "\n",
    "# Train the SVM classifier\n",
    "svm = SVC(kernel='linear', C=1.0)\n",
    "svm.fit(X_train, y_train)\n",
    "\n",
    "# Make predictions on the test set\n",
    "y_pred = svm.predict(X_test)\n",
    "\n",
    "# Evaluate the SVM classifier\n",
    "accuracy = accuracy_score(y_test, y_pred)\n",
    "report = classification_report(y_test, y_pred)\n",
    "\n",
    "# Print the evaluation results\n",
    "print('Accuracy:', accuracy)\n",
    "print('Classification Report:')\n",
    "print(report)"
   ]
  },
  {
   "cell_type": "markdown",
   "metadata": {},
   "source": [
    "###### Adding MOT improved it a bit"
   ]
  },
  {
   "cell_type": "markdown",
   "metadata": {},
   "source": [
    "So After converting the column names to strings, the code has worked and the accuracy has increased a bit."
   ]
  },
  {
   "cell_type": "code",
   "execution_count": 27,
   "metadata": {},
   "outputs": [
    {
     "data": {
      "text/plain": [
       "['svm_model.pkl']"
      ]
     },
     "execution_count": 27,
     "metadata": {},
     "output_type": "execute_result"
    }
   ],
   "source": [
    "# save the svm model\n",
    "import joblib\n",
    "model_filename = \"svm_model.pkl\"\n",
    "joblib.dump(svm, model_filename)"
   ]
  },
  {
   "cell_type": "code",
   "execution_count": 28,
   "metadata": {},
   "outputs": [],
   "source": [
    "# LOAD SAVED MODELS\n",
    "\n",
    "# Load the SVM model\n",
    "svm_model_loaded = joblib.load('svm_model.pkl')"
   ]
  },
  {
   "cell_type": "code",
   "execution_count": 29,
   "metadata": {},
   "outputs": [],
   "source": [
    "# Using this to test code below\n",
    "test_sample = df_review[['Review', 'Type']][:400]"
   ]
  },
  {
   "cell_type": "code",
   "execution_count": 30,
   "metadata": {},
   "outputs": [],
   "source": [
    "# Data used to check accuracy against predicted labels\n",
    "correct_preds = df_review[['Review', 'Classification']][:400]"
   ]
  },
  {
   "cell_type": "code",
   "execution_count": 31,
   "metadata": {},
   "outputs": [],
   "source": [
    "# Function to preprocess the new reviews and get LDA topic probabilities\n",
    "def preprocess_new_reviews(new_reviews):\n",
    "    # Make use of clean_text, remove_stopwords\n",
    "    new_reviews.Review.apply(clean_text, preserved_words=preserved_words)\n",
    "    new_reviews.Review.apply(remove_stopwords)\n",
    "    listed = new_reviews['Review'].tolist()\n",
    "    tokenized_new_reviews = lemmatization(listed)\n",
    "    dictionary = corpora.Dictionary(tokenized_new_reviews)\n",
    "\n",
    "    # Create a bag-of-words corpus for the new_reviews\n",
    "    corpus = [dictionary.doc2bow(doc) for doc in tokenized_new_reviews]\n",
    "\n",
    "    # Get LDA topic probabilities for the new_reviews\n",
    "    topic_probs = []\n",
    "    for doc_bow in corpus:\n",
    "        doc_topics = lda_model.get_document_topics(doc_bow)\n",
    "        probs = [prob for _, prob in doc_topics]\n",
    "        topic_probs.append(probs)\n",
    "    \n",
    "    X_data = pd.DataFrame(topic_probs).values\n",
    "    X_data[np.isnan(X_data)] = 0  # Replace NaN values with zero\n",
    "\n",
    "    return X_data"
   ]
  },
  {
   "cell_type": "code",
   "execution_count": 32,
   "metadata": {},
   "outputs": [],
   "source": [
    "# Function to classify new reviews using SVM model\n",
    "def classify_new_reviews(new_reviews_lda_probs, new_reviews_type):\n",
    "    # Combine LDA features (new_reviews_lda_probs) with encoded 'Type' feature\n",
    "    X_combined_features = pd.concat([pd.DataFrame(new_reviews_lda_probs), new_reviews_type], axis=1)\n",
    "    # Convert column names to strings\n",
    "    X_combined_features.columns = X_combined_features.columns.astype(str)\n",
    "    # Replace NaN values with zero\n",
    "    X_combined_features.fillna(0, inplace=True)\n",
    "\n",
    "    # Make predictions using the SVM model\n",
    "    predictions = svm.predict(X_combined_features)\n",
    "    \n",
    "    return predictions"
   ]
  },
  {
   "cell_type": "code",
   "execution_count": 33,
   "metadata": {},
   "outputs": [
    {
     "name": "stdout",
     "output_type": "stream",
     "text": [
      "Shape of x_data: (400, 2)\n",
      "                                                Review                 Type  \\\n",
      "0    withdrawal process getting slower day someone ...   Investment I Claim   \n",
      "1                                           team isn’t   Investment I Renew   \n",
      "2    system failure frequent wait hours portal down...       Health I Claim   \n",
      "3    staff isobel rude attitude needs trained custo...       Health I Claim   \n",
      "4    settlement customers claim riddled forth back ...        Motor I Claim   \n",
      "..                                                 ...                  ...   \n",
      "395                                      response slow       Health I Claim   \n",
      "396                            response team slow poor       Health I Claim   \n",
      "397              redemption took long used much faster   Investment I Claim   \n",
      "398  recently response timing terrible coupled inve...         Health I Buy   \n",
      "399  recently liquidated account asking took foreve...   Investment I Claim   \n",
      "\n",
      "        Predicted Label  \n",
      "0        Approval Delay  \n",
      "1          Policy Cover  \n",
      "2        Approval Delay  \n",
      "3        Approval Delay  \n",
      "4    Slow response time  \n",
      "..                  ...  \n",
      "395      Approval Delay  \n",
      "396      Approval Delay  \n",
      "397      Approval Delay  \n",
      "398     Slow Onboarding  \n",
      "399      Approval Delay  \n",
      "\n",
      "[400 rows x 3 columns]\n"
     ]
    }
   ],
   "source": [
    "new_reviews = test_sample\n",
    "\n",
    "# Preprocess the new reviews and get LDA topic probabilities\n",
    "lda_probs_new_reviews = preprocess_new_reviews(new_reviews)\n",
    "print(\"Shape of x_data:\", new_reviews.shape)\n",
    "lda_probs_new_reviews[np.isnan(lda_probs_new_reviews)] = 0  # Replace NaN values with zero\n",
    "\n",
    "# Sample new 'Type' values for the new reviews (replace this with actual data)\n",
    "new_reviews_type = new_reviews.Type\n",
    "\n",
    "# Encode the 'Type' feature using LabelEncoder\n",
    "encoded_new_reviews_type = label_encoder.transform(new_reviews_type)\n",
    "new_reviews_type_df = pd.DataFrame(encoded_new_reviews_type, columns=['Type_encoded'])\n",
    "\n",
    "# Classify the new reviews using SVM model\n",
    "predicted_labels = classify_new_reviews(lda_probs_new_reviews, new_reviews_type_df)\n",
    "\n",
    "# Print the results\n",
    "results_df = pd.DataFrame({\n",
    "    'Review': new_reviews['Review'],\n",
    "    'Type': new_reviews['Type'],\n",
    "    'Predicted Label': predicted_labels\n",
    "})\n",
    "print(results_df)\n",
    "\n",
    "# Read to excel file\n",
    "file_path = 'output.xlsx'\n",
    "results_df.to_excel(file_path, index=False)"
   ]
  },
  {
   "cell_type": "markdown",
   "metadata": {},
   "source": [
    "##### Applied Post-processing based corrections to the model to improve accuracy"
   ]
  },
  {
   "cell_type": "code",
   "execution_count": 34,
   "metadata": {},
   "outputs": [],
   "source": [
    "# Trying to Hard-code some words to some labels ## Rule-based post-processing OR heuristics-based correction\n",
    "def adjust_predicted_label(review_text, predicted_label):\n",
    "    # Define keywords and their associated new labels\n",
    "    keyword_labels = {\n",
    "        'Technological Issues': {'app', 'software', 'update', 'bug', 'crash', 'error', 'glitch', 'slow', 'lag', 'freeze', 'dashboard', 'application', 'chatbot', 'website'},\n",
    "        'Claim Adjustment': {'settlement', 'claims', 'claim'},\n",
    "        'Delayed Liquidation': {'withdrawal', 'redemption', 'account', 'liquidation', 'investment'},\n",
    "        'Policy Cover': {'bill', 'coverage', 'plan', 'HMO'},\n",
    "        'Approval Delay': {'approval', 'confirmation'},\n",
    "        'Interest Rate': {'interest', 'rate'},\n",
    "        'Hospital QoS': {'hospital', 'clinics', 'doctor', 'doctors', 'drugs', 'drug', 'admit', 'dental', 'healthcare', 'care', 'prescription', 'prescribe'},\n",
    "        'Gym/Wellness Access': {'gym', 'fitness'},\n",
    "        'Slow Onboarding': {'plan', 'onboard'},\n",
    "        'Enrollee Card Delay': {'card'},\n",
    "        'Delayed Inflow Update': {'inflow'}, # New ones are under\n",
    "        \n",
    "        # Add more labels and their corresponding sets of keywords as needed\n",
    "    }\n",
    "\n",
    "    # Tokenize the review text\n",
    "    review_tokens = review_text.lower().split() # Converts all to lowercase\n",
    "\n",
    "    # Check if any keyword is present in the review text\n",
    "    for label, keywords in keyword_labels.items():\n",
    "        if any(keyword in review_tokens for keyword in keywords):\n",
    "            return label\n",
    "\n",
    "    # If no keyword is found, return the original predicted label\n",
    "    return predicted_label"
   ]
  },
  {
   "cell_type": "code",
   "execution_count": 35,
   "metadata": {},
   "outputs": [],
   "source": [
    "# Create an empty list to store the adjusted labels\n",
    "adjusted_labels = []\n",
    "\n",
    "review_texts = test_sample.Review\n",
    "\n",
    "# Iterate through each review text and predicted label\n",
    "for review_text, predicted_label in zip(review_texts, predicted_labels):\n",
    "    # Apply the adjust_predicted_label function to get the adjusted label\n",
    "    adjusted_label = adjust_predicted_label(review_text, predicted_label)\n",
    "    \n",
    "    # Append the adjusted label to the list\n",
    "    adjusted_labels.append(adjusted_label)\n",
    "\n",
    "# Convert the list of adjusted labels back to a pandas Series\n",
    "adjusted_labels_series = pd.Series(adjusted_labels)\n",
    "\n",
    "# Create a DataFrame to store the data\n",
    "data_adj = pd.DataFrame({\n",
    "    'Review Text': review_texts,\n",
    "    'Predicted Labels': predicted_labels,\n",
    "    'Adjusted Labels': adjusted_labels_series\n",
    "})\n",
    "\n",
    "# Save the DataFrame to an Excel file\n",
    "data_adj.to_excel('adjusted.xlsx', index=False)"
   ]
  },
  {
   "cell_type": "code",
   "execution_count": 36,
   "metadata": {},
   "outputs": [
    {
     "name": "stdout",
     "output_type": "stream",
     "text": [
      "Accuracy: 0.3825\n"
     ]
    }
   ],
   "source": [
    "# Compare Accuracy of adjusted label against original labels (With Heuristics)\n",
    "# Combine the predicted labels and the original reviews data\n",
    "check_adj = pd.DataFrame({\n",
    "    'Review': df_review['Review'][:400], # I have to use preprocessed, unless data won't merge correctly\n",
    "    'Actual Labels': df_review['Classification'][:400],\n",
    "    'Adjusted Labels': adjusted_labels_series,\n",
    "})\n",
    "\n",
    "# Calculate the accuracy\n",
    "accuracy = (check_adj['Actual Labels'] == check_adj['Adjusted Labels']).mean()\n",
    "\n",
    "print('Accuracy:', accuracy)\n",
    "\n",
    "# Save the results to an Excel file\n",
    "check_adj.to_excel('check_adj.xlsx', index=False)"
   ]
  },
  {
   "cell_type": "code",
   "execution_count": 37,
   "metadata": {},
   "outputs": [
    {
     "name": "stdout",
     "output_type": "stream",
     "text": [
      "Accuracy: 0.319047619047619\n"
     ]
    }
   ],
   "source": [
    "# Check Accuracy of Model without Heuristics\n",
    "# corrected labels is the dataframe correct_preds\n",
    "# predicted labels for the new_reviews is the dataframe predicted_labels\n",
    "\n",
    "# Combine the predicted labels and the original reviews data\n",
    "check_df = pd.DataFrame({\n",
    "    'Review': df_review['Review'][:400], # I have to use preprocessed, unless data won't merge correctly\n",
    "    'Predicted Label': predicted_labels\n",
    "})\n",
    "\n",
    "# Merge with the corrected predicted labels to get the actual labels for comparison\n",
    "check_df = check_df.merge(correct_preds, on='Review', suffixes=('_predicted', '_corrected'))\n",
    "\n",
    "# Calculate the accuracy\n",
    "accuracy = (check_df['Predicted Label'] == check_df['Classification']).mean()\n",
    "\n",
    "print('Accuracy:', accuracy)\n",
    "\n",
    "# Save the results to an Excel file\n",
    "check_df.to_excel('check_df.xlsx', index=False)"
   ]
  }
 ],
 "metadata": {
  "kernelspec": {
   "display_name": "Python 3",
   "language": "python",
   "name": "python3"
  },
  "language_info": {
   "codemirror_mode": {
    "name": "ipython",
    "version": 3
   },
   "file_extension": ".py",
   "mimetype": "text/x-python",
   "name": "python",
   "nbconvert_exporter": "python",
   "pygments_lexer": "ipython3",
   "version": "3.11.3"
  },
  "orig_nbformat": 4
 },
 "nbformat": 4,
 "nbformat_minor": 2
}
